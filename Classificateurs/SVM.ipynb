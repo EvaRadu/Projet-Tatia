{
 "cells": [
  {
   "cell_type": "markdown",
   "metadata": {},
   "source": [
    "# SVM Models"
   ]
  },
  {
   "cell_type": "code",
   "execution_count": 23,
   "metadata": {},
   "outputs": [],
   "source": [
    "import pandas as pd\n",
    "import numpy as np \n",
    "import csv\n",
    "from sklearn.utils import Bunch\n",
    "from sklearn.feature_extraction.text import CountVectorizer\n",
    "from sklearn.feature_extraction.text import TfidfTransformer\n",
    "from sklearn.naive_bayes import MultinomialNB\n",
    "from sklearn.pipeline import Pipeline\n",
    "from sklearn.linear_model import SGDClassifier \n",
    "from sklearn import metrics\n",
    "from sklearn.model_selection import train_test_split\n",
    "from sklearn.svm import SVC\n",
    "from sklearn.metrics import confusion_matrix\n",
    "from sklearn.ensemble import RandomForestClassifier\n",
    "from sklearn.metrics import accuracy_score"
   ]
  },
  {
   "cell_type": "code",
   "execution_count": 24,
   "metadata": {},
   "outputs": [],
   "source": [
    "categories = [\"not_sexist\", \"sexist\"]"
   ]
  },
  {
   "cell_type": "code",
   "execution_count": 25,
   "metadata": {},
   "outputs": [],
   "source": [
    "data = pd.read_csv(\"my_csv_clean.csv\",sep = ',')\n",
    "data.columns = ['tweet', 'class']\n",
    "\n",
    "X = data['tweet']\n",
    "y = data['class']\n",
    "\n",
    "X_train, X_test, y_train , y_test = train_test_split(X , y ,test_size=0.3)"
   ]
  },
  {
   "cell_type": "markdown",
   "metadata": {},
   "source": [
    "### SVM"
   ]
  },
  {
   "cell_type": "code",
   "execution_count": 26,
   "metadata": {},
   "outputs": [
    {
     "name": "stdout",
     "output_type": "stream",
     "text": [
      "\n",
      "Matrice de confusion :  \n",
      " [[608  26]\n",
      " [214  97]]\n",
      "\n",
      "Accuracy :  0.746031746031746 \n",
      "\n",
      "Balanced accuracy :  0.6354438211934637 \n",
      "\n",
      "              precision    recall  f1-score   support\n",
      "\n",
      "  not_sexist       0.74      0.96      0.84       634\n",
      "      sexist       0.79      0.31      0.45       311\n",
      "\n",
      "    accuracy                           0.75       945\n",
      "   macro avg       0.76      0.64      0.64       945\n",
      "weighted avg       0.76      0.75      0.71       945\n",
      "\n"
     ]
    }
   ],
   "source": [
    "model = Pipeline([\n",
    "...     ('vect', CountVectorizer()),\n",
    "...     ('tfidf', TfidfTransformer()),\n",
    "...     ('clf', SGDClassifier(loss='hinge', penalty='l2',\n",
    "...                           alpha=1e-3, random_state=42,\n",
    "...                           max_iter=5, tol=None)),\n",
    "... ])\n",
    "\n",
    "model.fit(X_train, y_train)\n",
    "predicted = model.predict(X_test)\n",
    "print(\"\\nMatrice de confusion :  \\n\" , metrics.confusion_matrix(y_test, predicted))\n",
    "print()\n",
    "print(\"Accuracy : \", np.mean(predicted == y_test), \"\\n\")\n",
    "print(\"Balanced accuracy : \", metrics.balanced_accuracy_score(y_test, predicted), \"\\n\")\n",
    "\n",
    "print(metrics.classification_report(y_test, predicted,\n",
    "...     target_names=categories))\n"
   ]
  },
  {
   "cell_type": "markdown",
   "metadata": {},
   "source": [
    "### TEST DE PARAMETRES DIFFERENTS "
   ]
  },
  {
   "cell_type": "code",
   "execution_count": 27,
   "metadata": {},
   "outputs": [
    {
     "name": "stdout",
     "output_type": "stream",
     "text": [
      "                                                  tweet  class\n",
      "0     femm material superficiel ne jug quau physiqu ...      0\n",
      "1     mis lign articl payetashnek deermag soon  paye...      0\n",
      "2     achat jour  tre bon livr payetashnek  sinon check      0\n",
      "3     hommag journeedelafemm tout vi elle vendu fleu...      0\n",
      "4     lustr bois flott feuill exot bleu abat jour vi...      0\n",
      "...                                                 ...    ...\n",
      "3143  segoleneroyal particip activ declin franc sous...      1\n",
      "3144  depuis affair dsk femin ne veulent etre ni put...      1\n",
      "3145  analogie est comm dir femme ete bien bel aujou...      1\n",
      "3146  si as bit plac coeur eton pas avoir put plac u...      1\n",
      "3147  admirfdlrc cardosolis nadinemorano bout un mom...      1\n",
      "\n",
      "[3148 rows x 2 columns]\n"
     ]
    }
   ],
   "source": [
    "# Creating the Bag of Words model\n",
    "print(data)\n",
    "cv = CountVectorizer(max_features = 1500)\n",
    "X = cv.fit_transform(data['tweet'])\n",
    "y = data['class']\n",
    "\n",
    "# Splitting the dataset into the Training set and Test set\n",
    "X_train, X_test, y_train, y_test = train_test_split(X, y, test_size = 0.20, random_state = 0)\n"
   ]
  },
  {
   "cell_type": "code",
   "execution_count": 28,
   "metadata": {},
   "outputs": [
    {
     "name": "stdout",
     "output_type": "stream",
     "text": [
      "Matrice de confusion : \n",
      "[[404  33]\n",
      " [122  71]]\n",
      "\n",
      "Accuracy :  0.753968253968254\n",
      "\n",
      "Balanced accuracy :  0.6461803867632587 \n",
      "\n",
      "              precision    recall  f1-score   support\n",
      "\n",
      "  not_sexist       0.77      0.92      0.84       437\n",
      "      sexist       0.68      0.37      0.48       193\n",
      "\n",
      "    accuracy                           0.75       630\n",
      "   macro avg       0.73      0.65      0.66       630\n",
      "weighted avg       0.74      0.75      0.73       630\n",
      "\n"
     ]
    }
   ],
   "source": [
    "#Support Vector : rbf\n",
    "SVC_classifier = SVC(kernel = 'rbf')\n",
    "SVC_classifier.fit(X_train, y_train)\n",
    "y_pred_SVC = SVC_classifier.predict(X_test)\n",
    "cm_SVC = confusion_matrix(y_test, y_pred_SVC)\n",
    "\n",
    "print(\"Matrice de confusion : \")\n",
    "print(cm_SVC)\n",
    "print()\n",
    "print(\"Accuracy : \", accuracy_score(y_test, y_pred_SVC))\n",
    "print()\n",
    "print(\"Balanced accuracy : \", metrics.balanced_accuracy_score(y_test, y_pred_SVC), \"\\n\")\n",
    "print(metrics.classification_report(y_test, y_pred_SVC,target_names=categories))"
   ]
  },
  {
   "cell_type": "code",
   "execution_count": 29,
   "metadata": {},
   "outputs": [
    {
     "name": "stdout",
     "output_type": "stream",
     "text": [
      "Matrice de confusion : \n",
      "[[387  50]\n",
      " [107  86]]\n",
      "\n",
      "Accuracy :  0.7507936507936508\n",
      "\n",
      "Balanced accuracy :  0.6655896894748699 \n",
      "\n",
      "              precision    recall  f1-score   support\n",
      "\n",
      "  not_sexist       0.78      0.89      0.83       437\n",
      "      sexist       0.63      0.45      0.52       193\n",
      "\n",
      "    accuracy                           0.75       630\n",
      "   macro avg       0.71      0.67      0.68       630\n",
      "weighted avg       0.74      0.75      0.74       630\n",
      "\n"
     ]
    }
   ],
   "source": [
    "#Support Vector : sigmoid\n",
    "SVC_classifier = SVC(kernel = 'sigmoid')\n",
    "SVC_classifier.fit(X_train, y_train)\n",
    "y_pred_SVC = SVC_classifier.predict(X_test)\n",
    "cm_SVC = confusion_matrix(y_test, y_pred_SVC)\n",
    "\n",
    "print(\"Matrice de confusion : \")\n",
    "print(cm_SVC)\n",
    "print()\n",
    "print(\"Accuracy : \", accuracy_score(y_test, y_pred_SVC))\n",
    "print()\n",
    "print(\"Balanced accuracy : \", metrics.balanced_accuracy_score(y_test, y_pred_SVC), \"\\n\")\n",
    "print(metrics.classification_report(y_test, y_pred_SVC,target_names=categories))"
   ]
  },
  {
   "cell_type": "code",
   "execution_count": 30,
   "metadata": {},
   "outputs": [
    {
     "name": "stdout",
     "output_type": "stream",
     "text": [
      "Matrice de confusion : \n",
      "[[415  22]\n",
      " [143  50]]\n",
      "\n",
      "Accuracy :  0.7380952380952381\n",
      "\n",
      "Balanced accuracy :  0.6043620540425179 \n",
      "\n",
      "              precision    recall  f1-score   support\n",
      "\n",
      "  not_sexist       0.74      0.95      0.83       437\n",
      "      sexist       0.69      0.26      0.38       193\n",
      "\n",
      "    accuracy                           0.74       630\n",
      "   macro avg       0.72      0.60      0.61       630\n",
      "weighted avg       0.73      0.74      0.69       630\n",
      "\n"
     ]
    }
   ],
   "source": [
    "#Support Vector : poly\n",
    "SVC_classifier = SVC(kernel = 'poly', degree = 2)\n",
    "SVC_classifier.fit(X_train, y_train)\n",
    "y_pred_SVC = SVC_classifier.predict(X_test)\n",
    "cm_SVC = confusion_matrix(y_test, y_pred_SVC)\n",
    "\n",
    "print(\"Matrice de confusion : \")\n",
    "print(cm_SVC)\n",
    "print()\n",
    "print(\"Accuracy : \", accuracy_score(y_test, y_pred_SVC))\n",
    "print()\n",
    "print(\"Balanced accuracy : \", metrics.balanced_accuracy_score(y_test, y_pred_SVC), \"\\n\")\n",
    "print(metrics.classification_report(y_test, y_pred_SVC,target_names=categories))"
   ]
  },
  {
   "cell_type": "code",
   "execution_count": 31,
   "metadata": {},
   "outputs": [
    {
     "name": "stdout",
     "output_type": "stream",
     "text": [
      "Matrice de confusion : \n",
      "[[359  78]\n",
      " [ 98  95]]\n",
      "\n",
      "Accuracy :  0.7206349206349206\n",
      "\n",
      "Balanced accuracy :  0.6568691383787244 \n",
      "\n",
      "              precision    recall  f1-score   support\n",
      "\n",
      "  not_sexist       0.79      0.82      0.80       437\n",
      "      sexist       0.55      0.49      0.52       193\n",
      "\n",
      "    accuracy                           0.72       630\n",
      "   macro avg       0.67      0.66      0.66       630\n",
      "weighted avg       0.71      0.72      0.72       630\n",
      "\n"
     ]
    }
   ],
   "source": [
    "#Support Vector : linear\n",
    "SVC_classifier = SVC(kernel = 'linear')\n",
    "SVC_classifier.fit(X_train, y_train)\n",
    "y_pred_SVC = SVC_classifier.predict(X_test)\n",
    "cm_SVC = confusion_matrix(y_test, y_pred_SVC)\n",
    "\n",
    "print(\"Matrice de confusion : \")\n",
    "print(cm_SVC)\n",
    "print()\n",
    "print(\"Accuracy : \", accuracy_score(y_test, y_pred_SVC))\n",
    "print()\n",
    "print(\"Balanced accuracy : \", metrics.balanced_accuracy_score(y_test, y_pred_SVC), \"\\n\")\n",
    "print(metrics.classification_report(y_test, y_pred_SVC,target_names=categories))"
   ]
  }
 ],
 "metadata": {
  "kernelspec": {
   "display_name": "Python 3 (ipykernel)",
   "language": "python",
   "name": "python3"
  },
  "language_info": {
   "codemirror_mode": {
    "name": "ipython",
    "version": 3
   },
   "file_extension": ".py",
   "mimetype": "text/x-python",
   "name": "python",
   "nbconvert_exporter": "python",
   "pygments_lexer": "ipython3",
   "version": "3.8.3"
  }
 },
 "nbformat": 4,
 "nbformat_minor": 4
}
