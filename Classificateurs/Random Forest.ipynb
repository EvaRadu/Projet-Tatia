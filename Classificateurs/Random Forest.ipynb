{
 "cells": [
  {
   "cell_type": "markdown",
   "metadata": {},
   "source": [
    "# Random Forest"
   ]
  },
  {
   "cell_type": "code",
   "execution_count": 8,
   "metadata": {},
   "outputs": [],
   "source": [
    "import pandas as pd\n",
    "import numpy as np \n",
    "import csv\n",
    "from sklearn.feature_extraction.text import CountVectorizer\n",
    "from sklearn.feature_extraction.text import TfidfTransformer\n",
    "from sklearn import metrics\n",
    "from sklearn.model_selection import train_test_split\n",
    "from sklearn.svm import SVC\n",
    "from sklearn.metrics import confusion_matrix\n",
    "from sklearn.ensemble import RandomForestClassifier\n",
    "from sklearn.metrics import accuracy_score"
   ]
  },
  {
   "cell_type": "code",
   "execution_count": 9,
   "metadata": {},
   "outputs": [],
   "source": [
    "categories = [\"not_sexist\", \"sexist\"]"
   ]
  },
  {
   "cell_type": "code",
   "execution_count": 10,
   "metadata": {},
   "outputs": [
    {
     "name": "stdout",
     "output_type": "stream",
     "text": [
      "                                                  tweet  class\n",
      "0     femm material superficiel ne jug quau physiqu ...      0\n",
      "1     mis lign articl payetashnek deermag soon  paye...      0\n",
      "2     achat jour  tre bon livr payetashnek  sinon check      0\n",
      "3     hommag journeedelafemm tout vi elle vendu fleu...      0\n",
      "4     lustr bois flott feuill exot bleu abat jour vi...      0\n",
      "...                                                 ...    ...\n",
      "3143  segoleneroyal particip activ declin franc sous...      1\n",
      "3144  depuis affair dsk femin ne veulent etre ni put...      1\n",
      "3145  analogie est comm dir femme ete bien bel aujou...      1\n",
      "3146  si as bit plac coeur eton pas avoir put plac u...      1\n",
      "3147  admirfdlrc cardosolis nadinemorano bout un mom...      1\n",
      "\n",
      "[3148 rows x 2 columns]\n"
     ]
    }
   ],
   "source": [
    "data = pd.read_csv(\"my_csv_clean.csv\",sep = ',')\n",
    "data.columns = ['tweet', 'class']\n",
    "\n",
    "\n",
    "# Creating the Bag of Words model\n",
    "print(data)\n",
    "cv = CountVectorizer(max_features = 1500)\n",
    "X = cv.fit_transform(data['tweet'])\n",
    "y = data['class']\n",
    "\n",
    "# Splitting the dataset into the Training set and Test set\n",
    "X_train, X_test, y_train, y_test = train_test_split(X, y, test_size = 0.20, random_state = 0)\n"
   ]
  },
  {
   "cell_type": "code",
   "execution_count": 11,
   "metadata": {},
   "outputs": [
    {
     "name": "stdout",
     "output_type": "stream",
     "text": [
      "Matrice de confusion : \n",
      "[[404  33]\n",
      " [123  70]]\n",
      "\n",
      "Accuracy :  0.7523809523809524\n",
      "\n",
      "Balanced accuracy :  0.6435897131881292 \n",
      "\n",
      "              precision    recall  f1-score   support\n",
      "\n",
      "  not_sexist       0.77      0.92      0.84       437\n",
      "      sexist       0.68      0.36      0.47       193\n",
      "\n",
      "    accuracy                           0.75       630\n",
      "   macro avg       0.72      0.64      0.66       630\n",
      "weighted avg       0.74      0.75      0.73       630\n",
      "\n"
     ]
    }
   ],
   "source": [
    "# Random Forest\n",
    "rf_classifier = RandomForestClassifier(n_estimators = 10, criterion = 'entropy', random_state = 0)\n",
    "rf_classifier.fit(X_train, y_train)\n",
    "y_pred_rf = rf_classifier.predict(X_test)\n",
    "cm_RandFor = confusion_matrix(y_test, y_pred_rf)\n",
    "print(\"Matrice de confusion : \")\n",
    "print(cm_RandFor)\n",
    "print()\n",
    "print(\"Accuracy : \", accuracy_score(y_test, y_pred_rf))\n",
    "print()\n",
    "print(\"Balanced accuracy : \", metrics.balanced_accuracy_score(y_test, y_pred_rf), \"\\n\")\n",
    "print(metrics.classification_report(y_test, y_pred_rf,target_names=categories))"
   ]
  }
 ],
 "metadata": {
  "kernelspec": {
   "display_name": "Python 3 (ipykernel)",
   "language": "python",
   "name": "python3"
  },
  "language_info": {
   "codemirror_mode": {
    "name": "ipython",
    "version": 3
   },
   "file_extension": ".py",
   "mimetype": "text/x-python",
   "name": "python",
   "nbconvert_exporter": "python",
   "pygments_lexer": "ipython3",
   "version": "3.8.3"
  }
 },
 "nbformat": 4,
 "nbformat_minor": 4
}
