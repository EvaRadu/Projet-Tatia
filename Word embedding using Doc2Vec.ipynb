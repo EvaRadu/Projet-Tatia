{
 "cells": [
  {
   "cell_type": "markdown",
   "metadata": {},
   "source": [
    "# Word Embedding using Doc2Vec"
   ]
  },
  {
   "cell_type": "code",
   "execution_count": 1,
   "metadata": {},
   "outputs": [],
   "source": [
    "import pandas as pd\n",
    "import numpy as np\n",
    "import csv\n",
    "from sklearn.feature_extraction.text import CountVectorizer\n",
    "from sklearn.feature_extraction.text import TfidfTransformer\n",
    "from sklearn import metrics\n",
    "from sklearn.model_selection import train_test_split\n",
    "from collections import Counter\n",
    "from gensim.models import Word2Vec\n",
    "from gensim.models import KeyedVectors\n",
    "from nltk.tokenize import word_tokenize\n",
    "from gensim.models.doc2vec import Doc2Vec, TaggedDocument\n",
    "\n",
    "#https://www.analyticsvidhya.com/blog/2020/08/top-4-sentence-embedding-techniques-using-python/\n",
    "    "
   ]
  },
  {
   "cell_type": "markdown",
   "metadata": {},
   "source": [
    "### 1) Récupérer nos données"
   ]
  },
  {
   "cell_type": "code",
   "execution_count": 2,
   "metadata": {},
   "outputs": [],
   "source": [
    "data = pd.read_csv(\"my_csv_clean.csv\",sep = ',') #we got that csv after running the Text Preprocessing file\n",
    "data.columns = ['tweet', 'class']\n",
    "    \n",
    "\n",
    "X = data['tweet']\n",
    "y = data['class'] \n",
    "\n",
    "X_train, X_test, y_train , y_test = train_test_split(X , y ,test_size=0.3)"
   ]
  },
  {
   "cell_type": "markdown",
   "metadata": {},
   "source": [
    "### 2) Tokeniser les phrases et les catégories"
   ]
  },
  {
   "cell_type": "code",
   "execution_count": 3,
   "metadata": {},
   "outputs": [],
   "source": [
    "X_token = []\n",
    "y_token = []\n",
    "\n",
    "for phrase in X_train:\n",
    "    X_token.append(word_tokenize(phrase))    \n",
    "    \n",
    "for categorie in y_train:\n",
    "    y_token.append(categorie)"
   ]
  },
  {
   "cell_type": "markdown",
   "metadata": {},
   "source": [
    "### 3) Construire un corpus contenant des tags"
   ]
  },
  {
   "cell_type": "code",
   "execution_count": 4,
   "metadata": {},
   "outputs": [],
   "source": [
    "tagged_data = [TaggedDocument(d, [i]) for i, d in enumerate(X_token)]"
   ]
  },
  {
   "cell_type": "markdown",
   "metadata": {},
   "source": [
    "### 4) Entraîner le modèle"
   ]
  },
  {
   "cell_type": "code",
   "execution_count": 5,
   "metadata": {},
   "outputs": [],
   "source": [
    "modele = Doc2Vec(tagged_data, vector_size = 20, window = 2, min_count = 1, epochs = 100)"
   ]
  },
  {
   "cell_type": "markdown",
   "metadata": {},
   "source": [
    "### 5) Tester le modèle"
   ]
  },
  {
   "cell_type": "code",
   "execution_count": 6,
   "metadata": {},
   "outputs": [
    {
     "name": "stderr",
     "output_type": "stream",
     "text": [
      "<ipython-input-6-61ff37576894>:5: DeprecationWarning: Call to deprecated `docvecs` (The `docvecs` property has been renamed `dv`.).\n",
      "  phrases_similaires = modele.docvecs.most_similar(positive = [test_doc_vecteur])\n"
     ]
    },
    {
     "name": "stdout",
     "output_type": "stream",
     "text": [
      "Accuracy :  0.691005291005291\n"
     ]
    },
    {
     "data": {
      "text/plain": [
       "array([[505, 122],\n",
       "       [170, 148]], dtype=int64)"
      ]
     },
     "execution_count": 6,
     "metadata": {},
     "output_type": "execute_result"
    }
   ],
   "source": [
    "def predire_categorie(phrase):\n",
    "    phrase = phrase.lower()\n",
    "    test_doc = word_tokenize(phrase)\n",
    "    test_doc_vecteur = modele.infer_vector(test_doc)\n",
    "    phrases_similaires = modele.docvecs.most_similar(positive = [test_doc_vecteur]) \n",
    "    phrases_similaires_categories = [y_token[phrases_similaires[i][0]] for i in range(len(phrases_similaires))]\n",
    "\n",
    "    nb_0 = phrases_similaires_categories.count(0)\n",
    "    nb_1 = phrases_similaires_categories.count(1)\n",
    "    \n",
    "    if(nb_0 <= nb_1):\n",
    "        return 1\n",
    "    \n",
    "    else:\n",
    "        return 0\n",
    "\n",
    "predictions = []    \n",
    "for phrase in X_test:\n",
    "    predictions.append(predire_categorie(phrase))\n",
    "    \n",
    "print(\"Accuracy : \", np.mean(predictions == y_test))\n",
    "metrics.confusion_matrix(y_test, predictions)"
   ]
  },
  {
   "cell_type": "markdown",
   "metadata": {},
   "source": [
    "### Word2Vec"
   ]
  },
  {
   "cell_type": "code",
   "execution_count": 13,
   "metadata": {},
   "outputs": [
    {
     "name": "stdout",
     "output_type": "stream",
     "text": [
      "[('de', 0.9994698166847229), ('sur', 0.9994184374809265), ('qui', 0.9994147419929504), ('femme', 0.9993965029716492), ('etre', 0.9993814826011658), ('ce', 0.9993804693222046), ('on', 0.9993789792060852), ('pour', 0.9993786215782166), ('du', 0.9993779063224792), ('par', 0.9993674159049988)]\n"
     ]
    }
   ],
   "source": [
    "# Python program to generate word vectors using Word2Vec\n",
    "\n",
    "# importing all necessary modules\n",
    "from nltk.tokenize import sent_tokenize, word_tokenize\n",
    "import warnings\n",
    "\n",
    "warnings.filterwarnings(action = 'ignore')\n",
    "\n",
    "import gensim\n",
    "from gensim.models import Word2Vec\n",
    "\n",
    "data = pd.read_csv(\"my_csv_clean.csv\",sep = ',') #we got that csv after running the Text Preprocessing file\n",
    "data.columns = ['tweet', 'class']\n",
    "    \n",
    "\n",
    "X = data['tweet']\n",
    "y = data['class'] \n",
    "\n",
    "X_token = []\n",
    "# iterate through each sentence in the file\n",
    "for i in X:\n",
    "    temp = []\n",
    "\n",
    "    # tokenize the sentence into words\n",
    "    for j in word_tokenize(i):\n",
    "        temp.append(j.lower())\n",
    "\n",
    "    X_token.append(temp)\n",
    "    \n",
    "X_train, X_test, y_train , y_test = train_test_split(X_token , y ,test_size=0.3)\n",
    "\n",
    "# Create CBOW model\n",
    "model1 = gensim.models.Word2Vec(X_train, min_count = 1, window = 5)\n",
    "print(model1.wv.most_similar('homme'))\n",
    "\n",
    "# Print results\n",
    "\n",
    "#print(\"Cosine similarity between 'femme' and 'championne' - CBOW : \",model1.wv.similarity('femme', 'championne'))\n",
    "#print(\"Cosine similarity between 'femmes' and 'hommes' - CBOW : \",model1.wv.similarity('femmes', 'hommes'))\n",
    "\n",
    "# Create Skip Gram model\n",
    "model2 = gensim.models.Word2Vec(X_train, min_count = 1, window = 5, sg = 1)\n",
    "\n",
    "# Print results\n",
    "#print(\"Cosine similarity between 'femme' and 'championne' - Skip Gram : \",model2.wv.similarity('femme', 'championne'))\n",
    "#print(\"Cosine similarity between 'femmes' and 'hommes' - Skip Gram : \",model2.wv.similarity('femmes', 'hommes'))"
   ]
  },
  {
   "cell_type": "code",
   "execution_count": 84,
   "metadata": {},
   "outputs": [
    {
     "name": "stdout",
     "output_type": "stream",
     "text": [
      "0.12330701249306625\n",
      "0.08292452675283174\n"
     ]
    }
   ],
   "source": [
    "from pyemd import emd\n",
    "print(model1.wv.wmdistance('femmes',\"femme\"))\n",
    "print(model2.wv.wmdistance('La pomme est verte',\"La femme est belle\"))"
   ]
  },
  {
   "cell_type": "markdown",
   "metadata": {},
   "source": [
    "### TEST MODEL CBOW"
   ]
  },
  {
   "cell_type": "code",
   "execution_count": 16,
   "metadata": {},
   "outputs": [],
   "source": [
    "model1 = gensim.models.Word2Vec(X_train, min_count = 1, window = 5)\n",
    "\n",
    "my_dict = dict({})\n",
    "for idx, key in enumerate(model1.wv.key_to_index):\n",
    "    my_dict[key] = model1.wv[key]\n",
    "    # Or my_dict[key] = model.wv.get_vector(key)\n",
    "    # Or my_dict[key] = model.wv.word_vec(key, use_norm=False)\n"
   ]
  },
  {
   "cell_type": "code",
   "execution_count": 67,
   "metadata": {},
   "outputs": [
    {
     "name": "stdout",
     "output_type": "stream",
     "text": [
      "9696\n"
     ]
    }
   ],
   "source": [
    "embedding_dim = 100\n",
    "max_length = 16\n",
    "trunc_type='post'\n",
    "padding_type='post'\n",
    "oov_tok = \"<OOV>\"\n",
    "training_size=160000\n",
    "test_portion=.1\n",
    "print(len(my_dict))\n",
    "# 9696,100"
   ]
  },
  {
   "cell_type": "code",
   "execution_count": 83,
   "metadata": {},
   "outputs": [
    {
     "name": "stdout",
     "output_type": "stream",
     "text": [
      "9696\n",
      "Model: \"sequential_20\"\n",
      "_________________________________________________________________\n",
      " Layer (type)                Output Shape              Param #   \n",
      "=================================================================\n",
      " embedding_20 (Embedding)    (None, 16, 100)           969600    \n",
      "                                                                 \n",
      " dropout_20 (Dropout)        (None, 16, 100)           0         \n",
      "                                                                 \n",
      " conv1d_20 (Conv1D)          (None, 12, 64)            32064     \n",
      "                                                                 \n",
      " max_pooling1d_20 (MaxPoolin  (None, 3, 64)            0         \n",
      " g1D)                                                            \n",
      "                                                                 \n",
      " lstm_20 (LSTM)              (None, 64)                33024     \n",
      "                                                                 \n",
      " dense_20 (Dense)            (None, 1)                 65        \n",
      "                                                                 \n",
      "=================================================================\n",
      "Total params: 1,034,753\n",
      "Trainable params: 1,034,753\n",
      "Non-trainable params: 0\n",
      "_________________________________________________________________\n"
     ]
    }
   ],
   "source": [
    "import tensorflow as tf\n",
    "\n",
    "print(len(embeddings_matrix))\n",
    "model = tf.keras.Sequential([\n",
    "    tf.keras.layers.Embedding(9696, 100, input_length=max_length, \n",
    "                               trainable=True),\n",
    "    tf.keras.layers.Dropout(0.2),\n",
    "    tf.keras.layers.Conv1D(64, 5, activation='relu'),\n",
    "    tf.keras.layers.MaxPooling1D(pool_size=4),\n",
    "    tf.keras.layers.LSTM(64),\n",
    "    tf.keras.layers.Dense(1, activation='sigmoid')\n",
    "])\n",
    "model.compile(loss='binary_crossentropy',optimizer='adam',metrics=['accuracy'])\n",
    "model.summary()\n"
   ]
  },
  {
   "cell_type": "code",
   "execution_count": null,
   "metadata": {},
   "outputs": [],
   "source": []
  }
 ],
 "metadata": {
  "kernelspec": {
   "display_name": "Python 3",
   "language": "python",
   "name": "python3"
  },
  "language_info": {
   "codemirror_mode": {
    "name": "ipython",
    "version": 3
   },
   "file_extension": ".py",
   "mimetype": "text/x-python",
   "name": "python",
   "nbconvert_exporter": "python",
   "pygments_lexer": "ipython3",
   "version": "3.8.3"
  }
 },
 "nbformat": 4,
 "nbformat_minor": 4
}
