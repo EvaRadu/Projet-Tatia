{
 "cells": [
  {
   "cell_type": "markdown",
   "metadata": {},
   "source": [
    "# Word Embedding avec l'utilisation de tensorflow keras"
   ]
  },
  {
   "cell_type": "code",
   "execution_count": 272,
   "metadata": {},
   "outputs": [],
   "source": [
    "import pandas as pd\n",
    "import numpy as np\n",
    "import matplotlib.pyplot as plt\n",
    "import tensorflow as tf\n",
    "import csv\n",
    "import nltk\n",
    "import io\n",
    "\n",
    "from sklearn.feature_extraction.text import CountVectorizer\n",
    "from sklearn.feature_extraction.text import TfidfTransformer\n",
    "from sklearn.naive_bayes import MultinomialNB\n",
    "from sklearn import metrics\n",
    "from sklearn.model_selection import train_test_split\n",
    "\n",
    "from imblearn.over_sampling import RandomOverSampler\n",
    "from imblearn.under_sampling import RandomUnderSampler\n",
    "from collections import Counter\n",
    "\n",
    "from gensim.models import Word2Vec\n",
    "from gensim.models import KeyedVectors\n",
    "\n",
    "from nltk.cluster import KMeansClusterer\n",
    "from nltk.tokenize import word_tokenize\n",
    "\n",
    "from sklearn import cluster\n",
    "from sklearn import metrics\n",
    "\n",
    "from tensorflow.keras.preprocessing.text import one_hot\n",
    "from gensim.models.doc2vec import Doc2Vec, TaggedDocument\n",
    "\n",
    "from tensorflow.keras.preprocessing.text import Tokenizer\n",
    "from tensorflow.keras.preprocessing.sequence import pad_sequences"
   ]
  },
  {
   "cell_type": "markdown",
   "metadata": {},
   "source": [
    "## Création d'un réseau de neurones à partir de vecteurs de mots"
   ]
  },
  {
   "cell_type": "code",
   "execution_count": 273,
   "metadata": {},
   "outputs": [],
   "source": [
    "vocab_size = 1000\n",
    "embedding_dim = 16\n",
    "max_length = 120\n",
    "trunc_type='post'\n",
    "padding_type='post'\n",
    "oov_tok = \"<OOV>\""
   ]
  },
  {
   "cell_type": "markdown",
   "metadata": {},
   "source": [
    "### Récupérer nos données"
   ]
  },
  {
   "cell_type": "code",
   "execution_count": 274,
   "metadata": {},
   "outputs": [],
   "source": [
    "data = pd.read_csv(\"my_csv_clean.csv\",sep = ',') #we got that csv after running the Text Preprocessing file\n",
    "data.columns = ['tweet', 'class']\n",
    "    \n",
    "X = data['tweet']\n",
    "y = data['class'] \n",
    "\n",
    "categories = [\"NotSexist\", \"Sexist\"]\n",
    "\n",
    "X_train, X_test, y_train , y_test = train_test_split(X , y ,test_size=0.3)\n",
    "\n",
    "X = list(X)\n",
    "y = [categories[i] for i in y]\n",
    "X_train = list(X_train)\n",
    "X_test = list(X_test)\n",
    "y_train = [categories[i] for i in y_train]\n",
    "y_test = [categories[i] for i in y_test]\n",
    "#print(y_train)"
   ]
  },
  {
   "cell_type": "markdown",
   "metadata": {},
   "source": [
    "### Tokeniser les phrases"
   ]
  },
  {
   "cell_type": "code",
   "execution_count": 275,
   "metadata": {},
   "outputs": [],
   "source": [
    "tokenizer = Tokenizer(num_words = vocab_size, oov_token=oov_tok)\n",
    "tokenizer.fit_on_texts(X_train)"
   ]
  },
  {
   "cell_type": "code",
   "execution_count": 276,
   "metadata": {},
   "outputs": [],
   "source": [
    "word_index = tokenizer.word_index\n",
    "total_words = len(word_index)+1 # le +1 est pour le OOV\n",
    "#print(\"Total_words = \", total_words)\n",
    "#print(\"Word index : \\n\", word_index)"
   ]
  },
  {
   "cell_type": "code",
   "execution_count": 277,
   "metadata": {},
   "outputs": [],
   "source": [
    "train_sequences = tokenizer.texts_to_sequences(X_train)\n",
    "train_filled = pad_sequences(train_sequences, padding=padding_type, maxlen=max_length)\n",
    "\n",
    "validation_sequences = tokenizer.texts_to_sequences(X_test)\n",
    "validation_filled = pad_sequences(validation_sequences, padding=padding_type, maxlen=max_length)"
   ]
  },
  {
   "cell_type": "markdown",
   "metadata": {},
   "source": [
    "### Tokeniser les catégories"
   ]
  },
  {
   "cell_type": "code",
   "execution_count": 278,
   "metadata": {},
   "outputs": [],
   "source": [
    "label_tokenizer = Tokenizer()\n",
    "label_tokenizer.fit_on_texts(y)\n",
    "\n",
    "training_label_seq = np.array(label_tokenizer.texts_to_sequences(y_train))\n",
    "validation_label_seq = np.array(label_tokenizer.texts_to_sequences(y_test))"
   ]
  },
  {
   "cell_type": "markdown",
   "metadata": {},
   "source": [
    "### Création du modèle"
   ]
  },
  {
   "cell_type": "code",
   "execution_count": 279,
   "metadata": {},
   "outputs": [
    {
     "name": "stdout",
     "output_type": "stream",
     "text": [
      "Model: \"sequential_28\"\n",
      "_________________________________________________________________\n",
      " Layer (type)                Output Shape              Param #   \n",
      "=================================================================\n",
      " embedding_28 (Embedding)    (None, 120, 16)           16000     \n",
      "                                                                 \n",
      " global_average_pooling1d_28  (None, 16)               0         \n",
      "  (GlobalAveragePooling1D)                                       \n",
      "                                                                 \n",
      " dense_56 (Dense)            (None, 24)                408       \n",
      "                                                                 \n",
      " dense_57 (Dense)            (None, 6)                 150       \n",
      "                                                                 \n",
      "=================================================================\n",
      "Total params: 16,558\n",
      "Trainable params: 16,558\n",
      "Non-trainable params: 0\n",
      "_________________________________________________________________\n"
     ]
    }
   ],
   "source": [
    "modele = tf.keras.Sequential([\n",
    "    tf.keras.layers.Embedding(vocab_size, embedding_dim, input_length=max_length),\n",
    "    tf.keras.layers.GlobalAveragePooling1D(),\n",
    "    tf.keras.layers.Dense(24, activation='relu'),\n",
    "    tf.keras.layers.Dense(6, activation='softmax')\n",
    "])\n",
    "modele.compile(loss='sparse_categorical_crossentropy',optimizer='adam',metrics=['accuracy'])\n",
    "modele.summary()"
   ]
  },
  {
   "cell_type": "code",
   "execution_count": 280,
   "metadata": {},
   "outputs": [
    {
     "name": "stdout",
     "output_type": "stream",
     "text": [
      "Epoch 1/30\n",
      "69/69 - 1s - loss: 1.5957 - accuracy: 0.6473 - val_loss: 1.3218 - val_accuracy: 0.7037 - 722ms/epoch - 10ms/step\n",
      "Epoch 2/30\n",
      "69/69 - 0s - loss: 0.9990 - accuracy: 0.6782 - val_loss: 0.7387 - val_accuracy: 0.7037 - 188ms/epoch - 3ms/step\n",
      "Epoch 3/30\n",
      "69/69 - 0s - loss: 0.7055 - accuracy: 0.6782 - val_loss: 0.6466 - val_accuracy: 0.7037 - 191ms/epoch - 3ms/step\n",
      "Epoch 4/30\n",
      "69/69 - 0s - loss: 0.6526 - accuracy: 0.6782 - val_loss: 0.6217 - val_accuracy: 0.7037 - 192ms/epoch - 3ms/step\n",
      "Epoch 5/30\n",
      "69/69 - 0s - loss: 0.6382 - accuracy: 0.6782 - val_loss: 0.6137 - val_accuracy: 0.7037 - 178ms/epoch - 3ms/step\n",
      "Epoch 6/30\n",
      "69/69 - 0s - loss: 0.6318 - accuracy: 0.6782 - val_loss: 0.6104 - val_accuracy: 0.7037 - 180ms/epoch - 3ms/step\n",
      "Epoch 7/30\n",
      "69/69 - 0s - loss: 0.6282 - accuracy: 0.6782 - val_loss: 0.6106 - val_accuracy: 0.7037 - 203ms/epoch - 3ms/step\n",
      "Epoch 8/30\n",
      "69/69 - 0s - loss: 0.6259 - accuracy: 0.6782 - val_loss: 0.6105 - val_accuracy: 0.7037 - 178ms/epoch - 3ms/step\n",
      "Epoch 9/30\n",
      "69/69 - 0s - loss: 0.6229 - accuracy: 0.6782 - val_loss: 0.6027 - val_accuracy: 0.7037 - 185ms/epoch - 3ms/step\n",
      "Epoch 10/30\n",
      "69/69 - 0s - loss: 0.6190 - accuracy: 0.6782 - val_loss: 0.6047 - val_accuracy: 0.7037 - 189ms/epoch - 3ms/step\n",
      "Epoch 11/30\n",
      "69/69 - 0s - loss: 0.6165 - accuracy: 0.6782 - val_loss: 0.5984 - val_accuracy: 0.7037 - 192ms/epoch - 3ms/step\n",
      "Epoch 12/30\n",
      "69/69 - 0s - loss: 0.6132 - accuracy: 0.6782 - val_loss: 0.5956 - val_accuracy: 0.7037 - 182ms/epoch - 3ms/step\n",
      "Epoch 13/30\n",
      "69/69 - 0s - loss: 0.6090 - accuracy: 0.6782 - val_loss: 0.5920 - val_accuracy: 0.7037 - 201ms/epoch - 3ms/step\n",
      "Epoch 14/30\n",
      "69/69 - 0s - loss: 0.6014 - accuracy: 0.6782 - val_loss: 0.5866 - val_accuracy: 0.7037 - 179ms/epoch - 3ms/step\n",
      "Epoch 15/30\n",
      "69/69 - 0s - loss: 0.5941 - accuracy: 0.6782 - val_loss: 0.5815 - val_accuracy: 0.7037 - 213ms/epoch - 3ms/step\n",
      "Epoch 16/30\n",
      "69/69 - 0s - loss: 0.5857 - accuracy: 0.6809 - val_loss: 0.5739 - val_accuracy: 0.7037 - 167ms/epoch - 2ms/step\n",
      "Epoch 17/30\n",
      "69/69 - 0s - loss: 0.5749 - accuracy: 0.6854 - val_loss: 0.5660 - val_accuracy: 0.7048 - 202ms/epoch - 3ms/step\n",
      "Epoch 18/30\n",
      "69/69 - 0s - loss: 0.5628 - accuracy: 0.6900 - val_loss: 0.5613 - val_accuracy: 0.7048 - 181ms/epoch - 3ms/step\n",
      "Epoch 19/30\n",
      "69/69 - 0s - loss: 0.5542 - accuracy: 0.7013 - val_loss: 0.5501 - val_accuracy: 0.7005 - 193ms/epoch - 3ms/step\n",
      "Epoch 20/30\n",
      "69/69 - 0s - loss: 0.5361 - accuracy: 0.7108 - val_loss: 0.5464 - val_accuracy: 0.7101 - 178ms/epoch - 3ms/step\n",
      "Epoch 21/30\n",
      "69/69 - 0s - loss: 0.5228 - accuracy: 0.7276 - val_loss: 0.5356 - val_accuracy: 0.7196 - 215ms/epoch - 3ms/step\n",
      "Epoch 22/30\n",
      "69/69 - 1s - loss: 0.5094 - accuracy: 0.7363 - val_loss: 0.5265 - val_accuracy: 0.7302 - 548ms/epoch - 8ms/step\n",
      "Epoch 23/30\n",
      "69/69 - 0s - loss: 0.4965 - accuracy: 0.7435 - val_loss: 0.5180 - val_accuracy: 0.7323 - 300ms/epoch - 4ms/step\n",
      "Epoch 24/30\n",
      "69/69 - 0s - loss: 0.4837 - accuracy: 0.7576 - val_loss: 0.5094 - val_accuracy: 0.7312 - 175ms/epoch - 3ms/step\n",
      "Epoch 25/30\n",
      "69/69 - 0s - loss: 0.4711 - accuracy: 0.7644 - val_loss: 0.5116 - val_accuracy: 0.7545 - 199ms/epoch - 3ms/step\n",
      "Epoch 26/30\n",
      "69/69 - 0s - loss: 0.4600 - accuracy: 0.7808 - val_loss: 0.5026 - val_accuracy: 0.7291 - 166ms/epoch - 2ms/step\n",
      "Epoch 27/30\n",
      "69/69 - 0s - loss: 0.4489 - accuracy: 0.7826 - val_loss: 0.4924 - val_accuracy: 0.7386 - 215ms/epoch - 3ms/step\n",
      "Epoch 28/30\n",
      "69/69 - 0s - loss: 0.4387 - accuracy: 0.7912 - val_loss: 0.4925 - val_accuracy: 0.7598 - 160ms/epoch - 2ms/step\n",
      "Epoch 29/30\n",
      "69/69 - 0s - loss: 0.4287 - accuracy: 0.8075 - val_loss: 0.4878 - val_accuracy: 0.7407 - 462ms/epoch - 7ms/step\n",
      "Epoch 30/30\n",
      "69/69 - 0s - loss: 0.4210 - accuracy: 0.7962 - val_loss: 0.4837 - val_accuracy: 0.7429 - 355ms/epoch - 5ms/step\n"
     ]
    }
   ],
   "source": [
    "num_epochs = 30\n",
    "history = modele.fit(train_filled, training_label_seq, epochs=num_epochs, \n",
    "                    validation_data=(validation_filled, validation_label_seq), \n",
    "                    verbose=2)"
   ]
  },
  {
   "cell_type": "markdown",
   "metadata": {},
   "source": [
    "### Représentation graphique des différentes accuracy obtenues"
   ]
  },
  {
   "cell_type": "code",
   "execution_count": 281,
   "metadata": {},
   "outputs": [
    {
     "data": {
      "image/png": "[encoded data removed]",
      "text/plain": [
       "<Figure size 432x288 with 1 Axes>"
      ]
     },
     "metadata": {
      "needs_background": "light"
     },
     "output_type": "display_data"
    },
    {
     "data": {
      "image/png": "[encoded data removed]",
      "text/plain": [
       "<Figure size 432x288 with 1 Axes>"
      ]
     },
     "metadata": {
      "needs_background": "light"
     },
     "output_type": "display_data"
    }
   ],
   "source": [
    "def plot_graphs(history, string):\n",
    "    plt.plot(history.history[string])\n",
    "    plt.plot(history.history['val_'+string])\n",
    "    plt.xlabel(\"Epochs\")\n",
    "    plt.ylabel(string)\n",
    "    plt.legend([string, 'val_'+string])\n",
    "    plt.show()\n",
    "\n",
    "plot_graphs(history, \"accuracy\")\n",
    "plot_graphs(history, \"loss\")"
   ]
  },
  {
   "cell_type": "code",
   "execution_count": 282,
   "metadata": {},
   "outputs": [
    {
     "name": "stdout",
     "output_type": "stream",
     "text": [
      "Accuracy :  0.7428571428571429\n",
      "Matrice de confusion :\n",
      "[[610  55]\n",
      " [188  92]]\n",
      "              precision    recall  f1-score   support\n",
      "\n",
      "   NotSexist       0.76      0.92      0.83       665\n",
      "      Sexist       0.63      0.33      0.43       280\n",
      "\n",
      "    accuracy                           0.74       945\n",
      "   macro avg       0.70      0.62      0.63       945\n",
      "weighted avg       0.72      0.74      0.71       945\n",
      "\n"
     ]
    }
   ],
   "source": [
    "y_pred = modele.predict(validation_filled)\n",
    "predictions = np.argmax(y_pred,axis=1)\n",
    "\n",
    "for i in range(len(predictions)):\n",
    "    predictions[i] = predictions[i] - 1\n",
    "    \n",
    "true_labels = []\n",
    "for i in y_test:\n",
    "    if(i=='NotSexist'):\n",
    "        true_labels.append(0)\n",
    "    else:\n",
    "        true_labels.append(1)\n",
    "    \n",
    "print(\"Accuracy : \", np.mean(predictions == true_labels))\n",
    "print(\"Matrice de confusion :\")\n",
    "print(metrics.confusion_matrix(true_labels, predictions))\n",
    "print(metrics.classification_report(true_labels, predictions,target_names=categories))"
   ]
  },
  {
   "cell_type": "markdown",
   "metadata": {},
   "source": [
    "### Pour la visualisation de nos vecteurs de mots sur https://projector.tensorflow.org/"
   ]
  },
  {
   "cell_type": "code",
   "execution_count": 283,
   "metadata": {},
   "outputs": [],
   "source": [
    "reverse_word_index = dict([(value, key) for (key, value) in word_index.items()])\n",
    "def decode_sentence(text):\n",
    "    return ' '.join([reverse_word_index.get(i, '?') for i in text])"
   ]
  },
  {
   "cell_type": "code",
   "execution_count": 284,
   "metadata": {},
   "outputs": [
    {
     "name": "stdout",
     "output_type": "stream",
     "text": [
      "(1000, 16)\n"
     ]
    }
   ],
   "source": [
    "e = modele.layers[0]\n",
    "weights = e.get_weights()[0]\n",
    "print(weights.shape)"
   ]
  },
  {
   "cell_type": "code",
   "execution_count": 285,
   "metadata": {},
   "outputs": [],
   "source": [
    "out_v = io.open('vecs.tsv', 'w', encoding='utf-8')\n",
    "out_m = io.open('meta.tsv', 'w', encoding='utf-8')\n",
    "for word_num in range(1, vocab_size):\n",
    "    word = reverse_word_index[word_num]\n",
    "    embeddings = weights[word_num]\n",
    "    out_m.write(word + \"\\n\")\n",
    "    out_v.write('\\t'.join([str(x) for x in embeddings]) + \"\\n\")\n",
    "out_v.close()\n",
    "out_m.close()"
   ]
  },
  {
   "cell_type": "code",
   "execution_count": 286,
   "metadata": {},
   "outputs": [
    {
     "data": {
      "text/plain": [
       "'import re\\nstereotype_liste = []\\n\\nwith open(\\'stereotype_liste.txt\\',encoding=\\'utf8\\') as f:\\n    stereotype_liste = f.readlines()\\n\\nweighted_words = [re.sub(r\"\\n\",\\'\\',i) for i in stereotype_liste]\\n\\nprint(weighted_words)\\n\\nfrom sklearn.feature_extraction.text import TfidfVectorizer\\n   \\ndata = pd.read_csv(\"my_csv_clean.csv\",sep = \\',\\') #we got that csv after running the Text Preprocessing file\\ndata.columns = [\\'tweet\\', \\'class\\'] \\n\\nX = data[\\'tweet\\']\\ny = data[\\'class\\'] \\n\\ncategories = [\"NotSexist\", \"Sexist\"]\\n\\nvectorizer = TfidfVectorizer()\\nnew_X = vectorizer.fit_transform(X)\\nvectorizer.get_feature_names_out()'"
      ]
     },
     "execution_count": 286,
     "metadata": {},
     "output_type": "execute_result"
    }
   ],
   "source": [
    "#On a essayé d'ajouter des poids à certains mots, malheureusement sans succès\n",
    "'''import re\n",
    "stereotype_liste = []\n",
    "\n",
    "with open('stereotype_liste.txt',encoding='utf8') as f:\n",
    "    stereotype_liste = f.readlines()\n",
    "\n",
    "weighted_words = [re.sub(r\"\\n\",'',i) for i in stereotype_liste]\n",
    "\n",
    "print(weighted_words)\n",
    "\n",
    "from sklearn.feature_extraction.text import TfidfVectorizer\n",
    "   \n",
    "data = pd.read_csv(\"my_csv_clean.csv\",sep = ',') #we got that csv after running the Text Preprocessing file\n",
    "data.columns = ['tweet', 'class'] \n",
    "\n",
    "X = data['tweet']\n",
    "y = data['class'] \n",
    "\n",
    "categories = [\"NotSexist\", \"Sexist\"]\n",
    "\n",
    "vectorizer = TfidfVectorizer()\n",
    "new_X = vectorizer.fit_transform(X)\n",
    "vectorizer.get_feature_names_out()'''"
   ]
  },
  {
   "cell_type": "markdown",
   "metadata": {},
   "source": [
    "## Création d'un réseau de neurone à partir de vecteur de mots avec recours à de l'oversampling"
   ]
  },
  {
   "cell_type": "code",
   "execution_count": 287,
   "metadata": {},
   "outputs": [
    {
     "name": "stdout",
     "output_type": "stream",
     "text": [
      "Model: \"sequential_29\"\n",
      "_________________________________________________________________\n",
      " Layer (type)                Output Shape              Param #   \n",
      "=================================================================\n",
      " embedding_29 (Embedding)    (None, 120, 16)           16000     \n",
      "                                                                 \n",
      " global_average_pooling1d_29  (None, 16)               0         \n",
      "  (GlobalAveragePooling1D)                                       \n",
      "                                                                 \n",
      " dense_58 (Dense)            (None, 24)                408       \n",
      "                                                                 \n",
      " dense_59 (Dense)            (None, 6)                 150       \n",
      "                                                                 \n",
      "=================================================================\n",
      "Total params: 16,558\n",
      "Trainable params: 16,558\n",
      "Non-trainable params: 0\n",
      "_________________________________________________________________\n"
     ]
    }
   ],
   "source": [
    "data = pd.read_csv(\"my_csv_clean.csv\",sep = ',') #we got that csv after running the Text Preprocessing file\n",
    "data.columns = ['tweet', 'class']\n",
    "\n",
    "X = data['tweet']\n",
    "y = data['class'] \n",
    "\n",
    "X_train, X_test, y_train , y_test = train_test_split(X , y ,test_size=0.3)\n",
    "\n",
    "X = list(X)\n",
    "y = [categories[i] for i in y]\n",
    "X_test = list(X_test)\n",
    "y_train = [categories[i] for i in y_train]\n",
    "y_test = [categories[i] for i in y_test]\n",
    "\n",
    "ros = RandomOverSampler()\n",
    "X_ros_train, y_ros_train = ros.fit_resample(np.array(X_train).reshape(-1,1), y_train)# new class distribution \n",
    "X_ros_test, y_ros_test = ros.fit_resample(np.array(X_test).reshape(-1,1), y_test)# new class distribution \n",
    "X_ros_train = X_ros_train.tolist()\n",
    "X_ros_test = X_ros_test.tolist()\n",
    "\n",
    "tokenizer = Tokenizer(num_words = vocab_size, oov_token=oov_tok)\n",
    "tokenizer.fit_on_texts(X_ros_train)\n",
    "\n",
    "word_index = tokenizer.word_index\n",
    "total_words = len(word_index)+1 #1 for oov word\n",
    "\n",
    "train_sequences = tokenizer.texts_to_sequences(X_ros_train)\n",
    "train_filled = pad_sequences(train_sequences, padding=padding_type, maxlen=max_length)\n",
    "\n",
    "validation_sequences = tokenizer.texts_to_sequences(X_ros_test)\n",
    "validation_filled = pad_sequences(validation_sequences, padding=padding_type, maxlen=max_length)\n",
    "\n",
    "label_tokenizer = Tokenizer()\n",
    "label_tokenizer.fit_on_texts(y)\n",
    "\n",
    "training_label_seq = np.array(label_tokenizer.texts_to_sequences(y_ros_train))\n",
    "validation_label_seq = np.array(label_tokenizer.texts_to_sequences(y_ros_test))\n",
    "\n",
    "modele = tf.keras.Sequential([\n",
    "    tf.keras.layers.Embedding(vocab_size, embedding_dim, input_length=max_length),\n",
    "    tf.keras.layers.GlobalAveragePooling1D(),\n",
    "    tf.keras.layers.Dense(24, activation='relu'),\n",
    "    tf.keras.layers.Dense(6, activation='softmax')\n",
    "])\n",
    "modele.compile(loss='sparse_categorical_crossentropy',optimizer='adam',metrics=['accuracy'])\n",
    "modele.summary()"
   ]
  },
  {
   "cell_type": "code",
   "execution_count": 288,
   "metadata": {},
   "outputs": [
    {
     "name": "stdout",
     "output_type": "stream",
     "text": [
      "Epoch 1/30\n",
      "95/95 - 1s - loss: 1.5831 - accuracy: 0.4472 - val_loss: 1.2031 - val_accuracy: 0.5000 - 769ms/epoch - 8ms/step\n",
      "Epoch 2/30\n",
      "95/95 - 0s - loss: 0.8804 - accuracy: 0.4927 - val_loss: 0.7322 - val_accuracy: 0.5000 - 243ms/epoch - 3ms/step\n",
      "Epoch 3/30\n",
      "95/95 - 0s - loss: 0.7141 - accuracy: 0.4934 - val_loss: 0.7039 - val_accuracy: 0.5000 - 269ms/epoch - 3ms/step\n",
      "Epoch 4/30\n",
      "95/95 - 0s - loss: 0.7003 - accuracy: 0.5096 - val_loss: 0.6987 - val_accuracy: 0.5000 - 242ms/epoch - 3ms/step\n",
      "Epoch 5/30\n",
      "95/95 - 0s - loss: 0.6970 - accuracy: 0.5116 - val_loss: 0.6982 - val_accuracy: 0.5000 - 251ms/epoch - 3ms/step\n",
      "Epoch 6/30\n",
      "95/95 - 0s - loss: 0.6941 - accuracy: 0.5697 - val_loss: 0.6961 - val_accuracy: 0.5000 - 252ms/epoch - 3ms/step\n",
      "Epoch 7/30\n",
      "95/95 - 0s - loss: 0.6936 - accuracy: 0.5489 - val_loss: 0.6949 - val_accuracy: 0.5000 - 234ms/epoch - 2ms/step\n",
      "Epoch 8/30\n",
      "95/95 - 0s - loss: 0.6920 - accuracy: 0.5251 - val_loss: 0.6945 - val_accuracy: 0.4860 - 248ms/epoch - 3ms/step\n",
      "Epoch 9/30\n",
      "95/95 - 0s - loss: 0.6904 - accuracy: 0.5561 - val_loss: 0.6943 - val_accuracy: 0.5000 - 236ms/epoch - 2ms/step\n",
      "Epoch 10/30\n",
      "95/95 - 0s - loss: 0.6888 - accuracy: 0.5337 - val_loss: 0.6943 - val_accuracy: 0.4930 - 235ms/epoch - 2ms/step\n",
      "Epoch 11/30\n",
      "95/95 - 0s - loss: 0.6879 - accuracy: 0.5882 - val_loss: 0.6945 - val_accuracy: 0.5000 - 238ms/epoch - 3ms/step\n",
      "Epoch 12/30\n",
      "95/95 - 0s - loss: 0.6855 - accuracy: 0.5908 - val_loss: 0.6943 - val_accuracy: 0.4891 - 235ms/epoch - 2ms/step\n",
      "Epoch 13/30\n",
      "95/95 - 0s - loss: 0.6816 - accuracy: 0.6473 - val_loss: 0.6956 - val_accuracy: 0.5000 - 252ms/epoch - 3ms/step\n",
      "Epoch 14/30\n",
      "95/95 - 0s - loss: 0.6787 - accuracy: 0.6836 - val_loss: 0.6988 - val_accuracy: 0.5000 - 238ms/epoch - 3ms/step\n",
      "Epoch 15/30\n",
      "95/95 - 0s - loss: 0.6754 - accuracy: 0.6248 - val_loss: 0.6969 - val_accuracy: 0.5000 - 252ms/epoch - 3ms/step\n",
      "Epoch 16/30\n",
      "95/95 - 0s - loss: 0.6699 - accuracy: 0.7061 - val_loss: 0.6945 - val_accuracy: 0.5000 - 249ms/epoch - 3ms/step\n",
      "Epoch 17/30\n",
      "95/95 - 0s - loss: 0.6644 - accuracy: 0.7157 - val_loss: 0.6997 - val_accuracy: 0.5023 - 249ms/epoch - 3ms/step\n",
      "Epoch 18/30\n",
      "95/95 - 0s - loss: 0.6552 - accuracy: 0.7857 - val_loss: 0.6966 - val_accuracy: 0.4860 - 254ms/epoch - 3ms/step\n",
      "Epoch 19/30\n",
      "95/95 - 0s - loss: 0.6470 - accuracy: 0.7635 - val_loss: 0.6967 - val_accuracy: 0.4860 - 241ms/epoch - 3ms/step\n",
      "Epoch 20/30\n",
      "95/95 - 0s - loss: 0.6363 - accuracy: 0.8141 - val_loss: 0.6994 - val_accuracy: 0.4860 - 255ms/epoch - 3ms/step\n",
      "Epoch 21/30\n",
      "95/95 - 0s - loss: 0.6248 - accuracy: 0.7206 - val_loss: 0.7014 - val_accuracy: 0.4860 - 225ms/epoch - 2ms/step\n",
      "Epoch 22/30\n",
      "95/95 - 0s - loss: 0.6082 - accuracy: 0.8210 - val_loss: 0.7106 - val_accuracy: 0.4860 - 244ms/epoch - 3ms/step\n",
      "Epoch 23/30\n",
      "95/95 - 0s - loss: 0.5914 - accuracy: 0.8065 - val_loss: 0.7063 - val_accuracy: 0.4860 - 251ms/epoch - 3ms/step\n",
      "Epoch 24/30\n",
      "95/95 - 0s - loss: 0.5740 - accuracy: 0.8127 - val_loss: 0.7250 - val_accuracy: 0.4860 - 230ms/epoch - 2ms/step\n",
      "Epoch 25/30\n",
      "95/95 - 0s - loss: 0.5546 - accuracy: 0.8088 - val_loss: 0.7741 - val_accuracy: 0.4930 - 248ms/epoch - 3ms/step\n",
      "Epoch 26/30\n",
      "95/95 - 0s - loss: 0.5371 - accuracy: 0.8015 - val_loss: 0.7962 - val_accuracy: 0.4915 - 232ms/epoch - 2ms/step\n",
      "Epoch 27/30\n",
      "95/95 - 0s - loss: 0.5186 - accuracy: 0.8137 - val_loss: 0.7720 - val_accuracy: 0.4860 - 241ms/epoch - 3ms/step\n",
      "Epoch 28/30\n",
      "95/95 - 0s - loss: 0.4992 - accuracy: 0.7910 - val_loss: 0.7373 - val_accuracy: 0.4860 - 249ms/epoch - 3ms/step\n",
      "Epoch 29/30\n",
      "95/95 - 0s - loss: 0.4852 - accuracy: 0.7992 - val_loss: 0.8108 - val_accuracy: 0.4860 - 253ms/epoch - 3ms/step\n",
      "Epoch 30/30\n",
      "95/95 - 0s - loss: 0.4656 - accuracy: 0.7913 - val_loss: 0.8564 - val_accuracy: 0.4860 - 240ms/epoch - 3ms/step\n"
     ]
    }
   ],
   "source": [
    "num_epochs = 30\n",
    "history = modele.fit(train_filled, training_label_seq, epochs=num_epochs, \n",
    "                    validation_data=(validation_filled, validation_label_seq), \n",
    "                    verbose=2)"
   ]
  },
  {
   "cell_type": "code",
   "execution_count": 289,
   "metadata": {},
   "outputs": [
    {
     "data": {
      "image/png": "[encoded data removed]",
      "text/plain": [
       "<Figure size 432x288 with 1 Axes>"
      ]
     },
     "metadata": {
      "needs_background": "light"
     },
     "output_type": "display_data"
    },
    {
     "data": {
      "image/png": "[encoded data removed]",
      "text/plain": [
       "<Figure size 432x288 with 1 Axes>"
      ]
     },
     "metadata": {
      "needs_background": "light"
     },
     "output_type": "display_data"
    }
   ],
   "source": [
    "plot_graphs(history, \"accuracy\")\n",
    "plot_graphs(history, \"loss\")"
   ]
  },
  {
   "cell_type": "code",
   "execution_count": 290,
   "metadata": {},
   "outputs": [
    {
     "name": "stdout",
     "output_type": "stream",
     "text": [
      "Accuracy :  0.48604651162790696\n",
      "Matrice de confusion :\n",
      "[[624  21]\n",
      " [642   3]]\n",
      "              precision    recall  f1-score   support\n",
      "\n",
      "   NotSexist       0.49      0.97      0.65       645\n",
      "      Sexist       0.12      0.00      0.01       645\n",
      "\n",
      "    accuracy                           0.49      1290\n",
      "   macro avg       0.31      0.49      0.33      1290\n",
      "weighted avg       0.31      0.49      0.33      1290\n",
      "\n"
     ]
    }
   ],
   "source": [
    "y_pred = modele.predict(validation_filled)\n",
    "predictions = np.argmax(y_pred,axis=1)\n",
    "\n",
    "for i in range(len(predictions)):\n",
    "    predictions[i] = predictions[i] - 1\n",
    "    \n",
    "true_labels = []\n",
    "for i in y_ros_test:\n",
    "    if(i=='NotSexist'):\n",
    "        true_labels.append(0)\n",
    "    else:\n",
    "        true_labels.append(1)\n",
    "print(\"Accuracy : \", np.mean(predictions == true_labels))\n",
    "print(\"Matrice de confusion :\")\n",
    "print(metrics.confusion_matrix(true_labels, predictions))\n",
    "print(metrics.classification_report(true_labels, predictions,target_names=categories))"
   ]
  },
  {
   "cell_type": "markdown",
   "metadata": {},
   "source": [
    "## Création d'un réseau de neurone à partir de vecteur de mots avec recours à de l'undersampling"
   ]
  },
  {
   "cell_type": "code",
   "execution_count": 291,
   "metadata": {},
   "outputs": [
    {
     "name": "stdout",
     "output_type": "stream",
     "text": [
      "Model: \"sequential_30\"\n",
      "_________________________________________________________________\n",
      " Layer (type)                Output Shape              Param #   \n",
      "=================================================================\n",
      " embedding_30 (Embedding)    (None, 120, 16)           16000     \n",
      "                                                                 \n",
      " global_average_pooling1d_30  (None, 16)               0         \n",
      "  (GlobalAveragePooling1D)                                       \n",
      "                                                                 \n",
      " dense_60 (Dense)            (None, 24)                408       \n",
      "                                                                 \n",
      " dense_61 (Dense)            (None, 6)                 150       \n",
      "                                                                 \n",
      "=================================================================\n",
      "Total params: 16,558\n",
      "Trainable params: 16,558\n",
      "Non-trainable params: 0\n",
      "_________________________________________________________________\n"
     ]
    }
   ],
   "source": [
    "data = pd.read_csv(\"my_csv_clean.csv\",sep = ',') #we got that csv after running the Text Preprocessing file\n",
    "data.columns = ['tweet', 'class']\n",
    "\n",
    "X = data['tweet']\n",
    "y = data['class'] \n",
    "\n",
    "X_train, X_test, y_train , y_test = train_test_split(X , y ,test_size=0.3)\n",
    "\n",
    "X = list(X)\n",
    "y = [categories[i] for i in y]\n",
    "X_test = list(X_test)\n",
    "y_train = [categories[i] for i in y_train]\n",
    "y_test = [categories[i] for i in y_test]\n",
    "\n",
    "rus = RandomUnderSampler()\n",
    "X_rus_train, y_rus_train = rus.fit_resample(np.array(X_train).reshape(-1,1), y_train)# new class distribution \n",
    "X_rus_test, y_rus_test = rus.fit_resample(np.array(X_test).reshape(-1,1), y_test)# new class distribution \n",
    "X_rus_train = X_rus_train.tolist()\n",
    "X_rus_test = X_rus_test.tolist()\n",
    "\n",
    "tokenizer = Tokenizer(num_words = vocab_size, oov_token=oov_tok)\n",
    "tokenizer.fit_on_texts(X_rus_train)\n",
    "\n",
    "word_index = tokenizer.word_index\n",
    "total_words = len(word_index)+1\n",
    "\n",
    "train_sequences = tokenizer.texts_to_sequences(X_rus_train)\n",
    "train_filled = pad_sequences(train_sequences, padding=padding_type, maxlen=max_length)\n",
    "\n",
    "validation_sequences = tokenizer.texts_to_sequences(X_rus_test)\n",
    "validation_filled = pad_sequences(validation_sequences, padding=padding_type, maxlen=max_length)\n",
    "\n",
    "label_tokenizer = Tokenizer()\n",
    "label_tokenizer.fit_on_texts(y)\n",
    "\n",
    "training_label_seq = np.array(label_tokenizer.texts_to_sequences(y_rus_train))\n",
    "validation_label_seq = np.array(label_tokenizer.texts_to_sequences(y_rus_test))\n",
    "\n",
    "modele = tf.keras.Sequential([\n",
    "    tf.keras.layers.Embedding(vocab_size, embedding_dim, input_length=max_length),\n",
    "    tf.keras.layers.GlobalAveragePooling1D(),\n",
    "    tf.keras.layers.Dense(24, activation='relu'),\n",
    "    tf.keras.layers.Dense(6, activation='softmax')\n",
    "])\n",
    "modele.compile(loss='sparse_categorical_crossentropy',optimizer='adam',metrics=['accuracy'])\n",
    "modele.summary()"
   ]
  },
  {
   "cell_type": "code",
   "execution_count": 292,
   "metadata": {},
   "outputs": [
    {
     "name": "stdout",
     "output_type": "stream",
     "text": [
      "Epoch 1/30\n",
      "45/45 - 1s - loss: 1.6673 - accuracy: 0.5000 - val_loss: 1.5056 - val_accuracy: 0.5000 - 660ms/epoch - 15ms/step\n",
      "Epoch 2/30\n",
      "45/45 - 0s - loss: 1.2880 - accuracy: 0.5000 - val_loss: 1.0386 - val_accuracy: 0.5000 - 134ms/epoch - 3ms/step\n",
      "Epoch 3/30\n",
      "45/45 - 0s - loss: 0.8876 - accuracy: 0.5000 - val_loss: 0.7817 - val_accuracy: 0.5000 - 146ms/epoch - 3ms/step\n",
      "Epoch 4/30\n",
      "45/45 - 0s - loss: 0.7491 - accuracy: 0.4816 - val_loss: 0.7265 - val_accuracy: 0.5000 - 164ms/epoch - 4ms/step\n",
      "Epoch 5/30\n",
      "45/45 - 0s - loss: 0.7183 - accuracy: 0.5035 - val_loss: 0.7113 - val_accuracy: 0.5000 - 149ms/epoch - 3ms/step\n",
      "Epoch 6/30\n",
      "45/45 - 0s - loss: 0.7074 - accuracy: 0.4965 - val_loss: 0.7049 - val_accuracy: 0.5000 - 141ms/epoch - 3ms/step\n",
      "Epoch 7/30\n",
      "45/45 - 0s - loss: 0.7025 - accuracy: 0.5227 - val_loss: 0.7014 - val_accuracy: 0.5000 - 147ms/epoch - 3ms/step\n",
      "Epoch 8/30\n",
      "45/45 - 0s - loss: 0.7004 - accuracy: 0.5021 - val_loss: 0.6998 - val_accuracy: 0.5000 - 133ms/epoch - 3ms/step\n",
      "Epoch 9/30\n",
      "45/45 - 0s - loss: 0.6975 - accuracy: 0.5170 - val_loss: 0.6981 - val_accuracy: 0.5000 - 141ms/epoch - 3ms/step\n",
      "Epoch 10/30\n",
      "45/45 - 0s - loss: 0.6986 - accuracy: 0.5000 - val_loss: 0.6972 - val_accuracy: 0.5000 - 138ms/epoch - 3ms/step\n",
      "Epoch 11/30\n",
      "45/45 - 0s - loss: 0.6962 - accuracy: 0.4993 - val_loss: 0.6965 - val_accuracy: 0.5000 - 144ms/epoch - 3ms/step\n",
      "Epoch 12/30\n",
      "45/45 - 0s - loss: 0.6943 - accuracy: 0.6163 - val_loss: 0.6960 - val_accuracy: 0.5000 - 142ms/epoch - 3ms/step\n",
      "Epoch 13/30\n",
      "45/45 - 0s - loss: 0.6932 - accuracy: 0.5142 - val_loss: 0.6955 - val_accuracy: 0.5088 - 140ms/epoch - 3ms/step\n",
      "Epoch 14/30\n",
      "45/45 - 0s - loss: 0.6927 - accuracy: 0.5291 - val_loss: 0.6964 - val_accuracy: 0.5000 - 139ms/epoch - 3ms/step\n",
      "Epoch 15/30\n",
      "45/45 - 0s - loss: 0.6938 - accuracy: 0.5340 - val_loss: 0.6952 - val_accuracy: 0.5000 - 147ms/epoch - 3ms/step\n",
      "Epoch 16/30\n",
      "45/45 - 0s - loss: 0.6903 - accuracy: 0.5723 - val_loss: 0.6948 - val_accuracy: 0.5000 - 136ms/epoch - 3ms/step\n",
      "Epoch 17/30\n",
      "45/45 - 0s - loss: 0.6899 - accuracy: 0.5865 - val_loss: 0.6946 - val_accuracy: 0.5106 - 146ms/epoch - 3ms/step\n",
      "Epoch 18/30\n",
      "45/45 - 0s - loss: 0.6893 - accuracy: 0.5496 - val_loss: 0.6963 - val_accuracy: 0.5000 - 140ms/epoch - 3ms/step\n",
      "Epoch 19/30\n",
      "45/45 - 0s - loss: 0.6893 - accuracy: 0.5362 - val_loss: 0.6944 - val_accuracy: 0.5000 - 136ms/epoch - 3ms/step\n",
      "Epoch 20/30\n",
      "45/45 - 0s - loss: 0.6864 - accuracy: 0.5539 - val_loss: 0.6941 - val_accuracy: 0.5000 - 149ms/epoch - 3ms/step\n",
      "Epoch 21/30\n",
      "45/45 - 0s - loss: 0.6866 - accuracy: 0.6099 - val_loss: 0.6941 - val_accuracy: 0.5106 - 140ms/epoch - 3ms/step\n",
      "Epoch 22/30\n",
      "45/45 - 0s - loss: 0.6841 - accuracy: 0.6447 - val_loss: 0.6944 - val_accuracy: 0.5070 - 142ms/epoch - 3ms/step\n",
      "Epoch 23/30\n",
      "45/45 - 0s - loss: 0.6832 - accuracy: 0.5972 - val_loss: 0.6942 - val_accuracy: 0.5106 - 145ms/epoch - 3ms/step\n",
      "Epoch 24/30\n",
      "45/45 - 0s - loss: 0.6817 - accuracy: 0.6340 - val_loss: 0.6936 - val_accuracy: 0.5088 - 148ms/epoch - 3ms/step\n",
      "Epoch 25/30\n",
      "45/45 - 0s - loss: 0.6798 - accuracy: 0.5936 - val_loss: 0.6961 - val_accuracy: 0.5000 - 144ms/epoch - 3ms/step\n",
      "Epoch 26/30\n",
      "45/45 - 0s - loss: 0.6779 - accuracy: 0.5645 - val_loss: 0.6950 - val_accuracy: 0.5000 - 144ms/epoch - 3ms/step\n",
      "Epoch 27/30\n",
      "45/45 - 0s - loss: 0.6778 - accuracy: 0.5773 - val_loss: 0.6942 - val_accuracy: 0.5106 - 149ms/epoch - 3ms/step\n",
      "Epoch 28/30\n",
      "45/45 - 0s - loss: 0.6768 - accuracy: 0.5801 - val_loss: 0.6949 - val_accuracy: 0.5106 - 147ms/epoch - 3ms/step\n",
      "Epoch 29/30\n",
      "45/45 - 0s - loss: 0.6730 - accuracy: 0.6801 - val_loss: 0.6934 - val_accuracy: 0.5088 - 140ms/epoch - 3ms/step\n",
      "Epoch 30/30\n",
      "45/45 - 0s - loss: 0.6706 - accuracy: 0.8943 - val_loss: 0.6950 - val_accuracy: 0.5106 - 147ms/epoch - 3ms/step\n"
     ]
    }
   ],
   "source": [
    "num_epochs = 30\n",
    "history = modele.fit(train_filled, training_label_seq, epochs=num_epochs, \n",
    "                    validation_data=(validation_filled, validation_label_seq), \n",
    "                    verbose=2)"
   ]
  },
  {
   "cell_type": "code",
   "execution_count": 293,
   "metadata": {},
   "outputs": [
    {
     "data": {
      "image/png": "[encoded data removed]",
      "text/plain": [
       "<Figure size 432x288 with 1 Axes>"
      ]
     },
     "metadata": {
      "needs_background": "light"
     },
     "output_type": "display_data"
    },
    {
     "data": {
      "image/png": "[encoded data removed]",
      "text/plain": [
       "<Figure size 432x288 with 1 Axes>"
      ]
     },
     "metadata": {
      "needs_background": "light"
     },
     "output_type": "display_data"
    }
   ],
   "source": [
    "plot_graphs(history, \"accuracy\")\n",
    "plot_graphs(history, \"loss\")"
   ]
  },
  {
   "cell_type": "code",
   "execution_count": 294,
   "metadata": {},
   "outputs": [
    {
     "name": "stdout",
     "output_type": "stream",
     "text": [
      "Accuracy :  0.5105633802816901\n",
      "Matrice de confusion :\n",
      "[[  6 278]\n",
      " [  0 284]]\n",
      "              precision    recall  f1-score   support\n",
      "\n",
      "   NotSexist       1.00      0.02      0.04       284\n",
      "      Sexist       0.51      1.00      0.67       284\n",
      "\n",
      "    accuracy                           0.51       568\n",
      "   macro avg       0.75      0.51      0.36       568\n",
      "weighted avg       0.75      0.51      0.36       568\n",
      "\n"
     ]
    }
   ],
   "source": [
    "y_pred = modele.predict(validation_filled)\n",
    "predictions = np.argmax(y_pred,axis=1)\n",
    "\n",
    "for i in range(len(predictions)):\n",
    "    predictions[i] = predictions[i] - 1\n",
    "    \n",
    "true_labels = []\n",
    "for i in y_rus_test:\n",
    "    if(i=='NotSexist'):\n",
    "        true_labels.append(0)\n",
    "    else:\n",
    "        true_labels.append(1)\n",
    "    \n",
    "print(\"Accuracy : \", np.mean(predictions == true_labels))\n",
    "print(\"Matrice de confusion :\") \n",
    "print(metrics.confusion_matrix(true_labels, predictions))\n",
    "print(metrics.classification_report(true_labels, predictions,target_names=categories))"
   ]
  },
  {
   "cell_type": "markdown",
   "metadata": {},
   "source": [
    "### Changement de paramètre du réseau initial - vocab size = 4000"
   ]
  },
  {
   "cell_type": "code",
   "execution_count": 295,
   "metadata": {},
   "outputs": [],
   "source": [
    "vocab_size = 4000\n",
    "embedding_dim = 16\n",
    "max_length = 120\n",
    "trunc_type='post'\n",
    "padding_type='post'\n",
    "oov_tok = \"<OOV>\""
   ]
  },
  {
   "cell_type": "code",
   "execution_count": 296,
   "metadata": {},
   "outputs": [],
   "source": [
    "data = pd.read_csv(\"my_csv_clean.csv\",sep = ',') #we got that csv after running the Text Preprocessing file\n",
    "data.columns = ['tweet', 'class']\n",
    "    \n",
    "X = data['tweet']\n",
    "y = data['class'] \n",
    "\n",
    "categories = [\"NotSexist\", \"Sexist\"]\n",
    "\n",
    "X_train, X_test, y_train , y_test = train_test_split(X , y ,test_size=0.3)\n",
    "\n",
    "X = list(X)\n",
    "y = [categories[i] for i in y]\n",
    "X_train = list(X_train)\n",
    "X_test = list(X_test)\n",
    "y_train = [categories[i] for i in y_train]\n",
    "y_test = [categories[i] for i in y_test]\n",
    "#print(y_train)"
   ]
  },
  {
   "cell_type": "code",
   "execution_count": 297,
   "metadata": {},
   "outputs": [],
   "source": [
    "tokenizer = Tokenizer(num_words = vocab_size, oov_token=oov_tok)\n",
    "tokenizer.fit_on_texts(X_train)"
   ]
  },
  {
   "cell_type": "code",
   "execution_count": 298,
   "metadata": {},
   "outputs": [],
   "source": [
    "word_index = tokenizer.word_index\n",
    "total_words = len(word_index)+1 # le +1 est pour le OOV\n",
    "#print(\"Total_words = \", total_words)\n",
    "#print(\"Word index : \\n\", word_index)"
   ]
  },
  {
   "cell_type": "code",
   "execution_count": 299,
   "metadata": {},
   "outputs": [],
   "source": [
    "train_sequences = tokenizer.texts_to_sequences(X_train)\n",
    "train_filled = pad_sequences(train_sequences, padding=padding_type, maxlen=max_length)\n",
    "\n",
    "validation_sequences = tokenizer.texts_to_sequences(X_test)\n",
    "validation_filled = pad_sequences(validation_sequences, padding=padding_type, maxlen=max_length)"
   ]
  },
  {
   "cell_type": "code",
   "execution_count": 300,
   "metadata": {},
   "outputs": [],
   "source": [
    "label_tokenizer = Tokenizer()\n",
    "label_tokenizer.fit_on_texts(y)\n",
    "\n",
    "training_label_seq = np.array(label_tokenizer.texts_to_sequences(y_train))\n",
    "validation_label_seq = np.array(label_tokenizer.texts_to_sequences(y_test))"
   ]
  },
  {
   "cell_type": "code",
   "execution_count": 301,
   "metadata": {},
   "outputs": [
    {
     "name": "stdout",
     "output_type": "stream",
     "text": [
      "Model: \"sequential_31\"\n",
      "_________________________________________________________________\n",
      " Layer (type)                Output Shape              Param #   \n",
      "=================================================================\n",
      " embedding_31 (Embedding)    (None, 120, 16)           64000     \n",
      "                                                                 \n",
      " global_average_pooling1d_31  (None, 16)               0         \n",
      "  (GlobalAveragePooling1D)                                       \n",
      "                                                                 \n",
      " dense_62 (Dense)            (None, 24)                408       \n",
      "                                                                 \n",
      " dense_63 (Dense)            (None, 6)                 150       \n",
      "                                                                 \n",
      "=================================================================\n",
      "Total params: 64,558\n",
      "Trainable params: 64,558\n",
      "Non-trainable params: 0\n",
      "_________________________________________________________________\n"
     ]
    }
   ],
   "source": [
    "modele = tf.keras.Sequential([\n",
    "    tf.keras.layers.Embedding(vocab_size, embedding_dim, input_length=max_length),\n",
    "    tf.keras.layers.GlobalAveragePooling1D(),\n",
    "    tf.keras.layers.Dense(24, activation='relu'),\n",
    "    tf.keras.layers.Dense(6, activation='softmax')\n",
    "])\n",
    "modele.compile(loss='sparse_categorical_crossentropy',optimizer='adam',metrics=['accuracy'])\n",
    "modele.summary()"
   ]
  },
  {
   "cell_type": "code",
   "execution_count": 302,
   "metadata": {},
   "outputs": [
    {
     "name": "stdout",
     "output_type": "stream",
     "text": [
      "Epoch 1/30\n",
      "69/69 - 1s - loss: 1.6168 - accuracy: 0.2969 - val_loss: 1.3578 - val_accuracy: 0.3175 - 754ms/epoch - 11ms/step\n",
      "Epoch 2/30\n",
      "69/69 - 0s - loss: 1.0140 - accuracy: 0.5887 - val_loss: 0.7372 - val_accuracy: 0.6825 - 196ms/epoch - 3ms/step\n",
      "Epoch 3/30\n",
      "69/69 - 0s - loss: 0.6733 - accuracy: 0.6872 - val_loss: 0.6462 - val_accuracy: 0.6825 - 217ms/epoch - 3ms/step\n",
      "Epoch 4/30\n",
      "69/69 - 0s - loss: 0.6349 - accuracy: 0.6872 - val_loss: 0.6327 - val_accuracy: 0.6825 - 232ms/epoch - 3ms/step\n",
      "Epoch 5/30\n",
      "69/69 - 0s - loss: 0.6266 - accuracy: 0.6872 - val_loss: 0.6279 - val_accuracy: 0.6825 - 211ms/epoch - 3ms/step\n",
      "Epoch 6/30\n",
      "69/69 - 0s - loss: 0.6229 - accuracy: 0.6872 - val_loss: 0.6255 - val_accuracy: 0.6825 - 210ms/epoch - 3ms/step\n",
      "Epoch 7/30\n",
      "69/69 - 0s - loss: 0.6199 - accuracy: 0.6872 - val_loss: 0.6227 - val_accuracy: 0.6825 - 195ms/epoch - 3ms/step\n",
      "Epoch 8/30\n",
      "69/69 - 0s - loss: 0.6176 - accuracy: 0.6872 - val_loss: 0.6207 - val_accuracy: 0.6825 - 190ms/epoch - 3ms/step\n",
      "Epoch 9/30\n",
      "69/69 - 0s - loss: 0.6146 - accuracy: 0.6872 - val_loss: 0.6186 - val_accuracy: 0.6825 - 195ms/epoch - 3ms/step\n",
      "Epoch 10/30\n",
      "69/69 - 0s - loss: 0.6116 - accuracy: 0.6872 - val_loss: 0.6168 - val_accuracy: 0.6825 - 195ms/epoch - 3ms/step\n",
      "Epoch 11/30\n",
      "69/69 - 0s - loss: 0.6087 - accuracy: 0.6872 - val_loss: 0.6136 - val_accuracy: 0.6825 - 199ms/epoch - 3ms/step\n",
      "Epoch 12/30\n",
      "69/69 - 0s - loss: 0.6034 - accuracy: 0.6872 - val_loss: 0.6107 - val_accuracy: 0.6825 - 202ms/epoch - 3ms/step\n",
      "Epoch 13/30\n",
      "69/69 - 0s - loss: 0.5993 - accuracy: 0.6872 - val_loss: 0.6052 - val_accuracy: 0.6825 - 203ms/epoch - 3ms/step\n",
      "Epoch 14/30\n",
      "69/69 - 0s - loss: 0.5903 - accuracy: 0.6872 - val_loss: 0.5988 - val_accuracy: 0.6825 - 205ms/epoch - 3ms/step\n",
      "Epoch 15/30\n",
      "69/69 - 0s - loss: 0.5801 - accuracy: 0.6872 - val_loss: 0.5901 - val_accuracy: 0.6825 - 207ms/epoch - 3ms/step\n",
      "Epoch 16/30\n",
      "69/69 - 0s - loss: 0.5648 - accuracy: 0.6891 - val_loss: 0.5793 - val_accuracy: 0.6825 - 201ms/epoch - 3ms/step\n",
      "Epoch 17/30\n",
      "69/69 - 0s - loss: 0.5463 - accuracy: 0.6954 - val_loss: 0.5661 - val_accuracy: 0.6942 - 208ms/epoch - 3ms/step\n",
      "Epoch 18/30\n",
      "69/69 - 0s - loss: 0.5253 - accuracy: 0.7081 - val_loss: 0.5523 - val_accuracy: 0.7132 - 226ms/epoch - 3ms/step\n",
      "Epoch 19/30\n",
      "69/69 - 0s - loss: 0.4981 - accuracy: 0.7354 - val_loss: 0.5343 - val_accuracy: 0.7196 - 222ms/epoch - 3ms/step\n",
      "Epoch 20/30\n",
      "69/69 - 0s - loss: 0.4695 - accuracy: 0.7599 - val_loss: 0.5181 - val_accuracy: 0.7302 - 207ms/epoch - 3ms/step\n",
      "Epoch 21/30\n",
      "69/69 - 0s - loss: 0.4416 - accuracy: 0.7907 - val_loss: 0.5050 - val_accuracy: 0.7407 - 193ms/epoch - 3ms/step\n",
      "Epoch 22/30\n",
      "69/69 - 0s - loss: 0.4172 - accuracy: 0.8121 - val_loss: 0.4946 - val_accuracy: 0.7492 - 195ms/epoch - 3ms/step\n",
      "Epoch 23/30\n",
      "69/69 - 0s - loss: 0.3933 - accuracy: 0.8375 - val_loss: 0.4849 - val_accuracy: 0.7545 - 195ms/epoch - 3ms/step\n",
      "Epoch 24/30\n",
      "69/69 - 0s - loss: 0.3696 - accuracy: 0.8475 - val_loss: 0.4772 - val_accuracy: 0.7587 - 213ms/epoch - 3ms/step\n",
      "Epoch 25/30\n",
      "69/69 - 0s - loss: 0.3468 - accuracy: 0.8629 - val_loss: 0.4719 - val_accuracy: 0.7587 - 196ms/epoch - 3ms/step\n",
      "Epoch 26/30\n",
      "69/69 - 0s - loss: 0.3272 - accuracy: 0.8761 - val_loss: 0.4713 - val_accuracy: 0.7619 - 198ms/epoch - 3ms/step\n",
      "Epoch 27/30\n",
      "69/69 - 0s - loss: 0.3093 - accuracy: 0.8870 - val_loss: 0.4651 - val_accuracy: 0.7640 - 194ms/epoch - 3ms/step\n",
      "Epoch 28/30\n",
      "69/69 - 0s - loss: 0.2904 - accuracy: 0.8961 - val_loss: 0.4641 - val_accuracy: 0.7661 - 196ms/epoch - 3ms/step\n",
      "Epoch 29/30\n",
      "69/69 - 0s - loss: 0.2753 - accuracy: 0.9065 - val_loss: 0.4652 - val_accuracy: 0.7693 - 202ms/epoch - 3ms/step\n",
      "Epoch 30/30\n",
      "69/69 - 0s - loss: 0.2608 - accuracy: 0.9106 - val_loss: 0.4662 - val_accuracy: 0.7714 - 197ms/epoch - 3ms/step\n"
     ]
    }
   ],
   "source": [
    "num_epochs = 30\n",
    "history = modele.fit(train_filled, training_label_seq, epochs=num_epochs, \n",
    "                    validation_data=(validation_filled, validation_label_seq), \n",
    "                    verbose=2)"
   ]
  },
  {
   "cell_type": "code",
   "execution_count": 303,
   "metadata": {},
   "outputs": [
    {
     "data": {
      "image/png": "[encoded data removed]",
      "text/plain": [
       "<Figure size 432x288 with 1 Axes>"
      ]
     },
     "metadata": {
      "needs_background": "light"
     },
     "output_type": "display_data"
    },
    {
     "data": {
      "image/png": "[encoded data removed]",
      "text/plain": [
       "<Figure size 432x288 with 1 Axes>"
      ]
     },
     "metadata": {
      "needs_background": "light"
     },
     "output_type": "display_data"
    }
   ],
   "source": [
    "def plot_graphs(history, string):\n",
    "    plt.plot(history.history[string])\n",
    "    plt.plot(history.history['val_'+string])\n",
    "    plt.xlabel(\"Epochs\")\n",
    "    plt.ylabel(string)\n",
    "    plt.legend([string, 'val_'+string])\n",
    "    plt.show()\n",
    "\n",
    "plot_graphs(history, \"accuracy\")\n",
    "plot_graphs(history, \"loss\")"
   ]
  },
  {
   "cell_type": "code",
   "execution_count": 304,
   "metadata": {},
   "outputs": [
    {
     "name": "stdout",
     "output_type": "stream",
     "text": [
      "Accuracy :  0.7714285714285715\n",
      "Matrice de confusion :\n",
      "[[579  66]\n",
      " [150 150]]\n",
      "              precision    recall  f1-score   support\n",
      "\n",
      "   NotSexist       0.79      0.90      0.84       645\n",
      "      Sexist       0.69      0.50      0.58       300\n",
      "\n",
      "    accuracy                           0.77       945\n",
      "   macro avg       0.74      0.70      0.71       945\n",
      "weighted avg       0.76      0.77      0.76       945\n",
      "\n"
     ]
    }
   ],
   "source": [
    "y_pred = modele.predict(validation_filled)\n",
    "predictions = np.argmax(y_pred,axis=1)\n",
    "\n",
    "for i in range(len(predictions)):\n",
    "    predictions[i] = predictions[i] - 1\n",
    "    \n",
    "true_labels = []\n",
    "for i in y_test:\n",
    "    if(i=='NotSexist'):\n",
    "        true_labels.append(0)\n",
    "    else:\n",
    "        true_labels.append(1)\n",
    "    \n",
    "print(\"Accuracy : \", np.mean(predictions == true_labels))\n",
    "print(\"Matrice de confusion :\")\n",
    "print(metrics.confusion_matrix(true_labels, predictions))\n",
    "print(metrics.classification_report(true_labels, predictions,target_names=categories))"
   ]
  },
  {
   "cell_type": "markdown",
   "metadata": {},
   "source": [
    "### Changement de paramètre du réseau initial - embedding_dim = 18"
   ]
  },
  {
   "cell_type": "code",
   "execution_count": 305,
   "metadata": {},
   "outputs": [],
   "source": [
    "vocab_size = 1000\n",
    "embedding_dim = 18\n",
    "max_length = 120\n",
    "trunc_type='post'\n",
    "padding_type='post'\n",
    "oov_tok = \"<OOV>\""
   ]
  },
  {
   "cell_type": "code",
   "execution_count": 306,
   "metadata": {},
   "outputs": [],
   "source": [
    "data = pd.read_csv(\"my_csv_clean.csv\",sep = ',') #we got that csv after running the Text Preprocessing file\n",
    "data.columns = ['tweet', 'class']\n",
    "    \n",
    "X = data['tweet']\n",
    "y = data['class'] \n",
    "\n",
    "categories = [\"NotSexist\", \"Sexist\"]\n",
    "\n",
    "X_train, X_test, y_train , y_test = train_test_split(X , y ,test_size=0.3)\n",
    "\n",
    "X = list(X)\n",
    "y = [categories[i] for i in y]\n",
    "X_train = list(X_train)\n",
    "X_test = list(X_test)\n",
    "y_train = [categories[i] for i in y_train]\n",
    "y_test = [categories[i] for i in y_test]\n",
    "#print(y_train)"
   ]
  },
  {
   "cell_type": "code",
   "execution_count": 307,
   "metadata": {},
   "outputs": [],
   "source": [
    "tokenizer = Tokenizer(num_words = vocab_size, oov_token=oov_tok)\n",
    "tokenizer.fit_on_texts(X_train)"
   ]
  },
  {
   "cell_type": "code",
   "execution_count": 308,
   "metadata": {},
   "outputs": [],
   "source": [
    "word_index = tokenizer.word_index\n",
    "total_words = len(word_index)+1 # le +1 est pour le OOV\n",
    "#print(\"Total_words = \", total_words)\n",
    "#print(\"Word index : \\n\", word_index)"
   ]
  },
  {
   "cell_type": "code",
   "execution_count": 309,
   "metadata": {},
   "outputs": [],
   "source": [
    "train_sequences = tokenizer.texts_to_sequences(X_train)\n",
    "train_filled = pad_sequences(train_sequences, padding=padding_type, maxlen=max_length)\n",
    "\n",
    "validation_sequences = tokenizer.texts_to_sequences(X_test)\n",
    "validation_filled = pad_sequences(validation_sequences, padding=padding_type, maxlen=max_length)"
   ]
  },
  {
   "cell_type": "code",
   "execution_count": 310,
   "metadata": {},
   "outputs": [],
   "source": [
    "label_tokenizer = Tokenizer()\n",
    "label_tokenizer.fit_on_texts(y)\n",
    "\n",
    "training_label_seq = np.array(label_tokenizer.texts_to_sequences(y_train))\n",
    "validation_label_seq = np.array(label_tokenizer.texts_to_sequences(y_test))"
   ]
  },
  {
   "cell_type": "code",
   "execution_count": 311,
   "metadata": {},
   "outputs": [
    {
     "name": "stdout",
     "output_type": "stream",
     "text": [
      "Model: \"sequential_32\"\n",
      "_________________________________________________________________\n",
      " Layer (type)                Output Shape              Param #   \n",
      "=================================================================\n",
      " embedding_32 (Embedding)    (None, 120, 18)           18000     \n",
      "                                                                 \n",
      " global_average_pooling1d_32  (None, 18)               0         \n",
      "  (GlobalAveragePooling1D)                                       \n",
      "                                                                 \n",
      " dense_64 (Dense)            (None, 24)                456       \n",
      "                                                                 \n",
      " dense_65 (Dense)            (None, 6)                 150       \n",
      "                                                                 \n",
      "=================================================================\n",
      "Total params: 18,606\n",
      "Trainable params: 18,606\n",
      "Non-trainable params: 0\n",
      "_________________________________________________________________\n"
     ]
    }
   ],
   "source": [
    "modele = tf.keras.Sequential([\n",
    "    tf.keras.layers.Embedding(vocab_size, embedding_dim, input_length=max_length),\n",
    "    tf.keras.layers.GlobalAveragePooling1D(),\n",
    "    tf.keras.layers.Dense(24, activation='relu'),\n",
    "    tf.keras.layers.Dense(6, activation='softmax')\n",
    "])\n",
    "modele.compile(loss='sparse_categorical_crossentropy',optimizer='adam',metrics=['accuracy'])\n",
    "modele.summary()"
   ]
  },
  {
   "cell_type": "code",
   "execution_count": 312,
   "metadata": {},
   "outputs": [
    {
     "name": "stdout",
     "output_type": "stream",
     "text": [
      "Epoch 1/30\n",
      "69/69 - 1s - loss: 1.5284 - accuracy: 0.6854 - val_loss: 1.1757 - val_accuracy: 0.6868 - 1s/epoch - 20ms/step\n",
      "Epoch 2/30\n",
      "69/69 - 0s - loss: 0.8653 - accuracy: 0.6854 - val_loss: 0.6939 - val_accuracy: 0.6868 - 240ms/epoch - 3ms/step\n",
      "Epoch 3/30\n",
      "69/69 - 0s - loss: 0.6609 - accuracy: 0.6854 - val_loss: 0.6397 - val_accuracy: 0.6868 - 271ms/epoch - 4ms/step\n",
      "Epoch 4/30\n",
      "69/69 - 0s - loss: 0.6345 - accuracy: 0.6854 - val_loss: 0.6285 - val_accuracy: 0.6868 - 411ms/epoch - 6ms/step\n",
      "Epoch 5/30\n",
      "69/69 - 0s - loss: 0.6261 - accuracy: 0.6854 - val_loss: 0.6231 - val_accuracy: 0.6868 - 224ms/epoch - 3ms/step\n",
      "Epoch 6/30\n",
      "69/69 - 0s - loss: 0.6228 - accuracy: 0.6854 - val_loss: 0.6204 - val_accuracy: 0.6868 - 316ms/epoch - 5ms/step\n",
      "Epoch 7/30\n",
      "69/69 - 0s - loss: 0.6193 - accuracy: 0.6854 - val_loss: 0.6181 - val_accuracy: 0.6868 - 189ms/epoch - 3ms/step\n",
      "Epoch 8/30\n",
      "69/69 - 0s - loss: 0.6174 - accuracy: 0.6854 - val_loss: 0.6168 - val_accuracy: 0.6868 - 201ms/epoch - 3ms/step\n",
      "Epoch 9/30\n",
      "69/69 - 0s - loss: 0.6149 - accuracy: 0.6854 - val_loss: 0.6156 - val_accuracy: 0.6868 - 199ms/epoch - 3ms/step\n",
      "Epoch 10/30\n",
      "69/69 - 0s - loss: 0.6130 - accuracy: 0.6854 - val_loss: 0.6128 - val_accuracy: 0.6868 - 195ms/epoch - 3ms/step\n",
      "Epoch 11/30\n",
      "69/69 - 0s - loss: 0.6089 - accuracy: 0.6854 - val_loss: 0.6103 - val_accuracy: 0.6868 - 400ms/epoch - 6ms/step\n",
      "Epoch 12/30\n",
      "69/69 - 0s - loss: 0.6060 - accuracy: 0.6854 - val_loss: 0.6081 - val_accuracy: 0.6868 - 187ms/epoch - 3ms/step\n",
      "Epoch 13/30\n",
      "69/69 - 0s - loss: 0.6015 - accuracy: 0.6854 - val_loss: 0.6057 - val_accuracy: 0.6868 - 315ms/epoch - 5ms/step\n",
      "Epoch 14/30\n",
      "69/69 - 0s - loss: 0.5988 - accuracy: 0.6854 - val_loss: 0.6012 - val_accuracy: 0.6868 - 288ms/epoch - 4ms/step\n",
      "Epoch 15/30\n",
      "69/69 - 0s - loss: 0.5917 - accuracy: 0.6854 - val_loss: 0.5969 - val_accuracy: 0.6868 - 258ms/epoch - 4ms/step\n",
      "Epoch 16/30\n",
      "69/69 - 0s - loss: 0.5850 - accuracy: 0.6854 - val_loss: 0.5934 - val_accuracy: 0.6868 - 206ms/epoch - 3ms/step\n",
      "Epoch 17/30\n",
      "69/69 - 0s - loss: 0.5785 - accuracy: 0.6854 - val_loss: 0.5859 - val_accuracy: 0.6868 - 214ms/epoch - 3ms/step\n",
      "Epoch 18/30\n",
      "69/69 - 0s - loss: 0.5674 - accuracy: 0.6886 - val_loss: 0.5861 - val_accuracy: 0.6868 - 194ms/epoch - 3ms/step\n",
      "Epoch 19/30\n",
      "69/69 - 0s - loss: 0.5585 - accuracy: 0.6904 - val_loss: 0.5722 - val_accuracy: 0.6899 - 197ms/epoch - 3ms/step\n",
      "Epoch 20/30\n",
      "69/69 - 0s - loss: 0.5457 - accuracy: 0.6977 - val_loss: 0.5641 - val_accuracy: 0.6931 - 200ms/epoch - 3ms/step\n",
      "Epoch 21/30\n",
      "69/69 - 0s - loss: 0.5350 - accuracy: 0.7077 - val_loss: 0.5678 - val_accuracy: 0.7122 - 205ms/epoch - 3ms/step\n",
      "Epoch 22/30\n",
      "69/69 - 0s - loss: 0.5208 - accuracy: 0.7195 - val_loss: 0.5489 - val_accuracy: 0.6974 - 218ms/epoch - 3ms/step\n",
      "Epoch 23/30\n",
      "69/69 - 0s - loss: 0.5063 - accuracy: 0.7322 - val_loss: 0.5399 - val_accuracy: 0.7026 - 203ms/epoch - 3ms/step\n",
      "Epoch 24/30\n",
      "69/69 - 0s - loss: 0.4893 - accuracy: 0.7453 - val_loss: 0.5329 - val_accuracy: 0.7238 - 197ms/epoch - 3ms/step\n",
      "Epoch 25/30\n",
      "69/69 - 0s - loss: 0.4731 - accuracy: 0.7667 - val_loss: 0.5222 - val_accuracy: 0.7249 - 196ms/epoch - 3ms/step\n",
      "Epoch 26/30\n",
      "69/69 - 0s - loss: 0.4597 - accuracy: 0.7830 - val_loss: 0.5242 - val_accuracy: 0.7132 - 196ms/epoch - 3ms/step\n",
      "Epoch 27/30\n",
      "69/69 - 0s - loss: 0.4476 - accuracy: 0.7803 - val_loss: 0.5110 - val_accuracy: 0.7344 - 194ms/epoch - 3ms/step\n",
      "Epoch 28/30\n",
      "69/69 - 0s - loss: 0.4332 - accuracy: 0.7998 - val_loss: 0.5082 - val_accuracy: 0.7354 - 192ms/epoch - 3ms/step\n",
      "Epoch 29/30\n",
      "69/69 - 0s - loss: 0.4225 - accuracy: 0.8039 - val_loss: 0.5043 - val_accuracy: 0.7376 - 198ms/epoch - 3ms/step\n",
      "Epoch 30/30\n",
      "69/69 - 0s - loss: 0.4122 - accuracy: 0.8094 - val_loss: 0.5076 - val_accuracy: 0.7386 - 199ms/epoch - 3ms/step\n"
     ]
    }
   ],
   "source": [
    "num_epochs = 30\n",
    "history = modele.fit(train_filled, training_label_seq, epochs=num_epochs, \n",
    "                    validation_data=(validation_filled, validation_label_seq), \n",
    "                    verbose=2)"
   ]
  },
  {
   "cell_type": "code",
   "execution_count": null,
   "metadata": {},
   "outputs": [],
   "source": [
    "def plot_graphs(history, string):\n",
    "    plt.plot(history.history[string])\n",
    "    plt.plot(history.history['val_'+string])\n",
    "    plt.xlabel(\"Epochs\")\n",
    "    plt.ylabel(string)\n",
    "    plt.legend([string, 'val_'+string])\n",
    "    plt.show()\n",
    "\n",
    "plot_graphs(history, \"accuracy\")\n",
    "plot_graphs(history, \"loss\")"
   ]
  },
  {
   "cell_type": "code",
   "execution_count": null,
   "metadata": {},
   "outputs": [],
   "source": [
    "y_pred = modele.predict(validation_filled)\n",
    "predictions = np.argmax(y_pred,axis=1)\n",
    "\n",
    "for i in range(len(predictions)):\n",
    "    predictions[i] = predictions[i] - 1\n",
    "    \n",
    "true_labels = []\n",
    "for i in y_test:\n",
    "    if(i=='NotSexist'):\n",
    "        true_labels.append(0)\n",
    "    else:\n",
    "        true_labels.append(1)\n",
    "    \n",
    "print(\"Accuracy : \", np.mean(predictions == true_labels))\n",
    "print(\"Matrice de confusion :\")\n",
    "print(metrics.confusion_matrix(true_labels, predictions))\n",
    "print(metrics.classification_report(true_labels, predictions,target_names=categories))"
   ]
  }
 ],
 "metadata": {
  "kernelspec": {
   "display_name": "Python 3 (ipykernel)",
   "language": "python",
   "name": "python3"
  },
  "language_info": {
   "codemirror_mode": {
    "name": "ipython",
    "version": 3
   },
   "file_extension": ".py",
   "mimetype": "text/x-python",
   "name": "python",
   "nbconvert_exporter": "python",
   "pygments_lexer": "ipython3",
   "version": "3.8.3"
  }
 },
 "nbformat": 4,
 "nbformat_minor": 4
}
