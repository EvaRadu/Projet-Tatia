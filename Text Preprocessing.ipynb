{
 "cells": [
  {
   "cell_type": "code",
   "execution_count": 2,
   "metadata": {},
   "outputs": [],
   "source": [
    "import pandas as pd\n",
    "import re\n",
    "import emoji"
   ]
  },
  {
   "cell_type": "code",
   "execution_count": 9,
   "metadata": {},
   "outputs": [],
   "source": [
    "def clean_text(string, punctuations, stop_words):\n",
    "    \"\"\"\n",
    "    A function to clean text \n",
    "    \"\"\"\n",
    "    # Cleaning the .fr urls\n",
    "    string = re.sub(r'\\w*\\.fr','',string)\n",
    "    \n",
    "    # Cleaning the urls\n",
    "    string = re.sub(r'https?://\\S+|www\\.\\S+', '', string)\n",
    "    \n",
    "\n",
    "    # Cleaning the html elements\n",
    "    string = re.sub(r'<.*?>', '', string)\n",
    "    \n",
    "    # Removing stop words\n",
    "    string = ' '.join([word for word in string.split() if word not in stop_words])\n",
    "\n",
    "    # Removing the punctuations\n",
    "    for x in string.lower(): \n",
    "        if x in punctuations: \n",
    "            string = string.replace(x, \"\") \n",
    "\n",
    "    # Converting the text to lower\n",
    "    string = string.lower()\n",
    "\n",
    "\n",
    "    # Cleaning the whitespaces\n",
    "    string = re.sub(r'\\s+', ' ', string).strip()\n",
    "\n",
    "    return string \n",
    "\n",
    "\n",
    "    \n",
    "\n",
    "list_emojies = [c for c in  emoji.UNICODE_EMOJI['fr']]\n",
    "punctuations = r'''!()-[]{};:'\"\\,<>./?#$%^&*_~’@“”‘’«»'''\n",
    "stop_words = ['un', 'une', 'la', 'le', 'les', 'des', 'et',\"l'\",\"a\", \"à\", \"là\",\"d'\",\"s'\",\"son\",\"sa\",\"ses\",\"c'\",\"ce\"\n",
    "             \"te\",\"se\",\"s'\", \"t'\",\"m'\",\"que\",\"quel\",\"quelle\",\"en\",\"je\",\"tu\",\"ici\",\"jusqu'à\",\"étais\",\"était\"\n",
    "              ,\"étaient\",\"étions\",\"mon\",\"ma\",\"mes\",\"ton\",\"ta\",\"tes\",\"d'\",\"l’\",\"d’\",\"s’\",\"c’\",\"t’\",\"m’\"] + list_emojies\n",
    "\n",
    "#print(clean_text(\"test ladepeche.fr\",punctuations,stop_words))"
   ]
  },
  {
   "cell_type": "code",
   "execution_count": 10,
   "metadata": {},
   "outputs": [],
   "source": [
    "# Lecture de nos données\n",
    "data = pd.read_csv(\"my_csv.csv\",sep = ',')\n",
    "data.columns = ['tweet', 'class']"
   ]
  },
  {
   "cell_type": "code",
   "execution_count": 11,
   "metadata": {},
   "outputs": [],
   "source": [
    "list_tweets = []\n",
    "for i in range(len(data)):\n",
    "    list_tweets.append([clean_text(data['tweet'][i],punctuations,stop_words),data['class'][i]])\n",
    "    \n",
    "#TEST\n",
    "#print(\"NORMAL : \\n\")\n",
    "#print(data['tweet'][0])\n",
    "#print(\"\\nCLEAN : \\n\")\n",
    "#print(clean_text(data['tweet'][0],punctuations,stop_words))"
   ]
  },
  {
   "cell_type": "code",
   "execution_count": 12,
   "metadata": {},
   "outputs": [],
   "source": [
    "dataFrame = pd.DataFrame(list_tweets, columns = ['tweet','class'])"
   ]
  },
  {
   "cell_type": "code",
   "execution_count": 13,
   "metadata": {},
   "outputs": [],
   "source": [
    "dataFrame.to_csv(\"my_csv_clean.csv\", index=False, header=False)  #Création d'un nouveau csv avec les données nettoyées"
   ]
  }
 ],
 "metadata": {
  "kernelspec": {
   "display_name": "Python 3",
   "language": "python",
   "name": "python3"
  },
  "language_info": {
   "codemirror_mode": {
    "name": "ipython",
    "version": 3
   },
   "file_extension": ".py",
   "mimetype": "text/x-python",
   "name": "python",
   "nbconvert_exporter": "python",
   "pygments_lexer": "ipython3",
   "version": "3.8.3"
  }
 },
 "nbformat": 4,
 "nbformat_minor": 4
}
