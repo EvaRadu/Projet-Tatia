{
 "cells": [
  {
   "cell_type": "code",
   "execution_count": 44,
   "metadata": {},
   "outputs": [],
   "source": [
    "import pandas as pd\n",
    "import re\n",
    "import emoji\n",
    "import unidecode\n",
    "from nltk.stem.snowball import SnowballStemmer    "
   ]
  },
  {
   "cell_type": "code",
   "execution_count": 45,
   "metadata": {},
   "outputs": [],
   "source": [
    "def clean_text(string, punctuations, stop_words):\n",
    "\n",
    "    # Cleaning the .fr urls\n",
    "    string = re.sub(r'\\w*\\.fr','',string)\n",
    "    \n",
    "    # Cleaning the urls\n",
    "    string = re.sub(r'https?://\\S+|www\\.\\S+', '', string)\n",
    "\n",
    "    # Cleaning the html elements\n",
    "    string = re.sub(r'<.*?>', '', string)\n",
    "    \n",
    "    # Converting the text to lower\n",
    "    string = string.lower()\n",
    "    \n",
    "    # accented_string is of type 'unicode'\n",
    "    string = unidecode.unidecode(string)\n",
    "    \n",
    "    # Removing stop words\n",
    "    string = ' '.join([word for word in string.split() if word not in stop_words])\n",
    "    \n",
    "    frenchStemmer=SnowballStemmer(\"french\")\n",
    "    string = ' '.join([frenchStemmer.stem(word) for word in string.split()])\n",
    "    \n",
    "    # Cleaning the whitespaces\n",
    "    string = re.sub(r'\\s+', ' ', string).strip()\n",
    "    \n",
    "    #Enlever les apostrophes\n",
    "    for i in range(len(string.lower())): \n",
    "        x = string.lower()[i:i+2]\n",
    "        if x in apostrophes: \n",
    "            string = string.replace(x, \"\")  \n",
    "            \n",
    "    # Removing the punctuations\n",
    "    for x in string.lower(): \n",
    "        if x in punctuations: \n",
    "            string = string.replace(x, \"\")\n",
    "\n",
    "    return string \n",
    "\n",
    "apostrophes = [\"l'\",\"l’\",\"j'\", \"j’\", \"d’\",\"s’\",\"c’\",\"t’\",\"m’\",\"s'\", \"t'\",\"m'\", \"c'\",\"d'\",\"s'\", \"y'\", \"y’\", \"t'\", \"t’\"]\n",
    "list_emojies = [c for c in  emoji.UNICODE_EMOJI['fr']]\n",
    "punctuations = r'''!()-[]{};:'\"\\,<>./?$%^&*_~’#@“”‘’«»'''\n",
    "stop_words = ['un', 'une', 'la', 'le', 'les', 'des', 'et', \"au\", \"a\",\"son\",\"sa\",\"ses\",\"ce\"\n",
    "             \"te\",\"se\",\"que\",\"quel\",\"quelle\",\"en\",\"je\",\"tu\",\"ici\",\"jusqu'a\",\"etais\",\"etait\"\n",
    "              ,\"etaient\",\"etions\",\"est\",\"mon\",\"ma\",\"mes\",\"ton\",\"ta\",\"tes\",\"d'\"] + list_emojies + apostrophes +  [\"au\", \"aux\", \"avec\", \"ce\",\"ces\", \"dans\", \"de\", \"des\", \"du\", \"en\", \"et\", \"eux\", \"je\", \"la\",\"le\",\"leur\",\"lui\",\n",
    "\"ma\",\"mais\",\"me\", \"même\", \"mes\", \"moi\", \"mon\", \"nos\", \"notre\", \"nous\", \"on\", \"ou\", \"par\", \"pour\", \"qu\",\n",
    "\"que\",\"qui\", \"sa\", \"se\", \"ses\", \"son\", \"sur\", \"ta\", \"te\", \"tes\", \"toi\", \"ton\", \"tu\", \"un\", \"une\", \"vos\", \"votre\",  \n",
    "\"vous\", \"etee\", \"etees\", \"etant\", \"suis\", \"es\", \"sommes\", \"sont\", \"serai\", \"seras\", \"sera\", \"serons\", \"serez\",\n",
    "\"seront\", \"serais\", \"serait\", \"serions\", \"seriez\", \"seraient\", \"etais\", \"etait\", \"etions\", \"etiez\", \"etaient\", \"fus\",\n",
    "\"fut\", \"fumes\", \"futes\", \"furent\", \"sois\", \"soit\", \"soyons\", \"soyez\", \"soient\", \"fusse\", \"fusses\", \"fussions\", \"fussiez\",\n",
    "\"fussent\", \"ayant\", \"eu\", \"eue\", \"eues\", \"eus\", \"ai\", \"avons\", \"avez\", \"ont\", \"aurai\", \"aurons\", \"aurez\", \"auront\", \n",
    "\"aurais\", \"aurait\", \"aurions\", \"auriez\", \"auraient\", \"avais\", \"avait\", \"aviez\", \"avaient\", \"eut\", \"eumes\", \"eutes\",\n",
    "\"eurent\", \"aie\", \"aies\", \"ait\", \"ayons\", \"ayez\", \"aient\", \"eusse\", \"eusses\", \"eut\", \"eussions\", \"eussiez\", \"eussent\",\n",
    "\"ceci\", \"celà\", \"cet\", \"cette\", \"ici\", \"les\", \"leurs\", \"quel\", \"quels\", \"quelle\", \"quelles\", \"sans\", \"soi\"]      "
   ]
  },
  {
   "cell_type": "code",
   "execution_count": 46,
   "metadata": {},
   "outputs": [],
   "source": [
    "# Lecture de nos données\n",
    "data = pd.read_csv(\"my_csv.csv\",sep = ',')\n",
    "data.columns = ['tweet', 'class']"
   ]
  },
  {
   "cell_type": "code",
   "execution_count": 47,
   "metadata": {},
   "outputs": [],
   "source": [
    "list_tweets = []\n",
    "for i in range(len(data)):\n",
    "    list_tweets.append([clean_text(data['tweet'][i],punctuations,stop_words),data['class'][i]])\n",
    "    \n",
    "#TEST\n",
    "#print(\"NORMAL : \\n\")\n",
    "#print(data['tweet'][0])\n",
    "#print(\"\\nCLEAN : \\n\")\n",
    "#print(clean_text(data['tweet'][0],punctuations,stop_words))"
   ]
  },
  {
   "cell_type": "code",
   "execution_count": 48,
   "metadata": {},
   "outputs": [],
   "source": [
    "dataFrame = pd.DataFrame(list_tweets, columns = ['tweet','class'])"
   ]
  },
  {
   "cell_type": "code",
   "execution_count": 49,
   "metadata": {},
   "outputs": [],
   "source": [
    "dataFrame.to_csv(\"my_csv_clean.csv\", index=False, header=False)  #Création d'un nouveau csv avec les données nettoyées"
   ]
  }
 ],
 "metadata": {
  "kernelspec": {
   "display_name": "Python 3",
   "language": "python",
   "name": "python3"
  }
 },
 "nbformat": 4,
 "nbformat_minor": 4
}
