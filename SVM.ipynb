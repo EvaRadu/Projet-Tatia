{
 "cells": [
  {
   "cell_type": "code",
   "execution_count": 96,
   "metadata": {},
   "outputs": [],
   "source": [
    "import pandas as pd\n",
    "import numpy as np\n",
    "import csv\n",
    "from sklearn.utils import Bunch\n",
    "from sklearn.feature_extraction.text import CountVectorizer\n",
    "from sklearn.feature_extraction.text import TfidfTransformer\n",
    "from sklearn.naive_bayes import MultinomialNB\n",
    "from sklearn.pipeline import Pipeline\n",
    "from sklearn.linear_model import SGDClassifier\n",
    "from sklearn import metrics\n",
    "from sklearn.model_selection import train_test_split\n",
    "from sklearn.svm import SVC\n",
    "from sklearn.metrics import confusion_matrix\n",
    "from sklearn.ensemble import RandomForestClassifier\n",
    "from sklearn.metrics import accuracy_score"
   ]
  },
  {
   "cell_type": "code",
   "execution_count": 97,
   "metadata": {},
   "outputs": [],
   "source": [
    "categories = [\"not_sexist\", \"sexist\"]\n",
    "  #               2161           989"
   ]
  },
  {
   "cell_type": "code",
   "execution_count": 98,
   "metadata": {},
   "outputs": [],
   "source": [
    "data = pd.read_csv(\"my_csv_clean.csv\",sep = ',')\n",
    "data.columns = ['tweet', 'class']\n",
    "\n",
    "X = data['tweet']\n",
    "y = data['class']\n",
    "\n",
    "X_train, X_test, y_train , y_test = train_test_split(X , y ,test_size=0.3)"
   ]
  },
  {
   "cell_type": "markdown",
   "metadata": {},
   "source": [
    "### SVM"
   ]
  },
  {
   "cell_type": "code",
   "execution_count": 99,
   "metadata": {},
   "outputs": [
    {
     "name": "stdout",
     "output_type": "stream",
     "text": [
      "\n",
      "Matrice de confusion :  \n",
      " [[595  47]\n",
      " [200 103]]\n",
      "Accuracy :  0.7386243386243386 \n",
      "\n",
      "              precision    recall  f1-score   support\n",
      "\n",
      "  not_sexist       0.75      0.93      0.83       642\n",
      "      sexist       0.69      0.34      0.45       303\n",
      "\n",
      "    accuracy                           0.74       945\n",
      "   macro avg       0.72      0.63      0.64       945\n",
      "weighted avg       0.73      0.74      0.71       945\n",
      "\n"
     ]
    }
   ],
   "source": [
    "model = Pipeline([\n",
    "...     ('vect', CountVectorizer()),\n",
    "...     ('tfidf', TfidfTransformer()),\n",
    "...     ('clf', SGDClassifier(loss='hinge', penalty='l2',\n",
    "...                           alpha=1e-3, random_state=42,\n",
    "...                           max_iter=5, tol=None)),\n",
    "... ])\n",
    "\n",
    "model.fit(X_train, y_train)\n",
    "predicted = model.predict(X_test)\n",
    "print(\"\\nMatrice de confusion :  \\n\" , metrics.confusion_matrix(y_test, predicted))\n",
    "\n",
    "print(\"Accuracy : \", np.mean(predicted == y_test), \"\\n\")\n",
    "\n",
    "print(metrics.classification_report(y_test, predicted,\n",
    "...     target_names=categories))\n"
   ]
  },
  {
   "cell_type": "markdown",
   "metadata": {},
   "source": [
    "### TEST DE PARAMETRES DIFFERENTS "
   ]
  },
  {
   "cell_type": "code",
   "execution_count": 100,
   "metadata": {},
   "outputs": [
    {
     "name": "stdout",
     "output_type": "stream",
     "text": [
      "                                                  tweet  class\n",
      "0     suis femme materialiste superficielle qui ne j...      0\n",
      "1     mise ligne de article sur payetashnek pour dee...      0\n",
      "2     achat du jour  tres bon livre payetashnek  sin...      0\n",
      "3     hommage journeedelafemme toute vie elle vendu ...      0\n",
      "4     lustre bois flotte feuilles exotiques bleues a...      0\n",
      "...                                                 ...    ...\n",
      "3143  segoleneroyal participe activement declin de f...      1\n",
      "3144  depuis affaire dsk feministes ne veulent etre ...      1\n",
      "3145  analogie est comme dire femme vous etes bien b...      1\n",
      "3146  si as bite place du coeur etonne pas avoir put...      1\n",
      "3147  admirfdlrc cardosolisa nadinemorano bout un mo...      1\n",
      "\n",
      "[3148 rows x 2 columns]\n"
     ]
    }
   ],
   "source": [
    "# Creating the Bag of Words model\n",
    "print(data)\n",
    "cv = CountVectorizer(max_features = 1500)\n",
    "X = cv.fit_transform(data['tweet'])\n",
    "y = data['class']\n",
    "\n",
    "# Splitting the dataset into the Training set and Test set\n",
    "X_train, X_test, y_train, y_test = train_test_split(X, y, test_size = 0.20, random_state = 0)\n"
   ]
  },
  {
   "cell_type": "code",
   "execution_count": 101,
   "metadata": {},
   "outputs": [
    {
     "name": "stdout",
     "output_type": "stream",
     "text": [
      "Matrice de confusion : \n",
      "[[413  24]\n",
      " [115  78]]\n",
      "\n",
      "Accuracy :  0.7793650793650794\n",
      "\n",
      "              precision    recall  f1-score   support\n",
      "\n",
      "  not_sexist       0.78      0.95      0.86       437\n",
      "      sexist       0.76      0.40      0.53       193\n",
      "\n",
      "    accuracy                           0.78       630\n",
      "   macro avg       0.77      0.67      0.69       630\n",
      "weighted avg       0.78      0.78      0.76       630\n",
      "\n"
     ]
    }
   ],
   "source": [
    "#Support Vector : rbf\n",
    "SVC_classifier = SVC(kernel = 'rbf')\n",
    "SVC_classifier.fit(X_train, y_train)\n",
    "y_pred_SVC = SVC_classifier.predict(X_test)\n",
    "cm_SVC = confusion_matrix(y_test, y_pred_SVC)\n",
    "\n",
    "print(\"Matrice de confusion : \")\n",
    "print(cm_SVC)\n",
    "print()\n",
    "print(\"Accuracy : \", accuracy_score(y_test, y_pred_SVC))\n",
    "print()\n",
    "print(metrics.classification_report(y_test, y_pred_SVC,target_names=categories))"
   ]
  },
  {
   "cell_type": "code",
   "execution_count": 102,
   "metadata": {},
   "outputs": [
    {
     "name": "stdout",
     "output_type": "stream",
     "text": [
      "Matrice de confusion : \n",
      "[[374  63]\n",
      " [105  88]]\n",
      "\n",
      "Accuracy :  0.7333333333333333\n",
      "\n",
      "              precision    recall  f1-score   support\n",
      "\n",
      "  not_sexist       0.78      0.86      0.82       437\n",
      "      sexist       0.58      0.46      0.51       193\n",
      "\n",
      "    accuracy                           0.73       630\n",
      "   macro avg       0.68      0.66      0.66       630\n",
      "weighted avg       0.72      0.73      0.72       630\n",
      "\n"
     ]
    }
   ],
   "source": [
    "#Support Vector : sigmoid\n",
    "SVC_classifier = SVC(kernel = 'sigmoid')\n",
    "SVC_classifier.fit(X_train, y_train)\n",
    "y_pred_SVC = SVC_classifier.predict(X_test)\n",
    "cm_SVC = confusion_matrix(y_test, y_pred_SVC)\n",
    "\n",
    "print(\"Matrice de confusion : \")\n",
    "print(cm_SVC)\n",
    "print()\n",
    "print(\"Accuracy : \", accuracy_score(y_test, y_pred_SVC))\n",
    "print()\n",
    "print(metrics.classification_report(y_test, y_pred_SVC,target_names=categories))"
   ]
  },
  {
   "cell_type": "code",
   "execution_count": 103,
   "metadata": {},
   "outputs": [
    {
     "name": "stdout",
     "output_type": "stream",
     "text": [
      "Matrice de confusion : \n",
      "[[415  22]\n",
      " [137  56]]\n",
      "\n",
      "Accuracy :  0.7476190476190476\n",
      "\n",
      "              precision    recall  f1-score   support\n",
      "\n",
      "  not_sexist       0.75      0.95      0.84       437\n",
      "      sexist       0.72      0.29      0.41       193\n",
      "\n",
      "    accuracy                           0.75       630\n",
      "   macro avg       0.73      0.62      0.63       630\n",
      "weighted avg       0.74      0.75      0.71       630\n",
      "\n"
     ]
    }
   ],
   "source": [
    "#Support Vector : poly\n",
    "SVC_classifier = SVC(kernel = 'poly', degree = 2)\n",
    "SVC_classifier.fit(X_train, y_train)\n",
    "y_pred_SVC = SVC_classifier.predict(X_test)\n",
    "cm_SVC = confusion_matrix(y_test, y_pred_SVC)\n",
    "\n",
    "print(\"Matrice de confusion : \")\n",
    "print(cm_SVC)\n",
    "print()\n",
    "print(\"Accuracy : \", accuracy_score(y_test, y_pred_SVC))\n",
    "print()\n",
    "print(metrics.classification_report(y_test, y_pred_SVC,target_names=categories))"
   ]
  },
  {
   "cell_type": "code",
   "execution_count": 104,
   "metadata": {},
   "outputs": [
    {
     "name": "stdout",
     "output_type": "stream",
     "text": [
      "Matrice de confusion : \n",
      "[[364  73]\n",
      " [ 81 112]]\n",
      "\n",
      "Accuracy :  0.7555555555555555\n",
      "\n",
      "              precision    recall  f1-score   support\n",
      "\n",
      "  not_sexist       0.82      0.83      0.83       437\n",
      "      sexist       0.61      0.58      0.59       193\n",
      "\n",
      "    accuracy                           0.76       630\n",
      "   macro avg       0.71      0.71      0.71       630\n",
      "weighted avg       0.75      0.76      0.75       630\n",
      "\n"
     ]
    }
   ],
   "source": [
    "#Support Vector : linear\n",
    "SVC_classifier = SVC(kernel = 'linear')\n",
    "SVC_classifier.fit(X_train, y_train)\n",
    "y_pred_SVC = SVC_classifier.predict(X_test)\n",
    "cm_SVC = confusion_matrix(y_test, y_pred_SVC)\n",
    "\n",
    "print(\"Matrice de confusion : \")\n",
    "print(cm_SVC)\n",
    "print()\n",
    "print(\"Accuracy : \", accuracy_score(y_test, y_pred_SVC))\n",
    "print()\n",
    "print(metrics.classification_report(y_test, y_pred_SVC,target_names=categories))"
   ]
  },
  {
   "cell_type": "code",
   "execution_count": 105,
   "metadata": {},
   "outputs": [
    {
     "name": "stdout",
     "output_type": "stream",
     "text": [
      "Matrice de confusion : \n",
      "[[403  34]\n",
      " [114  79]]\n",
      "\n",
      "Accuracy :  0.765079365079365\n",
      "\n",
      "              precision    recall  f1-score   support\n",
      "\n",
      "  not_sexist       0.78      0.92      0.84       437\n",
      "      sexist       0.70      0.41      0.52       193\n",
      "\n",
      "    accuracy                           0.77       630\n",
      "   macro avg       0.74      0.67      0.68       630\n",
      "weighted avg       0.75      0.77      0.74       630\n",
      "\n"
     ]
    }
   ],
   "source": [
    "# Random Forest\n",
    "rf_classifier = RandomForestClassifier(n_estimators = 10, criterion = 'entropy', random_state = 0)\n",
    "rf_classifier.fit(X_train, y_train)\n",
    "y_pred_rf = rf_classifier.predict(X_test)\n",
    "cm_RandFor = confusion_matrix(y_test, y_pred_rf)\n",
    "print(\"Matrice de confusion : \")\n",
    "print(cm_RandFor)\n",
    "print()\n",
    "print(\"Accuracy : \", accuracy_score(y_test, y_pred_rf))\n",
    "print()\n",
    "print(metrics.classification_report(y_test, y_pred_rf,target_names=categories))"
   ]
  }
 ],
 "metadata": {
  "kernelspec": {
   "display_name": "Python 3",
   "language": "python",
   "name": "python3"
  },
  "language_info": {
   "codemirror_mode": {
    "name": "ipython",
    "version": 3
   },
   "file_extension": ".py",
   "mimetype": "text/x-python",
   "name": "python",
   "nbconvert_exporter": "python",
   "pygments_lexer": "ipython3",
   "version": "3.8.3"
  }
 },
 "nbformat": 4,
 "nbformat_minor": 4
}
