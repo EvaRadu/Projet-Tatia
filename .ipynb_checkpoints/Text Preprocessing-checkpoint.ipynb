{
 "cells": [
  {
   "cell_type": "code",
   "execution_count": 32,
   "metadata": {},
   "outputs": [],
   "source": [
    "import pandas as pd\n",
    "import re"
   ]
  },
  {
   "cell_type": "code",
   "execution_count": 33,
   "metadata": {},
   "outputs": [
    {
     "name": "stdout",
     "output_type": "stream",
     "text": [
      "test\n"
     ]
    }
   ],
   "source": [
    "def clean_text(string, punctuations, stop_words):\n",
    "    \"\"\"\n",
    "    A method to clean text \n",
    "    \"\"\"\n",
    "    # Cleaning the .fr urls\n",
    "    string = re.sub(r'\\w*\\.fr','',string)\n",
    "    \n",
    "    # Cleaning the urls\n",
    "    string = re.sub(r'https?://\\S+|www\\.\\S+', '', string)\n",
    "    \n",
    "\n",
    "    # Cleaning the html elements\n",
    "    string = re.sub(r'<.*?>', '', string)\n",
    "\n",
    "    # Removing the punctuations\n",
    "    for x in string.lower(): \n",
    "        if x in punctuations: \n",
    "            string = string.replace(x, \"\") \n",
    "\n",
    "    # Converting the text to lower\n",
    "    string = string.lower()\n",
    "\n",
    "    # Removing stop words\n",
    "    string = ' '.join([word for word in string.split() if word not in stop_words])\n",
    "\n",
    "    # Cleaning the whitespaces\n",
    "    string = re.sub(r'\\s+', ' ', string).strip()\n",
    "\n",
    "    return string \n",
    "\n",
    "\n",
    "punctuations = r'''!()-[]{};:'\"\\,<>./?#$%^&*_~'''\n",
    "stop_words = ['un', 'une', 'la', 'le', 'les', 'des', 'et',\"l'\",\"a\", \"à\", \"là\",\"d'\",\"s'\",\"son\",\"sa\",\"ses\",\"c'\",\"ce\"]\n",
    "print(clean_text(\"test ladepeche.fr\",punctuations,stop_words))"
   ]
  },
  {
   "cell_type": "code",
   "execution_count": 40,
   "metadata": {},
   "outputs": [
    {
     "name": "stdout",
     "output_type": "stream",
     "text": [
      "BLOGUE - «Tsé, la parité homme-femme...» au sein de Vision Saint-Jérôme http://t.co/26ziyrXSYx #femmes #politique #ironie\n"
     ]
    }
   ],
   "source": [
    "data = pd.read_csv(\"my_csv.csv\",sep = ',')\n",
    "data.columns = ['tweet', 'class']"
   ]
  },
  {
   "cell_type": "code",
   "execution_count": 41,
   "metadata": {},
   "outputs": [
    {
     "name": "stdout",
     "output_type": "stream",
     "text": [
      "BLOGUE - «Tsé, la parité homme-femme...» au sein de Vision Saint-Jérôme http://t.co/26ziyrXSYx #femmes #politique #ironie\n"
     ]
    }
   ],
   "source": [
    "for i in range (len(data['tweet'])):\n",
    "    data['tweet'][i] = clean_text(data['tweet'][i],punctuations,stop_words)\n",
    "    "
   ]
  },
  {
   "cell_type": "code",
   "execution_count": null,
   "metadata": {},
   "outputs": [],
   "source": [
    "list_tweets = []\n",
    "for i in range(len(data)):\n",
    "    list_tweets.append([data['tweet'][i],data['class'][i]])"
   ]
  }
 ],
 "metadata": {
  "kernelspec": {
   "display_name": "Python 3",
   "language": "python",
   "name": "python3"
  },
  "language_info": {
   "codemirror_mode": {
    "name": "ipython",
    "version": 3
   },
   "file_extension": ".py",
   "mimetype": "text/x-python",
   "name": "python",
   "nbconvert_exporter": "python",
   "pygments_lexer": "ipython3",
   "version": "3.8.3"
  }
 },
 "nbformat": 4,
 "nbformat_minor": 4
}
