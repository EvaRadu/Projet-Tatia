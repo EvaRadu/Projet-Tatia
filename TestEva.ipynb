{
 "cells": [
  {
   "cell_type": "markdown",
   "metadata": {},
   "source": [
    "### TUTORIAL"
   ]
  },
  {
   "cell_type": "code",
   "execution_count": 1,
   "metadata": {},
   "outputs": [],
   "source": [
    "import pandas as pd\n",
    "import numpy as np\n",
    "import csv\n",
    "from sklearn.utils import Bunch\n",
    "from sklearn.feature_extraction.text import CountVectorizer\n",
    "from sklearn.feature_extraction.text import TfidfTransformer\n",
    "from sklearn.naive_bayes import MultinomialNB\n",
    "from sklearn.pipeline import Pipeline\n",
    "from sklearn.linear_model import SGDClassifier\n",
    "from sklearn import metrics\n",
    "from sklearn.model_selection import GridSearchCV\n",
    "from sklearn.model_selection import train_test_split\n",
    "\n",
    "\n",
    "from imblearn.over_sampling import RandomOverSampler\n",
    "from imblearn.under_sampling import RandomUnderSampler\n",
    "from collections import Counter\n",
    "\n",
    "from gensim.models import Word2Vec\n",
    "import nltk\n",
    "from gensim.models import KeyedVectors\n",
    "\n",
    "from nltk.cluster import KMeansClusterer\n",
    "from nltk.tokenize import word_tokenize\n",
    "#nltk.download('punkt')\n",
    "import numpy as np \n",
    "\n",
    "from sklearn import cluster\n",
    "from sklearn import metrics\n",
    "\n",
    "from tensorflow.keras.preprocessing.text import one_hot\n",
    "from gensim.models.doc2vec import Doc2Vec, TaggedDocument\n"
   ]
  },
  {
   "cell_type": "code",
   "execution_count": 2,
   "metadata": {},
   "outputs": [],
   "source": [
    "categories = [\"not_sexist\", \"sexist\"]\n",
    "#               2161           989"
   ]
  },
  {
   "cell_type": "code",
   "execution_count": 3,
   "metadata": {},
   "outputs": [],
   "source": [
    "data = pd.read_csv(\"my_csv.csv\",sep = ',')\n",
    "data.columns = ['tweet', 'class']\n",
    "\n",
    "X = data['tweet']\n",
    "y = data['class']\n",
    "\n",
    "X_train, X_test, y_train , y_test = train_test_split(X , y ,test_size=0.3)"
   ]
  },
  {
   "cell_type": "markdown",
   "metadata": {},
   "source": [
    "### Tokenizing text with scikit-learn"
   ]
  },
  {
   "cell_type": "code",
   "execution_count": 4,
   "metadata": {},
   "outputs": [
    {
     "data": {
      "text/plain": [
       "(2204, 11250)"
      ]
     },
     "execution_count": 4,
     "metadata": {},
     "output_type": "execute_result"
    }
   ],
   "source": [
    "count_vect = CountVectorizer()\n",
    "X_train_counts = count_vect.fit_transform(X_train)\n",
    "X_train_counts.shape"
   ]
  },
  {
   "cell_type": "code",
   "execution_count": 5,
   "metadata": {},
   "outputs": [
    {
     "data": {
      "text/plain": [
       "4010"
      ]
     },
     "execution_count": 5,
     "metadata": {},
     "output_type": "execute_result"
    }
   ],
   "source": [
    "count_vect.vocabulary_.get(u'femme')"
   ]
  },
  {
   "cell_type": "markdown",
   "metadata": {},
   "source": [
    "### From occurrences to frequencies"
   ]
  },
  {
   "cell_type": "code",
   "execution_count": 6,
   "metadata": {},
   "outputs": [
    {
     "data": {
      "text/plain": [
       "(2204, 11250)"
      ]
     },
     "execution_count": 6,
     "metadata": {},
     "output_type": "execute_result"
    }
   ],
   "source": [
    "tfidf_transformer = TfidfTransformer()\n",
    "X_train_tfidf = tfidf_transformer.fit_transform(X_train_counts)\n",
    "X_train_tfidf.shape"
   ]
  },
  {
   "cell_type": "markdown",
   "metadata": {},
   "source": [
    "### Training a classifier"
   ]
  },
  {
   "cell_type": "code",
   "execution_count": 7,
   "metadata": {},
   "outputs": [],
   "source": [
    "clf = MultinomialNB().fit(X_train_tfidf, y_train)"
   ]
  },
  {
   "cell_type": "code",
   "execution_count": 8,
   "metadata": {},
   "outputs": [
    {
     "name": "stdout",
     "output_type": "stream",
     "text": [
      "\"Les hommes c'est tous les mêmes\" => not_sexist\n",
      "'Il est étudiant.' => not_sexist\n"
     ]
    }
   ],
   "source": [
    "docs_new = [\"Les hommes c'est tous les mêmes\", 'Il est étudiant.'] #marche pas du tout\n",
    "X_new_counts = count_vect.transform(docs_new)\n",
    "X_new_tfidf = tfidf_transformer.transform(X_new_counts)\n",
    "\n",
    "predicted = clf.predict(X_new_tfidf)\n",
    "\n",
    "for doc, category in zip(docs_new, predicted):\n",
    "     print('%r => %s' % (doc, categories[category]))"
   ]
  },
  {
   "cell_type": "markdown",
   "metadata": {},
   "source": [
    "### Building a pipeline"
   ]
  },
  {
   "cell_type": "code",
   "execution_count": 9,
   "metadata": {},
   "outputs": [
    {
     "data": {
      "text/plain": [
       "Pipeline(steps=[('vect', CountVectorizer()), ('tfidf', TfidfTransformer()),\n",
       "                ('clf', MultinomialNB())])"
      ]
     },
     "execution_count": 9,
     "metadata": {},
     "output_type": "execute_result"
    }
   ],
   "source": [
    "text_clf = Pipeline([\n",
    "...     ('vect', CountVectorizer()),\n",
    "...     ('tfidf', TfidfTransformer()),\n",
    "...     ('clf', MultinomialNB()),\n",
    "... ])\n",
    "text_clf.fit(X_train, y_train)"
   ]
  },
  {
   "cell_type": "markdown",
   "metadata": {},
   "source": [
    "### Evaluation of the performance on the test set"
   ]
  },
  {
   "cell_type": "code",
   "execution_count": 10,
   "metadata": {},
   "outputs": [
    {
     "data": {
      "text/plain": [
       "0.7142857142857143"
      ]
     },
     "execution_count": 10,
     "metadata": {},
     "output_type": "execute_result"
    }
   ],
   "source": [
    "docs_test = X_test\n",
    "predicted = text_clf.predict(docs_test)\n",
    "np.mean(predicted == y_test)"
   ]
  },
  {
   "cell_type": "markdown",
   "metadata": {},
   "source": [
    "### SVM"
   ]
  },
  {
   "cell_type": "code",
   "execution_count": 11,
   "metadata": {},
   "outputs": [
    {
     "data": {
      "text/plain": [
       "0.7682539682539683"
      ]
     },
     "execution_count": 11,
     "metadata": {},
     "output_type": "execute_result"
    }
   ],
   "source": [
    "text_clf = Pipeline([\n",
    "...     ('vect', CountVectorizer()),\n",
    "...     ('tfidf', TfidfTransformer()),\n",
    "...     ('clf', SGDClassifier(loss='hinge', penalty='l2',\n",
    "...                           alpha=1e-3, random_state=42,\n",
    "...                           max_iter=5, tol=None)),\n",
    "... ])\n",
    "text_clf.fit(X_train, y_train)\n",
    "predicted = text_clf.predict(docs_test)\n",
    "np.mean(predicted == y_test)"
   ]
  },
  {
   "cell_type": "code",
   "execution_count": 12,
   "metadata": {},
   "outputs": [
    {
     "name": "stdout",
     "output_type": "stream",
     "text": [
      "              precision    recall  f1-score   support\n",
      "\n",
      "  not_sexist       0.78      0.92      0.85       658\n",
      "      sexist       0.70      0.41      0.52       287\n",
      "\n",
      "    accuracy                           0.77       945\n",
      "   macro avg       0.74      0.67      0.68       945\n",
      "weighted avg       0.76      0.77      0.75       945\n",
      "\n"
     ]
    }
   ],
   "source": [
    "print(metrics.classification_report(y_test, predicted,\n",
    "...     target_names=categories))"
   ]
  },
  {
   "cell_type": "code",
   "execution_count": 13,
   "metadata": {},
   "outputs": [
    {
     "data": {
      "text/plain": [
       "array([[607,  51],\n",
       "       [168, 119]], dtype=int64)"
      ]
     },
     "execution_count": 13,
     "metadata": {},
     "output_type": "execute_result"
    }
   ],
   "source": [
    "metrics.confusion_matrix(y_test, predicted)"
   ]
  },
  {
   "cell_type": "markdown",
   "metadata": {},
   "source": [
    "### Parameter tuning using grid search"
   ]
  },
  {
   "cell_type": "code",
   "execution_count": 14,
   "metadata": {},
   "outputs": [],
   "source": [
    "parameters = {\n",
    "...     'vect__ngram_range': [(1, 1), (1, 2)],\n",
    "...     'tfidf__use_idf': (True, False),\n",
    "...     'clf__alpha': (1e-2, 1e-3),\n",
    "... }"
   ]
  },
  {
   "cell_type": "code",
   "execution_count": 15,
   "metadata": {},
   "outputs": [],
   "source": [
    "gs_clf = GridSearchCV(text_clf, parameters, cv=5, n_jobs=-1)"
   ]
  },
  {
   "cell_type": "code",
   "execution_count": 16,
   "metadata": {},
   "outputs": [],
   "source": [
    "gs_clf = gs_clf.fit(X_train[:100], y_train[:100])\n",
    "#ameliorer vecteur et algo et representation\n",
    "#-> plus de poids sur les mots sexistes"
   ]
  },
  {
   "cell_type": "code",
   "execution_count": 17,
   "metadata": {},
   "outputs": [
    {
     "name": "stdout",
     "output_type": "stream",
     "text": [
      "La femme  => sexist\n",
      "L'homme  => sexist\n",
      "La femme doit être dans la cuisine  => sexist\n"
     ]
    }
   ],
   "source": [
    "example_1 = 'La femme'\n",
    "example_2 = \"L'homme\"\n",
    "example_3 = \"La femme doit être dans la cuisine\"\n",
    "\n",
    "print(example_1 + \"  => \" + str(categories[gs_clf.predict([example_1])[0]]))\n",
    "print(example_2 + \"  => \" + str(categories[gs_clf.predict([example_2])[0]]))\n",
    "print(example_3 + \"  => \" + str(categories[gs_clf.predict([example_3])[0]]))"
   ]
  },
  {
   "cell_type": "code",
   "execution_count": 18,
   "metadata": {},
   "outputs": [
    {
     "data": {
      "text/plain": [
       "0.74"
      ]
     },
     "execution_count": 18,
     "metadata": {},
     "output_type": "execute_result"
    }
   ],
   "source": [
    "gs_clf.best_score_"
   ]
  },
  {
   "cell_type": "code",
   "execution_count": 19,
   "metadata": {},
   "outputs": [
    {
     "name": "stdout",
     "output_type": "stream",
     "text": [
      "clf__alpha: 0.01\n",
      "tfidf__use_idf: True\n",
      "vect__ngram_range: (1, 1)\n"
     ]
    }
   ],
   "source": [
    "for param_name in sorted(parameters.keys()):\n",
    "     print(\"%s: %r\" % (param_name, gs_clf.best_params_[param_name]))"
   ]
  },
  {
   "cell_type": "markdown",
   "metadata": {},
   "source": [
    "### Oversampling"
   ]
  },
  {
   "cell_type": "code",
   "execution_count": 20,
   "metadata": {},
   "outputs": [
    {
     "name": "stdout",
     "output_type": "stream",
     "text": [
      "Counter({0: 1502, 1: 1502})\n"
     ]
    }
   ],
   "source": [
    "# instantiating the random over sampler \n",
    "ros = RandomOverSampler()\n",
    "# resampling X, y\n",
    "X_ros, y_ros = ros.fit_resample(np.array(X_train).reshape(-1,1), y_train)# new class distribution \n",
    "print(Counter(y_ros))"
   ]
  },
  {
   "cell_type": "code",
   "execution_count": 21,
   "metadata": {},
   "outputs": [
    {
     "data": {
      "text/plain": [
       "(3004, 11250)"
      ]
     },
     "execution_count": 21,
     "metadata": {},
     "output_type": "execute_result"
    }
   ],
   "source": [
    "count_vect = CountVectorizer()\n",
    "X_train_counts = count_vect.fit_transform(X_ros.ravel())\n",
    "X_train_counts.shape"
   ]
  },
  {
   "cell_type": "code",
   "execution_count": 22,
   "metadata": {},
   "outputs": [
    {
     "data": {
      "text/plain": [
       "(3004, 11250)"
      ]
     },
     "execution_count": 22,
     "metadata": {},
     "output_type": "execute_result"
    }
   ],
   "source": [
    "tfidf_transformer = TfidfTransformer()\n",
    "X_train_tfidf = tfidf_transformer.fit_transform(X_train_counts)\n",
    "X_train_tfidf.shape"
   ]
  },
  {
   "cell_type": "code",
   "execution_count": 320,
   "metadata": {},
   "outputs": [
    {
     "name": "stdout",
     "output_type": "stream",
     "text": [
      "\"y'a que les femmes qui pleurent\" => sexist\n",
      "\"C'est un homme.\" => sexist\n",
      "Accuracy :  0.8776223776223776\n"
     ]
    },
    {
     "data": {
      "text/plain": [
       "array([[246,  40],\n",
       "       [ 30, 256]], dtype=int64)"
      ]
     },
     "execution_count": 320,
     "metadata": {},
     "output_type": "execute_result"
    }
   ],
   "source": [
    "clf = MultinomialNB().fit(X_train_tfidf, y_ros)\n",
    "docs_new = [\"y'a que les femmes qui pleurent\", \"C'est un homme.\"] \n",
    "X_new_counts = count_vect.transform(docs_new)\n",
    "X_new_tfidf = tfidf_transformer.transform(X_new_counts)\n",
    "\n",
    "predicted = clf.predict(X_new_tfidf)\n",
    "\n",
    "for doc, category in zip(docs_new, predicted):\n",
    "     print('%r => %s' % (doc, categories[category]))\n",
    "        \n",
    "text_clf = Pipeline([('vect', CountVectorizer()), ('tfidf', TfidfTransformer()), ('clf', MultinomialNB()),])\n",
    "text_clf.fit(X_ros.ravel(), y_ros)\n",
    "\n",
    "\n",
    "# resampling X, y\n",
    "X_ros_test, y_ros_test = ros.fit_resample(np.array(X_test).reshape(-1,1), y_test)# new class distribution \n",
    "docs_test = X_ros_test.ravel()\n",
    "predicted = text_clf.predict(docs_test)\n",
    "np.mean(predicted == y_ros_test)\n",
    "print(\"Accuracy : \", np.mean(predicted == y_ros_test))\n",
    "metrics.confusion_matrix(y_ros_test, predicted)"
   ]
  },
  {
   "cell_type": "markdown",
   "metadata": {},
   "source": [
    "### Undersampling"
   ]
  },
  {
   "cell_type": "code",
   "execution_count": 24,
   "metadata": {},
   "outputs": [
    {
     "name": "stdout",
     "output_type": "stream",
     "text": [
      "Counter({0: 702, 1: 702})\n"
     ]
    }
   ],
   "source": [
    "# instantiating the random over sampler \n",
    "ros = RandomUnderSampler()\n",
    "# resampling X, y\n",
    "X_ros, y_ros = ros.fit_resample(np.array(X_train).reshape(-1,1), y_train)# new class distribution \n",
    "print(Counter(y_ros))"
   ]
  },
  {
   "cell_type": "code",
   "execution_count": 25,
   "metadata": {},
   "outputs": [
    {
     "data": {
      "text/plain": [
       "(1404, 8193)"
      ]
     },
     "execution_count": 25,
     "metadata": {},
     "output_type": "execute_result"
    }
   ],
   "source": [
    "count_vect = CountVectorizer()\n",
    "X_train_counts = count_vect.fit_transform(X_ros.ravel())\n",
    "X_train_counts.shape"
   ]
  },
  {
   "cell_type": "code",
   "execution_count": 26,
   "metadata": {},
   "outputs": [
    {
     "data": {
      "text/plain": [
       "(1404, 8193)"
      ]
     },
     "execution_count": 26,
     "metadata": {},
     "output_type": "execute_result"
    }
   ],
   "source": [
    "tfidf_transformer = TfidfTransformer()\n",
    "X_train_tfidf = tfidf_transformer.fit_transform(X_train_counts)\n",
    "X_train_tfidf.shape"
   ]
  },
  {
   "cell_type": "code",
   "execution_count": 27,
   "metadata": {},
   "outputs": [
    {
     "name": "stdout",
     "output_type": "stream",
     "text": [
      "\"y'a que les femmes qui pleurent\" => sexist\n",
      "\"C'est un homme.\" => sexist\n",
      "Accuracy :  0.7369337979094077\n"
     ]
    },
    {
     "data": {
      "text/plain": [
       "array([[168, 119],\n",
       "       [ 32, 255]], dtype=int64)"
      ]
     },
     "execution_count": 27,
     "metadata": {},
     "output_type": "execute_result"
    }
   ],
   "source": [
    "clf = MultinomialNB().fit(X_train_tfidf, y_ros)\n",
    "docs_new = [\"y'a que les femmes qui pleurent\", \"C'est un homme.\"] \n",
    "X_new_counts = count_vect.transform(docs_new)\n",
    "X_new_tfidf = tfidf_transformer.transform(X_new_counts)\n",
    "\n",
    "predicted = clf.predict(X_new_tfidf)\n",
    "\n",
    "for doc, category in zip(docs_new, predicted):\n",
    "     print('%r => %s' % (doc, categories[category]))\n",
    "        \n",
    "text_clf = Pipeline([('vect', CountVectorizer()), ('tfidf', TfidfTransformer()), ('clf', MultinomialNB()),])\n",
    "text_clf.fit(X_ros.ravel(), y_ros)\n",
    "\n",
    "\n",
    "# resampling X, y\n",
    "X_ros_test, y_ros_test = ros.fit_resample(np.array(X_test).reshape(-1,1), y_test)# new class distribution \n",
    "docs_test = X_ros_test.ravel()\n",
    "predicted = text_clf.predict(docs_test)\n",
    "print(\"Accuracy : \", np.mean(predicted == y_ros_test))\n",
    "metrics.confusion_matrix(y_ros_test, predicted)\n"
   ]
  },
  {
   "cell_type": "markdown",
   "metadata": {},
   "source": [
    "### Oversampling and Undersampling"
   ]
  },
  {
   "cell_type": "code",
   "execution_count": 28,
   "metadata": {},
   "outputs": [],
   "source": [
    "over = RandomOverSampler(sampling_strategy=0.5)\n",
    "under = RandomUnderSampler(sampling_strategy=0.8)"
   ]
  },
  {
   "cell_type": "code",
   "execution_count": 29,
   "metadata": {},
   "outputs": [
    {
     "name": "stdout",
     "output_type": "stream",
     "text": [
      "Oversampled: Counter({0: 1502, 1: 751})\n"
     ]
    }
   ],
   "source": [
    "X_over, y_over = over.fit_resample(np.array(X_train).reshape(-1,1), y_train)\n",
    "print(f\"Oversampled: {Counter(y_over)}\")"
   ]
  },
  {
   "cell_type": "code",
   "execution_count": 30,
   "metadata": {},
   "outputs": [
    {
     "name": "stdout",
     "output_type": "stream",
     "text": [
      "Combined Random Sampling: Counter({0: 938, 1: 751})\n"
     ]
    }
   ],
   "source": [
    "# now to comine under sampling \n",
    "X_ros, y_ros = under.fit_resample(X_over, y_over)\n",
    "print(f\"Combined Random Sampling: {Counter(y_ros)}\")"
   ]
  },
  {
   "cell_type": "code",
   "execution_count": 31,
   "metadata": {},
   "outputs": [
    {
     "data": {
      "text/plain": [
       "(1689, 9119)"
      ]
     },
     "execution_count": 31,
     "metadata": {},
     "output_type": "execute_result"
    }
   ],
   "source": [
    "count_vect = CountVectorizer()\n",
    "X_train_counts = count_vect.fit_transform(X_ros.ravel())\n",
    "X_train_counts.shape"
   ]
  },
  {
   "cell_type": "code",
   "execution_count": 32,
   "metadata": {},
   "outputs": [
    {
     "data": {
      "text/plain": [
       "(1689, 9119)"
      ]
     },
     "execution_count": 32,
     "metadata": {},
     "output_type": "execute_result"
    }
   ],
   "source": [
    "tfidf_transformer = TfidfTransformer()\n",
    "X_train_tfidf = tfidf_transformer.fit_transform(X_train_counts)\n",
    "X_train_tfidf.shape"
   ]
  },
  {
   "cell_type": "code",
   "execution_count": 33,
   "metadata": {},
   "outputs": [
    {
     "name": "stdout",
     "output_type": "stream",
     "text": [
      "\"y'a que les femmes qui pleurent\" => sexist\n",
      "\"C'est un homme.\" => sexist\n",
      "Accuracy :  0.7665505226480837\n"
     ]
    },
    {
     "data": {
      "text/plain": [
       "array([[234,  53],\n",
       "       [ 81, 206]], dtype=int64)"
      ]
     },
     "execution_count": 33,
     "metadata": {},
     "output_type": "execute_result"
    }
   ],
   "source": [
    "clf = MultinomialNB().fit(X_train_tfidf, y_ros)\n",
    "docs_new = [\"y'a que les femmes qui pleurent\", \"C'est un homme.\"]\n",
    "X_new_counts = count_vect.transform(docs_new)\n",
    "X_new_tfidf = tfidf_transformer.transform(X_new_counts)\n",
    "\n",
    "predicted = clf.predict(X_new_tfidf)\n",
    "\n",
    "for doc, category in zip(docs_new, predicted):\n",
    "     print('%r => %s' % (doc, categories[category]))\n",
    "        \n",
    "text_clf = Pipeline([('vect', CountVectorizer()), ('tfidf', TfidfTransformer()), ('clf', MultinomialNB()),])\n",
    "text_clf.fit(X_ros.ravel(), y_ros)\n",
    "\n",
    "\n",
    "# resampling X, y\n",
    "X_ros_test, y_ros_test = ros.fit_resample(np.array(X_test).reshape(-1,1), y_test)# new class distribution \n",
    "docs_test = X_ros_test.ravel()\n",
    "predicted = text_clf.predict(docs_test)\n",
    "print(\"Accuracy : \", np.mean(predicted == y_ros_test))\n",
    "metrics.confusion_matrix(y_ros_test, predicted)\n"
   ]
  },
  {
   "cell_type": "markdown",
   "metadata": {},
   "source": [
    "### Word Embedding using Doc2Vec"
   ]
  },
  {
   "cell_type": "markdown",
   "metadata": {},
   "source": [
    "###### 1st Step : Getting cleaned data"
   ]
  },
  {
   "cell_type": "code",
   "execution_count": 215,
   "metadata": {},
   "outputs": [],
   "source": [
    "#1st step = getting cleaned data \n",
    "data = pd.read_csv(\"my_csv_clean.csv\",sep = ',') #we got that csv after running the Text Preprocessing file\n",
    "data.columns = ['tweet', 'class']\n",
    "    \n",
    "\n",
    "X = data['tweet']\n",
    "y = data['class'] \n",
    "\n",
    "X_train, X_test, y_train , y_test = train_test_split(X , y ,test_size=0.3)"
   ]
  },
  {
   "cell_type": "markdown",
   "metadata": {},
   "source": [
    "###### 2nd step : Keeping a tokenized version of the sentences and the corresponding categories"
   ]
  },
  {
   "cell_type": "code",
   "execution_count": 274,
   "metadata": {},
   "outputs": [],
   "source": [
    "X_tokenized = []\n",
    "y_tokenized = []\n",
    "\n",
    "for sentence in X_train:\n",
    "    X_tokenized.append(word_tokenize(sentence))    \n",
    "    \n",
    "for cat in y_train:\n",
    "    y_tokenized.append(cat)"
   ]
  },
  {
   "cell_type": "markdown",
   "metadata": {},
   "source": [
    "###### 3rd step : Defining a cosine function to compute the similaity between two vectors"
   ]
  },
  {
   "cell_type": "code",
   "execution_count": 223,
   "metadata": {},
   "outputs": [],
   "source": [
    "def cosine(u, v):\n",
    "    return np.dot(u, v) / (np.linalg.norm(u) * np.linalg.norm(v))"
   ]
  },
  {
   "cell_type": "markdown",
   "metadata": {},
   "source": [
    "###### 4th step : Building a tagged sentence corpus"
   ]
  },
  {
   "cell_type": "code",
   "execution_count": 267,
   "metadata": {},
   "outputs": [
    {
     "data": {
      "text/plain": [
       "[TaggedDocument(words=['moiaussi', 'doc', 'mailloux', 'propose', 'maintenant', '«', 'balance', 'ton', 'porc', 'ta', 'truie', 'de', 'mère', '»'], tags=[0]),\n",
       " TaggedDocument(words=['@', 'photosdeheyce', 'femme', 'digne', 'de', 'nom', 'cest', 'beaucoup', 'trop', 'pour', 'nêtre', 'résumée', 'quà', 'de', 'cuisine', 'puis', 'homme', 'digne', 'dc', 'nom', 'aussi', 'doit', 'savoir', 'cuisiner'], tags=[1]),\n",
       " TaggedDocument(words=['journée', 'placée', 'sous', 'signe', 'de', 'légalité', 'femmeshommes', 'ensemblecontrelesexisme'], tags=[2]),\n",
       " TaggedDocument(words=['honnêtement', 'je', 'pense', 'que', 'sur', 'mon', 'front', 'y', '’', 'a', 'marquer', '«', 'prenez', 'moi', 'pour', 'conne', '»'], tags=[3]),\n",
       " TaggedDocument(words=['sijetaismalsaint', 'jmettrais', 'tir', 'de', 'zlatan', 'dans', 'ventre', 'femme', 'enceinte'], tags=[4]),\n",
       " TaggedDocument(words=['ensemblecontrelesexisme', 'présidente', 'de', 'sncfaufeminin', '@', 'acetojardin', 'souligne', 'que', '44', 'salariés', 'de', '@', 'groupesncf', 'ont', 'déjà', 'entendu', 'leurs', 'collègues', 'féminines', 'se', 'faire', 'appeler', 'par', 'petits', 'noms', 'cette', 'situation', 'est', 'inacceptable'], tags=[5]),\n",
       " TaggedDocument(words=['mon', 'père', 'qui', 'alors', 'que', 'je', 'viens', 'de', 'me', 'faire', 'attoucher', 'dans', 'notre', 'cage', 'descalier', 'ma', 'dit', 'tas', 'vu', 'ta', 'tenue', 'javais', '14', 'ansbalancetonporc'], tags=[6]),\n",
       " TaggedDocument(words=['je', 'suis', 'étonnée', 'de', 'démarche', 'élus', 'franciliens', 'qui', 'vont', 'dormir', 'avec', 'sansabris', 'rôle', 'élus', 'est', 'de', 'trouver', 'solutions', 'pour', 'que', 'plus', 'personne', 'ne', 'dorme', 'dehors', 'dénoncer', 'cette', 'situation', 'cest', 'bien', 'y', 'remédier', 'cest', 'mieux', '@', 'franceinfo', 'lesinformes'], tags=[7]),\n",
       " TaggedDocument(words=['ensemblecontrelesexisme', '@', 'catladousse', '@', 'louisarenoux', '@', 'isabelleblin', '@', 'hcefh', 'en', 'matière', 'de', 'sexisme', 'il', 'serait', 'temps', 'de', 'changer', 'de', 'film', 'nomorecliches', '2016'], tags=[8]),\n",
       " TaggedDocument(words=['gens', 'qui', 'commentent', 'jugent', 'encore', 'tenue', 'dune', 'femme', 'qui', 'passe', 'tv', 'en', '2018', 'en', 'loccurrence', '@', 'auroreberge', 'slt', 'faut', 'faire', 'quelque', 'chose', 'pour', 'vous', 'soigner', 'hein', 'vous', 'êtes', 'graves'], tags=[9]),\n",
       " TaggedDocument(words=['posezz', 'ennuie', 'ces', 'lhistoire', 'dune', 'femme', 'enceinte', 'jour', 'elle', 'va', 'au', 'magasin', 'se', 'fait', 'tir'], tags=[10]),\n",
       " TaggedDocument(words=['sans', 'surprise', 'angela', 'merkel', 'reste', 'femme', 'plus', 'puissante', 'du', 'monde', 'pour', '@', 'forbes', 'gtgt'], tags=[11]),\n",
       " TaggedDocument(words=['gngngngn', 'sexisme', 'gngn', 'je', 'suis', 'femme', 'je', 'me', 'sens', 'terriblement', 'concerné', 'par', 'lécriture', 'inclusive', 'ducoup', 'je', 'vais', 'rendre', 'mes', 'travaux', 'en', 'inclusif', 'gngngn', 'allez', 'tg'], tags=[12]),\n",
       " TaggedDocument(words=['trump', 'reçoit', 'angela', 'merkel', '«', 'une', 'femme', 'extraordinaire', '»', 'via', '@', 'lplapresse'], tags=[13]),\n",
       " TaggedDocument(words=['direct', 'déclaration', 'conjointe', 'd', '@', 'emmanuelmacron', 'de', '@', 'theresamay'], tags=[14]),\n",
       " TaggedDocument(words=['hommage', 'journeedelafemme', 'toute', 'vie', 'elle', 'vendu', 'fleurs', 'dans', 'rue', 'elle', 'été', 'pauvre', 'aussi', 'bien', 'quun', 'homme'], tags=[15]),\n",
       " TaggedDocument(words=['sur', 'discours', 'doprah', 'aux', 'goldenglobe', 'hier', '«', 'cétait', 'très', 'puissant', 'cétait', 'façon', 'de', 'dire', 'aux', 'hommes', 'que', 'cest', 'temps', 'que', 'ça', 'change', '»', '@', 'mlamont6', 'moiaussi', 'metoo'], tags=[16]),\n",
       " TaggedDocument(words=['te', 'fais', 'pas', 'de', 'bile', 'ma', 'belle', 'ton', 'boule', 'cest', 'dla', 'balle', 'payetashnek'], tags=[17]),\n",
       " TaggedDocument(words=['comment', 'christine', '@', 'lagarde', 'démine', 'condescendance', 'hommes', 'égard', 'metoo'], tags=[18]),\n",
       " TaggedDocument(words=['campagne', 'plus', 'ridicule', 'du', 'mondecest', 'vrai', 'que', 'stress', 'de', 'changer', 'couche', 'cest', 'vraiment', 'horrible', 'pamperspapa', 'sexiste'], tags=[19]),\n",
       " TaggedDocument(words=['je', 'propose', 'collecte', 'de', 'vêtement', 'pour', 'aider', 'enfant', 'perturbée', 'qui', 'n', '’', 'a', 'visiblement', 'pas', 'moyens', 'de', 's', '’', 'en', 'procurer', 'balancetonporc'], tags=[20]),\n",
       " TaggedDocument(words=['pour', 'christine', 'lagarde', 'l', '’', 'avenir', 'monétaire', 'est', 'au', 'bitcoin', 'ça', 'va', 'arriver', 'plus', 'vite', 'quon', 'ne', 'pense'], tags=[21]),\n",
       " TaggedDocument(words=['l', '’', 'homme', 'peut', 'faire', 'cuisine', 'nettoyer', 'aider', 'femme', 'mais', 'tâches', 'domestiques', 'sont', 'domaines', 'de', 'femme', 'en', 'particulier'], tags=[22]),\n",
       " TaggedDocument(words=['fil', 'de', 'presse', '@', 'sitesisyphetout', 'que', 'trump', 'fait', 'pour', 'ou', 'contre', 'femmes', 'mythe', 'de', 'virilité', 'pourquoi', '+', 'de', 'femmes', 'en', 'technologies', '25', 'janvier', '1ère', 'journée', 'contre', 'sexisme'], tags=[23]),\n",
       " TaggedDocument(words=['@', 'fakamionkamion', '@', 'potus', '@', 'emmanuelmacron', '@', 'justintrudeau', '@', 'queeneurope', 'sont', 'eux', 'qui', 'tuent', 'pour', 'deux', 'raisons', '1préserver', 'leurs', 'activités', 'industrielles', 'de', 'pillage', 'matières', 'stratégiques', 'de', 'rdcongo', '2explorer', 'terrains', 'contenants', 'd', '’', 'autres', 'minerais', 'qui', 'explique', 'tueries', 'massives', 'terreur', 'pour', 'obtenir', 'déplacement', 'peuples'], tags=[24]),\n",
       " TaggedDocument(words=['musique', 'soutien', 'aux', 'brigandes', 'contre', 'lextrême', 'droite', 'bobo', 'médiatique', 'subventionnée', 'qui', 'délire', 'contre', 'lenracinement', 'donc', 'lécologie', 'se', 'montre', 'réac', 'contre', 'jeunesse', 'créatrice', 'sexiste', 'en', 'prime'], tags=[25]),\n",
       " TaggedDocument(words=['si', 'yannick', 'buttet', 'respecte', 'valeurs', 'de', 'constitution', 'de', 'notre', 'pays', 'statut', 'dofficier', 'dans', 'larmée', 'suisse', 'qui', 'plus', 'est', 'dofficier', 'emg', 'il', 'doit', 'démissionner', 'du', 'parlement', 'fédéral', 'il', 'ny', 'pas', 'dautre', 'variante', 'pour', 'prise', 'de', 'décision', 'balancetonporc'], tags=[26]),\n",
       " TaggedDocument(words=['moi', 'si', 'jai', 'fille', 'je', 'lappelle', 'cindy', 'garçon', 'jason', 'ironie', 'prenomderiton'], tags=[27]),\n",
       " TaggedDocument(words=['«', 'le', 'mouvement', 'moiaussi', 'instaure', 'procès', 'populaires', 'purges', '»', 'est', '2017', 'que', '«', 'la', 'rue', 'ne', 'peut', 'pas', 'décider', 'place', 'urnes', '»', 'est', '2012'], tags=[28]),\n",
       " TaggedDocument(words=['balancetonporc', 'woodyallen', 'impunité', 'totale', 'cri', 'de', 'colère', 'de', 'fille', 'adoptive', 'de', 'woody', 'allen', 'envoyé', 'via', '@', 'updayfr'], tags=[29]),\n",
       " TaggedDocument(words=['angela', 'merkel', 'en', 'syrie', '«', 'lallemagne', 'ne', 'participera', 'aucune', 'action', 'militaire', '»', 'via', '@', 'lefigaro'], tags=[30]),\n",
       " TaggedDocument(words=['foot', 'femme', 'de', 'mamadou', 'sakho', 'majda', 'est', 'enceinte', 'de', 'leur', 'troisième', 'enfant', 'people'], tags=[31]),\n",
       " TaggedDocument(words=['toujours', 'plaisir', 'de', 'voir', 'comment', 'lidl', 'considère', 'répartition', 'tâches', 'ménagères', 'matin', 'encore', 'ça', 'envoit', 'du', 'cliché', 'du', 'sexisme', 'en', 'plus', 'ça', 'utilise', 'enfants'], tags=[32]),\n",
       " TaggedDocument(words=['infamie', 'migrants', 'alpes', 'cette', 'connasse', 'qui', 'était', 'hier', 'avec', 'amis', 'dans', 'alpes', 'sest', 'déjà', 'vue', 'interdite', 'de', 'territoire', 'pour', 'racisme', 'en', 'angleterre', 'dis', '@', 'twitter', 'comment', 'comptes', 'certifiés', 'peuvent', 'ils', 'relayer', 'cette', 'haine', '+', '@', 'brittpettibone'], tags=[33]),\n",
       " TaggedDocument(words=['enseignant', 'valaisan', 'licencié', 'pour', 'comportement', 'sexiste'], tags=[34]),\n",
       " TaggedDocument(words=['cet', 'été', 'je', 'me', 'suis', 'fait', 'mettre', 'main', 'aux', 'fesses', '2', 'foispar', 'même', 'individu', 'mineur', 'alors', 'que', 'je', 'faisais', 'mon', 'jogging', 'balancetonporc'], tags=[35]),\n",
       " TaggedDocument(words=['angela', 'merkel', 'nouveau', 'cap', 'sur', 'lafrique'], tags=[36]),\n",
       " TaggedDocument(words=['personnalité', '@', 'time', 'ces', 'femmes', 'qui', 'ont', 'dit', 'tout', 'haut', 'atrocités', 'vécues', 'durant', 'leur', 'vie', 'metoo', 'moiaussi', 'balancetonporc', 'personoftheyear2017'], tags=[37]),\n",
       " TaggedDocument(words=['angela', 'merkel', 'vient', 'de', 'féliciter', 'hongrois', 'viktor', 'orban', 'pour', 'victoire', 'sans', 'aucun', 'mot', 'pour', 'qualifier', 'campagne', 'électorale', 'xénophobe', 'du', 'premier', 'ministre', 'membre', 'de', 'même', 'famille', 'politique', 'qu', '’', 'elle'], tags=[38]),\n",
       " TaggedDocument(words=['@', 'yob79', 'tout', 'ça', 'pour', 'après', 'faire', 'frigides', 'sauter', 'sur', 'balancetonporc', 'dès', 'que', 'tu', 'leur', 'effleures', 'orteil', '😝'], tags=[39]),\n",
       " TaggedDocument(words=['moi', 'plus', 'tard', 'je', 'serais', 'femme', 'de', 'charly', 'comme', 'ça', 'jaurais', 'pleins', 'de', 'chocolaaaat', 'ironie'], tags=[40]),\n",
       " TaggedDocument(words=['mai', '68', 'si', 'tout', 'avait', 'commencé', 'avant…', 'madame', 'inter', 'féministe', 'v', '@', 'radiofanch'], tags=[41]),\n",
       " TaggedDocument(words=['créatrice', 'du', 'balancetonporc', 'attaquée', 'en', 'justice', 'pour', 'diffamation'], tags=[42]),\n",
       " TaggedDocument(words=['soir', 'avec', 'mouvement', '@', 'lsansculottes', 'retrouvez', 'léquipe', 'du', 'pôle', 'féminisme', 'de', 'lassociation', 'cactus', 'pour', 'débattre', 'autour', 'de', 'balancetonporc', '@', 'sciencespotlse', 'plus', 'dinformations'], tags=[43]),\n",
       " TaggedDocument(words=['nous', 'sommes', 'féministes', 'modernes', 'combat', 'pour', 'l', 'égalité', 'droits', 'femmes', 'est', 'global', 'nécessite', 'collectif', 'comme', 'votre', 'représentant', 'tous', 'secteurs', 'de', 'société', 'civile', '@', 'laurossignol', 'ensemblecontrelesexisme'], tags=[44]),\n",
       " TaggedDocument(words=['madame', 'catherinedeneuve', 'annoncée', 'lors', 'du', 'festival', 'premiersplansdangers', 'quelle', 'allait', 'tournée', 'pour', 'huitième', 'fois', 'avec', 'andretechine'], tags=[45]),\n",
       " TaggedDocument(words=['@', 'sebastienm', '@', 'auroreberge', 'merci', 'pour', 'rappel', 'très', 'important'], tags=[46]),\n",
       " TaggedDocument(words=['sandra', 'muller', 'qui', 'inventé', 'balancetonporc', 'est', 'poursuivie', 'en', 'diffamation', 'via', '@', 'leparisien'], tags=[47]),\n",
       " TaggedDocument(words=['gens', 'qui', 'râlent', 'sur', 'tout', 'toute', 'lannée', 'qui', 'demandent', 'darrêter', 'de', 'râler', 'sur', 'lemploi', 'mercantile', 'de', 'journée', 'de', 'femme', 'ironie'], tags=[48]),\n",
       " TaggedDocument(words=['bande', 'd', '’', 'hypocrites', 'christian', 'grey', 'maltraite', 'meuf', 'dégrade', 'statut', 'de', 'femme', 'vous', 'dites', 'c', '’', 'est', 'de', 'l', '’', 'amour', 'c', '’', 'est', 'juste', 'parce', 'qu', '’', 'il', 'est', 'riche', 'si', 'c', '’', 'était', 'pauvre', 'tout', 'monde', 'aurait', 'crié', 'au', 'scandale', '50nuancesdegrey', 'tf1', 'balancetonporc'], tags=[49]),\n",
       " TaggedDocument(words=['donc', 'pour', 'darmanin', 'c', '’', 'est', 'bien', 'vrai', '@', 'rmcinfo', 'vient', 'de', 'confirmer', 'il', 'est', 'bien', 'accusé', 'de', 'viol', 'balancetonporc', 'rt', 'rt', 'rt', '🔴🔴🔴'], tags=[50]),\n",
       " TaggedDocument(words=['véronique', 'cloutier', 'explique', 'pourquoi', 'elle', 'ne', 'sétait', 'pas', 'prononcée', 'sur', 'moiaussi'], tags=[51]),\n",
       " TaggedDocument(words=['somaliland', 'arme', 'juridique', 'contre', 'viol'], tags=[52]),\n",
       " TaggedDocument(words=['tousavecsusie', 'pour', 'appelduparquetdelavienne', 'du', 'verdict', 'dacquittement', 'nouveau', 'procès', 'soutienpoursusie', 'appelparquetdelavienne', 'balancetonporc'], tags=[53]),\n",
       " TaggedDocument(words=['attn', 's', '’', 'amuse', 'inverser', 'rôles', 'entre', 'femmes', 'hommes', 'dans', 'monde', 'du', 'sport', 'pour', 'dénoncer', 'sexisme', 'ordinaire', 'dans', 'milieu', 'découvrez', 'larticle', 'vidéo', 'bien', 'vélo'], tags=[54]),\n",
       " TaggedDocument(words=['«', 'campagne', 'de', 'dénonciation', 'moiaussi', 'mis', 'nouvelle', 'fois', 'en', 'évidence', 'l', '’', 'ampleur', 'du', 'phénomène', 'or', 'il', 'faut', 'rappeler', 'qu', '’', 'à', 'peine', '5', 'femmes', 'agressées', 'portent', 'plainte', 'que', 'seulement', '3', 'plaintes', 'sur', '1000', 'se', 'soldent', 'par', 'condamnation', '»'], tags=[55]),\n",
       " TaggedDocument(words=['@', 'derzorngottes', '@', 'gerardcollomb', '@', 'elisefajgeles', '12', 'cette', 'jeune', 'femmesortie', 'de', 'détention', 'pour', 'trafic', 'de', 'stupéfiantsa', 'été', 'placée', '282', 'en', 'centre', 'de', 'rétention', 'administrative', 'avec', 'bébé', 'en', 'vue', 'de', 'leur', 'éloignement', 'vers', 'paraguay', 'ils', 'nont', 'jamais', 'séjourné', 'dans', 'bâtiment', 'touché', 'par', 'panne', 'de', 'chauffage', '@', 'lobs', '@', 'widadk'], tags=[56]),\n",
       " TaggedDocument(words=['gb', 'démission', 'de', 'ministre', 'de', 'lintérieur', 'coup', 'dur', 'pour', 'theresa', 'may'], tags=[57]),\n",
       " TaggedDocument(words=['merci', '@', 'oprah', '🤞🏼', 'goldenglobes', 'oprah', 'enews', 'metoo', 'moiaussi', 'timesup', 'brave', 'women', 'femme'], tags=[58]),\n",
       " TaggedDocument(words=['grand', 'merci', 'marion', '@', 'fuzzyraptor', 'pour', 'super', 'dossier', 'qui', 'continue', 'en', 'détails', 'dans', 'commentaires', 'du', 'post', 'cidessous', 'perle', 'pour', 'remettre', 'sur', 'table', 'sujet', 'femmes', 'science', 'sexisme', 'en', 'général', 'qui', 'reste', 'tellement', 'dactualité', 'scicomm'], tags=[59]),\n",
       " TaggedDocument(words=['@', 'maitreeolas', 'rescapé', 'poursuites', 'pour', 'viol', 'sur', 'mineure', 'en', 'raison', 'de', 'prescription', 'en', '2015', 'soit', 'bien', 'avant', 'balancetonporc', 'cest', 'ça', 'quon', 'reconnait', 'précurseurs'], tags=[60]),\n",
       " TaggedDocument(words=['roses', 'sont', 'rouges', 'paris', 'perdu', 'lyon', 'gagné', 'on', 'est', '9points', 'du', 'titre', 'je', 'dois', 'faire', 'remontada', 'pour', 'réussir', 'mon', 'année', 'jsuis', 'celib', 'violettes', 'sont', 'bleues'], tags=[61]),\n",
       " TaggedDocument(words=['jai', 'frappe', 'couleur', 'texture', 'blanche', 'grasse', 'comme', 'angela', 'merkel'], tags=[62]),\n",
       " TaggedDocument(words=['“', 'timide', 'avec', 'ton', 'prof', 'tu', 'napprends', 'rien', 'timide', 'avec', 'ta', 'femme', 'tu', 'nas', 'pas', 'denfants', '”', 'proverbe', 'khmer', 'savoir', 'humour', 'timidité', 'confiance'], tags=[63]),\n",
       " TaggedDocument(words=['quand', 'on', 'réforme', 'on', 'touche', 'potentiellement', 'intérêts', 'catégoriels', 'mais', 'niveau', 'dendettement', 'de', 'sncf', 'fragilise', 'cette', 'entreprise', 'on', 'ne', 'peut', 'pas', 'continuer', 'sans', 'réformer', 'notamment', 'statut', 'nouveaux', 'entrants', 'spinetta', '@', 'franceinfo', 'lesinformes'], tags=[64]),\n",
       " TaggedDocument(words=['vrai', 'scandale', 'est', 'que', 'segoleneroyal', 'ne', 'soit', 'pas', 'poursuivie', 'pour', 'folle', 'gestion', 'finances', 'charentespoitou'], tags=[65]),\n",
       " TaggedDocument(words=['moiaussi', 'fait', 'petits', 'augmentation', 'de', 'nouvelles', 'plaintes', 'révision', 'de', 'dossiers', 'rejetés', '@', 'marcallard1', '@', 'lesoleil', 'harcelement'], tags=[66]),\n",
       " TaggedDocument(words=['si', 'contribuables', 'de', 'lexrégion', 'poitou', 'charentes', 'demandaient', 'comptes', 'ségolèneroyal', 'quant', 'lutilisation', 'de', 'leurs', 'impôts', 'locaux'], tags=[67]),\n",
       " TaggedDocument(words=['naissance', 'de', 'payetafac', 'modèle', 'de', 'payetashnek', 'tumblr', 'pôleimage', 'projetegalité', 'm2pcc'], tags=[68]),\n",
       " TaggedDocument(words=['ségolèneroyal', 'avait', 'tellement', 'saigné', 'blanc', 'poitoucharentes', 'que', 'seule', 'solution', 'pour', 'sen', 'sortir', 'ainsi', 'éviter', 'faillite', 'était', 'de', 'fondre', 'cette', 'région', 'avec', 'limousin', 'laquitaine', 'pour', 'noyer', 'dette', 'elle', 'vient', 'donner', 'leçons', '@', 'nicolassarkozy'], tags=[69]),\n",
       " TaggedDocument(words=['signature', 'de', 'charte', 'par', 'tftc', '@', 'cometentreprise', 'du', 'collectif', 'ensemblecontrelesexisme', 'avec', '22', 'autres', 'organisations', 'engagées', 'dans', 'tous', 'domaines', 'où', 'se', 'niche', 'sexisme'], tags=[70]),\n",
       " TaggedDocument(words=['tunisieafp', 'réformes', 'doivent', 'saccélérer', 'estime', 'christine', 'lagarde'], tags=[71]),\n",
       " TaggedDocument(words=['tiens', 'cette', 'affiche', 'auraitelle', 'été', 'retirée', 'du', 'métro', 'parisien', 'hier', '@', 'cdiscount', 'bien', 'joué', 'serait', 'bête', 'quen', 'plus', 'de', 'sexisme', 'on', 'vous', 'accuse', 'dencourager', 'lobsolescenceprogrammee', 'chose', 'est', 'sûre', 'nest', 'pas', 'grâce', 'vous', 'quon', 'résoudra', 'crise', 'écologique', '🤬riendeneuf'], tags=[72]),\n",
       " TaggedDocument(words=['journaliste', 'lorigine', 'de', 'balancetonporc', 'poursuivie', 'pour', 'diffamation', 'via', '@', 'valeurs'], tags=[73]),\n",
       " TaggedDocument(words=['si', 'tas', 'bite', 'place', 'du', 'coeur', 'tétonne', 'pas', 'davoir', 'pute', 'place', 'dune', 'femme'], tags=[74]),\n",
       " TaggedDocument(words=['hé', 'mais', '@', 'garouofficiel', 'il', 'aurait', 'pas', 'fille', 'de', '12', 'ans', 'par', 'hasard', 'ironie', 'sionlesaitpas', 'thevoicekids'], tags=[75]),\n",
       " TaggedDocument(words=['daccord', 'maintenant', 'cest', 'sur', 'commerce', 'de', 'femmes', 'en', 'chine', 'entre', '2000', '5000€', 'femme', 'cest', 'cool', 'ironie', 'envoyéspécial'], tags=[76]),\n",
       " TaggedDocument(words=['l', '’', 'egalitefh', 'fillesgarçons', 'c', '’', 'est', 'choisir', 'librement', 'loisirs', 'études', 'métier', 'selon', 'personnalité', 'envies', 'parité', 'femmesnumerique', 'femmesscientifiques', 'stéréotypessexistes', 'sexisme', 'sexismeordinaire'], tags=[77]),\n",
       " TaggedDocument(words=['ca', 'fait', 'quoi', 'dêtre', 'suivi', 'par', 'valérie', 'pecresse', '—', 'ça', 'fait', 'bizarre', 'en', 'vrai', 'haha'], tags=[78]),\n",
       " TaggedDocument(words=['e1matin', '@', 'zappette', 'nadiadaam', 'ça', 'fait', 'plaisir', 'dentendre', 'par', 'journaliste', 'quon', 'pense', 'de', 'ces', 'pubs', 'c', 'du', 'sexisme', 'qui', 'en', 'fait', 'partie', 'depuis', 'décennies'], tags=[79]),\n",
       " TaggedDocument(words=['@', 'sylviazappi', 'toi', 'scribouillarde', 'comment', 'te', 'qualifiestu', 'gauchiste', 'islamo', 'gauchiste', 'antifrance', 'ou', 'salope'], tags=[80]),\n",
       " TaggedDocument(words=['climat', 'balancetonporc', 'est', 'tel', 'que', 'gens', 'comme', '@', 'juliettemeadel', 'dautres', 'en', 'viennent', 'proposer', 'linstauration', 'de', 'plainte', 'anonyme', 'pour', 'viol', 'or', 'évidence', 'on', 'ne', 'peut', 'examiner', 'accusation', 'de', 'manière', 'contradictoire', 'si', 'on', 'ne', 'sait', 'pas', 'de', 'qui', 'on', 'parle'], tags=[81]),\n",
       " TaggedDocument(words=['donc', 'daprès', 'twitter', 'il', 'est', 'formellement', 'interdit', 'pour', 'femme', 'de', 'coucher', 'avec', 'plus', 'de', 'deux', 'mecs', 'différents', 'voire', 'seul', 'en', 'fait', 'sous', 'peine', 'dêtre', 'pute', 'salope', 'cie', 'ben', 'merde', 'alors', 'mecs', 'sont', 'entourés', '98', 'de', 'putes', 'alors', 'mères', 'inclues', '🤷\\u200d♀️🤷\\u200d♀️'], tags=[82]),\n",
       " TaggedDocument(words=['parti', 'populiste', 'afd', 'endosse', 'costume', 'de', 'principale', 'force', 'dopposition', 'angela', 'merkel'], tags=[83]),\n",
       " TaggedDocument(words=['entreprises', '@', 'interelles', 'sont', 'engagées', 'pour', 'lutter', 'contre', 'sexisme', 'ordinaire', 'frein', 'l', 'égalité', 'mixité', '@', 'lenovofr', '@', 'gefrance', '@', 'oranogroup', 'nexter', 'ont', 'été', 'l', 'an', 'dernier', 'reconnues', 'employeur', 'engagés', 'dans', 'campagne', 'sexismepasnotregenre', 'ensemblecontrelesexisme'], tags=[84]),\n",
       " TaggedDocument(words=['«', 'diplomatie', 'n', '’', 'est', 'pas', 'dîner', 'de', 'gala', '»', 'de', 'claude', 'martin', 'ou', 'quand', 'on', 'apprend', 'que', 'nicolas', 'sarkozy', 'envoyait', 'textos', 'sous', 'table', 'lors', 'de', 'premier', 'dîner', 'avec', 'angela', 'merkel'], tags=[85]),\n",
       " TaggedDocument(words=['top', '10', 'illustrations', 'sur', 'sexisme', 'ordinaire', 'il', 'y', 'encore', 'progrès', 'faire'], tags=[86]),\n",
       " TaggedDocument(words=['selon', '@', 'enthovenr', 'critiquer', 'balancetonporc', 'permettrait', 'd', '’', 'éviter', 'que', 'cet', 'épisode', 'salvateur', 'de', 'libération', 'de', 'parole', 'femmes', 'ne', 'soit', 'que', 'conjoncturel', 'dialogue', 'permisdesengueuler'], tags=[87]),\n",
       " TaggedDocument(words=['si', 'actrice', 'porno', 'tombe', 'enceinte', 'on', 'peut', 'considérer', 'ça', 'comme', 'accident', 'de', 'travail'], tags=[88]),\n",
       " TaggedDocument(words=['plus', 'courageuse', 'que', 'macron', 'angelamerkel', 'condamné', 'de', 'manière', 'plus', 'ferme', 'lattaque', 'de', 'turquie', 'contre', 'afrin', 'où', 'milliers', 'milliers', 'de', 'civils', 'sont', 'réprimés', 'meurent', 'ou', 'sont', 'forcés', 'de', 'fuircest', 'inacceptablea', 'dit', 'merkel', 'devant', 'députésvia', 'afp'], tags=[89]),\n",
       " TaggedDocument(words=['fait', 'de', 'croire', 'qu', '’', 'une', 'femme', 'doit', 'se', 'faire', 'violer', 'si', 'elle', 'est', 'en', 'mini', 'jupe', 'merci', 'société', 'balancetonporc'], tags=[90]),\n",
       " TaggedDocument(words=['marianorajoy', 'tweete', 'en', 'espagnol', 'theresamay', 'tweete', 'en', 'anglais', 'angelamerkel', 'ignore', 'twitter', 'bref', 'jdcjdr', '…', 'nous', 'macron', 'depuis', '5', 'jours', 'c', '’', 'est', 'en', 'anglais', 'ou', 'en', 'allemand', '🙄'], tags=[91]),\n",
       " TaggedDocument(words=['quelle', 'honte', 'qui', 'autorisé', 'cette', 'manifestation', '@', 'marleneschiappa', 'atteinte', 'liberté', 'de', 'choix', 'de', 'corps', 'etc', 'balancetonporc'], tags=[92]),\n",
       " TaggedDocument(words=['lefil', '👉🏽', 'parlementeuropéen', 'emmanuel', 'macron', 'vatil', 'se', 'prendre', 'râteau', 'dangela', 'merkel'], tags=[93]),\n",
       " TaggedDocument(words=['je', 'suis', 'fille', 'qui', 'sest', 'se', 'décider', 'xdd', 'ironie', 'lts'], tags=[94]),\n",
       " TaggedDocument(words=['pop', 'amp', 'co', 'balance', 'qui', 'balancetonporc', 'silentbreakers', 'merci', '@', 'franceinter', '👌'], tags=[95]),\n",
       " TaggedDocument(words=['balancetonporc', 'jai', 'envie', 'de', 'te', 'violer', 'de', 'mes', 'ex', 'qui', 'pendant', '9', 'mois', 'ma', 'envoyé', 'genre', 'de', 'messages', 'javais', '16', 'ans', 'lui', '20'], tags=[96]),\n",
       " TaggedDocument(words=['egalement', 'ravie', 'de', 'participer', 'table', 'ronde', 'ensemblecontrelesexisme', 'merci', '@', 'catladousse', 'de', 'm', '’', 'y', 'avoir', 'conviée'], tags=[97]),\n",
       " TaggedDocument(words=['snapchat', 'homme', 'condamné', 'cinq', 'ans', 'de', 'prison', 'pour', 'viol', 'veilletechnk'], tags=[98]),\n",
       " TaggedDocument(words=['analogie', 'c', '’', 'est', 'comme', 'dire', 'femme', 'vous', 'êtes', 'bien', 'belle', 'aujourd', '’', 'hui', 'électoralisme', 'politique', 'pour', 'courtiser', 'vote', 'anglophone', 'pour', 'se', 'travestir', 'en', 'pute', 'pour', 'mode', 'de', 'séduction'], tags=[99]),\n",
       " TaggedDocument(words=['@', 'liliane7777777', 'je', 'comprends', 'vraiment', 'pasêtre', 'féministe', 'cest', 'juste', 'vouloir', 'être', 'respectéêtre', 'payé', 'pour', 'travail', 'que', 'lon', 'fait', 'comme', 'hommecest', 'ça', 'être', 'féministecest', 'que', 'société', 'nous', 'accorde', 'pied', 'dégalitéalors', 'si', 'femme', 'est', 'féministeparceque', 'je', 'ne', 'détestepas', 'hommes'], tags=[100]),\n",
       " TaggedDocument(words=['nouvelle', 'plus', 'importante', 'de', '2017', 'est', 'metoomoiaussi', 'parce', 'que', 'hashtag', 'mis', 'en', 'lumière', 'nombre', 'de', 'femmes', 'dans', 'monde', 'sans', 'compter', 'celles', 'qui', 'nont', 'pas', 'accès', 'aux', 'médias', 'sociaux', 'qui', 'ont', 'été', 'victimes', 'dune', 'forme', 'de', 'harcèlementde', 'violence', 'sexuelle', 'fls2513'], tags=[101]),\n",
       " TaggedDocument(words=['vive', 'féminisme', 'lisez', 'réponses', 'ironie'], tags=[102]),\n",
       " TaggedDocument(words=['quandjauraidesenfantsje', 'serai', 'enfin', 'femme', 'accomplie', 'justkidding', 'ironie', 'feminism'], tags=[103]),\n",
       " TaggedDocument(words=['quand', 'balancetonporc', 'fait', 'dérailler', 'procès', 'tron', 'france'], tags=[104]),\n",
       " TaggedDocument(words=['donc', 'en', 'plein', 'balancetonporc', 'tf1', 'diffuse', '50nuancesdegrey', '21h', 'énorme', 'tweets', 'vont', 'pleuvoir', '😂'], tags=[105]),\n",
       " TaggedDocument(words=['@', 'licra', 'mais', 'que', 'viens', 'faire', 'balancetonporc'], tags=[106]),\n",
       " TaggedDocument(words=['coup', 'de', 'crayon', 'du', '1er', 'février', 'polcan', 'moiaussi'], tags=[107]),\n",
       " TaggedDocument(words=['@', 'annedesevrant', '@', 'loreal', '@', 'lorealparisfr', 'toujours', 'problème', 'qd', 'shampoo', 'se', 'lance', 'ds', 'bain', 'de', 'politique', 'ça', 'mousse', '🚮', 'voile', 'loreal', 'islam', 'palestine', 'shoah', 'ps', 'si', 'loreal', 'soutient', 'sexisme', 'islamiqueestce', 'parce', 'que', 'ns', 'voilons', 'bien', '🤔', '@', 'zamzonite', '@', 'zohrabitan'], tags=[108]),\n",
       " TaggedDocument(words=['turuie', 'ne', 'deviendra', 'jamais', 'membre', 'de', 'lue', 'affirme', 'angela', 'merkel'], tags=[109]),\n",
       " TaggedDocument(words=['balancetonporc', 'c', 'léudiant', 'en', 'chirurgie', 'qui', 'naccepte', 'daider', 'débutante', 'que', 'si', 'elle', 'couche', 'prostitution', 'opportuniste', 'c', 'quand', 'elle', 'accepte'], tags=[110]),\n",
       " TaggedDocument(words=['recours', 'aux', 'ordonnances', 'lors', 'de', 'réforme', 'du', 'code', 'du', 'travail', 'débat', 'eu', 'lieu', 'parlement', 'débat', 'pour', 'donner', 'habilitation', 'pour', 'ratifier', 'il', 'nest', 'pas', 'dépossédé', '@', 'radioclassique', 'classiquematin'], tags=[111]),\n",
       " TaggedDocument(words=['ma', 'collègue', 'de', 'travail', 'est', 'enceinte', 'my', 'god👶🏼😻🎊'], tags=[112]),\n",
       " TaggedDocument(words=['balancetonporc', 'journaliste', 'sandra', 'muller', 'lève', 'fonds'], tags=[113]),\n",
       " TaggedDocument(words=['modeste', 'proposition', 'pour', 'mettre', 'fin', 'misère', 'sexuelle', 'de', '@', 'elisethiebaut', 'balancetonporc'], tags=[114]),\n",
       " TaggedDocument(words=['désastre', 'quest', 'theresa', 'may'], tags=[115]),\n",
       " TaggedDocument(words=['au', 'sommaire', 'de', 'quotidien', '📚', 'christiane', 'taubira', '🎥', 'kad', 'merad', '🎤', 'charlotte', 'gainsbourg', '💥', 'comingout', 'politique', 'de', 'geneviève', 'de', 'fontenay', '📺', 'macron', 'x', 'fox', 'news', '🗻', 'identitaires', 'dans', 'alpes', '🔊', 'de', 'country', 'awards', 'dans', 'petit', 'q', '😀', '@', 'vincentdedienne'], tags=[116]),\n",
       " TaggedDocument(words=['en', 'cette', 'journée', 'de', 'femme', 'pensée', 'pour', 'salope', 'lass', 'diarraje', 'lui', 'souhaite', 'bonne', 'continuation', 'de', 'faire', 'croisés', 'teamom'], tags=[117]),\n",
       " TaggedDocument(words=['première', 'journéenationalecontrelesexisme', '25', 'janvier', 'organisée', 'par', 'collectif', 'ensemblecontrelesexisme', 'inscrivezvous', 'ici', 'egalite', 'egalitéfh'], tags=[118]),\n",
       " TaggedDocument(words=['dire', 'que', 'femmes', 'sont', 'plus', 'l', '’', 'écoute', 'est', 'du', 'sexisme', 'bienveillant', 'mais', 'du', 'sexisme', 'quand', 'même', 'complémentarité', 'compétences', 'basée', 'sur', 'l', '’', 'appartenance', 'au', 'sexe', 'brigitte', 'gresy', 'ensemblecontrelesexisme'], tags=[119]),\n",
       " TaggedDocument(words=['l', '’', 'amie', 'd', '’', 'une', 'cousine', 'qui', 'divorce', 'au', 'bout', 'de', '7', 'mois', 'parce', 'que', 'mari', 'lui', 'demandé', 'd', '’', 'arrêter', 'études', 'qu', '’', 'il', 'ne', 'veut', 'pas', 'd', '’', 'une', 'femme', 'beaucoup', 'plus', 'instruite', 'que', 'lui'], tags=[120]),\n",
       " TaggedDocument(words=['cette', 'fille', 'ne', 'recule', 'devant', 'aucune', 'provocation', 'pour', 'faire', 'parler', 'd', '’', 'elle', 'on', 'devrait', 'lui', 'rappeler', 'qu', '’', 'un', 'élu', 'de', 'république', 'siégeant', 'l', '’', 'an', 'devoir', 'de', 'décence', 'vv', 'français', 'celleci', 'commence', 'par', 'tenue', 'correcte', 'non', 'provocante', 'par', 'respect', 'aurorebergé'], tags=[121]),\n",
       " TaggedDocument(words=['mais', 'cest', 'que', 'victimes', 'ont', 'déjà', 'parlé', 'quelles', 'nont', 'pas', 'été', 'soutenue', 'tout', 'monde', 'préfère', 'faire', 'taire', 'lhistoire', 'balancetonporc'], tags=[122]),\n",
       " TaggedDocument(words=['larticle', '«', 'mansplaining', '»', 'de', '@', 'wikipediafr', 'été', 'créé', 'en', 'mars', '2013', 'avant', 'équivalent', 'en', 'anglais', 'sexisme'], tags=[123]),\n",
       " TaggedDocument(words=['tête', 'de', 'liste', 'de', 'future', 'coalition', 'autour', 'du', 'front', 'national', 'pour', 'européennes2019', 'pourrait', 'être', 'femme', 'issue', 'de', 'société', 'civile', 'c', '’', 'est', 'en', 'tout', 'cas', 'que', 'laisse', 'entrevoir', 'marine', 'pen', 'selon', 'parisien'], tags=[124]),\n",
       " TaggedDocument(words=['tu', 'es', 'ta', 'femme', 'tappelle', 'parce', 'que', 'tu', 'es', 'dehors', 'te', 'dit', 'de', 'répéter', 'nom', 'en', 'rajoutant', 'tu', 'es', 'ma', 'femme', 'pas', 'ma', 'soeur', 'je', 'ne', 'suis', 'avec', 'aucune', 'salope', 'ça', 'fait', '15min', 'que', 'jarrête', 'pas', 'de', 'rigoler'], tags=[125]),\n",
       " TaggedDocument(words=['agressionssexuelles', '@', 'policegatineau', 'emboîte', 'pas', 'au', '@', 'spvq', '@', 'spvm', 'moiaussi'], tags=[126]),\n",
       " TaggedDocument(words=['@', 'marleneschiappa', '@', 'nbelloubet', '@', 'emmanuelmacron', 'javoue', '@', 'maitreeolas', 'beau', 'faire', 'de', 'pédagogie', 'je', 'ne', 'comprends', 'pas', '@', 'justicegouv', 'balancetonporc', 'balancetonjuge', 'balancetonpedo'], tags=[127]),\n",
       " TaggedDocument(words=['soutien', '100', '@', 'marleneschiappa', '@', 'zappette', 'balancetonporc', 'même', 'quaprès', 'bon', 'signalement', 'on', 'devrait', 'identifier', 'ces', 'salauds', 'avec', 'étoile', 'rouge', 'sur', 'leur', 'vêtement', 'histoire', 'quils', 'se', 'tiennent', 'carreau'], tags=[128]),\n",
       " TaggedDocument(words=['portrait', 'l', 'dès', 'années', '1970', 'linguiste', 'edwigekhaznadar', 'sintéresse', 'au', 'sexisme', 'de', 'langue', 'française', 'en', '2015', 'elle', 'publie', 'sexisme', 'ordinaire', 'du', 'langage', 'quest', 'lhomme', 'en', 'général', 'dans', 'lequel', 'elle', 'déconstruit', 'mythe', 'dun', 'masculin', 'neutre'], tags=[129]),\n",
       " TaggedDocument(words=['8h30', 'etmaintenant', 'en', 'appuie', 'au', 'mouvement', 'moiaussi', '@', 'aurelielanctot', 'en', 'parle', 'salutbonjour'], tags=[130]),\n",
       " TaggedDocument(words=['laura', 'flippes', 'remet', 'bleues', '99', 'on', 'reste', 'dans', 'match', 'franor', 'bleuetfier', 'simplywunderbar', 'germany2017', 'handball', 'fdslive'], tags=[131]),\n",
       " TaggedDocument(words=['mon', 'père', 'il', 'm', '’', 'a', 'dit', 'aujourd', '’', 'hui', 'truc', '3600x', 'je', 'lui', 'fais', 'oui', 'papa', 'je', 'sais', 'merci', 'il', 'me', 'chuchote', 'dans', 'l', '’', 'oreille', '«', 'va', 'te', 'faire', 'foutre', 'grosse', 'connasse', '»', 'eh', 'mercee', 'papa', '❤️'], tags=[132]),\n",
       " TaggedDocument(words=['pour', 'aider', '@', 'lettreaudio', 'bien', 'avec', 'toi', 'sandra', 'tu', 'ne', 'restera', 'pas', '20€', 'sur', 'balancetonporc', 'metoo', 'timesup'], tags=[133]),\n",
       " TaggedDocument(words=['emmanuel', 'macron', 'rencontrera', 'angela', 'merkel', '19', 'avril', 'berlin', 'via', '@', 'europe1'], tags=[134]),\n",
       " TaggedDocument(words=['payetafac', 'sur', '@', 'lesmatinsfcult', 'bien', 'den', 'parler', 'ampchanger', 'détat', 'desprit', 'on', 'commence', 'qd', '😈jamaissanselles', 'payetashnek', '@', 'payetafac'], tags=[135]),\n",
       " TaggedDocument(words=['superbe', 'idée', 'du', 'tumblr', 'payetarobe', 'sur', 'lidée', 'de', 'payetashnek', 'contre', 'sexisme', 'ordinaire', 'poke', '@', 'emmanueltz'], tags=[136]),\n",
       " TaggedDocument(words=['@', 'jpgaultier', 'affichage', 'sauvage', 'sexiste', 'dans', 'paris', 'on', 'ne', 'vous', 'félicite', 'pas', 'bescandal'], tags=[137]),\n",
       " TaggedDocument(words=['il', 'est', 'bon', 'de', 'se', 'rappeler', 'parfois', 'que', 'choses', 'avancent', 'grâce', 'mobilisation', 'courageuse', 'ininterrompue', 'femmes', 'hommes', 'mobilisées', 'pour', 'légalité', 'sexisme', 'feminisme', 'pub'], tags=[138]),\n",
       " TaggedDocument(words=['agressionsexuelle', 'aux', 'îlesdelamadeleine', 'plus', 'de', 'femmes', 'ont', 'dénoncé', 'agressions', 'dont', 'elles', 'ont', 'été', 'victimes', 'metoo', 'moiaussi', '@', 'rqcalacs'], tags=[139]),\n",
       " TaggedDocument(words=['maintenant', 'cest', 'femme', 'bigre', '===gt', 'gérald', 'darmanin', 'révèle', 'avoir', 'été', 'accusé', 'de', 'viol', 'par', 'homme', 'via', '@', 'valeurs'], tags=[140]),\n",
       " TaggedDocument(words=['evénement', 'partenaire', 'collectif', 'ensemble', 'contre', 'sexisme', 'organise', '1ère', 'journée', 'nationale', 'contre', 'sexisme', 'avec', 'séquence', 'dédiée', 'lentreprise', 'égalitéfemmehomme'], tags=[141]),\n",
       " TaggedDocument(words=['sexisme', 'publicités', 'du', 'siècle', 'dernier', 'dénoncé', 'par', '@', 'elirezkallah', 'qui', 'inverse', 'rôles', 'egalitefh'], tags=[142]),\n",
       " TaggedDocument(words=['p', 'louis', 'b', 'sagez', 'du', '@', 'syndicatcftc', 'ont', 'rencontré', 'vendredi', 'dernier', 'ministre', 'du', 'travail', 'titre', 'sexiste', '@', 'bfmtv'], tags=[143]),\n",
       " TaggedDocument(words=['ok', 'petit', 'thread', 'balancetonporc', 'parce', 'que', 'je', 'suis', 'vraiment', 'choquée', 'qu', '’', 'il', 'faut', 'que', 'j', '’', 'en', 'parle'], tags=[144]),\n",
       " TaggedDocument(words=['peutêtre', 'y', '’', 'atil', 'différence', 'entre', 'hastag', 'balancetonporc', 'moiaussi', 'tlmep'], tags=[145]),\n",
       " TaggedDocument(words=['créatrice', 'de', 'balancetonporc', 'poursuivie', 'en', 'diffamation', 'lance', 'levée', 'de', 'fonds', 'pour', 'financer', 'défense', 'femme', 'd', 'affaire', 'mme', 'balance', 'ton', 'portemonnaie'], tags=[146]),\n",
       " TaggedDocument(words=['actus', 'balancetonporc', 'libération', 'de', 'parole', 'sous', 'caution', 'médiatique'], tags=[147]),\n",
       " TaggedDocument(words=['déjà', 'fragilisée', 'theresa', 'may', 'perd', '“', 'bouclier', 'humain', '”'], tags=[148]),\n",
       " TaggedDocument(words=['il', 'y', 'an', 'canard', 'révélait', 'l', '’', 'affaire', 'penelope', 'fillon', 'j', '’', 'ai', 'l', '’', 'impression', 'que', '40', 'années', 'sont', 'passées', 'depuis'], tags=[149]),\n",
       " TaggedDocument(words=['@', 'florenceberger', '@', 'nicohaeringer', '@', 'auroreberge', 'mettre', 'dans', 'cul', 'de', 'hulot', '🤓'], tags=[150]),\n",
       " TaggedDocument(words=['après', 'laffaire', 'weinstein', 'revelations', 'balancetonporc', '@', 'libe', 'publie', 'weekend', 'dossier', 'très', 'complet', 'sur', 'malaise', 'dans', 'cinéma', 'notamment', 'limpact', 'du', 'harcelement', 'violencesfaitesauxfemmes', 'dans', 'création', 'balancetonfilm', 'artistique'], tags=[151]),\n",
       " TaggedDocument(words=['véronique', 'cloutier', 'révèle', 'pourquoi', 'elle', 'n', '’', 'a', 'encore', 'rien', 'dit', 'publiquement', 'sur', 'mouvement', 'moiaussi'], tags=[152]),\n",
       " TaggedDocument(words=['en', '1997', 'ami', 'de', 'mon', 'pèrecollègue', 'de', 'celui', 'ciâgé', 'de', '27', 'ansme', 'viole', 'sur', 'canapé', 'balancetonporc'], tags=[153]),\n",
       " TaggedDocument(words=['qui', 'moffre', 'dernier', 'livre', 'de', 'christiane', 'taubira'], tags=[154]),\n",
       " TaggedDocument(words=['@', 'bardamuvoyage', '@', 'pierredelecourt', '@', 'qofficiel', '@', 'ylebolloch', '@', 'theresamay', 'pardon', 'de', 'te', 'contredire', 'mais', 'france', 'toujours', 'été', 'deuxième', 'cest', 'lempire', 'colonial', 'britannique', 'qui', 'est', 'sur', 'première', 'marche', 'du', 'podium'], tags=[155]),\n",
       " TaggedDocument(words=['france', 'lycéennes', 'se', 'révoltent', 'pour', 'nous', 'harcèlement', 'sexuel', 'cest', 'tout', 'temps', 'sexisme'], tags=[156]),\n",
       " TaggedDocument(words=['si', 'femmes', 'ne', 'peuvent', 'pas', 'aller', 'justice', 'justice', 'doit', 'aller', 'elles', '@', 'marleneschiappa', '@', 'egalfh', 'ensemblecontrelesexisme', 'sexisme'], tags=[157]),\n",
       " TaggedDocument(words=['@', 'esporiom', 'certains', 'sont', 'persecute', 'pour', 'leur', 'orientation', 'sexuelle', 'dautre', 'pour', 'leur', 'couleur', 'de', 'peau', 'leur', 'sexe', 'ou', 'leur', 'religion', 'lhomophobie', 'racisme', 'sexisme', 'jouent', 'meme', 'ressorts', 'quand', 'ta', 'connu', 'lune', 'de', 'discrimination', 'ca', 'parait', 'sensé', 'detre', 'sensible', 'aux', 'autres'], tags=[158]),\n",
       " TaggedDocument(words=['affaire', 'darmanin', 'grosse', 'magouille', 'politique', 'plainte', 'relancée', 'sur', 'instigation', 'de', 'carolinedehaas', 'avec', 'en', 'plus', 'spécialité', 'pétition', 'spontanée', 'bref', 'bâton', 'de', 'merde', 'habituel', 'de', 'lauto', 'proclamée', 'première', 'féministe', 'du', 'pays', 'aux', 'indignations', 'sélectives'], tags=[159]),\n",
       " TaggedDocument(words=['voté', 'votre', 'tour', 'de', 'voter', 'pour', 'pub', 'plus', 'sexiste', 'de', 'lannée', 'via', '@', 'clarenceer'], tags=[160]),\n",
       " TaggedDocument(words=['jsens', 'quon', 'va', 'finir', 'par', 'être', 'affiché', 'sur', 'pages', 'féministes', 'avec', 'balancetonporc'], tags=[161]),\n",
       " TaggedDocument(words=['jai', 'tellement', 'était', 'prise', 'pour', 'conne', 'que', 'se', 'soit', 'en', 'amour', 'ou', 'en', 'amitié', 'que', 'je', 'me', 'méfie', 'vrm', 'de', 'tout', 'monde', 'jai', 'tellement', 'de', 'rancoeur', 'envers', 'certains', 'gens', 'que', 'mtn', 'jmen', 'blc', 'de', 'tout', 'monde'], tags=[162]),\n",
       " TaggedDocument(words=['lol', 'du', 'jour', 'notallmen', 'ironie', 'féminisme'], tags=[163]),\n",
       " TaggedDocument(words=['c', '’', 'est', 'nous', 'ou', 'si', 'plaignante', 'était', 'ancienne', 'boulangère', 'ou', 'ancienne', 'enseignante', '@', 'leparisien', 'ne', 'l', '’', 'aurait', 'pas', 'précisé', 'darmanin', 'viol'], tags=[164]),\n",
       " TaggedDocument(words=['@', 'wtfloow', '@', 'lolossandre', 'ah', 'merde', 'balance', 'noms', 'balancetonporc', 'lol', 'jpp'], tags=[165]),\n",
       " TaggedDocument(words=['recours', 'aux', 'ordonnances', 'pour', 'réforme', 'du', 'code', 'du', 'travail', 'na', 'pas', 'empêché', 'débat', 'il', 'me', 'paraît', 'légitime', 'que', 'gouvernement', 'se', 'saisisse', 'dun', 'sujet', 'tel', 'que', 'réforme', 'de', 'sncf', 'débat', 'aura', 'bien', 'lieu', 'au', 'parlement', 'spinetta', '@', 'franceinfo', 'lesinformes'], tags=[166]),\n",
       " TaggedDocument(words=['je', 'viens', 'républicains', 'je', 'sais', 'pourquoi', 'jen', 'suis', 'partie', 'notammant', 'quand', 'je', 'vois', 'choix', 'de', 'laurent', 'wauquiez', 'en', 'président', 'de', 'parti', 'propos', 'lyon', '@', 'bfmtv', 'wauquiezgate'], tags=[167]),\n",
       " TaggedDocument(words=['tir', 'de', 'femme', 'enceinte', 'de', 'payet', 'losc'], tags=[168]),\n",
       " TaggedDocument(words=['sylvie', 'cromer', 'analyse', 'récent', 'mouvement', 'de', 'libération', 'de', 'parole', 'événement', 'historique', 'allant', 'du', 'hashtag', 'metoo', 'au', 'hashtag', 'balancetonporc', 'mouvement', 'sinscrit', 'dans', 'lhistoire', 'femmes', 'féministes', 'ssd93'], tags=[169]),\n",
       " TaggedDocument(words=['rabastens', 'lutte', 'contre', 'sexisme', 'préjugés', 'gambetta', 'sengage'], tags=[170]),\n",
       " TaggedDocument(words=['quand', 'balancetonporc', 'fait', 'dérailler', 'procès', 'tron', 'via', '@', 'lefigaro'], tags=[171]),\n",
       " TaggedDocument(words=['safeweb', 'numerique', 'estil', 'sexiste', '@', 'assofit', '@', 'cyberelles', '@', 'bpwfrance', '@', 'robichonc', '@', 'ilhammg', '@', 'samiaghozlane', '@', 'esthergagneux', '@', 'amliebo', '@', 'paulinebnnt'], tags=[172]),\n",
       " TaggedDocument(words=['liban', 'femme', 'battue', 'femme', 'objet', 'sexuel', 'femme', 'inférieure', 'lorsque', 'chansons', 'véhiculent', 'image', 'dégradante', 'de', 'femme', 'étude', '👍🏼', '@', 'jreijiry', 'sexisme', 'machisme', 'timesup'], tags=[173]),\n",
       " TaggedDocument(words=['vouloir', 'frapper', 'fille', 'c', '’', 'est', 'vraiment', 'se', 'comporter', 'comme', 'homme', 'félicitation', '😪'], tags=[174]),\n",
       " TaggedDocument(words=['@', 'chrisbartimeus', '@', 'nawaknawak', 'purée', 'mais', 'vous', 'prenez', 'liberté', 'dexpression', 'pour', 'excuser', 'toutes', 'nuisances', 'lentrave', 'livg', 'sexisme', 'sont', 'délits', 'cest', 'loi', 'qui', 'dit', 'il', 'est', 'hors', 'de', 'question', 'que', 'je', 'me', 'laisse', 'donner', 'leçons', 'de', 'bio', 'par', 'merdaillons', 'qui', 'confondent', 'fœtus', 'bébé'], tags=[175]),\n",
       " TaggedDocument(words=['violeur', 'denfants', 'reconnu', 'coupable', 'roman', 'polanski', 'nous', 'poursuit', 'pour', 'diffamation', 'cest', 'opportunité', 'idéale', 'pour', 'pouvoir', 'finalement', 'extrader', 'pedo', 'vers', 'états', 'unis', 'fbi', 'police', 'israélienne', 'lattendent', 'bras', 'ouverts', 'balancetonporc', 'agresseur', 'metoo', 'pedo'], tags=[176]),\n",
       " TaggedDocument(words=['@', '777appocalypse', 'après', 'balancetonporc', 'voilà', 'balancetonfm', '😂😂😂'], tags=[177]),\n",
       " TaggedDocument(words=['serait', 'bien', 'que', 'macron', 'choisisse', 'femme', 'ouverte', 'sur', 'leurope', 'dorigine', 'étrangère', 'angela', 'merkel', 'par', 'exemple', 'premierministre'], tags=[178]),\n",
       " TaggedDocument(words=['darmanin', 'aurait', 'usé', 'de', 'prétendu', 'pouvoir', 'pour', 'obtenir', 'd', '’', 'une', 'femme', 'faveurs', 'sexuelles', 'sorte', 'de', 'trafic', 'd', '’', 'influence', 'si', 'c', '’', 'est', 'exact', 'indépendamment', 'de', 'qualification', 'de', 'viol', 'type', 'est', 'abjecte'], tags=[179]),\n",
       " TaggedDocument(words=['mouvement', 'moiaussi', 'personnalité', 'de', 'lannée', 'de', 'time', 'fm93'], tags=[180]),\n",
       " TaggedDocument(words=['theresa', 'may', 'tête', 'de', 'grandebretagne', 'femme', 'sans', 'loi', 'sur', 'parité', 'mais', 'comment', 'font', 'ilselles', 'okjesors'], tags=[181]),\n",
       " TaggedDocument(words=['événement', 'réputation', 'time', '2017', 'du', 'tweet', 'balancetonporc', 'couverture', 'du', 'elle', 'anatomie', 'd', '’', 'une', 'levée', 'de', 'boucliers', 'généralisée', 'avec', '@', 'annatwit', 'reptime2017', 'en', 'savoir', 'plus', 'gt', 'programme', 'inscription', 'gt'], tags=[182]),\n",
       " TaggedDocument(words=['salope', 'en', 'ambulance', 'courage', 'ptit', 'pd'], tags=[183]),\n",
       " TaggedDocument(words=['après', 'lhomophobie', 'haine', 'femmes', 'félicitations', '@', 'olivierrimmel', 'vous', 'venez', 'de', 'gagner', 'point', 'con', 'du', 'jour', 'balancetonporc'], tags=[184]),\n",
       " TaggedDocument(words=['royal', 'baby', 'theresa', 'may', 'présente', 'voeux', 'de', 'bonheur', 'kate', 'william'], tags=[185]),\n",
       " TaggedDocument(words=['@', 'franceinfo', 'femme', 'corps', 'politique', 'balancetonporc', 'autres'], tags=[186]),\n",
       " TaggedDocument(words=['lemonde', 'actualités', 'médias', 'personnalités', 'de', 'l', '’', 'année', 'de', '«', 'time', '»', 'femmes', 'ayant', '«', 'brisé', 'silence', '»', 'violences', 'sexuelles', 'time', 'personoftheyear', 'metoo', 'balancetonporc', 'silencebreakers', 'lanceursdalerte', 'whistleblower', 'whistleblowers'], tags=[187]),\n",
       " TaggedDocument(words=['depuis', 'laffaire', 'dsk', 'féministes', 'ne', 'veulent', 'être', 'ni', 'pute', 'ni', 'soumise', 'ni', 'femme', 'de', 'chambre'], tags=[188]),\n",
       " TaggedDocument(words=['moiaussi', 'jai', 'reçu', 'propositionsindécentes', 'fausses', 'invitations', 'dans', 'chambresdhôtel', 'de', 'luxe'], tags=[189]),\n",
       " TaggedDocument(words=['sandra', 'muller', 'lorigine', 'de', 'balancetonporc', 'poursuivie', 'pour', 'diffamation', 'via', '@', '20minutes'], tags=[190]),\n",
       " TaggedDocument(words=['blague', 'quelle', 'est', 'différence', 'entre', 'slip', 'de', 'femme', 'slip', 'dhomme', 'slip', 'de', 'femme', 'est', 'centre', 'daccueil', 'slip', 'dhomme', 'est', 'centre', 'de', 'redressement', 'bn', 'nuit', '🤩'], tags=[191]),\n",
       " TaggedDocument(words=['ca', 'vous', 'intéresse', 'depuis', 'quand', 'sexisme', 'eft'], tags=[192]),\n",
       " TaggedDocument(words=['@', 'femenfrance', 'donc', 'selon', 'vous', 'féminisme', 'rime', 'forcément', 'avec', 'antireligion', 'heureuse', 'de', 'savoir', 'quêtre', 'sein', 'nu', 'sert', 'féminisme', 'ironie'], tags=[193]),\n",
       " TaggedDocument(words=['seyssinetpariset', 'jeune', 'femme', 'défigurée', 'coups', 'de', 'couteau'], tags=[194]),\n",
       " TaggedDocument(words=['déclin', 'éthique', 'de', 'notre', 'classe', 'politique', 'se', 'rendre', 'interview', 'donnée', 'par', 'agresseur', 'sexuel', 'présumé', 'qui', 'pour', 'faire', 'taire', 'victime', 'aurait', 'proposé', 'pain', 'au', 'chocolat', 'y', 'aller', 'juste', 'après', 'balancetonporc'], tags=[195]),\n",
       " TaggedDocument(words=['hebdo', 'com', 'comment', 'en', 'finir', 'avec', 'stéréotypes', 'dans', 'hebdo', 'com', 'cette', 'semaine', 'zoom', 'sur', 'programme', 'faire', 'lancé', 'par', 'luda', 'qui', 'sattaque', 'aux', 'stéréotypes', 'au', 'sexisme', 'dans', 'pub', 'avec', 'laura', 'boulet', 'directrice', 'affaires', 'pub…'], tags=[196]),\n",
       " TaggedDocument(words=['@', 'benoitaublet', '@', 'auroreberge', 'je', 'me', 'demande', 'si', 'tout', 'site', 'géologiquement', 'stable', 'na', 'pas', 'forcément', 'potentiel', 'comme', 'par', 'exemple', 'disposer', 'dune', 'couche', 'profonde', 'imperméable', 'apte', 'stocker', 'de', 'leau', 'par', 'exemple', 'ou', 'dautre', 'propriété', 'quon', 'voudra', 'toujours', 'pouvoir', 'utiliser', 'dans', 'futur'], tags=[197]),\n",
       " TaggedDocument(words=['📅le', '25', 'jan', 'est', 'née', 'maud', 'wood', 'park', '18711955', 'militante', 'féministe', 'suffragiste', 'étatsunienne', '1ère', 'présidente', 'de', 'league', 'of', 'women', 'votersest', 'connue', 'pour', 'discours', 'fougueux', 'en', 'faveur', 'du', '19e', 'amendement', 'donnant', 'dt', 'de', 'vote', 'aux', 'femmesqui', 'finit', 'par', 'entrer', 'en', 'vigueur', 'en', '1920'], tags=[198]),\n",
       " TaggedDocument(words=['europe', '@', 'emmanuelmacron', '@', 'theresamay', 'appellent', 'renforcer', 'linterdiction', 'armes', 'chimiques', 'monde', 'politique'], tags=[199]),\n",
       " TaggedDocument(words=['@', 'lettreaudio', '@', 'gofundme', 'si', 'vous', 'nous', 'dites', 'date', 'de', 'laudience', 'on', 'y', 'sera', 'balancetonporc'], tags=[200]),\n",
       " TaggedDocument(words=['édouard', 'philippe', 'en', 'janvier', '2018', 'maintient', 'sereinement', 'ministre', 'accusé', 'de', 'viol', 'en', 'déclarant', 'quil', 'toute', 'confiance', 'édouard', 'philippe', 'fin', 'novembre', '2017'], tags=[201]),\n",
       " TaggedDocument(words=['catherine', 'deneuve', 'est', 'femme', 'admirable', 'au', 'lieu', 'de', 'se', 'retirer', 'du', 'monde', 'en', 'pleurant', 'sur', 'beauté', 'perdue', 'comme', 'greta', 'garbo', 'elle', 'continue', 'jouer', 'affichant', 'crânement', 'visage', 'abîmé', 'taille', 'de', 'matrone', 'via', '@', 'lplapresse'], tags=[202]),\n",
       " TaggedDocument(words=['travail', 'domicile', 'khloé', 'kardashian', 'enceinte', 'découvrez', 'tous', 'derniers', 'détails', 'sur', 'grossesse'], tags=[203]),\n",
       " TaggedDocument(words=['tw', 'viol', 'parler', 'de', 'contrainte', 'psychologique', 'enjeux', 'de', 'pouvoir', 'dans', 'viol', 'est', 'essentiel', 'quand', 'jai', 'prononcé', 'viol', 'conjugal', 'chez', 'psychiatre', 'il', 'na', 'pas', 'compris', 'quand', 'jen', 'ai', 'parlé', 'ma', 'mère', 'elle', 'ma', 'dit', 'tu', 'as', 'ta', 'part', 'de', 'responsabilité', 'ça', 'doit', 'cesser', 'lrt'], tags=[204]),\n",
       " TaggedDocument(words=['@', 'marleneschiappa', '@', 'gerardcollomb', 'que', 'comptezvs', 'faire', 'contre', 'hacker', 'pour', 'insulte', 'sexiste', 'si', 'rien', 'pas', 'étonnant', 'que', 'h', 'tuent', 'f'], tags=[205]),\n",
       " TaggedDocument(words=['«', 't', '’', 'as', 'de', 'gros', 'mollets', 'je', 'parie', 'que', 't', '’', 'as', 'grosse', 'chatte', '»', 'payetashnek'], tags=[206]),\n",
       " TaggedDocument(words=['emmanuel', 'macron', 'angela', 'merkel', 'ont', 'l', '’', 'un', 'l', '’', 'autre', 'quatre', 'années', 'devant', 'eux', 'c', '’', 'est', 'grand', 'retour', 'du', 'couple', 'francoallemand', 'fautil', 'tout', 'miser', 'sur', 'couple', 'francoallemand'], tags=[207]),\n",
       " TaggedDocument(words=['02', 'nique', 'putain', 'de', 'pays', '04', '02', 'nique', 'dames', 'vertes', '04', '02', 'nique', 'catherine', 'deneuve', '04'], tags=[208]),\n",
       " TaggedDocument(words=['zones', 'dombres', 'de', 'lincendie', 'de', 'grenfelltower', 'londres', 'au', 'nom', 'victimes', '@', 'davidlammy', 'demande', 'réponses', 'theresa', 'may'], tags=[209]),\n",
       " TaggedDocument(words=['soirée', 'sur', 'frégate', 'l', '’', 'hermione', 'en', 'présence', 'de', 'ségolène', 'royal', 'pour', 'lancement', 'du', 'mécénat', 'avec', 'fondation', 'du', 'patrimoine', 'afin', 'de', 'financer', 'restauration', 'du', 'patrimoine', 'bastiais', 'restauration', 'de', 'sites', 'classes', 'régionaux', 'présenter', 'projet', 'de', 'geleotta'], tags=[210]),\n",
       " TaggedDocument(words=['affaire', 'buttet', 'votre', 'avis', 'nous', 'intéresse', 'buttet', 'harcelement', 'balancetonporc', 'valais', 'politique', 'suisse', 'moiaussi', 'metoo', 'balancetatruie'], tags=[211]),\n",
       " TaggedDocument(words=['rennes', 'elles', 'refusent', 'insultes', 'deux', 'jeunes', 'femmes', 'tabassées', 'sexisme', 'violencesfaitesauxfemmes'], tags=[212]),\n",
       " TaggedDocument(words=['aux', 'nb', 'qui', 'hésitent', 'd', '’', 'aller', 'voir', 'police', 'de', 'peur', 'de', 'se', 'faire', 'mégenrer', 'sans', 'arrêt', 'on', 'respecte', 'votre', 'choix', 'on', 'vous', 'soutient', 'de', 'toute', 'façon', 'mais', 'changement', 'ne', 'passe', 'pas', 'par', 'l', '’', 'inaction', 'chaque', 'jour', 'seul', 'fait', 'd', '’', 'exister', 'améliore', 'vie', 'de', 'chacune', 'd', '’', 'entre', 'nous', 'moiaussi'], tags=[213]),\n",
       " TaggedDocument(words=['balancetonporc', 'en', 'haïti', 'porcs\\u200b', 'friqués', 'ne', 'purgent', 'pas', 'de', 'peine', '😑💔'], tags=[214]),\n",
       " TaggedDocument(words=['ensemblecontrelesexisme', 'check', 'liste', '10', 'critères', 'pour', 'identifier', 'communication', 'sexiste', 'rôles', 'métiers', 'nombre', 'parentalité', 'représentation', 'corps', 'posture', 'physique', 'mots', 'employés', 'mots', 'lieux', 'couleurs'], tags=[215]),\n",
       " TaggedDocument(words=['@', 'leparisien', 'après', 'comportement', 'sexiste'], tags=[216]),\n",
       " TaggedDocument(words=['en', 'mal', 'de', 'couverture', 'médiatique', '@', 'carolinedehaas', 'donc', 'comme', 'beaucoup', 'choisie', 'loutrance', 'pour', 'se', 'relancer', 'pour', 'elle', 'tout', 'acte', 'sexuelle', 'entre', 'homme', 'femme', 'est', 'viol', 'ca', 'va', 'être', 'dure', 'de', 'se', 'relancer', 'médiatiquement', 'en', 'allant', 'encore', 'plus', 'loin', 'prochaine', 'fois'], tags=[217]),\n",
       " TaggedDocument(words=['christiane', 'taubira', '«', 'chaque', 'fois', 'qu', '’', 'on', 'restreint', 'libertés', 'on', 'n', '’', 'a', 'pas', 'su', 'rétablir', '»', 'pjlterrorisme'], tags=[218]),\n",
       " TaggedDocument(words=['il', 'paraît', 'que', 'présomption', 'dinnocence', 'nexiste', 'plus', 'depuis', '@', 'francoisfillon', 'il', 'paraît', 'que', 'cest', 'bien', 'de', 'présumer', 'coupable', 'quelquun', 'quelque', 'soit', 'chef', 'daccusation', 'même', 'viol', 'balancetonporc', 'est', 'de', 'retour', '@', 'gdarmanin'], tags=[219]),\n",
       " TaggedDocument(words=['co', 'dallemand', 'blague', 'on', 'sest', 'tellement', 'fait', 'douiller', 'jétais', 'sure', 'quon', 'allait', 'avoir', 'angela', 'merkel', 'anglais', 'cétait', 'supeeeeer', 'facile'], tags=[220]),\n",
       " TaggedDocument(words=['bravo', 'pour', 'discours', 'sur', 'moiaussi', 'mammouth2017', 'plusjamais', 'inspirant', '@', 'sarahjlabrosse', '@', 'cathbrunet'], tags=[221]),\n",
       " TaggedDocument(words=['propos', 'récents', 'du', 'porteparole', 'lr', 'sont', 'parfait', 'exemple', 'stéréotypes', 'véhiculés', 'sur', 'l', '’', 'apprentissage', 'voie', 'de', 'garage', 'voie', 'pour', 'mauvais', 'stop', 'arrêtons', 'de', 'raconter', 'idioties', 'apprentissage', 'formpro'], tags=[222]),\n",
       " TaggedDocument(words=['première', 'réunion', 'soutiens', 'de', 'ségolène', 'royal', 'pour', 'candidature', 'mairie', 'de', 'paris', 'au', 'parc', 'zoologique'], tags=[223]),\n",
       " TaggedDocument(words=['que', 'resteratil', 'de', 'moiaussi', 'enjeux', 'féministes', 'surveiller', 'en', '2018', 'etmaintenant'], tags=[224]),\n",
       " TaggedDocument(words=['dérives', 'féministes', 'dans', 'lettre', 'ouverte', 'centaine', 'de', 'femmes', 'dont', 'lactrice', 'catherine', 'deneuve', 'dénoncent', 'quelles', 'considèrent', 'comme', 'dérives', 'mouvements', 'de', 'type', 'balancetonporc', 'moiaussi', 'sur', 'réseaux', 'sociaux', 'québec'], tags=[225]),\n",
       " TaggedDocument(words=['eureka', 'solution', 'existait', 'mais', 'personne', 'n', '’', 'y', 'avait', 'penser', 'polqc', 'violencesfaitesauxfemmes', 'moiaussi', 'plq', 'couillard', 'coiteux'], tags=[226]),\n",
       " TaggedDocument(words=['royal', 'rendrait', 'elle', 'tous', 'fous', 'alain', 'destrem', 'ump', 'ségolène', 'royal', 'en', 'boubou', 'bleu', 'ça', 'me', 'rappelle', 'ma', 'femme', 'de', 'ménage'], tags=[227]),\n",
       " TaggedDocument(words=['gneu', 'gneu', 'gneu', 'gneu', 'femme', 'indépendante', 'femme', 'forte', 'ça', 'vient', 'pleurer', 'pour', 'soirée', 'foot', '14', 'février', 'on', 'sera', 'devant', 'réalpsg', 'que', 'féministes', '20', 'de', 'twitter', 'veuillent', 'ou', 'non'], tags=[228]),\n",
       " TaggedDocument(words=['@', 'lepolitique', 'lasuite', 'kouchner', 'aurait', 'préféré', 'quelque', 'chose', 'de', '«', 'plus', 'poétique', '»', 'que', 'balancetonporc', 'pour', 'dénoncer', 'violences', 'faites', 'aux', 'femmes', '😳😳😳🤮🤮🤮', 'mec', 'est', 'consternant', 'vironsles'], tags=[229]),\n",
       " TaggedDocument(words=['pour', 'jeunes', 'qui', 'découvrent', 'série', 'friends', 'est', 'sexiste', 'homophobe', 'grossophobe', 'friends', 'homophobe', 'sexiste'], tags=[230]),\n",
       " TaggedDocument(words=['super', 'argument', 'maintenant', 'gamines', 'agressées', 'vont', 'juste', 'se', 'construire', 'en', 'pensant', 'quelles', 'navaient', 'quà', 'ne', 'pas', 'être', 'jolies', 'ça', 'ne', 'leur', 'serait', 'pas', 'arrivé', 'balancetonporc'], tags=[231]),\n",
       " TaggedDocument(words=['balancetonporc', 'madzneff', 'se', 'vantait', 'quand', 'jétais', 'petite', 'de', 'séduire', 'fillettes', 'de', 'douze', 'ans', 'honte', 'au', 'point', 'de', 'publier'], tags=[232]),\n",
       " TaggedDocument(words=['femme', 'chante', 'tellement', 'juste', 'confessionintime', 'ironie', 'tf1'], tags=[233]),\n",
       " TaggedDocument(words=['mais', 'en', 'faite', 'vous', 'pensez', 'femme', 'elle', 'est', 'votre', 'service', 'mon', 'père', 'y', 'cuisine', 'qd', 'ma', 'mère', 'cuisine', 'pas', 'c', 'pas', 'pour', 'autant', 'qui', 'blablate', 'consenties', 'pareil', 'changer', 'votre', 'mentalité', 'sérieux', 'c', 'grave'], tags=[234]),\n",
       " TaggedDocument(words=['mots', 'de', 'lannée', '26', '«', 'moiaussi', 'metoo', '»', 'motclic', 'pour', 'balancer', 'porc', 'goldenglobes'], tags=[235]),\n",
       " TaggedDocument(words=['en', 'finir', 'avec', 'clichés', 'sur', 'femmes', 'au', 'volant', 'sexisme', 'égalitéfh', 'automobile'], tags=[236]),\n",
       " TaggedDocument(words=['femme', 'enceinte', 'au', 'stand', 'de', 'tir', 'elle', 'pas', 'peur', 'que', 'bébé', 'devienne', 'sourd'], tags=[237]),\n",
       " TaggedDocument(words=['lexcision', 'nest', 'pas', 'du', 'fait', 'européens', 'que', 'veut', 'feminisme', 'femen', 'aujourdhui', 'avec', 'lachat', 'spermatozoides', 'castration', 'hommes', 'balancetonporc', 'metoo', 'balancetatruie', 'société', 'où', 'elle', 'aura', 'pouvoir', 'où', 'elle', 'se', 'soumettra', 'islam', 'racismeantiblanc'], tags=[238]),\n",
       " TaggedDocument(words=['“', '@', 'ledevoir', 'étatsunis', 'g', 'zimmerman', 'aurait', 'menacé', 'femme', 'avec', 'arme', 'feu', 'mais', 'non', 'il', 'se', 'protégeait', 'ironie'], tags=[239]),\n",
       " TaggedDocument(words=['achat', 'du', 'jour', 'très', 'bon', 'livre', 'payetashnek', 'sinon', 'check'], tags=[240]),\n",
       " TaggedDocument(words=['ces', 'commentaires', 'sur', 'robe', 'd', '’', '@', 'auroreberge', 'sont', 'lamentables', 'on', 'droit', 'en', '2018', 'd', '’', 'être', 'sexy', 'intelligente', 'archives', 'de', 'télé', 'sont', 'pleines', 'd', '’', 'images', 'années', '60', 'où', 'speakerine', 'avait', 'été', 'virée', 'pour', 'avoir', 'montré', 'genoux', 'sacréprogres'], tags=[241]),\n",
       " TaggedDocument(words=['femme', 'cest', 'detre', 'belle', 'nellyarcan', 'ironie'], tags=[242]),\n",
       " TaggedDocument(words=['@', 'ochey69780s', 'account', 'is', 'temporarily', 'unavailable', 'because', 'it', 'violates', 'the', 'twitter', 'media', 'policy', 'learn', 'more'], tags=[243]),\n",
       " TaggedDocument(words=['nous', 'deux1979', 'dirigida', 'por', 'claude', 'lelouch', 'catherine', 'deneuvejacques', 'dutronc'], tags=[244]),\n",
       " TaggedDocument(words=['@', 'grosromain', 'balance', 'ton', 'porc', 'débile', 'qui', 'reluque', 'de', 'louloute', 'pour', 'mieux', 'limer', 'maman', 'on', 'nen', 'est', 'pas', 'tous', 'là😜'], tags=[245]),\n",
       " TaggedDocument(words=['il', 'est', 'utile', 'que', 'toutes', 'femmes', 'prennent', 'parole', 'sur', 'sujet', 'du', 'harcèlement', 'mais', 'je', 'ne', 'juge', 'pas', 'femmes', 'qui', 'nont', 'pas', 'pu', 'ou', 'pas', 'osé', 'prendre', 'parole', '@', 'franceinfo', 'lesinformes'], tags=[246]),\n",
       " TaggedDocument(words=['sur', 'gulli', 'timber', 'carte', 'au', 'trésor', 'particulièrement', 'sexiste', 'insultant', 'pour', 'filles', 'sexismepasnotregenre', '@', 'gulli'], tags=[247]),\n",
       " TaggedDocument(words=['cela', 'relève', 'bel', 'bien', 'de', 'balancetonporc', 'c', '’', 'est', 'en', 'dessous', 'de', 'tout', 'en', 'marche', 'pour', 'en', 'finir', 'avec', 'ces', 'apprentis', 'dictateurs', 'misogynes', 'incultes', 'répugnant'], tags=[248]),\n",
       " TaggedDocument(words=['pour', 'lutter', 'contre', 'sexisme', 'cette', 'célèbre', 'actrice', 'va', 'arrêter', 'de', 'tourner', '…', 'vidéo'], tags=[249]),\n",
       " TaggedDocument(words=['sah', 'arrêtez', 'de', 'demander', 'femmes', 'qui', 'vous', 'poussent', 'vers', 'haut', 'fiantan', 'alors', 'que', 'vous', 'foutez', 'strictement', 'rien', 'gros', 'ta', '38', 'ans', 'tes', 'dans', 'ton', 'lit', 'h24', 'tu', 'te', 'bouge', 'pas', 'mais', 'tattend', 'quune', 'femme', 'vienne', 'faire', 'tout', 'ta', 'place', 'quel', 'culot'], tags=[250]),\n",
       " TaggedDocument(words=['trouve', 'femme', 'pas', 'salope', 'qui', 'voudra', 'ton', 'fric'], tags=[251]),\n",
       " TaggedDocument(words=['@', 'antipodes69', '@', 'briceperrin', '@', 'velojedi', 'dans', 'lidéal', 'oui', 'sauf', 'que', 'sur', 'nos', '2', 'derniers', 'déménagements', 'on', 'na', 'pas', 'pu', 'faire', 'de', 'tri', 'ou', 'en', 'tout', 'cas', 'pas', 'autant', 'quon', 'laurait', 'voulu', 'femme', 'enceinte', 'enfants', 'gérer'], tags=[252]),\n",
       " TaggedDocument(words=['@', 'ggrmc', '@', 'ggrmc', 'abordent', 'comme', 'toujours', 'sujets', 'hautement', 'débiles', 'y', 'voyant', 'du', 'sexisme', 'dans', 'tout', 'dans', 'rien', 'cest', 'fois', 'de', 'plus', 'grandement', 'pathétique', 'avomir'], tags=[253]),\n",
       " TaggedDocument(words=['@', 'twist1961', '@', 'twitpolitique', 'traiter', 'femme', 'de', 'salope', 'cest', 'remarque', 'critique'], tags=[254]),\n",
       " TaggedDocument(words=['je', 'dois', 'avouer', 'que', 'lors', 'de', 'mon', 'divorce', 'torts', 'était', 'partagés', '50', 'torts', 'ma', 'femme', '50', 'mère', 'blague', 'humour', 'lol'], tags=[255]),\n",
       " TaggedDocument(words=['on', 'connaît', 'tous', 'aurore', 'bergé', 'c', '’', 'est', 'moche', 'qui', 'traîne', 'avec', 'belles', 'qui', 'compense', 'avec', 'de', 'l', '’', 'indécence', '1cm', 'de', 'maquillage', 'pour', 'faire', 'illusion', 'jusqu', '’', 'à', '4h', 'du', 'mat', '’', 'heure', 'laquelle', 'lui', 'faire', 'bise', 'revient', 'se', 'laver', 'visage', 'avec', 'beignet', 'en', 'plein', 'mois', 'd', '’', 'août'], tags=[256]),\n",
       " TaggedDocument(words=['@', 'valerieboyer13', 'fillon', 'perdu', 'l', '’', 'élection', 'parce', 'qu', '’', 'il', 'trouvait', 'normal', 'qu', '’', 'un', 'député', 'emploie', 'femme', 'fils', 'fille', 'sur', 'fonds', 'publics', 'genre', 'de', 'pratique', 'n', '’', 'a', 'plus', 'place', 'en', 'france', 'en', '2018'], tags=[257]),\n",
       " TaggedDocument(words=['@', 'lettreaudio', '@', 'mariesinfiltre', 'excellente', 'mariesinfiltre', 'elle', 'est', 'passée', 'dans', 'spéciale', 'harcellement', 'de', 'quotidien', 'je', 'lai', 'trouvée', 'très', 'créative', 'balancetonporc'], tags=[258]),\n",
       " TaggedDocument(words=['dur', 'décrire', 'mais', 'vieux', 'comme', 'homme', 'de', 'neandertal', 'dur', 'de', 'técrire', 'comme', 'si', 'poste', 'avait', 'an', 'de', 'retard'], tags=[259]),\n",
       " TaggedDocument(words=['merci', '@', 'theresamay', 'pour', 'journée', 'de', 'pourparlers', 'très', 'productive', 'en', 'vue', 'de', 'renforcer', 'relation', 'canadaru'], tags=[260]),\n",
       " TaggedDocument(words=['angela', 'merkel', 'réélue', 'chancelière', 'dallemagne', 'femme', 'plus', 'puissante', 'du', 'monde', 'retour', 'sur', 'parcours'], tags=[261]),\n",
       " TaggedDocument(words=['ah', 'nous', 'voilà', 'donc', 'instruits', 'de', 'lavis', 'de', 'plantu', 'concernant', 'mouvement', 'balancetonporc', 'personnes', 'qui', 'auront', 'utilisé', 'tag', 'de', 'pauvres', 'victimes', 'masculines', 'cest', 'très', 'habile', 'tout', 'fait', 'limpide', 'ma', 'foi', 'ça', 'pue', 'merde'], tags=[262]),\n",
       " TaggedDocument(words=['quand', 'féministe', 'épargne', 'judéosioniste', 'sénatrice', 'rossignol', 'accorde', 'interview', 'lagresseur', 'sexuel', 'présumé', 'haziza', 'cc', '@', 'frhaz', '@', 'laurossignol', '@', 'michelzer', '@', 'sdjlcp', '@', 'memalouines', '@', 'teamisaattard', '@', 'fderugy', '@', 'marleneschiappa', '@', 'manuelvalls', '@', 'adevillaines'], tags=[263]),\n",
       " TaggedDocument(words=['je', 'suis', 'féministe', 'vrai', 'tous', 'hommes', 'devraient', 'lêtre', 'parce', 'que', 'femmes', 'sont', 'nos', 'mères', 'nos', 'soeurs', 'nos', 'filles', 'de', 'merveilleux', 'trésors', 'fragiles', 'chérir', 'protéger', 'tweetcommeunmeccis'], tags=[264]),\n",
       " TaggedDocument(words=['@', 'thegreaterboy', 'simple', 'fait', 'de', 'voir', 'gosse', 'de', '16ans', 'genre', 'de', 'soirée', 'où', 'ils', 'ne', 'vont', 'certainement', 'pas', 'jouer', 'aux', 'cartes', 'avec', 'adultes', 'de', '30', '55', 'ans', 'est', 'très', 'gênant', 'jeremstargate', 'balancetonbabybel', 'balancetonporc', 'babybelgate'], tags=[265]),\n",
       " TaggedDocument(words=['levée', 'de', 'fond', 'pour', 'm', 'aider', 'financer', 'mes', 'frais', 'de', 'justice', 'première', 'etape', 'francaise', '@', 'gofundme', 'gofundme', 'solidarité', 'balancetonporc', 'metoo', 'timesupnow', 'suivre', 'ici'], tags=[266]),\n",
       " TaggedDocument(words=['🤾♀️', 'handaction', '🏆', 'coupe', 'du', 'monde', '🇫🇷', 'découvrez', 'film', 'portes', 'du', 'paradis', 'vendredi', 'en', 'intégralité', 'après', 'match', 'entre', 'france', 'norvège', 'sur', 'bein', 'sports', '3', '22h30', '💫', 'retour', 'sur', 'titre', 'bleues', 'au', 'mondial', 'allemand'], tags=[267]),\n",
       " TaggedDocument(words=['open', 'bar', 'c', 'est', 'ça', 'tant', 'que', 'justice', 'ne', 'protégera', 'pas', 'sérieusement', 'victimes', 'de', 'viol', 'd', 'inceste', 'balancetonporc'], tags=[268]),\n",
       " TaggedDocument(words=['affaire', 'darmanin', 'point', 'de', 'vue', 'au', 'vitriol', 'dune', 'femme', 'avocate'], tags=[269]),\n",
       " TaggedDocument(words=['ségolèneroyal', 'qui', 'dilapidé', 'sans', 'compter', 'largent', 'public', 'français', 'qui', 'bénéficie', 'par', 'protection', 'dun', 'poste', 'dambassadeur', 'auprès', 'pingouins', 'devrait', 'avoir', 'pudeur', 'de', 'se', 'taire', 'lorsquelle', 'parle', 'de', '@', 'nicolassarkozy'], tags=[270]),\n",
       " TaggedDocument(words=['jsuis', 'pourtant', 'pas', 'fleurs', 'bleues', 'mais', 'comment', 'jkifferais', 'trop', 'être', 'chez', 'moi', 'me', 'faire', 'livrer', 'roses', 'avec', 'mot', 'dont', 'jmy', 'attend', 'pas', 'du', 'tt'], tags=[271]),\n",
       " TaggedDocument(words=['entrain', 'dvisionner', 'coller', 'petite', 'pour', 'préparer', 'article', 'sur', 'mon', 'blog', 'franchement', 'filles', 'sont', 'daccord', 'pour', 'danser', 'sur', 'ça', 'après', 'elles', 'disent', 'quelles', 'veulent', 'quand', 'même', 'balancetonporc'], tags=[272]),\n",
       " TaggedDocument(words=['@', 'franckriester', '@', 'jclagarde', '@', 'udioff', '@', 'agirofficiel', '@', 'assembleenat', 'acte', '2', 'honteux', 'de', 'travailler', 'avec', '@', 'jclagarde', 'coparrain', 'd', '’', 'une', 'petite', 'organisation', 'pseudo', 'mafieuse', 'de', 'filsdelaches', '@', 'udioff', '@', 'agirofficiel', 'petites', 'frappes', 'c', '’', 'est', 'vous', 'qu', '’', 'on', 'devrait', 'pendre', 'sur', 'place', 'publique', 'fdp', 'bobigny', 'kianoush', 'piecesaconviction', 'balancetonporc'], tags=[273]),\n",
       " TaggedDocument(words=['transition', 'vers', 'système', 'de', 'change', 'flexible', 'du', 'dirham', '“', 'une', 'très', 'bonne', 'décision', '”', 'du', 'gouvernement', 'marocain', 'mme', 'christinelagarde', 'fmi', '@', 'fmiactualites'], tags=[274]),\n",
       " TaggedDocument(words=['il', 'faudrait', 'brûler', 'livre', 'pour', 'enfants', 'petite', 'taupe', 'lamour', 'ou', 'brûler', 'ou', 'alors', 'brûler', 'jhésite', 'encore', 'sexisme', 'entre', 'autre'], tags=[275]),\n",
       " TaggedDocument(words=['proposition', 'sexiste', 'clichée', 'antiégalitaire', 'papas', 'apprécieront', 'de', '@', 'marleneschiappa', 'sec', 'détat', 'legalité', 'fh', 'budgetddf', '🤦🏻\\u200d♀️'], tags=[276]),\n",
       " TaggedDocument(words=['mariefrance', 'bazzo', 'est', 'passée', 'cheveu', 'de', 'twitter', 'moiaussi', 'elle', 'ne', 'pas', 'fait', 'cause', 'de', 'dilemme', 'intime'], tags=[277]),\n",
       " TaggedDocument(words=['il', 'était', 'peu', 'falot', 'mais', 'il', 'pris', 'quelques', 'bonnes', 'décisions', 'je', 'ne', 'l', '’', 'ai', 'pas', 'détesté', 'mariage', 'pour', 'tous', 'décision', 'de', 'garder', 'christiane', 'taubira…', 'jeanpierre', 'bacri', 'revient', 'sur', 'bilan', 'de', 'françois', 'hollande', 'quotidien'], tags=[278]),\n",
       " TaggedDocument(words=['dans', 'quelques', 'jours', 'sera', 'fin', 'de', 'marathon', 'tuniques', 'bleues', 'véritable', 'achievement', 'dans', 'vie'], tags=[279]),\n",
       " TaggedDocument(words=['tenue', 'correcte', 'exigée', 'lorsquon', 'est', 'députée', 'femme', '@', 'auroreberge', 'victime', 'dune', 'polémique', 'sur', 'tenue', 'lors', 'dun', 'récent', 'passage', 'tv', 'est', 'linvitée', 'du', '5sur5', 'de', 'càvous', 'question', 'faussement', 'légère', 'atelle', 'réfléchi', 'quelle', 'devait', 'porter', 'en', 'venant', 'nous', 'voir'], tags=[280]),\n",
       " TaggedDocument(words=['@', 'jeremstar', '«', 'je', 'ne', 'suis', 'pas', 'violeur', 'ma', 'mère', 'est', 'femme', '»', 'balancetonporc', 'de', 'rien', '😉', 'malaise', '–', 'jeremstar', 'palpe', 'poitrine', 'd', '’', 'une', 'jeune', 'femme', 'en', 'public', 'sur', 'snapchat', '“', 'je', 'ne', 'te', 'permet', 'pas', '”', 'il', 'continue', 'l', '’', 'humilie'], tags=[281]),\n",
       " TaggedDocument(words=['oui', 'mieux', 'que', 'notre', 'première', 'ministre', 'du', 'canada', 'c', '’', 'est', 'certain'], tags=[282]),\n",
       " TaggedDocument(words=['margaret', 'thatcher', 'ou', 'femme', 'plus', 'aimé', 'ironie', 'est', 'morte', 'aujourdhui'], tags=[283]),\n",
       " TaggedDocument(words=['1', 'palme', 'de', 'couverture', 'sexiste', 'de', 'semaine', 'revient', 'à', '@', 'voici'], tags=[284]),\n",
       " TaggedDocument(words=['quatre', 'adolescentes', 'poursuivent', 'frappent', 'jeune', 'femme', 'dans', 'métro', 'via', '@', '20minutes'], tags=[285]),\n",
       " TaggedDocument(words=['base', 'de', 'léducation', 'cest', 'de', 'ne', 'pas', 'toucher', 'qui', 'ne', 'tappartient', 'pas', 'sinon', 'cest', 'du', 'vol', 'pas', 'de', 'consentement', '=', 'viol', 'balancetonporc'], tags=[286]),\n",
       " TaggedDocument(words=['l', '’', 'arbitre', 'tête', 'de', 'ma', 'mère', 'va', 'bien', 'niquer', 'ta', 'mère', 'pute', 'tes', 'enfants', 'gros', 'fils', 'de', 'pute', 'ta', 'femme', 'qui', 'se', 'fait', 'retourner', 'par', 'bouna'], tags=[287]),\n",
       " TaggedDocument(words=['nonmixité', 'entre', 'mecs', 'harceleurs', 'ça', 'dérange', 'pas', 'balancetonporc', 'balancetesporcs'], tags=[288]),\n",
       " TaggedDocument(words=['conférence', 'sur', 'sexisme', 'sport', 'sexisme', 'sport', 'bravo', '@', 'bbarbusse', 'women', 'il', 'du', 'boulot', 'pour', 'équilibrer', 'hein', 'egalitefh', 'autant', 'sy', 'mettre', 'fond', 'toutes', 'tous', 'ça', 'sera', 'plus', 'rapide', 'comme', 'quand', 'on', 'fait', 'ménage', 'apres', '21', 'siècles', 'de', 'vie', 'commune'], tags=[289]),\n",
       " TaggedDocument(words=['«', 'à', 'quelle', 'somme', 'genre', 'de', 'comportement', 'devientil', 'acceptable', 'selon', 'vous', 'messieurs', 'cent', 'mille', 'dollars', 'million', 'combien', 'pour', 'pogner', 'fesse', 'pour', 'exhiber', 'sexe', 'pour', 'menacer', 'de', 'représailles', '»', 'metoo', 'moiaussi'], tags=[290]),\n",
       " TaggedDocument(words=['@', 'ruquierofficiel', 'avez', 'vous', 'prévu', 'd', '’', 'inviter', 'chilla', 'cette', 'râpeuse', 'féministe', 'qui', 'notamment', 'fait', 'chanson', 'très', 'pertinente', 'sur', 'balancetonporc', 'via', '@', 'youtube'], tags=[291]),\n",
       " TaggedDocument(words=['tenirsespromesses', 'pour', 'clore', 'cette', 'semaine', 'de', 'pénitence', 'mes', 'ff', '@', 'xorizo', '@', 'pjunjour', '@', 'barondepontault', '@', 'movelikejaeger', '@', 'violentpolicier', '@', 'btankraide', '@', 'sardevrk', '@', 'yannpiz', 'vous', 'prouvez', 'ici', 'que', 'même', 'fdo', 'ont', 'cerveau'], tags=[292]),\n",
       " TaggedDocument(words=['sinon', 'justice', 'est', 'en', 'ou', 'sur', 'jugement', 'deux', 'pervers', 'balancetonporc'], tags=[293]),\n",
       " TaggedDocument(words=['c', '’', 'est', 'qui', 'qui', 'gros', 'homophobe', 'décidément', 'après', 'avoir', 'comparé', 'balancetonporc', 'délation', '2nde', 'guerre', 'mondiale', '«', 'cest', 'grosse', '«', 'tarlouze', 'association', 'saisit', 'csa', 'après', 'dérapage', 'de', 'joeystarr', 'onpc', '»'], tags=[294]),\n",
       " TaggedDocument(words=['angela', 'merkel', 'quatrième', 'femme', 'personnalité', 'de', 'lannée', 'du', 'time', 'depuis', '1927'], tags=[295]),\n",
       " TaggedDocument(words=['@', 'nadiyaofficiel', 'dans', 'slt', '“', 'je', 'ne', 'fais', 'pas', 'métier', 'pour', 'être', 'connue', 'on', 'm', '’', 'a', 'proposé', 'deux', 'contrats', 'pour', 'covers', 'je', 'ne', 'sais', 'pas', 'faire', 'ça', 'j', '’', 'ai', 'besoin', 'd', '’', 'incarner', 'que', 'je', 'fais', 'que', 'je', 'dis', '”'], tags=[296]),\n",
       " TaggedDocument(words=['moiaussi', 'je', 'dis', 'etmaintenant'], tags=[297]),\n",
       " TaggedDocument(words=['portrait', 'angela', 'merkel', '«', 'la', 'femme', 'plus', 'puissante', 'du', 'monde', '»', 'plus', 'décriée', 'en', 'europe'], tags=[298]),\n",
       " TaggedDocument(words=['@', 'lionelperez', '«', 'il', 'est', 'essentiel', 'que', 'ville', 'de', 'montréal', 'prenne', 'tous', 'moyens', 'pour', 's', '’', 'attaquer', 'cette', 'question', 'pour', 'prévenir', 'situations', 'pouvant', 'mener', 'inconduites', 'sexuelles', '»', 'moiaussi', 'polmtl', 'etmaintenant'], tags=[299]),\n",
       " TaggedDocument(words=['@', 'loopsidernews', 'soutien', 'toutes', 'victimes', 'celles', 'ceux', 'qui', 'luttent', 'contre', 'violences', 'faites', 'aux', 'femmes', 'si', 'balancetonporc', 'permet', 'de', 'libérer', 'parole', 'mette', 'fin', 'aux', 'comportements', 'honteux', 'inappropriés', 'de', 'certaines', 'personnes', 'alors', 'il', 'faut', 'soutenir', 'l', '’', 'encourager'], tags=[300]),\n",
       " TaggedDocument(words=['@', 'inforoubaix', 'si', 'tous', 'ceux', 'qui', 'ont', 'retwet', 'donnait', '1', 'euro', 'il', 'pourrait', 'déjà', 'aller', 'lhôtel', 'soyez', 'sincères', 'ouvrez', 'cagnotte', 'pour', 'jeje041075', '@', 'moiaussi'], tags=[301]),\n",
       " TaggedDocument(words=['dans', 'foot', 'aussi', '@', 'hopesolo', 'accuse', 'sepp', 'blatter', 'fifa', 'dagression', 'sexuelle', 'via', '@', 'tdgch', 'balancestonporc', 'metoo', 'hopesolo'], tags=[302]),\n",
       " TaggedDocument(words=['je', 'croyais', 'que', 'mon', 'voisin', 'voulait', 'encore', 'faire', 'peur', 'femme', 'en', 'donnant', 'coup', 'de', 'fusil', 'mais', 'non', 'c', 'feux', 'dartifice', 'hahaha', 'ironie'], tags=[303]),\n",
       " TaggedDocument(words=['vendredi', 'théorie', 'parlons', 'violences', 'caractère', 'sexuel', 'en', 'rappelant', 'définitions', 'partagées', 'en', 'décembre', 'dernier', '👇', 'cultureduconsentement', 'consentementudem', 'jetecrois', 'creonslasuite', 'moiaussi', 'moiaussimoncton'], tags=[304]),\n",
       " TaggedDocument(words=['25', 'janvier', 'se', 'tiendra', 'première', 'journée', 'contre', 'sexisme'], tags=[305]),\n",
       " TaggedDocument(words=['claudie', 'corvol', '«', 'sexisme', 'est', 'présent', 'dans', 'sport', 'nous', 'devons', 'dénoncer', '»', 'sujet', 'en', 'débat', 'coloque', 'lundi24', '«', 'plus', 'de', 'femmes', 'pour', 'plus', 'de', 'sport', '»'], tags=[306]),\n",
       " TaggedDocument(words=['blancs', 'ils', 'font', 'mariages', 'de', '75', 'invités', 'tu', 'essaies', 'ça', 'ici', 'lendemain', 'tu', 'as', 'hernie', 'grumier', 'écrase', 'ta', 'femme'], tags=[307]),\n",
       " TaggedDocument(words=['sandra', 'muller', '«', 'balancetonporc', 'c', '’', 'est', 'révolte', 'briseurs', 'de', 'silence', '»'], tags=[308]),\n",
       " TaggedDocument(words=['jeu', 'de', 'mots', 'graveleux', 'photo', 'sexiste', 'bravo', '@', 'tennismagazine1'], tags=[309]),\n",
       " TaggedDocument(words=['moiaussi', 'je', 'dis', 'etmaintenant', 'via', '@', 'lplapresse'], tags=[310]),\n",
       " TaggedDocument(words=['user', 'de', 'petit', 'pouvoir', 'pour', 'se', 'faire', 'sucer', 'timagines', 'mentalité', 'de', 'minable', 'quil', 'faut', 'pour', 'en', 'arriver', 'du', 'petit', 'chef', 'quil', 'faut', 'être', 'de', 'laideur', 'du', 'danger', 'potentiel', 'quil', 'représente', 'pour', 'tous', 'subordonnés', 'balancetonporc', 'sauf', 'sil', 'est', 'ministre'], tags=[311]),\n",
       " TaggedDocument(words=['après', 'zemour', 'morano', 'encore', 'soutien', 'de', 'poid', 'pour', 'tribune', 'de', 'catherinedeneuve', '😂', 'meme', 'si', 'ça', 'existe', 'aussi'], tags=[312]),\n",
       " TaggedDocument(words=['compétition', 'est', 'ardue', 'aujourdhui', 'pour', 'larticle', 'ou', 'tweet', 'plus', 'sexiste', 'misogyne', 'prix', 'du', 'jury'], tags=[313]),\n",
       " TaggedDocument(words=['donald', 'trump', 'qualifie', 'angela', 'merkel', 'de', 'femme', 'extraordinaire'], tags=[314]),\n",
       " TaggedDocument(words=['@', 'interelles', 'continue', 'engagement', 'pour', 'lutter', 'contre', 'sexisme', 'en', 'participant', 'au', 'collectif', 'ensemblecontrelesexisme', 'signature', 'de', 'charte', 'avec', '22', 'associations', 'engagées', 'pour', 'l', 'égalité', 'fh'], tags=[315]),\n",
       " TaggedDocument(words=['@', 'mrdetilly', 'feminisme', 'questions', 'de', 'priorités', 'déthiques', 'aussi', 'cest', 'moins', 'glamour', 'moins', 'tendance', 'moins', 'visible', 'moins', '@', 'osezlefeminisme', '@', 'carolinedehaas', '@', 'marleneschiappa', '@', 'causeur', '@', 'elevycauseur', '@', 'ellefrance', '@', 'madamefigaro', '@', 'lobs', '@', 'lemondefr', 'balancetonporc', 'harcelement'], tags=[316]),\n",
       " TaggedDocument(words=['nouveau', 'coup', 'de', 'coeur', 'igit', 'noir', 'blanc', 'en', 'duo', 'avec', 'catherine', 'deneuve', 'deezer'], tags=[317]),\n",
       " TaggedDocument(words=['poursuivie', 'en', 'diffamation', 'créatrice', 'de', 'balancetonporc', 'lance', 'collecte', 'pour', 'payer', 'défense'], tags=[318]),\n",
       " TaggedDocument(words=['on', 'vient', 'de', 'me', 'claquer', 'cul', 'putain', 'de', 'beauf', 'blanc', 'cisgenre', 'salade', 'tomate', 'oignon', 'intérieur', 'cuir', 'balancetonporc'], tags=[319]),\n",
       " TaggedDocument(words=['merci', 'au', 'rappeur', 'de', 'montpellier', '@', 'vinswaza', 'pour', 'freestyle', 'metoo', 'sur', 'violences', 'faites', 'aux', 'femmes', 'violencessexuelles', '🙏🔥🤘lt3', 'balancetonporc'], tags=[320]),\n",
       " TaggedDocument(words=['lindépendance', 'version', 'lemedia', 'leçon', 'de', 'journalisme', '😂😂😂'], tags=[321]),\n",
       " TaggedDocument(words=['en', '2006', 'javais', '20', 'ans', 'dans', 'métro', 'toulousain', 'collé', 'derrière', 'moi', 'tu', 'mexcite', 'tu', 'me', 'suis', 'lhotel', 'sortie', 'balancetonporc'], tags=[322]),\n",
       " TaggedDocument(words=['video', 'non', 'aurore', 'bergé', 'on', 'ne', 'peut', 'pas', 'shabiller', 'comme', 'on', 'veut', 'réponse', 'cinglante', 'de', 'jeanmichel', 'aphatie'], tags=[323]),\n",
       " TaggedDocument(words=['faut', 'vraiment', 'faire', 'confiance', 'personne', 'dans', 'monde', 'de', 'salope'], tags=[324]),\n",
       " TaggedDocument(words=['ségolèneroyal', 'participé', 'activement', 'au', 'déclin', 'de', 'france', 'sous', 'hollande', 'voilà', 'que', 'cette', 'pauvre', 'femme', 'donne', 'encore', 'avis', 'quelle', 'retourne', 'gagner', 'pitance', 'aux', 'pôles', 'en', 'tant', 'quambassadrice', 'auprès', 'pingouins', 'quelle', 'y', 'resteloin', 'de', 'france'], tags=[325]),\n",
       " TaggedDocument(words=['thiago', 'sylva', '=', 'tir', 'de', 'femme', 'enceinte', 'assepsg'], tags=[326]),\n",
       " TaggedDocument(words=['sans', 'surprise', 'angela', 'merkel', 'reste', 'femme', 'plus', 'puissante', 'du', 'monde', 'pour', '@', 'forbes', 'gtgt'], tags=[327]),\n",
       " TaggedDocument(words=['enquête', 'pour', 'viol', 'tariq', 'ramadan', 'placé', 'en', 'garde', 'vue', 'gtgt'], tags=[328]),\n",
       " TaggedDocument(words=['cétait', 'attendu', 'on', 'évoque', 'balancetonporc', 'timesup', 'avec', 'jeunes', 'venus', 'leur', 'journée', 'citoyenneté'], tags=[329]),\n",
       " TaggedDocument(words=['@', 'fandetv', '@', 'laurentwauquiez', '@', 'vpecresse', '@', 'lesrepublicains', 'idiotsutiles', 'on', 'connaitmais', 'parler', 'didiotes', 'utiles', 'estce', 'sexiste❓', 'dérapages', 'de', 'pecresse', 'qui', 'ne', 'nous', 'avait', 'pourtant', 'pas', 'habituée', 'autant', 'de', 'conneries', 'surtout', 'en', 'si', 'peu', 'de', 'temps', 'cornaquée', 'si', 'oui', 'par', 'qui', '🤔', 'juppe'], tags=[330]),\n",
       " TaggedDocument(words=['enfin', '@', 'théresamay', 'autre', 'femme', 'qui', 'comme', '@', 'mlpofficiel', 'du', 'fn', 'na', 'pas', 'de', 'peau', 'de', 'saucisson', 'devant', 'yeux', 'respect', 'ces', 'femmes'], tags=[331]),\n",
       " TaggedDocument(words=['salope', 'jour', 'salope', 'toujours', 'pas', 'de', 'reconversions', 'dans', 'domaine'], tags=[332]),\n",
       " TaggedDocument(words=['poil', 'devrait', 'être', 'tendance', 'dixit', 'femme', 'aux', 'sourcils', 'impecables', 'ironie', 'm6', 'imbeciles'], tags=[333]),\n",
       " TaggedDocument(words=['demain', 'dans', 'le79inter', '•', 'pierre', 'birnbaum', 'est', 'linvité', 'd', '@', 'alibaddou', '7h50', '•', 'erik', 'orsenna', 'est', 'linvité', 'de', '@', 'ndemorand', '8h20', 'bonne', 'soirée'], tags=[334]),\n",
       " TaggedDocument(words=['sexisme', 'en', 'sport', '@', 'annefloremarxer', 'dénonce', 'regard', 'hypersexualisé', 'de', 'presse', 'sportive', 'envers', 'athlètes', 'féminines', 'clhebdo'], tags=[335]),\n",
       " TaggedDocument(words=['lors', 'de', 'leur', 'rencontre', 'maison', 'blanche', 'aujourdhui', 'donald', 'trump', 'qualifie', 'angela', 'merkel', 'de', 'femme', 'extraordinaire'], tags=[336]),\n",
       " TaggedDocument(words=['lysiane', 'gagnon', 'catherine', 'deneuve', 'double', 'piège', 'lapresseplus', 'jai', 'failli', 'métouffer', 'avec', 'mon', 'café', 'en', 'lisant', 'début', 'du', 'texte', 'elle', 'continue', 'jouer', 'affichant', 'crânement', 'visage', 'abîmé', 'taille', 'de', 'matrone', 'elle', 'aura', '75', 'ans', 'cette', 'année', '12'], tags=[337]),\n",
       " TaggedDocument(words=['cavous', 'emmanuelle', 'devos', '@', 'pierrearditi', 'donnent', 'leur', 'avis', 'sur', 'dérives', 'de', 'balancetonporc', '@', 'woodyallen', 'etc', 'etc', 'ça', 'va', 'buzzer', 'parce', 'quon', 'ne', 'va', 'prendre', 'quune', 'partie', 'de', 'litw', 'donc', 'déformer', 'propos'], tags=[338]),\n",
       " TaggedDocument(words=['avant', 'de', 'partir', 'de', 'chez', 'mon', 'ex', 'jai', 'mis', 'coups', 'de', 'mon', 'parfum', 'peu', 'partout', 'jai', 'laissé', 'deux', 'trois', 'affaires', 'moi', 'psychopathe', 'peut', 'être', 'connasse', 'ça', 'cest', 'sûr', '✊️'], tags=[339]),\n",
       " TaggedDocument(words=['roses', 'sont', 'rouges', 'violettes', 'sont', 'bleues', 'allons', 'plage', 'jaime', 'danser', 'rythme', 'de', 'nuit', 'sons', 'de', 'fête'], tags=[340]),\n",
       " TaggedDocument(words=['chahutée', 'chez', 'elle', 'theresa', 'may', 'rend', 'visite', 'emmanuel', 'macron', 'en', 'pleine', 'gloire', 'par', '@', 'gersende75', 'amp', '@', 'rosiescammell', 'afp'], tags=[341]),\n",
       " TaggedDocument(words=['elle', 'avait', 'débuté', 'après', 'l', '’', 'envoi', 'de', 'courrier', 'dans', 'lequel', 'dénommé', 'pierre', 'spatz', 'accuse', 'gérald', 'darmanin', 'd', '’', 'avoir', 'abusé', 'sexuellement', 'de', 'femme', 'en', '2009', 'sophie', 'spatz', 'malgré', 'quatre', 'appels', 'policiers', 'avait', 'finalement', 'refusé', 'de', 'se'], tags=[342]),\n",
       " TaggedDocument(words=['@', 'procepique', 'c', '’', 'est', 'clair', 'on', 'va', 'émasculer', 'plutôt', 'que', 'porter', 'plainte', 'd', '’', 'ailleurs', 'gareàvoscouilles', 'balancetonporc'], tags=[343]),\n",
       " TaggedDocument(words=['je', 'viens', 'de', 'signer', 'merci', 'de', 'faire', 'suivi', 'de', 'moiaussi', 'etmaintenant'], tags=[344]),\n",
       " TaggedDocument(words=['sacrilège', 'pour', 'uns', 'bénédiction', 'pour', 'autres', 'quand', 'minijupe', 'débarque', 'paris', '⏯'], tags=[345]),\n",
       " TaggedDocument(words=['fortnite', 'ça', 'prends', 'de', 'ampleurs', 'c', '’', 'est', 'ouf', 'mdr', 'bientôt', 'y', 'macron', 'qui', 'va', 'duo', 'avec', 'angela', 'merkel', 'ptdrrr'], tags=[346]),\n",
       " TaggedDocument(words=['marieclaude', 'lortie', 'moiaussi', 'je', 'dis', 'etmaintenant', 'lapresseplus', 'excellent', 'article'], tags=[347]),\n",
       " TaggedDocument(words=['10', 'ans', 'exhibitionniste', 'ma', 'attrapé', 'main', 'pour', 'que', 'je', 'touche', 'sexeil', 'pas', 'réussi', 'ouf', 'balancetonporc', 'suisse', 'il', 'est', 'en', 'tôle'], tags=[348]),\n",
       " TaggedDocument(words=['@', 'centrehubertine', 'est', 'fier', 'de', 'faire', 'partie', 'du', 'collectif', 'ensemblecontrelesexisme', '21', 'associations', 'réseaux', 'organisations', 'ayant', 'signé', 'charte', 'd', '’', 'engagement', 'pour', 'rendre', 'identifiable', 'sexisme', 'proposer', 'actions', 'pour', 'lutter', 'contre', 'fléau'], tags=[349]),\n",
       " TaggedDocument(words=['@', 'sport6m6', 'carton', 'rouge', 'pour', 'votre', 'équipe', 'pas', '1', 'mot', 'sur', 'euro', 'feminin', 'sexiste', 'fauxjournalisme', '@', 'm6info', '@', 'm6'], tags=[350]),\n",
       " TaggedDocument(words=['excellente', 'inspirante', 'interview', 'd', '’', '@', 'annefloremarxer', 'grande', 'championne', 'de', 'snowboard', 'sur', 'sexisme', 'dans', 'sport', 'ailleurs', 'feminisme', 'militantisme'], tags=[351]),\n",
       " TaggedDocument(words=['je', 'vous', 'en', 'veux', 'pas', 'vous', 'je', 'm', '’', 'en', 'veux', 'moi', 'd', '’', 'avoir', 'été', 'assez', 'conne', 'pour', 'vous', 'accordez', 'de', 'l', '’', 'importance', 'avoir', 'cru', 'en', 'votre', 'bonté', 'bande', 'de', 'batard', 'haha'], tags=[352]),\n",
       " TaggedDocument(words=['16jours', 'fait', 'no', '5', 'environ', '120', 'millions', 'de', 'femmes', 'âgées', 'de', 'moins', 'de', '20', 'ans', 'ont', 'déjà', 'été', 'victimes', 'd', '’', 'un', 'viol', 'ou', 'd', '’', 'actes', 'sexuels', 'forcés', 'source', '@', 'uniceffr', 'vfs', 'moiaussi'], tags=[353]),\n",
       " TaggedDocument(words=['cest', 'pas', 'saintvalentin', 'ni', 'fête', 'mères', 'chiffres', 'français', 'via', 'payetashnek', 'justsaying'], tags=[354]),\n",
       " TaggedDocument(words=['«', 'balancetonporc', 'libération', 'de', 'parole', 'sous', 'caution', 'médiatique', '»', 'via', '@', 'monachollet'], tags=[355]),\n",
       " TaggedDocument(words=['on', 'ne', 'vire', 'pas', 'gaucho', 'homo', 'csa', 'peur', 'de', 'ombre', 'blague', 'de', 'tex', 'était', 'bonne', 'tex', 'fusible', 'arrêtez', 'bientôt', 'on', 'va', 'décréter', 'que', 'charlie', 'lavait', 'bien', 'cherché', 'toujourscharlie', 'catherinedeneuve'], tags=[356]),\n",
       " TaggedDocument(words=['@', 'fabienv31', 'ooooh', 'code', 'of', 'conduct', 'sexisme', 'oui', 'lorthographe', 'inclusive', 'balancetonporc', 'tout', 'ça'], tags=[357]),\n",
       " TaggedDocument(words=['balancetonporc', 'libération', 'de', 'parole', 'sous', 'caution', 'médiatique'], tags=[358]),\n",
       " TaggedDocument(words=['kaouthar', 'azzoune', 'étudiante', 'en', 'informatique', 'journée', 'ensemblecontrelesexisme', 'explique', 'que', 'modèles', 'femmes', 'rencontrées', 'st', 'clés', 'pour', 'attirer', 'filles', 'ds', 'numérique', '@', 'finge', 'y', 'travaille'], tags=[359]),\n",
       " TaggedDocument(words=['mali', 'absurdité', 'liberté', 'journaliste', 'aïssatamaïga', 'de', 'chaîne', 'publique', 'ortm', 'été', 'démise', 'de', 'fonctions', 'pour', 'avoir', 'présenté', 'journal', 'dans', 'cette', 'tenue', 'je', 'suis', 'choqué', 'de', 'celà', 'organismes', 'pour', 'droits', 'de', 'femme', 'doivent', 'sindigner', 'lwili', 'mali', 'civ225', 'guinée'], tags=[360]),\n",
       " TaggedDocument(words=['meetoo', 'moiaussi', 'sacrée', 'personnalité', 'de', 'lannée', '2018', 'du', 'magazine', '@', 'time'], tags=[361]),\n",
       " TaggedDocument(words=['sont', 'porcs', 'qui', 'ruinent', 'sexe', 'pas', 'celles', 'qui', 'balancent', 'meetoo', 'timesup', 'balancetonporc', '@', 'coldroitsfemmes', '@', 'coldroitsfemmes'], tags=[362]),\n",
       " TaggedDocument(words=['reconduite', 'angela', 'merkel', 'obligée', 'de', 's', '’', 'attaquer', 'pauvreté'], tags=[363]),\n",
       " TaggedDocument(words=['agression', 'sexiste', 'sur', 'deux', 'jeunes', 'femmes', 'par', 'délinquants', 'dun', 'quartier', 'de', 'rennes', 'auteurs', 'laissés', 'en', 'liberté', 'par', 'justice', '⚠', 'ces', 'quartiers', 'se', 'transforment', 'en', 'ghetto', 'dirigé', 'par', 'gang', '☡'], tags=[364]),\n",
       " TaggedDocument(words=['elle', 'me', 'fait', 'trop', 'rire', 'cette', 'fille', 'xd', 'ironie'], tags=[365]),\n",
       " TaggedDocument(words=['berlin', 'angela', 'merkel', 'prépare', 'emmanuel', 'macron', 'aux', 'compromis'], tags=[366]),\n",
       " TaggedDocument(words=['@', 'aquatennens', '@', 'lcp', 'ça', 'dépend', 'ya', 'du', 'frédéric', 'haziza', 'dedans', 'naan', 'parce', 'que', 'dès', 'que', 'je', 'vois', 'haziza', 'hop', 'jéteins', 'ma', 'tv', 'ou', 'change', 'de', 'chaine', 'boycottlcp', 'hazizasuspension', 'metoo', 'balancetonporc'], tags=[367]),\n",
       " TaggedDocument(words=['sexisme', 'ordinaire', 'harcèlement', 'comment', 'en', 'parler', 'on', 'se', 'donne', 'rendezvous', 'jeudi', '1er', 'février', 'de', '9h', '10h30', 'pour', 'conférence', 'théâtralisée', 'animée', 'par', '@', 'unroleajouer', '@', 'equilibreseu', 'pour', 'vous', 'inscrire'], tags=[368]),\n",
       " TaggedDocument(words=['par', 'contre', 'cette', 'année', 'je', 'ne', 'ferai', 'pas', 'conne', 'j', '’', 'irai', 'acheter', 'mon', 'ventilateur', 'très', 'tôt', '✌🏾'], tags=[369]),\n",
       " TaggedDocument(words=['quand', 'balancetonporc', 'fait', 'dérailler', 'procès', 'tron'], tags=[370]),\n",
       " TaggedDocument(words=['bonjour', '@', 'decathlon', 'pourquoi', 'rose', 'serait', 'plus', 'cher', 'que', 'bleu', '2', 'combinaisons', 'ski', 'enfant', 'même', 'produit', 'couleur', 'différente', 'je', 'demande', 'caisse', 'pourquoi', '1999', 'turquoise', '2499', 'rose', 'réponse', 'couleur', 'cc', '@', 'marleneschiappa', 'c', '’', 'est', 'pas', 'du', 'sexisme', 'ça'], tags=[371]),\n",
       " TaggedDocument(words=['dans', 'quelques', 'minutes', 'lancement', 'de', 'première', 'journée', 'nationale', 'de', 'rencontres', 'sur', 'sexisme', 'en', 'direct', 'sur', 'ensemblecontrelesexisme', '25janvier'], tags=[372]),\n",
       " TaggedDocument(words=['de', 'moiaussi', 'pornographie'], tags=[373]),\n",
       " TaggedDocument(words=['entre', '@', 'lolobababa', '@', 'jeanfijanssens', 'rien', 'ne', 'va', 'plus', '💔', 'retrouvez', 'soir', '1905', 'dans', 'slt', 'sur', '@', 'c8tv'], tags=[374]),\n",
       " TaggedDocument(words=['pastore', '=', 'tir', 'de', 'femme', 'enceinte', 'psglosc'], tags=[375]),\n",
       " TaggedDocument(words=['tir', 'de', 'femme', 'enceinte'], tags=[376]),\n",
       " TaggedDocument(words=['législatives2017', 'loire', 'grosse', 'remarque', 'sexiste', 'd', '’', 'un', 'député', 'udi', 'battu', 'par', 'jeune', 'femme', 'lrem', 'via', '@', '20minutes'], tags=[377]),\n",
       " TaggedDocument(words=['jeremstargate', 'balancetonporc', 'ecoutez', 'colere', 'aucune', 'plainte', 'de', 'diffamation', 'fakenws', 'censure', 'elitedemerde', 'roger', 'holeindre', 'accuse', 'publiquement', 'jack', 'lang', 'de', 'pédophilie', 'en', '1998', 'via', '@', 'youtube'], tags=[378]),\n",
       " TaggedDocument(words=['c', '’', 'est', 'beau', 'de', 'voir', 'aurorebergé', 'défendre', 'l', '’', 'ivg', 'slt'], tags=[379]),\n",
       " TaggedDocument(words=['@', 'jeromejoffre', '@', 'latribune', '@', 'aziliz31', '@', 'marleneschiappa', '@', 'boostelles', '@', 'fredcintrat', '@', 'marieeloyfdeb', 'journée', 'linstar', 'de', 'journée', 'internationale', 'femmes', 'du', '8', 'mars', 'ou', 'de', 'celles', 'hommes', 'du', '19', 'novembre', 'agissons', 'ensemble', 'toute', 'lannée', 'stronger', 'together', 'egalitefh', 'sexisme'], tags=[380]),\n",
       " TaggedDocument(words=['sociétés', 'sont', 'faites', 'dun', 'réseau', 'de', 'contraintes', 'dinterdits', 'sur', 'base', 'morale', 'concernant', 'linceste', 'pédophilie', 'viol', 'vol', 'même', 'concernant', 'lemploi', 'salarié', 'légal', 'épouses', 'dhommes', 'politiques', 'largument', 'utilisé', 'cidessus', 'fait', 'semblant', 'de', 'loublier'], tags=[381]),\n",
       " TaggedDocument(words=['@', 'coxiterrienne', 'traiter', 'femme', 'de', 'salope', 'de', 'chienne', 'ou', 'de', 'pute', 'cest', 'sexiste', 'con'], tags=[382]),\n",
       " TaggedDocument(words=['femme', 'tuée', 'par', 'mari', 'trésors', 'de', 'sémantiques', 'sont', 'deployés', 'dans', 'commentaires', 'pour', 'minimiser', 'lacte', 'ministre', 'soupçonné', 'de', 'viol', 'députés', 'qui', 'lapplaudissent', 'dans', 'lhémicycle', 'tout', 'été', 'très', 'bien', 'dit', 'ici', 'par', 'copines', 'soutien', 'elles', 'dans', 'leur', 'lutte'], tags=[383]),\n",
       " TaggedDocument(words=['je', 'ss', 'allez', 'au', 'resto', 'volonté', 'avec', 'mon', 'copain', 'soir', 'on', 'est', 'rentré', 'ya', 'heure', 'cest', 'pas', 'on', 'vient', 'de', 'commander', 'pizza', 'balancetonporc', 'lolilol'], tags=[384]),\n",
       " TaggedDocument(words=['en', 'place', 'pour', 'assister', 'soirée', 'du', 'palmarès', 'du', 'festival', '@', 'premiersplans', 'impatient', 'de', 'connaître', 'choix', 'du', 'jury', 'présidé', 'par', 'catherine', 'deneuve', 'de', 'toute', 'façon', 'pour', 'public', '30', 'ème', 'festival', 'aura', 'été', 'grande', 'cuvée', 'premiersplans'], tags=[385]),\n",
       " TaggedDocument(words=['angela', 'merkel', 'qui', 'retourne', 'veste', 'sur', 'syrie', 'annonce', 'que', 'lallemagne', 'ne', 'participera', 'aucune', 'coalition', 'de', 'frappe', 'en', 'syrie', 'doit', 'on', 'conclure', 'quelle', 'craint', 'vladimir', 'putin'], tags=[386]),\n",
       " TaggedDocument(words=['pas', 'de', 'poursuites', 'contre', 'ségolène', 'royal', 'pour', 'gestion', 'de', 'région', 'poitoucharentes'], tags=[387]),\n",
       " TaggedDocument(words=['lire', 'marieclaude', 'lortie', 'moiaussi', 'je', 'dis', 'etmaintenant', 'lapresseplus'], tags=[388]),\n",
       " TaggedDocument(words=['dans', 'hogwarts', 'mystery', 'cette', 'merula', 'jvais', 'défoncer', 'c', '’', 'est', 'vraiment', 'connasse'], tags=[389]),\n",
       " TaggedDocument(words=['pour', 'fêter', 'journée', 'femmes', 'je', 'massoupis', 'dans', 'métro', 'sur', 'siège', 'de', 'ligne', '12', 'je', 'rouvre', 'yeux', 'en', 'sentant', 'quelque', 'chose', 'de', 'bizarre', 'ah', 'bah', 'oui', 'main', 'de', 'lhomme', 'assis', 'côté', 'de', 'moi', 'sur', 'ma', 'cuisse', 'balancetonporc'], tags=[390]),\n",
       " TaggedDocument(words=['sexisme', 'ordinaire', 'cest', 'croire', 'quon', 'ne', 'doit', 'pas', 'parler', 'femme', 'comme', 'homme', 'mélenchon', 'parle', 'de', 'même', 'façon', 'aux', 'hommes', 'sexiste', 'nest', 'pas', 'toujours', 'celui', 'quon', 'croit', 'hein', 'team', 'macron', 'balancetonporc', 'lemissionpolitique'], tags=[391]),\n",
       " TaggedDocument(words=['ankara', 'juge', 'inacceptables', 'propos', 'tenus', 'par', 'angela', 'merkel', 'concernant', 'lopération', 'dafrine'], tags=[392]),\n",
       " TaggedDocument(words=['petit', 'thread', 'sur', 'anaïs', 'bourdet', 'de', 'payetashnek', 'féminisme', 'géometrie', 'variable', '👇'], tags=[393]),\n",
       " TaggedDocument(words=['attention', '❕❕❕', 'dans', 'quelques', 'minutes', 'feminazies', 'arrêteront', 'de', 'faire', 'pronostics', 'sur', 'concours', 'de', 'femmes', 'recommenceront', 'vous', 'traquer', 'coup', 'de', 'balancetonporc', 'si', 'vous', 'leur', 'faites', 'compliment', 'missfrance2018'], tags=[394]),\n",
       " TaggedDocument(words=['saviezvous', 'que', 'aurore', 'bergé', 'est', 'l', '’', 'ex', 'de', 'nicolas', 'bay'], tags=[395]),\n",
       " TaggedDocument(words=['mariage', 'pour', 'tous', 'sous', 'présidence', 'de', 'françois', 'hollande', '20122017', 'il', 'était', 'de', 'responsabilité', 'politique', 'éthique', 'de', 'porter', 'avec', 'courage', 'cette', 'réforme', 'qui', 'partage', 'étend', 'libertés', 'christiane', 'taubira', 'garde', 'sceaux', 'chargée', 'de', 'mener', 'bien'], tags=[396]),\n",
       " TaggedDocument(words=['voeux', 'de', '@', 'marleneschiappa', 'pour', 'actions', 'concrètes', 'pour', 'lutter', 'contre', 'violences', 'sexistes', 'défendre', 'droits', 'femmes', 'leur', 'liberté', 'dans', 'l', 'espace', 'public', 'promouvoir', 'leur', 'place', 'dans', 'l', 'économie', 'notamment', 'numérique', 'ensemblecontrelesexisme', '@', 'interelles'], tags=[397]),\n",
       " TaggedDocument(words=['@', 'jackgoger', '@', 'cgttuifrance', '@', 'douchink', '@', 'phynbredor', '@', 'frohny67', '@', 'pouletalabraise', '@', 'zadnddl', '@', 'theresamay', '@', 'reporterre', 'quand', 'on', 'est', 'aveugle', 'par', 'haine', 'on', 'perd', 'sens', 'de', 'réalité', '11000', 'est', 'chiffre', 'qui', 'émane', 'directement', 'de', 'zad', 'non', 'pas', 'de', 'reporterre', 'chiffre', 'non', 'démenti', 'par', 'létat', 'voir', 'confirmé', 'de', 'plus', 'chiffre', 'est', 'largement', 'minoré', 'représente', 'que', 'qui', 'été', 'ramassé'], tags=[398]),\n",
       " TaggedDocument(words=['4', 'histoires', 'de', 'féminisme', 'mal', 'placé', 'est', '7ème', 'dans', 'catégorie', 'santébien', 'être', 'oo', 'ironie', 'jadore'], tags=[399]),\n",
       " TaggedDocument(words=['@', 'matthieu3111', 'heureusement', 'tes', 'pas', 'nana', '😅', 'merde', 'avec', 'cette', 'vanne', 'je', 'vais', 'devoir', 'mauto', 'balancer', 'au', 'balancetonporc'], tags=[400]),\n",
       " TaggedDocument(words=['toulouse', 'hôpital', 'purpan', 'internes', 'dénoncent', 'harcèlementsexuel', 'dans', 'lettre', 'ouverte', 'sexisme', 'cc', '@', 'marleneschiappa'], tags=[401]),\n",
       " TaggedDocument(words=['bad', 'buzz', 'auchan', 'retire', 'saccabas', 'sexiste', 'après', 'polémique'], tags=[402]),\n",
       " TaggedDocument(words=['travailleuses', 'du', 'syndicat', 'unifor', 'québec', 'lors', 'de', 'formation', 'femmes', 'santé', 'sécurité', 'au', 'travail', 'manifestent', 'leur', 'appui', 'aux', 'femmes', 'du', 'mouvement', 'moiaussi', 'metoo', 'en', 'portant', 'fièrement', 'coeur', 'jaune', 'du', 'mouvement', 'etmaintenant'], tags=[403]),\n",
       " TaggedDocument(words=['comment', 'améliorer', 'traitement', 'plaintes', 'dagression', 'sexuelle', 'cette', 'femme', 'réponse', 'moiaussi', 'etmaintenant', 'justice'], tags=[404]),\n",
       " TaggedDocument(words=['cher', 'exfemme', 'jadis', 'tu', 'es', 'partie', 'avec', 'maison', 'autos', 'placements', 'nouvel', 'amant', 'demain', 'premier', 'de', 'lan', '2018', 'tu', 'décalisse', 'par', 'odre', 'de', 'cour', 'je', 'récupère', 'tout', 'je', 'suis', 'capable', 'dêtre', 'chien', 'moiaussi'], tags=[405]),\n",
       " TaggedDocument(words=['homme', 'intervenant', 'sur', 'braquage', 'tué', 'femme', 'enceinte', 'touchée', 'tête', 'par', 'tir', 'de', 'plomb', 'cafaitdesbonnesvacances', 'lt'], tags=[406]),\n",
       " TaggedDocument(words=['enquête', 'pour', 'viol', 'standing', 'ovation', 'sinon', 'ça', 'va', 'groupe', 'lrem', 'lassemblée', 'nationale', 'on', 'ne', 'vous', 'dérange', 'pas', 'trop', 'dans', 'votre', 'bulle'], tags=[407]),\n",
       " TaggedDocument(words=['selon', '@', 'visibrain', 'plateforme', 'de', 'veille', 'ereputation', 'amp', 'com', 'de', 'crise', 'près', 'd14', 'badbuzz', 'en', '2017', 'étaient', 'liés', 'au', 'sexisme', 'preuve', 'que', 'tolérance', 'baisse', 'que', 'dénonciation', 'du', 'sexisme', 'samplifie', 'sur', 'réseaux', 'confbadbuzz', 'reseauxsociaux', 'rt', '@', 'hcefh'], tags=[408]),\n",
       " TaggedDocument(words=['lets', 'all', 'stand', 'together', 'and', 'denounce', 'sexual', 'assault', 'and', 'harassement', 'metoo', 'moiaussi', 'etmaintenant', 'nouveau', 'mouvement', 'faisant', 'suite', 'moiaussi', 'vient', 'dêtre', 'lancé', 'au', 'québec', 'il', 'sintitule', 'maintenant'], tags=[409]),\n",
       " TaggedDocument(words=['prochain', 'sujet', 'du', 'bac', 'philo', '2018', 'quelle', 'est', 'différence', 'entre', 'christian', 'grey', 'balancetonporc', 'hormis', 'qu', '’', 'il', 'ait', '4', 'millions', 'd', '’', '€', 'vous', 'avez', '4', 'heures', '50nuancesdegrey'], tags=[410]),\n",
       " TaggedDocument(words=['nouvelle', 'pub', 'gifi', 'avec', 'castaldi', 'amp', 'loana', 'juste', 'affligeant', 'sexiste', 'amp', 'faussement', 'second', 'degré', 'pour', 'jeune', 'femme'], tags=[411]),\n",
       " TaggedDocument(words=['femmes', 'en', 'colère', 'contre', 'ségrégation', 'sexiste', 'turquie', 'campagne', 'bus', 'rose', 'spécial', 'pour', 'ls', 'femmes', 'lancée', 'par', 'ds', 'hommes', 'organisé', 'ss', 'nm', 'dinitiative', '2solidarité', 'civile', 'van', 'suscité', 'colère', 'femmes', 'qui', 'demandent', 'aux', 'hommes', 'questce', 'qui', 'vous', 'arrive'], tags=[412]),\n",
       " TaggedDocument(words=['@', 'itele', 'antisemite', 'haha', 'bientot', 'crif', 'ldj', 'viendrons', 'sonner', 'ta', 'porte', 'pour', 'enlever', 'femme', 'enfant', 'tu', 'ose', 'critique', 'israël', 'ironie'], tags=[413]),\n",
       " TaggedDocument(words=['ensemblecontrelesexisme', 'collectif', 'de', '21', 'associations', 'réseaux', 'organisations', 'signe', 'charte', 'd', '’', 'engagement', 'pour', 'lutter', 'contre', 'sexisme', 'promouvoir', 'l', '’', 'égalité', 'entre', 'femmes', 'hommes', '➡️'], tags=[414]),\n",
       " TaggedDocument(words=['nb', 'est', 'considéré', 'comme', 'harcèlement', 'toute', 'personne', 'appelant', '3', 'fois', 'de', 'suite', 'même', 'destinataire', 'sans', 'réponse', 'balancetonporc'], tags=[415]),\n",
       " TaggedDocument(words=['dire', 'ça', 'cest', 'ne', 'pas', 'connaître', 'lhomophobie', 'sexisme', 'de', 'larmée', 'dire', 'ça', 'cest', 'mettre', 'en', 'danger', 'génération', 'de', 'jeunes', 'lgbtqia+', 'qui', 'se', 'découvre'], tags=[416]),\n",
       " TaggedDocument(words=['balancetonporc', 'celui', 'qui', 'met', 'main', 'aux', 'fesses', 'qui', 'est', 'juste', 'côté', 'de', 'toi', 'dans', 'métro', 'puis', 'qui', 'te', 'suit', 'jusquà', 'sortie', '😠'], tags=[417]),\n",
       " TaggedDocument(words=['ya', 'mecs', 'quand', 'meuf', 'fait', 'pute', 'ils', 'trouvent', 'ça', 'grave', 'mais', 'quand', 'cest', 'femme', 'leur', 'papa', 'booba', 'ils', 'comprennent', 'pas', 'quon', 'en', 'parle'], tags=[418]),\n",
       " TaggedDocument(words=['revue', 'de', 'presse', 'amériques', 'angela', 'merkel', 'femme', 'plus', 'puissante', 'du', 'monde'], tags=[419]),\n",
       " TaggedDocument(words=['pub', 'voltaren', 'qui', 'montre', 'deux', 'femmes', 'se', 'faisant', 'guerre', 'pour', 'deux', 'malheureux', 'accessoires', 'cest', 'hyper', 'féministe', 'bravo', 'ironie', 'cliché'], tags=[420]),\n",
       " TaggedDocument(words=['en', 'cours', 'atomes', 'ions', 'chromosomes', 'intensité', 'cellules', 'jour', 'j', 'ségolène', 'royal', 'objectifs', 'pour', 'protéger', 'nature', 'brevet2017'], tags=[421]),\n",
       " TaggedDocument(words=['lislam', 'fait', 'partie', 'intégrante', 'de', 'lallemagne', 'président', 'du', 'bundestag', 'wolfgang', 'schäuble', 'prend', 'position', 'contre', 'ministre', 'de', 'lintérieur', 'horst', 'seehofer', 'csu', 'soutient', 'angela', 'merkel', 'qui', 'avait', 'retoqué', 'ministre'], tags=[422]),\n",
       " TaggedDocument(words=['lejournal', 'est', 'terminé', 'pour', 'soir', 'dans', 'quelques', 'minutes', 'retrouvez', 'vraiment', 'politique', 'après', 'metoo', 'balancetonporc', 'où', 'en', 'sommesnous', '➡️', 'rendezvous', '20h45', 'lemédia', '8mars', 'journéeinternationaledesdroitsdesfemmes'], tags=[423]),\n",
       " TaggedDocument(words=['@', 'boubouyatera', '@', 'melolekaren', '@', 'xrokumonx', '@', 'lexpress', 'je', 'nai', 'rien', 'contre', 'croyants', 'français', 'ou', 'non', 'qui', 'vivent', 'dans', 'pays', 'partir', 'du', 'moment', 'ou', 'ils', 'partagent', 'valeurs', 'de', 'république', 'légalité', 'nest', 'pas', 'possible', 'si', 'convictions', 'religieuses', 'sont', 'déjà', 'inégalitaires', 'dans', 'leur', 'application', 'hommefemme', 'musulmanmécréant'], tags=[424]),\n",
       " TaggedDocument(words=['harcèlement', 'sexiste', 'dans', 'transports', '2017', 'en', 'espérant', 'que', 'cela', 'cesse', 'jour', 'merci', 'de', 'continuer', 'lutter', 'gtgt'], tags=[425]),\n",
       " TaggedDocument(words=['cher', 'ami', 'penelope', 'fillon', 'est', 'plus', 'même', 'd', 'éclairer', 'votre', 'lanterne'], tags=[426]),\n",
       " TaggedDocument(words=['j', 'objectif', 'c', 'est', 'de', 'salir', 'l', 'membre', 'du', 'gouvernement', 'femme', 'qui', 'accuse', 'gérald', 'darmanin', 'c', 'est', 'vendue', 'qui', 'cherche', 'abattre', 'homme', 'point', 'n', 'est', 'pas', 'digne', 'de', 'tout', 'ceux', 'qui', 'sont', 'derrière', 'cette', 'comédie', 'ls', 'opposants', 'ne', 'sont', 'ps', 'étrangers', 'film👎'], tags=[427]),\n",
       " TaggedDocument(words=['soir', '@', 'miseajour', 'bilan', '2017', 'prévisions', '2018', '@', 'jlfortinjdm', '@', 'verofournier', 'impact', 'du', 'moiaussi', 'avec', '@', 'cgrandmont', 'de', '@', 'lactualite', '@', 'montgomerysue', 'mairesse', 'de', 'cdnndg', 'lorigine', 'du', 'agressionsnondenoncees', '@', 'carolinecodsi', 'de', 'gouvernance', 'au', 'féminin', '20h', '22h30', 'sur', 'matv', 'montréal'], tags=[428]),\n",
       " TaggedDocument(words=['violences', 'sexuelles', 'dans', 'sport', 'témoignages', 'en', 'région', 'balancetonporc', 'sport'], tags=[429]),\n",
       " TaggedDocument(words=['ah', 'white', 'feminism', 'dans', 'toute', 'splendeur'], tags=[430]),\n",
       " TaggedDocument(words=['ma', 'soumise', '@', 'isanasalope', 'est', 'prête', 'pour', 'aller', 'se', 'faire', 'défoncer', 'elle', 'va', 'aller', 'jouer', 'fille', 'aux', 'gros', 'seins', 'très', 'conne', 'avec', 'débardeur', 'très', 'moulant', 'minishort', 'nje', 'veux', 'quelle', 'laisse', 'couler', 'sperme', 'quelle', 'aura', 'prise', 'en', 'faciale', 'sur', 'débardeur'], tags=[431]),\n",
       " TaggedDocument(words=['en', 'exclu', 'chez', 'cliquedimanche', '@', 'kassovitz1', 'nous', 'raconte', 'fois', 'où', 'il', 'refusé', 'de', 'travailler', 'avec', 'harvey', 'weinstein', 'balancetonporc', 'metoo', 'retrouvez', 'linterview', 'complète', 'dimanche', 'dès', '13h50', 'en', 'clair', 'sur', '@', 'canalplus'], tags=[432]),\n",
       " TaggedDocument(words=['rendezvous', 'vendredi', 'pour', 'prochain', 'épisode', 'avec', 'discours', 'de', 'theresa', 'may', 'florence', 'patrie', 'dun', 'certain', 'machiavel', 'brexit'], tags=[433]),\n",
       " TaggedDocument(words=['allemagne', '«', 'non', 'l', '’', 'islam', 'n', '’', 'a', 'pas', 'place', 'en', 'allemagne', '»', 'martèle', 'nouveau', 'ministre', 'de', 'l', '’', 'intérieur', 'critique', 'd', '’', 'angela', 'merkel', 'via', '@', 'on', 'retombe', '2', 'pieds', 'sur', 'terre', 'en', 'allemagne', 'mais', 'en', 'france', 'on', 'toujours', 'collaboré', 'parce', 'que', 'cétait', 'plus', 'facile'], tags=[434]),\n",
       " TaggedDocument(words=['pendant', 'mois', 'on', 'fait', 'bruit', 'sur', 'twitter', 'avec', 'balancetonporc', 'c', '’', 'est', 'pas', 'pour', 'revenir', 'lire', 'conneries', 'pareil', '🙄'], tags=[435]),\n",
       " TaggedDocument(words=['@', 'madamefigaro', 'jai', 'beaucoup', 'de', 'respect', 'pour', 'catherine', 'deneuve', 'elle', 'dit', 'quelques', 'choses', 'inflammatoires', 'qui', 'sont', 'difficiles', 'ignorer', 'avec', 'metoo', 'polanski', 'mais', 'elle', 'sest', 'excusée', 'elle', 'droit', 'de', 'dire', 'quelle', 'pense', 'comme', 'nous', 'laisseznous', 'nous', 'concentrer', 'sur', 'vrais', 'problèmes'], tags=[436]),\n",
       " TaggedDocument(words=['jaime', 'payetashnek', 'cm'], tags=[437]),\n",
       " TaggedDocument(words=['@', 'payetonjournal', '@', 'tumiza', '@', 'lexpress', 'jai', 'jamais', 'vu', 'article', 'aussi', 'pauvre', 'en', 'arguments', 'incroyable'], tags=[438]),\n",
       " TaggedDocument(words=['@', 'newgxrl', '@', 'sunbaem', 'oui', 'mais', 'cela', 'se', 'mélange', 'au', 'sexisme', 'parfois', 'plus', 'tes', 'canons', 'plus', 'profs', 'taiment', 'etc'], tags=[439]),\n",
       " TaggedDocument(words=['the', 'latest', 'lagrégateur', 'gohabsgo', 'moiaussi'], tags=[440]),\n",
       " TaggedDocument(words=['en', 'enfer', 'guillaume', 'blardone', 'fait', 'tweet', 'sur', 'chacune', 'mauvaises', 'actions', 'de', 'votre', 'vie', 'ségolène', 'royal', 'lit', 'haute', 'voix', 'ça', 'tourne', 'en', 'boucle', 'pour', 'léternité'], tags=[441]),\n",
       " TaggedDocument(words=['plainte', 'pour', 'viol', 'sur', 'mineur', 'déposée', 'contre', 'proche', 'de', 'jeremstar'], tags=[442]),\n",
       " TaggedDocument(words=['@', 'didierroustan', 'malheureusement', 'l', 'homme', 'qui', 'inventé', 'tir', 'de', 'femme', 'enceinte', 'ne', 'serait', 'pas', 'pris', 'au', 'sérieux', 'pour', 'cravates', 'de', 'fifa'], tags=[443]),\n",
       " TaggedDocument(words=['plus', 'jvois', 'de', 'tweet', 'de', 'certain', 'lgbtféministe', 'moins', 'jai', 'envie', 'douvrir', 'twitter', 'cela', 'mattriste', 'beaucoup', 'que', 'certaines', 'personnes', 'soit', 'accaparé', 'cause', 'noble', 'juste', 'pour', 'défendre', 'petits', 'intérêt', 'perso', 'dicter', 'propre', 'politiquedictature', 'tout', 'en', 'prônant', 'tolérance'], tags=[444]),\n",
       " TaggedDocument(words=['enfin', 'papier', 'de', 'journaliste', 'qui', 'prend', 'du', 'recul', 'au', 'sujet', 'de', 'machin', 'sexiste', 'concours', 'missfrance'], tags=[445]),\n",
       " TaggedDocument(words=['bleues', 'france', 'face', 'au', 'nigeria', 'en', 'avril', 'prochain', 'président', 'de', 'fédération', 'nigeriane', 'amaju', 'pinnick', 'révélé', 'que', 'léquipe', 'nigeriane', 'super', 'falcons', 'disputera', 'rencontre', 'amicale', 'face', 'aux', 'bleues', 'match', 'face', 'france', 'championnes'], tags=[446]),\n",
       " TaggedDocument(words=['qui', 'dit', 'que', 'ochoa', 'était', 'bon', 'même', 'moi', 'je', 'larrête', 'tir', 'de', 'femme', 'enceinte', 'pbmex', 'cdm2014'], tags=[447]),\n",
       " TaggedDocument(words=['professeur', 'tariq', 'ramadan', 'est', 'face', 'accusations', 'de', 'viols', '«', 'victime', '»', 'est', '@', 'hendaayari', '«', 'exmusulmane', '»', 'aujourd', '’', 'hui', '«', 'laïque', 'féministe', '»', 'profil', 'de', 'marionnette', 'parfaite'], tags=[448]),\n",
       " TaggedDocument(words=['commentaire', 'de', 'cette', 'image', 'magnifique', 'image', 'artistique', 'est', 'tellement', 'sexiste', 'rabaisse', 'femme', 'banalisationdelaviolence'], tags=[449]),\n",
       " TaggedDocument(words=['traduisonsles', 'vent', 'fort', 'est', 'preuve', 'irréfutable', 'que', 'climat', 'est', 'totalement', 'déréglé', 'vite', 'volons', 'gens', 'pour', 'sauver', 'planète', 'balancetonporc'], tags=[450]),\n",
       " TaggedDocument(words=['@', 'yinss6', '@', 'cyb3rtfr', '😭😭😭😭', 'mais', 'vie', 'elle', 'est', 'drole', 'gars', 'matin', 'il', 's', '’', 'est', 'dit', 'on', 'va', 'faire', 'affiche', 'avec', 'femme', 'fleche', 'mot', 'cuisine'], tags=[451]),\n",
       " TaggedDocument(words=['christiane', 'taubira', 'revient', 'sur', '3', 'figures', 'de', 'lutte', 'noirs', 'américains', 'pasteur', 'nonviolent', 'martin', 'luther', 'king', 'poète', 'intellectuel', 'james', 'baldwin', 'ladepte', 'de', 'lutte', 'armée', 'malcolm', 'x', 'retrouvez', 'lémission', 'en', 'intégralité'], tags=[452]),\n",
       " TaggedDocument(words=['fin', 'd39une', 'semaine', 'éprouvante', 'durant', 'laquelle', 'ségolène', 'royal', 'démontre', 'capacité', 'de', 'dépassement', 'de', 'courage', 'de', 'femme', 'd39état', 'wow'], tags=[453]),\n",
       " TaggedDocument(words=['affaire', '@', 'frhaz', 'toujours', 'rien', 'ou', 'rupture', 'de', 'pain', 'au', 'chocolat', 'balancetonporc', 'haziza'], tags=[454]),\n",
       " TaggedDocument(words=['ségolène', 'royal', 'au', 'figaro', '«', 'jouvre', 'nouveau', 'chapitre', 'de', 'mon', 'engagement', 'politique', '»', 'en', 'clair', 'elle', 'lance', 'ong', 'nouvelle', 'pompe', 'fric', 'qui', 'défendra', 'projets', 'sur', 'énergies', 'renouvelables'], tags=[455]),\n",
       " TaggedDocument(words=['brigitte', 'macron', 'litanie', 'sexiste', 'médias', 'acrimed', '|', 'action', 'critique', 'médias'], tags=[456]),\n",
       " TaggedDocument(words=['derrière', 'remarque', 'de', 'cet', 'homme', 'scepticisme', 'sexisme'], tags=[457]),\n",
       " TaggedDocument(words=['sous', 'prétexte', 'que', 'présidente', 'de', 'commission', 'lois', '@', 'yaelbraunpivet', 'est', 'femme', '@', 'robinreda', 'qualifie', 'rappels', 'au', 'règlement', 'de', '«', 'maternels', '»', 'auraitil', 'répliqué', 'de', 'même', 'manière', 'homme', 'plus', 'âgé', '«', 'vous', 'avez', 'l', '’', 'âge', 'd', '’', 'être', 'mon', 'père', '»', 'sexisme'], tags=[458]),\n",
       " TaggedDocument(words=['ensemblecontrelesexisme', '@', 'laurossignol', '«', 'nous', 'devons', 'soutenir', '@', 'marleneschiappa', 'si', 'elle', 'échoue', 'nous', 'échouons', 'toutes', '»', 'sororité'], tags=[459]),\n",
       " TaggedDocument(words=['@', 'sebastienm', '@', 'auroreberge', 'quiche', 'ne', 'connais', 'pas', 'mot', 'démocratie'], tags=[460]),\n",
       " TaggedDocument(words=['il', 'y', 'volonté', 'dopposer', 'république', 'en', 'marche', 'ruralité', 'pourtant', 'nous', 'avons', 'obtenu', 'accords', 'opérateurs', 'pour', 'lutter', 'contre', 'zones', 'blanches', 'nous', 'luttons', 'pour', 'maintien', 'classes', 'en', 'zone', 'rurale', '@', 'radioclassique', 'classiquematin'], tags=[461]),\n",
       " TaggedDocument(words=['86ème', 'fois', 'consécutive', 'qu', '’', 'on', 'chante', '«', 'que', 'tu', 'deviens', 'chienne', '»', 'stagiaire', 'je', 'pense', 'que', 'demain', 'on', 'sera', 'dans', 'balancetonporc'], tags=[462]),\n",
       " TaggedDocument(words=['histoire', 'de', 'sexisme', 'ordinaire', 'lire', 'litw', 'danneflore', 'marxer', 'championne', 'du', 'monde', 'de', 'snowboard', '2011', 'vicechampionne', 'du', 'monde', '2016', '2017', 'sport', 'marxer', 'snowboard', 'egalitefh', 'politique', 'media'], tags=[463]),\n",
       " TaggedDocument(words=['dessin', '@', 'courrierpicard', '@', 'unionardennais', 'du', '29032018', 'après', 'segoleneroyal', 'rachidadati', 'se', 'dit', 'prête', 'pour', 'mairiedeparis'], tags=[464]),\n",
       " TaggedDocument(words=['«', 'nous', 'allons', 'investir', '5', 'milliards', 'dans', 'l', '’', 'agriculture', 'sur', 'quinquennat', '»', 'sia2018', '@', 'lci'], tags=[465]),\n",
       " TaggedDocument(words=['est', 'que', 'je', 'suis', 'seule', 'réac', '’', 'trouver', 'concept', 'de', 'missfrance2017', 'complètement', 'obsolète', 'l', '’', 'heure', 'de', 'balancetonporc', 'metoo'], tags=[466]),\n",
       " TaggedDocument(words=['angela', 'merkel', 'rules', 'out', 'german', 'military', 'action', 'in', 'syria'], tags=[467]),\n",
       " TaggedDocument(words=['créatrice', 'de', 'balancetonporc', 'poursuivie', 'pour', 'diffamation', 'par', 'info', 'relayée', 'par'], tags=[468]),\n",
       " TaggedDocument(words=['n', '’', 'oublions', 'pas', 'que', 'johnny', 'était', 'balancetonporc', 'lui', 'aussi'], tags=[469]),\n",
       " TaggedDocument(words=['balancetonporc', 'frero', 'est', 'passé', 'me', 'voir', 'voisin', 'l', '’', 'interpelle', 'en', 'lui', 'disant', 'retourne', 'chez', 'toi', 'l', '’', 'arabe', 'entre', 'autre', 'dès', 'que', 'mon', 'frero', 'voulu', 'lui', 'expliqé', 'vi', 'en', 'sodomisant', 'il', 'é', 'parti', 'en', 'courant', '😂bh', 'je', 'dormiré', 'moin', 'con', 'en', 'sachant', 'q', '1', 'élevage', 'de', 'porc', 'côté', 'dchez', 'moi'], tags=[470]),\n",
       " TaggedDocument(words=['«', 'liberté', 'd', '’', 'importuner', '»', 'catherine', 'deneuve', 'assume', 'mais', 'présente', 'excuses', 'aux', 'victimes', 'arelire'], tags=[471]),\n",
       " TaggedDocument(words=['jai', 'tellement', 'mal', 'au', 'bide', 'mais', 'part', 'çacest', 'génial', 'dêtre', 'fille', 'ironie'], tags=[472]),\n",
       " TaggedDocument(words=['22', 'cest', 'mois', 'de', 'juillet', 'je', 'suis', 'en', 'débardeur', 'je', 'discute', 'avec', 'collègues', 'lun', 'deux', 'arrive', 'derrière', 'moi', 'me', 'mord', 'dans', 'cou'], tags=[473]),\n",
       " TaggedDocument(words=['léane', 'labrèchedor', 'peu', 'déçue', 'du', '«', 'bye', 'bye', '2017', '»', 'tlmep', 'moiaussi'], tags=[474]),\n",
       " TaggedDocument(words=['balancetonporc', 'metoo', 'merci', '@', 'elisawonders', 'merci', '@', 'kasiaberlin', 'cest', 'puissant', 'ca', 'balance', 'oh', 'merci', 'ggle', 'translate'], tags=[475]),\n",
       " TaggedDocument(words=['@', 'sdementhon', 'defaut', 'de', 'réagir', 'lisez', 'ceci', 'payetashnek', 'payetonuterus'], tags=[476]),\n",
       " TaggedDocument(words=['pour', 'jeunes', 'qui', 'découvrent', 'série', 'friends', 'est', 'sexiste', 'homophobe', 'grossophobe', 'via', '@', 'slatefr'], tags=[477]),\n",
       " TaggedDocument(words=['sexisme', 'ordinaire', 'du', 'jeune', 'député', 'lr', 'robin', 'reda', 'lassemblée', 'nationale'], tags=[478]),\n",
       " TaggedDocument(words=['joli', 'pied', 'de', 'nez', 'dangelamerkel', 'donaldtrump', 'offrant', 'gravure', 'sur', 'cuivre', 'de', 'région', 'de', 'ancêtres', 'en', 'allemagne', 'lui', 'rappelant', 'ainsi', 'quil', 'est', 'originaire', 'dune', 'famille', 'de', 'migrants', 'americafirst'], tags=[479]),\n",
       " TaggedDocument(words=['harcèlement', 'sexiste', 'transports', 'christiane', 'dupart', 'viceprésidente', 'de', 'fnaut', 'intervient', 'dans', 'conférence', 'publique', 'organisée', '22', 'novembre', '2017', 'par', 'luniversité', 'de', 'lille'], tags=[480]),\n",
       " TaggedDocument(words=['femme', 'accuse', 'homme', 'de', 'viol', 'lagresseur', 'présumé', 'soutien', 'de', 'pairs', 'amp', 'journalistes', 'sempressent', 'de', 'nous', 'faire', 'biopic', 'désaventageuse', 'de', 'préférence', 'sur', 'victime', 'présumée', 'sinon', 'que', '4', 'de', 'fausses', 'accusations', 'de', 'viol', 'darmanin'], tags=[481]),\n",
       " TaggedDocument(words=['«', 'paye', 'ta', 'shnek', 'tentatives', 'de', 'séduction', 'en', 'milieu', 'urbain', '»', 'payetashnek', 'tumblr'], tags=[482]),\n",
       " TaggedDocument(words=['du', 'coup', 'juste', 'pour', 'info', 'cette', 'idée', 'quon', 'peut', 'faire', 'semblant', 'dêtre', 'féministe', 'pour', 'lever', 'de', 'féministe', 'cest', 'truc', 'quont', 'très', 'bien', 'compris', 'certains', 'agresseurs', 'qui', 'phagocytent', 'nos', 'milieux'], tags=[483]),\n",
       " TaggedDocument(words=['quel', 'début', 'de', 'match', 'de', 'nos', 'bleues', 'handaction', 'handaction', 'franor'], tags=[484]),\n",
       " TaggedDocument(words=['j', '’', 'ai', 'message', 'pour', '@', 'nrjhitmusiconly', '@', 'skyrockfm', '@', 'virginradiofr', 'ça', 'serait', 'cool', 'que', 'vous', 'passiez', 'd', '’', 'autres', 'chansons', 'de', '@', 'bigfloetoli', 'que', 'papa', 'dommage', 'genre', 'autre', 'part', 'ou', 'salope', 'par', 'exemple', 'pcq', 'elles', 'méritent', 'vraiment', 'd', '’', 'être', 'entendues', 'c', '’', 'est', 'chef', 'd', '’', 'œuvre'], tags=[485]),\n",
       " TaggedDocument(words=['meuf', 'saoule', 'tout', 'monde', 'avec', 'grossophobie', 'elle', 'fait', 'du', 'sexisme'], tags=[486]),\n",
       " TaggedDocument(words=['@', 'robinandraca', 'bof', 'étant', 'donné', 'qu', '’', 'elle', 'aussi', 'nationalité', 'de', 'lautre', 'étatcolon', 'discours', 'inclutil', 'également', 'femmes', 'palestiniennes', 'qui', 'sont', 'cibles', 'dincitation', 'au', 'viol', 'par', 'dirigeants', 'sionistes', 'ahedtamimi', 'ahadtamimi', 'ahed', 'apartheidisrael'], tags=[487]),\n",
       " TaggedDocument(words=['photographe', 'inverse', 'rôles', 'pour', 'dénoncer', 'publicités', 'sexistes', '🚹🚺', 'on', 'ne', 'peut', 'quadorer', '👏🏼', 'sexisme'], tags=[488]),\n",
       " TaggedDocument(words=['pourquoi', 'traiter', 'femme', 'politique', 'de', '«', 'salope', '»', 'dand', 'speech', 'pur', 'sexismeeric', 'massin', 'l', '’', 'auteur', 'de', 'proposne', 'devrait', 'pas', 'seulement', 'présenter', 'excuses', 'victime', 'caroline', 'taquin', 'mais', 'également', 's', '’', 'expliquer', 'dans', 'parti', 'si', 'nous', 'sommes', 'tous', 'pour', 'respect', 'polin'], tags=[489]),\n",
       " TaggedDocument(words=['emmanuel', 'macron', 'theresa', 'may', 'veulent', 'renforcer', 'l', '’', 'interdiction', 'armes', 'chimiques'], tags=[490]),\n",
       " TaggedDocument(words=['tout', 'ça', 'est', 'si', 'vrai', 'metoo', 'balancetonporc', 'violencesfaitesauxfemmes', '«', 'en', '2017', 'aux', 'etatsunis', 'on', 'livré', 'porcs', 'au', 'bûcher', 'en', 'france', 'on', 'préfère', 'encore', 'cacher', '»', '—', 'via', '@', 'lemondefr'], tags=[491]),\n",
       " TaggedDocument(words=['donald', 'trump', 'thérésa', 'may', 'emmanuel', 'macron', 'lempereur', 'femme', 'petit', 'prince', 'nonàlaguerre', 'feteamacron'], tags=[492]),\n",
       " TaggedDocument(words=['propos', 'misogynes', 'de', '@', 'robinreda', 'doivent', 'être', 'sanctionnés', 'misogynie', 'fait', 'partie', 'violences', 'infligées', 'aux', 'femmes', 'vieux', 'monde', 'patriarcal', 'où', 'de', 'tels', 'propos', 'pouvaient', 'être', 'tenus', 'doit', 'disparaître', 'timesup', 'sexisme', 'politique', 'grossièreté', 'robinreda'], tags=[493]),\n",
       " TaggedDocument(words=['notre', 'collectif', 'ensemblecontrelesexisme', 's', '’', 'appuie', 'sur', 'deux', 'femmes', 'engagées', 'au', 'plus', 'haut', 'niveau', 'de', 'l', '’', 'état', '@', 'marleneschiappa', '@', 'laurossignol', 'qui', 'font', 'de', 'l', '’', 'égalité', 'entre', 'f', 'h', 'priorité'], tags=[494]),\n",
       " TaggedDocument(words=['@', 'louist', 'soyons', 'décisifs', '1er', 'octobre', '2018', 'balancetonporc'], tags=[495]),\n",
       " TaggedDocument(words=['créatrice', 'de', 'balancetonporc', 'poursuivie', 'en', 'diffamation', 'lance', 'levée', 'de', 'fonds', 'pour', 'financer', 'défense'], tags=[496]),\n",
       " TaggedDocument(words=['sandramuller', 'créatrice', 'de', 'balancetonporc', 'poursuivie', 'en', 'diffamation'], tags=[497]),\n",
       " TaggedDocument(words=['dévoiler', 'agression', 'sexuelle', 'action', 'pour', 'laquelle', 'on', 'peut', 'recevoir', 'de', 'l', '’', 'aide', 'moiaussi'], tags=[498]),\n",
       " TaggedDocument(words=['ensemblecontrelesexisme', 'cest', 'tous', 'jours', 'mais', 'aujourdhui', 'surtout', 'avec', 'journée', 'entièrement', 'dédiée', 'discussion', 'autour', 'du', 'sexisme', 'en', 'présence', 'de', '@', 'marleneschiappa', 'soutenons', 'cause', 'ensemble', 'strongertogether'], tags=[499]),\n",
       " TaggedDocument(words=['lycéennes', 'sorganisent', 'contre', 'harcelementsexuel', 'dans', 'leur', 'établissement', 'scolaire', 'bravo', 'balancetonporc'], tags=[500]),\n",
       " TaggedDocument(words=['@', 'solidaritefemme', 'est', 'membre', 'du', 'collectif', 'ensemblecontrelesexisme'], tags=[501]),\n",
       " TaggedDocument(words=['il', 'devait', 'pas', 'etre', 'en', 'prison', 'pour', 'viol', 'lui'], tags=[502]),\n",
       " TaggedDocument(words=['@', 'benallalnarjis', 'de', 'lappropriation', 'culturelle', 'se', 'fait', 'depuis', 'nuit', 'temps', 'cest', 'elle', 'qui', 'façonné', 'différentes', 'cultures', 'que', 'nous', 'connaissons', 'aujourdhui', 'dautres', 'en', 'découleront', 'combats', 'identitaires', 'comme', 'celui', 'sur', 'sexisme', 'connaissent', 'dérives', 'stupides'], tags=[503]),\n",
       " TaggedDocument(words=['bloquer', 'boussoles', 'n', '’', 'a', 'jamais', 'fait', 'perdre', 'nord', 'notre', 'cap', 'reste', 'transformation', 'en', 'dialoguant', 'mais', 'aussi', 'en', 'agissant', '@', 'stanguerini', '@', 'enmarchefr'], tags=[504]),\n",
       " TaggedDocument(words=['@', 'annedesevrant', 'cinglée', 'hystérique', 'voir', 'bannière', 'bloquée', 'par', 'bcp', 'dont', 'moi', 'se', 'prétend', 'sarkoziste', 'mais', 'défendu', 'macron', 'dès', 'première', 'heure', 'demander', 'si', 'n', '’', 'ait', 'pas', 'taupe'], tags=[505]),\n",
       " TaggedDocument(words=['l', '’', 'éducation', 'aux', 'médias', 'l', '’', 'information', 'est', 'enjeu', 'fondamental', 'en', 'luttant', 'contre', 'fake', 'news', 'théories', 'du', 'complot', 'on', 'prévient', 'radicalisation', '@', 'bfmtv', '@', '19hruthelkrief', '@', 'ruthelkrief'], tags=[506]),\n",
       " TaggedDocument(words=['ségolène', 'royal', 'va', 'devenir', 'ambassadrice', 'de', 'france', 'pour', 'pôles', 'arctique', 'antarctique', 'jai', 'accepté', 'ditelle', 'sur', '@', 'lci', 'calvi'], tags=[507]),\n",
       " TaggedDocument(words=['@', 'emmanuelmacron', '@', 'theresamay', 'on', 'en', 'revient', 'fameuse', 'attaque', 'chimique', 'en', 'irak', 'qui', 'na', 'jamais', 'existé', 'merci', 'mr', 'collins', 'powells', 'ancien', 'secrétaire', 'détat', 'défense', 'davoir', 'monter', 'coup', 'que', 'français', 'américain', 'anglais', 'on', 'reproduits', 'en', '2018'], tags=[508]),\n",
       " TaggedDocument(words=['différentes', 'formes', 'de', 'sexisme', 'sexisme', 'ordinaire', 'discrimination', 'harcèlement', 'agression', 'sexuelle', 'viol', '@', 'brigittegresy', 'ensemblecontrelesexisme', '@', 'interelles', '@', 'finge', '@', 'admoderne'], tags=[509]),\n",
       " TaggedDocument(words=['bouchesdurhône', 'affiche', 'sexiste', 'pour', 'dépistage', 'du', 'cancer', 'du', 'sein', 'sexiste', 'bouchesdurhône', 'cancerdusein'], tags=[510]),\n",
       " TaggedDocument(words=['lépoque', 'où', 'socialistes', 'ségolène', 'royal', 'samia', 'ghali', 'évoquaient', 'nécessité', 'denvoyer', 'larmée', 'pour', 'sécuriser', 'territoires', 'perdus', 'de', 'république', 'jétais', 'en', 'désaccord', 'aujourdhui', 'force', 'est', 'de', 'constater', 'quil', 'ny', 'plus', 'choix'], tags=[511]),\n",
       " TaggedDocument(words=['@', 'ericcoquerel', 'pour', 'dures', 'luttes', 'vaut', 'mieux', 'compter', 'sur', 'franceinsoumise', 'que', 'sur', 'macron', 'balancetonporc'], tags=[512]),\n",
       " TaggedDocument(words=['balance', 'ton', 'porc', 'marche', 'fond', 'cochon', 'vient', 'juste', 'de', 'sécraser', 'dans', 'mon', 'pré', 'jeté', 'dun', 'avion', 'probablement', 'pauv', 'bête'], tags=[513]),\n",
       " TaggedDocument(words=['on', 'ne', 'répètera', 'jamais', 'assez', 'consentement', 'fait', 'différence', '|', 'éduquons', 'au', 'moment', 'de', 'balancetonporc'], tags=[514]),\n",
       " TaggedDocument(words=['je', 'ne', 'suis', 'pas', 'pour', 'plaire', 'je', 'suis', 'pour', 'faire', 'que', 'nous', 'faisons', 'ne', 'plaît', 'pas', 'tous', 'ceux', 'qui', 'vivent', 'sur', 'mensonges', 'agitent', 'peur', 'je', 'croiserai', 'samedi', 'regarderai', 'dans', 'yeux'], tags=[515]),\n",
       " TaggedDocument(words=['soir', 'j', '’', 'aurais', 'aimé', 'vous', 'parler', 'de', 'que', 'faisait', 'président', 'aux', 'mureaux', 'pour', 'lancer', 'plan', 'bibliothèques', 'vous', 'parler', 'd', '’', 'ecole', 'de', 'pouvoir', 'd', '’', 'achat', 'on', 'ne', 'peut', 'pas', 'faire', 'parce', 'que', 'débat', 'est', 'parasité', 'par', 'outrances', 'de', 'laurent', 'wauquiez', 'grandangle', '@', 'bfmtv'], tags=[516]),\n",
       " TaggedDocument(words=['@', 'valeknoraj', '@', 'marleneschiappa', 'pourquoi', 'vous', 'nécrivez', 'pas', 'plutôt', 'au', 'csa', 'ou', 'france', 'télévision', 'au', 'nom', 'du', 'droit', 'lapologie', 'du', 'sexisme', 'de', 'violence', 'faites', 'aux', 'femmes', 'fondez', 'association', 'pour', 'défense', 'machos', 'misogynes', 'lhumiliation', 'légitime', 'femmes', 'quelles', 'belles', 'causes'], tags=[517]),\n",
       " TaggedDocument(words=['travail', 'domicile', 'bon', 'plan', 'l', '’', 'enceinte', 'bluetooth', 'ultimate', 'ears', 'boom', '2', 'passe', '79€'], tags=[518]),\n",
       " TaggedDocument(words=['cet', 'article', 'du', 'monde', 'diplomatique', 'sur', 'sexisme', 'est', 'très', 'convainquant', 'promis', 'jour', 'journal', 'autorisera', 'même', 'femmes', 'écrire', 'pour', 'lui'], tags=[519]),\n",
       " TaggedDocument(words=['collier', 'plume', 'bronze', 'perle', 'en', 'papier', 'artisanale', 'collier', 'perles', 'bleues', 'violettes', 'chaine', 'idée', 'cadeau', 'femme', 'cadeau', 'saint', 'valentin', 'cadeau', 'fait', 'main'], tags=[520]),\n",
       " TaggedDocument(words=['@', 'tatianaderosnay', 'je', 'préfère', 'balancetonporc', 'metoo', 'parce', 'que', 'pour', 'moi', 'il', 'y', 'action', 'pas', 'nominative', 'de', 'rares', 'exceptions', 'près', 'alors', 'quune', 'victime', 'subit', 'cest', 'vulgaire', 'mais', 'violence', 'lest', 'aussi', 'je', 'ressens', 'violence', 'triste', 'en', 'moi', 'même', 'après', 'toutes', 'ces', 'années'], tags=[521]),\n",
       " TaggedDocument(words=['ah', 'donc', 'tes', 'féministe', 'toi', 'bah', 'oui', 'ah', 'bah', 'jtaime', 'déjà', 'pas', 'enchantée', 'tu', 'mas', 'lair', 'dêtre', 'jeune', 'homme', 'fort', 'sympathique'], tags=[522]),\n",
       " TaggedDocument(words=['je', 'ne', 'suis', 'pas', 'surprise', 'que', 'violeur', 'dépose', 'plainte', 'pour', 'notre', 'justice', 'ça', 'va', 'être', 'lui', 'victime', 'balancetonporc', 'pour', 'ma', 'part', 'jai', 'été', 'agressée', 'cest', 'sur', 'moi', 'que', 'police', 'enquêté', 'lui', 'rien', 'viol', 'est', 'vraiment', 'sport', 'national', 'en', 'france'], tags=[523]),\n",
       " TaggedDocument(words=['donc', 'au', 'ps', 'lorsquon', 'traite', 'femme', 'de', 'salope', 'on', 'quitte', 'fédération', 'sur', 'pression', 'extérieure', 'mais', 'on', 'peut', 'rester', 'président', 'de', 'cpas', 'député', 'fédéral', 'on', 'est', 'même', 'promu', 'tête', 'de', 'liste', 'province', 'ouestlacoherence'], tags=[524]),\n",
       " TaggedDocument(words=['📍agenda', '25', 'janvier', '2018', 'se', 'tiendra', '1e', 'journée', 'nationale', 'contre', 'sexisme', 'organisée', 'par', 'collectif', 'ensemble', 'contre', 'sexisme', 'journée', 'de', 'rencontres', 'de', 'débats', 'inaugurée', 'en', 'présence', 'de', '@', 'marleneschiappa', 'infos', 'amp', 'inscriptions', 'egalitefh'], tags=[525]),\n",
       " TaggedDocument(words=['veille', 'de', 'mort', 'cette', 'jeune', 'femme', 'de', '27', 'ans', 'publie', 'lettre', 'bouleversante', 'sur', 'facebook'], tags=[526]),\n",
       " TaggedDocument(words=['sms', '6', 'textos', 'de', 'drague', 'qui', 'marche', 'tous', 'coups', 'sexe', 'sexy'], tags=[527]),\n",
       " TaggedDocument(words=['balancetonporc', 'libération', 'de', 'parole', 'sous', 'caution', 'médiatique'], tags=[528]),\n",
       " TaggedDocument(words=['oui', 'mais', 'dans', 'mouvement', 'moiaussi', 'médias', 'se', 'sont', 'mis', 'inclure', 'gestes', 'qui', 'mon', 'avis', 'relevaient', 'parfois', 'plus', 'de', 'séduction', 'que', 'de', 'l', '’', 'agression', 'ex', 'regard', 'insistant'], tags=[529]),\n",
       " TaggedDocument(words=['ensemblecontrelesexisme', 'dernière', 'réunion', 'de', 'préparation', 'de', '1ere', 'journée', 'nationale', 'contre', 'sexisme', 'organisée', '25', 'janvier', 'par', 'collectif', '@', 'telecomptech', 'avec', '@', 'marleneschiappa', '@', 'laurossignol', '@', 'mccapobianco', '@', 'interelles', '@', 'lbeldowski', '@', 'brigittegresy', '@', 'finge'], tags=[530]),\n",
       " TaggedDocument(words=['«', 'c', '’', 'est', 'parce', 'que', 'vous', 'êtes', 'grosse', '»', 'mon', 'prof', 'de', 'svt', 'en', '5ème', 'ou', '4ème', 'balancetonporc'], tags=[531]),\n",
       " TaggedDocument(words=['mais', 'cest', 'quoi', 'ça', 'encore', '😥', 'nul', 'yenamarre', 'sexiste', '@', 'meyerhabib'], tags=[532]),\n",
       " TaggedDocument(words=['malala', 'davos', '«', 'le', 'féminisme', 'est', 'juste', 'autre', 'mot', 'pour', 'légalité', '»', 'société'], tags=[533]),\n",
       " TaggedDocument(words=['libéraux', 'tout', 'crin', 'sapent', 'droite', 'décomplexée', 'moiaussi'], tags=[534]),\n",
       " TaggedDocument(words=['serait', 'perte', 'du', 'privilège', 'du', 'corps', 'enseignant', 'd', '’', 'être', 'jugé', 'exclusivement', 'par', 'pairs', 'qui', 'motiverait', 'l', '’', 'exécutif', 'du', 'sgpum', 'dans', 'combat', 'contre', 'modification', 'de', 'charte', 'de', 'l', '’', 'université', 'de', 'montréal', 'moiaussi'], tags=[535]),\n",
       " TaggedDocument(words=['chef', 'dorchestre', 'jameslevine', 'est', 'dernier', 'tomber', 'pour', 'relations', 'sexuelles', 'inappropriées', 'mentalités', 'commencent', 'évoluer', 'aux', 'us', 'correspondance', 'sur', '@', 'i24newsfr', 'avec', '@', 'dattelan', '\\u200bet', '@', 'jcbanoun1', 'i24news', 'metoo', 'balancetonporc'], tags=[536]),\n",
       " TaggedDocument(words=['30', 'qui', 'font', 'foot', 'français', '22e', 'florence', 'hardouin', 'femme', 'de', 'tête'], tags=[537]),\n",
       " TaggedDocument(words=['première', 'dame', 'doit', 'avoir', 'statut', 'dire', 'contraire', 'est', 'idiot', 'sexiste', 'brigittemacro', 'firstlady', 'pétition'], tags=[538]),\n",
       " TaggedDocument(words=['il', 'y', '5', 'ans', 'mariage', 'pour', 'personnes', 'de', 'même', 'sexe', 'combat', 'parmi', 'plus', 'essentiels', 'auxquels', 'il', 'm', '’', 'ait', 'été', 'donné', 'de', 'participer', 'l', '’', 'assemblée', 'conviction', 'volonté', 'fierté', 'avec', 'tous', 'camarades', 'de', 'commission', 'lois', 'autours', 'de', 'christiane', 'taubira', 'merci', 'eux'], tags=[539]),\n",
       " TaggedDocument(words=['femmes', 'journalistes', 'de', '@', 'lobs', 'du', 'parisien', 'se', 'plaignent', 'du', 'sexisme', 'de', 'leur', 'rédaction'], tags=[540]),\n",
       " TaggedDocument(words=['macroniens', 'sont', 'de', 'sortie', 'pour', 'défendre', 'gentille', 'aurorebergé', 'contre', 'vilains', 'méchants', 'cest', 'mignon', 'ça', 'occupe', 'ça', 'distrait', 'ils', 'sont', 'moins', 'nombreux', 'pour', 'défendre', 'hausse', 'de', 'csg', 'suppression', 'de', 'lisf', 'maskirovka', 'diversion'], tags=[541]),\n",
       " TaggedDocument(words=['cest', 'marrant', 'de', 'voir', 'tous', 'ces', 'mecs', 'chialer', 'que', 'me', 'too', 'va', 'limiter', 'dans', 'vie', 'quand', 'sexisme', 'limite', 'tous', 'nos', 'mouvements', 'depuis', 'tjrs', 'dans', 'lespace', 'public', 'au', 'taf', 'avec', 'mecs', 'amis', 'tout', 'temps'], tags=[542]),\n",
       " TaggedDocument(words=['qui', 'est', 'fou', 'c', '’', 'est', 'que', 'personne', 'dans', 'manif', 'indépendantiste', 'catalane', 'barcelone', 'n', '’', 'ait', 'l', '’', 'idée', 'de', 'demander', 'que', 'cette', 'caricature', 'd', '’', 'angela', 'merkel', 'en', 'nazie', 'soit', 'enlevée', 'nul'], tags=[543]),\n",
       " TaggedDocument(words=['enquête', 'suspendue', 'dans', 'laffaire', 'johnnyhallyday', 'accusé', 'de', 'viol', 'par', 'marie', 'christine', 'vo', 'balancetonporc', 'via', '@', 'leparisien'], tags=[544]),\n",
       " TaggedDocument(words=['alors', 'donc', 'faut', 'dire', 'mesdames', 'si', 'vous', 'avez', 'malheur', 'de', 'bosser', 'avec', 'votre', 'mari', 'vous', 'ne', 'serez', 'jamais', 'collaboratrice', 'parce', 'que', 'vous', 'comprenez', 'vous', 'couchez', 'aussi', 'avec', 'cest', 'lui', 'qui', 'aura', 'tout', 'crédit', 'bien', 'sûr', 'sexisme'], tags=[545]),\n",
       " TaggedDocument(words=['25janvier', 'appel', 'du', 'collectif', 'ensemblecontrelesexisme', 'accompagnée', 'de', 'propositions', 'concrètes', 'en', 'vue', 'de', 'construire', 'nouveau', 'modèle', 'de', 'société', 'égalitaire', 'permettre', 'chacun', 'chacune', 'dagir', 'au', 'quotidien'], tags=[546]),\n",
       " TaggedDocument(words=['@', 'zouloumaan', 'forcément', 'bg', 'autre', 'avec', 'même', 'technique', 'il', 'finit', 'dans', 'balancetonporc'], tags=[547]),\n",
       " TaggedDocument(words=['homme', 'est', 'venu', 'me', 'draguer', 'dans', 'ma', 'boutique', 'de', 'vêtements', 'aujourdhui', 'nous', 'sommes', 'mariés', 'nous', 'avons', 'enfant', 'balancetonporc'], tags=[548]),\n",
       " TaggedDocument(words=['angela', 'merkel', 'contre', 'mariage', 'gay', '“', 'pour', 'moi', 'mariage', 'c', '’', 'est', 'homme', 'femme', '”'], tags=[549]),\n",
       " TaggedDocument(words=['présentation', 'réformes', 'gouvernementales', 'commerce', 'extérieur', 'par', '@', 'ephilippepm', 'cinq', 'familles', 'prioritaires', 'l', '’', 'export', 'agroalimentaire', 'santé', 'ville', 'durable', 'énergies', 'renouvelables', 'industries', 'culturelles', 'créatives', 'icc', 'fier', 'être', 'désigné', 'fédérateur', 'export', 'icc', '@', 'francecreative'], tags=[550]),\n",
       " TaggedDocument(words=['drôles', 'de', 'conclusions', 'méfionsnous', 'au', 'lieu', 'de', 'faire', 'du', 'renforcement', 'bons', 'comportements', 'aussi', 'dencourager', 'victimes', 's', '’', 'exprimer', 'il', 'faut', 'travailler', 'sur', 'solutions', 'moiaussi', 'polqc', 'entreprise'], tags=[551]),\n",
       " TaggedDocument(words=['pelléas', 'mélisande', 'lauditorium', 'de', 'bordeaux', 'en', 'présence', 'du', 'maire', 'de', 'ville', 'elle', 'est', 'très', 'grande', 'très', 'haute', 'elle', 'est', 'pleine', 'de', 'ténèbres', 'bleues'], tags=[552]),\n",
       " TaggedDocument(words=['facebook', 'censuré', 'teaser', 'de', 'notre', 'websérie', 'car', 'on', 'y', 'voit', 'seins', 'si', 'on', 'arrêtait', 'de', 'systématiquement', 'sexualiser', 'corps', 'de', 'femme', 'il', 'ny', 'absolument', 'rien', 'dobscène', 'montrer', 'lanatomie', 'humaine', 'sexismeordinaire', 'sexisme', 'sexualisation', 'femmes', 'discrimination'], tags=[553]),\n",
       " TaggedDocument(words=['si', 'pute', 'tombe', 'enceinte', 'cest', 'accident', 'de', 'travail'], tags=[554]),\n",
       " TaggedDocument(words=['video', 'racisme', 'en', 'politique', 'colère', 'de', 'christiane', 'taubira', 'dans', 'complément', 'denquête'], tags=[555]),\n",
       " TaggedDocument(words=['rubrique', 'balancetonporc', 'pour', 'ne', 'pas', 'dire', 'président', 'du', 'tribunal'], tags=[556]),\n",
       " TaggedDocument(words=['quoiqu', '’', 'une', 'femme', 'fasse', 'c', '’', 'est', 'salope', 'itv', 'de', 'commissaire', 'de', 'lexpo', 'sur', 'noms', 'doiselles', 'par', '@', 'kriefb'], tags=[557]),\n",
       " TaggedDocument(words=['de', 'crier', 'sexiste', 'il', 'ny', 'quun', 'pas', 'que', 'je', 'franchis', 'apathie'], tags=[558]),\n",
       " TaggedDocument(words=['dénonciations', 'sous', 'hashtag', 'balancetonporc', 'cest', 'déjà', 'terminé', 'cétait', 'juste', 'pour', 'attirer', 'lattention', 'apparemment'], tags=[559]),\n",
       " TaggedDocument(words=['nouveau', 'viol', 'de', 'messi'], tags=[560]),\n",
       " TaggedDocument(words=['@', 'libreactus', 'aujourdhui', 'on', 'ne', 'peut', 'plus', 'rien', 'faire', 'sans', 'que', 'soit', 'sexiste', 'cest', 'bon', 'lhumour', 'aussi', 'ça', 'existe', 'détendezvous'], tags=[561]),\n",
       " TaggedDocument(words=['personne', 'ne', 'lui', 'dit', 'rien', 'balancetonporc', 'christiangrey', '50nuancesdegrey'], tags=[562]),\n",
       " TaggedDocument(words=['portrait', 'dangela', 'merkel', 'femme', 'plus', 'puissante', 'du', 'monde', 'loccasion', 'de', 'réélection', 'comme', 'chancelière', 'afp'], tags=[563]),\n",
       " TaggedDocument(words=['@', 'jlmelenchon', 'comme', 'si', 'angela', 'merkel', 'avait', 'pouvoir', 'pour', 'sopposer', 'mandat', 'darrêt', 'européen', 'être', 'parlementaire', 'avoir', 'si', 'peu', 'de', 'considération', 'pour', 'respect', 'lois', 'est', 'effrayant'], tags=[564]),\n",
       " TaggedDocument(words=['@', 'parispasrose', '@', 'lamanifpourtous', '@', 'komitidfr', '@', 'theresamay', 'jai', 'cru', 'que', 'c', '’', 'était', 'chienne', 'qui', 'était', 'enceinte', 'vu', 'maniere', 'dont', 'elle', 'lui', 'tient', 'ventre', 'jai', 'honte'], tags=[565]),\n",
       " TaggedDocument(words=['lancement', 'dun', 'numéro', 'téléphonique', 'antiharcèlement', 'sexuel', 'nous', 'voulons', 'aussi', 'parler', 'homos', 'lesbiennes', 'transgenresle', 'harcèlement', 'touche', 'tout', 'monde', 'agression', 'balancetonporc', 'metoo'], tags=[566]),\n",
       " TaggedDocument(words=['16jours', 'fait', 'environ', '120', 'millions', 'de', 'femmes', 'âgées', 'de', 'moins', 'de', '20', 'ans', 'ont', 'déjà', 'été', 'victimes', 'dun', 'viol', 'ou', 'dactes', 'sexuels', 'forcés', 'source', '@', 'unicef', 'moiaussi', '@', 'unicefsa', '@', 'unfpasa', '@', 'unwomenafrica', '@', 'unsouthafrica', 'ilesttemps', 'orangerlemonde'], tags=[567]),\n",
       " TaggedDocument(words=['jétais', 'heureuse', 'que', 'ça', 'parle', 'de', 'balance', 'ton', 'porc', 'jusquà', 'que', 'je', 'vois', 'ça', 'missfrance2018'], tags=[568]),\n",
       " TaggedDocument(words=['moiaussi', 'metoo', 'dit', 'ministre', 'de', 'trump', 'en', 'plein', 'débat', 'sur', 'harcèlement', 'sexuel', '@', 'lorientlejour'], tags=[569]),\n",
       " TaggedDocument(words=['quand', 'balancetonporc', 'fait', 'dérailler', 'procès', 'tron', 'via', '@', 'lefigaro'], tags=[570]),\n",
       " TaggedDocument(words=['regardez', 'christiane', 'taubira', 'essayer', 'de', 'trouver', 'défauts', '😂', 'you', 'havent', 'queen', 'quotidien'], tags=[571]),\n",
       " TaggedDocument(words=['je', 'suis', 'comme', 'catherine', 'deneuve', 'je', 'naime', 'pas', 'chasse', 'en', 'meute', 'comme', 'celle', 'qui', 'sévit', 'contre', 'trump', 'depuis', 'bien', 'avant', 'élection'], tags=[572]),\n",
       " TaggedDocument(words=['paye', 'ta', 'fac', 'chronique', 'du', 'sexisme', 'ordinaire', 'en', 'amphi', 'payetashnek'], tags=[573]),\n",
       " TaggedDocument(words=['millions', 'de', 'femmes', 'ont', 'libéré', 'leur', 'parole', 'durant', 'mouvement', 'moiaussi', 'aujourd', '’', 'hui', 'nous', 'voulons', 'souligner', 'leur', 'courage', 'réitérer', 'notre', 'solidarité', 'etmaintenant', 'envisageons', 'l', '’', 'avenir', 'joignez', 'mouvement', 'endossez', 'déclaration'], tags=[574]),\n",
       " TaggedDocument(words=['inconduite', 'sexuelle', 'élues', 'ne', 'sont', 'pas', 'épargnées', 'mais', 'pourquoi', 'lauraientelles', 'été', 'parce', 'quelles', 'ont', 'du', 'pouvoir', 'demandez', 'hillary', 'qui', 'failli', 'devenir', 'femme', 'plus', 'puissante', 'du', 'monde', 'quelle', 'en', 'pense', 'cultureduviol', 'moiaussi'], tags=[575]),\n",
       " TaggedDocument(words=['maolenchon', 'sest', 'révélé', 'sous', 'vrai', 'jour', 'misogynie', 'en', 'plus', 'ceuxcelles', 'qui', 'avaient', 'encore', 'lillusion', 'dune', 'gauche', 'alternative', 'nont', 'plus', 'quà', 'se', 'rendre', 'lévidence', 'balancetonporc'], tags=[576]),\n",
       " TaggedDocument(words=['allez', 'bleues', '–', 'en', 'train', 'de', 'regarder', 'match', 'de', 'handball'], tags=[577]),\n",
       " TaggedDocument(words=['donaldtrump', 'va', 'encore', 'trop', 'loin', 'avec', 'remarque', 'sexiste', 'envers', 'brigittemacron'], tags=[578]),\n",
       " TaggedDocument(words=['comité', 'qui', 'conseille', 'angela', 'merkel', 'avertit', 'risques', 'd', '’', 'une', 'extradition', 'de', 'carles', 'puigdemont', '@', 'krls', 'qui', 'impliquerait', 'engagement', 'côté', 'du', 'gouvernement', 'rajoy', 'au', 'lieu', 'd', '’', 'une', 'invitation', 'négocier'], tags=[579]),\n",
       " TaggedDocument(words=['@', 'marleneschiappa', 'ouvre', 'cette', 'journée', 'placée', 'sous', 'signe', 'de', 'l', '’', 'egalitéfh', 'nous', 'devons', 'marteler', 'que', 'féminisme', 'est', 'inclusif', 'concerne', 'tous', 'genres', 'âges', 'générations', 'sans', 'restriction', 'ensemblecontrelesexisme', '25janvier'], tags=[580]),\n",
       " TaggedDocument(words=['donc', 'inconnu', 'na', 'même', 'pas', 'été', 'condamné', 'pour', 'viol', 'dune', 'fillette', 'de', '13', 'ans', 'il', 'y', 'en', 'qui', 'croient', 'naïvement', 'que', 'jeremstargate', 'va', 'être', 'inquiété', '😂😂😂😂'], tags=[581]),\n",
       " TaggedDocument(words=['c', 'sortie', 'guignols', 'psles', 'français', 'ne', 'veulent', 'plus', 'entendre', 'parler', 'de', 'vous', 'messieurs', 'hollande', 'lefoll', 'hamon', 'il', 'manque', 'plus', 'que', 'sapin', 'nid', 'de', 'parasites', 'e', 'au', 'completah', 'il', 'manque', 'segolene', 'royal', 'bah', 'non', 'elle', 'trop', 'peur', 'de', 'l', '’', 'ouvrir', 'pr', 'pas', 'se', 'faire', 'virer'], tags=[582]),\n",
       " TaggedDocument(words=['jai', 'cru', 'que', 'cétait', 'coup', 'du', 'gorafi', 'mais', 'non', 'triste', 'réalité', 'communication', 'raté', 'sexiste', 'twingo', 'renault'], tags=[583]),\n",
       " TaggedDocument(words=['texte', 'de', 'loi', 'sur', 'légalité', 'hommefemme', 'au', 'lendemain', 'de', 'fin', 'de', 'celleci', 'au', 'gouvernement', 'ironie'], tags=[584]),\n",
       " TaggedDocument(words=['voilà', 'donc', 'preuve', 'que', 'fameux', 'theo', 'na', 'jamais', 'été', 'victime', 'de', 'viol', 'policiers', 'sont', 'mis', 'en', 'examen', 'pour', 'avoir', 'mis', 'hors', 'detat', 'de', 'nuire', 'cette', 'racaille', 'honte', 'justice', 'létat', 'complice'], tags=[585]),\n",
       " TaggedDocument(words=['qd', 'adhérents', 'lr', 'du', '92', 'affichent', 'arguments', 'aussi', 'odieux', 'que', 'ceux', 'de', 'certains', 'essentialistes', 'du', 'pir', 'en', 'soutien', 'd', '’', 'un', 'coopté', 'rueillois', 'raciste', 'sexiste', 'censure', 'd', '’', 'administrés', '@', 'patrickollier', '@', 'villederueil', '@', 'vincentpoizat', '@', 'leparisien92', '@', 'malikaakli', '@', 'malliotmarie'], tags=[586]),\n",
       " TaggedDocument(words=['timesup', 'metoo', 'moiaussi', 'quallonsnous', 'faire', 'pour', 'communauté', 'francophone', 'de', 'lontario'], tags=[587]),\n",
       " TaggedDocument(words=['8', 'mars', 'france2', 'propose', 'émissions', 'sur', 'femmes', 'toute', 'nuit', 'cest', 'bien', 'demain', 'on', 'bosse', '8mars', 'féminisme', 'ironie'], tags=[588]),\n",
       " TaggedDocument(words=['viedebureau', 'comment', 'combattre', 'nos', 'propres', 'réflexes', 'sexistes', 'au', 'travail', 'by', '@', 'juliefalcoz', 'vía', '@', 'madamefigaro', 'sexisme', 'egalitefh', 'stereotypes'], tags=[589]),\n",
       " TaggedDocument(words=['non', 'je', 'ne', 'suis', 'pas', 'du', 'tout', 'jalouse', 'comme', 'fille', 'ironie', 'lt'], tags=[590]),\n",
       " TaggedDocument(words=['dans', 'nouveau', 'monde', 'merveilleux', 'de', 'république', 'en', 'marche', 'quand', 'tu', 'profites', 'de', 'ta', 'position', 'pour', 'avoir', 'faveurs', 'sexuelles', 'en', 'échange', 'de', 'services', 'professionnels', 'quand', 'tu', 'es', 'visé', 'par', 'enquête', 'pour', 'viol', 'on', 'te', 'réserve', 'standing', 'ovation', 'lassemblée', 'nationale'], tags=[591]),\n",
       " TaggedDocument(words=['en', 'couverture', 'de', '«', 'm', 'magazine', 'du', 'monde', '»', 'daté', 'du', '23', 'décembre', 'balancetonporc', 'meetoo', 'mais', 'aussi', 'règles', 'lécriture', 'inclusive', '@', 'zinebdryef', 'retrace', 'année', 'deffervescence', 'qui', 'vu', 'parole', 'femmes', 'se', 'libérer', 'conception', 'design', 'par', '@', 'jbtalbourdet', 'feminism'], tags=[592]),\n",
       " TaggedDocument(words=['pour', 'rappel', 'jeanchristophe', 'ruffin', 'est', 'lauteur', 'du', 'désastreux', 'parfum', 'dadam', 'roman', 'diffamant', 'défenseurs', 'animaux', 'sexiste', 'en', 'plus'], tags=[593]),\n",
       " TaggedDocument(words=['lesperles', 'drague', 'séduction', 'balancetonporc', '«', 'eh', 'madame', 'ton', 'minou', 'il', 'est', 'aussi', 'grand', 'que', 'tes', 'oreilles', '»', 'mignon', 'ça'], tags=[594]),\n",
       " TaggedDocument(words=['délit', 'doutrage', 'sexiste', 'devrait', 'prochainement', 'voir', 'jour', 'avec', 'loi', 'contre', 'violences', 'sexistes', 'sexuelles', 'décryptage', 'sur', 'blog', 'du', '@', 'clubdesjuristes', 'par', 'julie', 'klein', 'professeur', 'de', 'droit', 'l', '@', 'univrouen', 'expert', 'du', 'club', 'juristes'], tags=[595]),\n",
       " TaggedDocument(words=['@', 'perrinest', 'dans', '90', 'cas', 'de', 'licenciement', 'motif', 'présenté', 'nest', 'jamais', 'vrai', 'motif', 'de', 'licenciement', '@', 'francetele', 'voulait', 'se', 'séparer', 'de', 'lui', 'louverture', 'fut', 'parfaite', 'balancetonporc', 'etc'], tags=[596]),\n",
       " TaggedDocument(words=['@', 'franzcomte', 'ma', 'cravate', 'vous', 'dérange', 'perso', 'je', 'be', 'me', 'cache', 'pas', 'derrière', 'image', 'sexiste'], tags=[597]),\n",
       " TaggedDocument(words=['dans', 'monde', 'idéal', 'il', 'faudrait', 'que', 'victimes', 'de', 'harcelementscolaire', 'deviennent', 'drh', 'quelles', 'se', 'transmettent', 'liste', 'noms', 'de', 'harceleurs', 'type', 'balancetonporc', 'il', 'y', 'aurait', 'ainsi', 'hausse', 'du', 'chômage', 'de', 'très', 'longue', 'durée', 'mais', 'davantage', 'de', 'justice', 'sur', 'terre', '😁ironie'], tags=[598]),\n",
       " TaggedDocument(words=['égalité', 'homme', 'femme'], tags=[599]),\n",
       " TaggedDocument(words=['@', 'mikofficiel', 'euh', 'perso', 'vivian', 'yeux', 'qui', 'se', 'disent', 'bjr', 'ne', 'laisserait', 'aucune', 'fille', 'de', 'marbre', 'ironie', 'marcelbcptroppiquants'], tags=[600]),\n",
       " TaggedDocument(words=['metoo', 'balancetonporc', 'briseurs', 'de', 'silence', 'désignés', 'personnalité', 'de', 'lannée', 'par', 'time', 'via', '@', 'telquelofficiel'], tags=[601]),\n",
       " TaggedDocument(words=['@', 'meyerhabib', '@', 'solere92', '@', 'lconstructifs', 'au', 'vue', 'de', 'piecesaconviction', 'l', '’', 'udi', 'semble', 'plutôt', 'être', 'groupe', 'de', 'filsdelaches', 'de', 'méthodes', 'd', '’', 'extrême', 'droite', 'arrêtez', 'de', 'parler', 'de', 'respect', 'vous', 'n', '’', 'en', 'avez', 'jamais', 'compris', 'sens', 'fdp', 'kianoush', 'bobigny', '@', 'jclagarde', 'honte', 'balancetonporc', 'racaillepolitique'], tags=[602]),\n",
       " TaggedDocument(words=['beaucoup', 'de', 'fins', 'courtisans', 'en', 'france', 'avec', 'prose', 'plutotsympa', 'compilation', 'payetashnek'], tags=[603]),\n",
       " TaggedDocument(words=['selon', '@', 'visibrain', 'plateforme', 'de', 'veille', 'ereputation', 'amp', 'com', 'de', 'crise', 'près', 'd14', 'badbuzz', 'en', '2017', 'étaient', 'liés', 'au', 'sexisme', 'preuve', 'que', 'tolérance', 'baisse', 'que', 'dénonciation', 'du', 'sexisme', 'samplifie', 'sur', 'réseaux', 'confbadbuzz'], tags=[604]),\n",
       " TaggedDocument(words=['ensemblecontrelesexisme', 'sexisme', 'dans', 'milieux', 'du', 'sport', 'de', 'culture', 'beaucoup', 'de', 'femmes', 'dans', 'pratique', 'elles', 'sont', 'peu', 'présentes', 'dans', 'niveaux', 'de', 'direction', 'nous', 'partîmes', '5000', 'nous', 'nous', 'vîmes', '50', 'en', 'arrivant', 'au', 'port', 'aline', 'césar', 'présidente', 'de', 'mouvement', 'hf'], tags=[605]),\n",
       " TaggedDocument(words=['@', 'claratwittine69', 'comme', 'quoi', 'racisme', 'est', 'déguisé', 'en', 'dautres', 'nomsfeminismelaïcitésexisme', 'patriotisme', 'maintien', 'de', 'lordreect'], tags=[606]),\n",
       " TaggedDocument(words=['christine', '@', 'lagarde', 'met', 'en', 'garde', '@', 'davos', 'contre', 'contrecoup', 'qui', 'pourrait', 'arriver', 'cause', 'de', 'réforme', 'fiscale', 'aux', 'étatsunis', 'crise', 'financière', 'est', 'prévoir', 'en', 'raison', 'de', 'lénorme', 'déficit', 'créé', 'manque', 'de', 'collaboration', 'internationale', 'est', 'autre', 'facteur', 'de', 'risque', 'fmi'], tags=[607]),\n",
       " TaggedDocument(words=['discussion', 'franche', 'constructive', 'avec', 'professionnels', '@', 'interbevfr', 'filière', 'doit', 'mieux', 's', '’', 'organiser', 'monter', 'en', 'gamme', 'comme', 'prévu', 'par', 'plan', 'de', 'filière', 'egalim', 'sia2018', '@', 'eleveursbovins'], tags=[608]),\n",
       " TaggedDocument(words=['parler', 'dénoncer', 'stop', 'violence', 'harcelement', 'outragesexiste', 'balancetonporc', 'feminisme', 'violence', 'denoncer'], tags=[609]),\n",
       " TaggedDocument(words=['🐄📣inauguration', 'du', '@', 'salondelagri', 'avec', 'notre', 'président', 'de', 'république', '@', 'emmanuelmacron', 'touché', 'fier', 'dêtre', 'côtés', 'pour', 'journée', 'déchanges', 'avec', 'tous', 'acteurs', 'du', 'monde', 'agricole', 'enmarche', 'agriculture', 'sia2018'], tags=[610]),\n",
       " TaggedDocument(words=['2501', '22', 'organisations', 'réseaux', 'se', 'retrouvent', 'demain', 'pour', 'journée', 'ensemblecontrelesexisme', 'avec', '@', 'marleneschiappa', '@', 'laurossignol', '@', 'cometentreprise', 'chez', '@', 'telecomptech', 'travail', 'sante', 'sport', 'culture', '🛑sexisme'], tags=[611]),\n",
       " TaggedDocument(words=['haziza', 'retâte', 'terrain', 'sut', 'twitter', 'en', 'espérant', 'que', 'gens', 'auront', 'oublié', 'quil', 'est', 'harceleur', 'sexuel', 'balancetonporc'], tags=[612]),\n",
       " TaggedDocument(words=['@', 'agatheauproux', '@', 'hennimo', 'ça', 'drague', 'ta', 'femme', 'je', 'dis', 'ça', 'je', 'dis', 'rien'], tags=[613]),\n",
       " TaggedDocument(words=['stéréotypes', 'font', 'vie', 'dure', 'pour', 'près', 'de', '9', 'personnes', 'sur', '10', 'qui', 'différencie', 'en', 'tout', 'premier', 'lieu', 'homme', 'd', '’', 'une', 'femme', 'c', '’', 'est', 'façon', 'd', '’', 'exprimer', 'sentiments', 'help', 'sexisme'], tags=[614]),\n",
       " TaggedDocument(words=['@', 'brusicor02', 'premier', 'que', 'jai', 'vu', 'était', 'avec', 'angela', 'merkel', 'ya', 'deux', 'ans', 'en', 'gros'], tags=[615]),\n",
       " TaggedDocument(words=['en', 'poste', 'pour', 'finale', 'championnats', 'du', 'monde', 'de', 'handball', 'allez', 'bleues', 'courage', 'faites', 'nous', 'gros', 'match'], tags=[616]),\n",
       " TaggedDocument(words=['«', 'je', 'ne', 'suis', 'pas', 'pour', 'l', '’', 'équité', 'mais', 'bien', 'pour', 'l', '’', 'égalité', 'il', 'faut', 'arrêter', 'de', 'parler', 'de', 'partage', 'rôles', 'de', 'complémentarité', '»', 'féminisme', 'chimamanda', 'ngozie', 'adichie', 'lanuitdesidées'], tags=[617]),\n",
       " TaggedDocument(words=['nicolas', 'hulot', 'nen', 'peut', 'plus', 'que', 'ségolène', 'royal', 'se', 'mêle', 'de', 'ministère', 'ambassadrice', 'chargée', 'pôles', 'sud', 'nord', 'nest', 'visiblement', 'pas', 'job', 'plein', 'temps', 'si', 'jen', 'juge', 'par', 'temps', 'quelle', 'consacre', 'soccuper', 'de', 'politique'], tags=[618]),\n",
       " TaggedDocument(words=['bon', 'bbl', 'jvais', 'faire', 'travail', 'de', 'toute', 'femme', 'ironie', 'vaisselle'], tags=[619]),\n",
       " TaggedDocument(words=['jai', 'solidairement', 'signé', 'moiaussi', 'je', 'vous', 'invite', 'signer', 'déclaration', 'vous', 'aussi', 'etmaintenant', 'parce', 'que', 'ça', 'ne', 'sarrête', 'pas', 'merci', '@', 'laclermont', '@', 'aurelielanctot', 'dêtre', 'voix', 'vision', 'de', 'mouvement'], tags=[620]),\n",
       " TaggedDocument(words=['prénoms', 'australiens', '30', 'prénoms', 'pour', 'fille', 'prenomsbebe'], tags=[621]),\n",
       " TaggedDocument(words=['lavocate', 'de', 'femme', 'qui', 'accuse', 'darmanin', 'est', 'sur', 'e1', 'matin', 'il', 'ny', 'avait', 'pas', 'de', 'désir', 'pas', 'de', 'consentement'], tags=[622]),\n",
       " TaggedDocument(words=['encore', 'preuve', 'de', 'sexisme', '😂😂😂'], tags=[623]),\n",
       " TaggedDocument(words=['balancetonporc', 'strasbourgpsg', '21'], tags=[624]),\n",
       " TaggedDocument(words=['jsavais', 'pas', 'ct', 'possible', 'd', '’', 'être', 'connasse', 'point', 'mais', 'meufs', 'n', '’', 'ont', 'pas', 'de', 'limite', '😊😊'], tags=[625]),\n",
       " TaggedDocument(words=['merci', '@', 'pernillabaralt', '@', 'davidcvach', 'pour', 'ces', 'échanges', 'sur', '✔️prévention', 'contre', 'violences', 'sexuelles', '✔️répression', 'pénale', 'du', 'viol', '✔️congé', 'parental', '✔️place', 'femmes', 'dans', 'dynamisme', 'économique', '@', 'franceinsweden', '@', 'egalfh'], tags=[626]),\n",
       " TaggedDocument(words=['cest', 'genre', 'de', 'fille', 'qui', 'tiens', 'bien', 'promesses', 'en', 'plus', 'ironie'], tags=[627]),\n",
       " TaggedDocument(words=['combat', 'contre', 'bêtise', 'machiste', 'est', 'loin', 'dêtre', 'gagnée', 'quand', 'femme', 'parle', 'de', 'fond', 'certains', 'préfèrent', 'se', 'focaliser', 'sur', 'bout', 'de', 'tissu', 'respect', 'egalite'], tags=[628]),\n",
       " TaggedDocument(words=['benzema', '=tir', 'de', 'femme', 'enceintefranig'], tags=[629]),\n",
       " TaggedDocument(words=['merci', '@', '20minutesonline', 'pour', 'portrait', 'très', 'fidèle', 'ma', 'réalité', 'de', 'maraîchère', 'bio', 'députée', 'je', 'm', '’', 'engage', 'ainsi', 'que', 'mes', 'collègues', 'dans', 'l', '’', 'élaboration', 'de', 'loi', 'egalim', 'notre', 'travail', 'collectif', 'portera', 'fruits', 'larem', '@', 'moreaujb23', '@', '3807limon', '@', 'lmaillart'], tags=[630]),\n",
       " TaggedDocument(words=['je', 'suis', 'trop', 'ordonnée', 'comme', 'fille', 'ironie'], tags=[631]),\n",
       " TaggedDocument(words=['jaime', 'vidéo', '@', 'youtube', 'johnny', 'hallyday', 'catherine', 'deneuve', 'retiens', 'nuit', 'ladresse'], tags=[632]),\n",
       " TaggedDocument(words=['nouvelle', 'salve', 'd', '’', 'accusations', 'contre', 'dustin', 'hoffman', 'balancetonporc'], tags=[633]),\n",
       " TaggedDocument(words=['députées', 'fédérales', 'incertaines', 'de', 'lavenir', 'du', 'mouvement', 'moiaussi'], tags=[634]),\n",
       " TaggedDocument(words=['alors', 'comme', 'ça', 'tes', 'féministe', 'lire', 'dans', 'balance', 'ton', 'marcassin', 'by', 'clémence', 'pire', 'ici', '►', 'journeedesdroitsdelafemme', '8mars15h40', '8mars', '8mars2018', 'feministe', 'balancetonporc', 'maintenantonagit'], tags=[635]),\n",
       " TaggedDocument(words=['rt', '@', 'jdequebec', 'femme', 'enceinte', 'cherche', 'médecin', 'québec', 'santé', 'suivi', 'grossesse'], tags=[636]),\n",
       " TaggedDocument(words=['royaumeuni', 'je', 'vous', 'ai', 'mis', 'dans', 'pétrin', 'je', 'vais', 'vous', 'en', 'sortir', 'dit', 'theresa', 'may', 'aux', 'conservateurs', 'afp'], tags=[637]),\n",
       " TaggedDocument(words=['il', 'ny', 'absolument', 'aucune', 'raison', 'quune', 'femme', 'ne', 'pilote', 'pas', 'aussi', 'bien', 'quun', 'homme', 'go', 'susie', 'via', '@', 'lequipe'], tags=[638]),\n",
       " TaggedDocument(words=['dire', 'que', '14amp15', 'mai', '2011', 'jétais', 'en', 'formation', 'féminisme', 'amp', 'socialisme', 'ironie', 'jai', 'mal', 'mon', 'féminisme', 'vous'], tags=[639]),\n",
       " TaggedDocument(words=['sexisme', 'dans', 'études', 'médicales', 'chiffres', 'inquiétants', 'de', 'situation', 'par', '@', 'isnitwit', '➡️'], tags=[640]),\n",
       " TaggedDocument(words=['angela', 'merkel', 'quatrième', 'femme', 'personnalité', 'de', 'lannée', 'du', 'time', 'depuis', '1927'], tags=[641]),\n",
       " TaggedDocument(words=['@', 'emmanuelmacron', 'dénonçant', 'risques', 'du', '«', 'relativisme', '»', 'rappelle', 'angela', 'merkel', 'qui', 'disait', 'l', '’', 'importance', 'd', '’', 'une', 'foi', 'ardente', 'dans', 'démocratie', 'pour', 'être', 'aussi', 'déterminé', 'que', 'ennemis', 'islamistes', 'autres'], tags=[642]),\n",
       " TaggedDocument(words=['tpmp', 'soir', 'reprise', 'du', 'direct', 'pour', 'quotidien', 'christiane', 'taubira', 'kad', 'merad', 'charlotte', 'gainsbourg', 'sont', 'invités', 'de', 'yann', 'barthès', 'sachez', 'que', 'charlotte', 'gainsbourg', 'ne', 'mettra', 'pas', 'pieds', 'dans', 'tpmp', 'lémission', 'qui', 'crache', 'sur', 'gens', 'émissions'], tags=[643]),\n",
       " TaggedDocument(words=['@', 'cristib', 'absolument', 'mec', 'qui', 'baise', 'beaucoup', 'est', 'don', 'juan', 'fille', 'qui', 'baise', 'beaucoup', 'est', 'salope', 'pute', 'lorsquune', 'femme', 'décide', 'de', 'quelle', 'fait', 'de', 'corps', 'on', 'blame', 'directement'], tags=[644]),\n",
       " TaggedDocument(words=['actualités', 'bim', 'meurtre', 'd', '’', 'angélique', 'theresa', 'may', 'dans', 'tempête', 'l', '’', 'arbre', 'farceur', 'de', 'macron'], tags=[645]),\n",
       " TaggedDocument(words=['sncf', 'notre', 'méthode', '➡️', '2', 'mois', 'de', 'concertation', '3', 'mois', 'de', 'débat', 'parlementaire', '➡️', 'concertation', 'avec', 'syndicats', 'démarre', 'dès', 'demain', '➡️', 'dès', 'que', 'concertation', 'aura', 'permis', 'd', '’', 'avancer', 'sur', 'sujet', 'on', 'mettra', 'dans', 'loi', 'place', 'de', 'l', '’', 'ordonnance'], tags=[646]),\n",
       " TaggedDocument(words=['après', 'moiaussi', 'etmaintenant', 'doc', 'mailloux', 'propose', 'maintenant', '«', 'balance', 'ton', 'porc', 'ta', 'truie', 'de', 'mère', '»', 'polqc', 'assnat', 'balancetonporc', 'metoo'], tags=[647]),\n",
       " TaggedDocument(words=['l', '’', 'avocat', 'de', 'gérald', 'darmanin', '«', 'ce', 'qui', 'intéresse', 'plus', 'cette', 'femme', 'c', '’', 'est', 'de', 'salir', 'ministre', '»'], tags=[648]),\n",
       " TaggedDocument(words=['mais', 'quelle', 'ménerve', 'cette', 'fille', 'ironie', 'connasse', '@', 'claragonon'], tags=[649]),\n",
       " TaggedDocument(words=['sexisme', 'est', 'idéologie', 'croyance', 'induisant', 'actes', 'demontrant', 'prédominance', 'dun', 'sexe', 'sur', 'l', 'autre', 'discrimination', 'par', 'sexe', 'du', 'sexisme', 'ordinaire', 'jusquau', 'viol', '@', 'brigittegresy', 'ensemblecontrelesexisme'], tags=[650]),\n",
       " TaggedDocument(words=['via', '@', 'lacroix', 'comment', 'mettre', 'hors', 'jeu', 'sexisme', 'dans', 'sport'], tags=[651]),\n",
       " TaggedDocument(words=['libérons', 'parole', 'hommes', 'marianne', 'défend', 'second', 'degré', 'de', 'sur', 'balancetonporc', 'via', '@', 'franceinfo'], tags=[652]),\n",
       " TaggedDocument(words=['dessin', 'de', 'jerc', 'du', 'vendredi', '15', 'décembre', '2017', 'caricature', 'robert', 'menard', 'balance', 'ton', 'porc'], tags=[653]),\n",
       " TaggedDocument(words=['merci', '@', 'marleneschiappa', 'pour', 'message', '@', 'telecomparistech', 'pour', 'ensemblecontrelesexisme', '25janvier'], tags=[654]),\n",
       " TaggedDocument(words=['cest', 'pas', 'jeremstar', 'qui', 'avait', 'parlé', 'du', 'hashtag', 'balancetonporc', 'jcrois', 'il', 'avait', 'oublié', 'de', 'balancer', 'sien', 'jeremstargate'], tags=[655]),\n",
       " TaggedDocument(words=['je', 'dois', 'devenir', 'veille', 'conne', 'élitiste', 'mais', 'jai', 'limpression', 'quil', 'y', 'concepts', 'vocabulaires', 'qui', 'sont', 'pertinents', 'discuter', 'en', 'petit', 'comité', 'qui', 'deviennent', 'absolument', 'nocifs', 'lorsque', 'grand', 'public', 'pose', 'yeux', 'dessus'], tags=[656]),\n",
       " TaggedDocument(words=['que', 'je', 'pense', 'de', 'liberté', 'dimportuner', 'sexisme', 'catherinedeneuve', 'tribune', 'cest', 'pas', 'parce', 'que', 'vous', 'aimez', 'soumission', 'quon', 'doit', 'toutes', 'apprécier', 'lavis', 'vieilles', 'bourgeoises', 'qui', 'ne', 'prennent', 'plus', 'métro', 'sur', 'frotteurs', 'on', 'sen', 'passe'], tags=[657]),\n",
       " TaggedDocument(words=['j', '’', 'ai', 'bleues', 'partout', 'comment', 'vous', 'voulez', 'que', 'j', '’', 'arrive', 'dormir', 'correctement', '🤔🤔😴😴'], tags=[658]),\n",
       " TaggedDocument(words=['mes', 'deux', 'ex', 'minvitent', 'partys', 'parce', 'quils', 'trouvent', 'que', 'je', 'suis', 'fille', 'cool', 'je', 'dois', 'être', 'cool', 'en', 'tabarnak', 'partyanimal', 'ironie'], tags=[659]),\n",
       " TaggedDocument(words=['missfrance2018', 'missfrance', 'il', 'est', 'ahurissant', 'l', '’', 'heure', 'de', 'balancetonporc', 'de', 'voir', 'se', 'perpétrer', 'genre', 'de', 'show', 'comme', 'dans', 'cirques', 'romains', 'où', 'jeunes', 'filles', 'numérotées', 's', '’', 'exhibent', 'dansent', 'entourées', 'de', 'machos', 'déshabillées', 'de', 'tête', 'au', 'pied', 'par', 'caméras', 'balancetamiss'], tags=[660]),\n",
       " TaggedDocument(words=['balancetonporc', 'jimagine', 'gros', 'porcs', 'qui', 'lisent', 'ces', 'tweets', 'en', 'transpirant', 'de', 'grosses', 'gouttes', 'de', 'peur', 'de', 'se', 'reconnaître', 'dêtre', 'reconnu'], tags=[661]),\n",
       " TaggedDocument(words=['angela', 'merkel', 'est', 'réélue', 'chancelière', 'en', 'allemagne', 'loccasion', 'de', 'revenir', 'sur', 'mandats', 'leur', 'impact', 'sur', 'lue', 'de', 'leuro', 'aux', 'réfugiés', 'du', 'pire', 'comme', 'du', 'meilleur'], tags=[662]),\n",
       " TaggedDocument(words=['balancetonporc', 'passons', 'd', '’', 'une', 'guerre', 'de', 'genres', 'vraie', 'lutte', 'contre', 'pers', 'qui', 'ont', 'trouble', 'narcissique', 'perversnarcissique', 'dms'], tags=[663]),\n",
       " TaggedDocument(words=['si', 'comme', 'femmes', 'hommes', 'étaient', 'depuis', 'toujours', 'victimes', 'du', 'mythe', 'de', 'virilité', 'virilité', 'estelle', 'piège', 'pour', 'deux', 'sexes', 'olivia', 'gazalé', 'répondait', 'soir', 'dans', '64minutes', 'sur', '@', 'tv5monde', 'via', '@', 'mkacitv5m', 'balancetonporc', 'metoo', 'égalitéfh'], tags=[664]),\n",
       " TaggedDocument(words=['femme', 'cest', 'peu', 'comme', 'kamikaze', 'prête', 'tout', 'pour', 'se', 'faire', 'sauter', 'mais', 'si', 'elle', 'est', 'encore', 'en', 'vie', 'après', 'elle', 'va', 'être', 'première', 'faire', 'victime', 'balancetonporc', 'toutesdessalopes', 'humour'], tags=[665]),\n",
       " TaggedDocument(words=['je', 'n', 'étais', 'pas', 'convaincu', 'de', '1ère', 'heure', 'de', '@', 'virginiecalmels', 'j', 'ai', 'regardé', 'lu', 'entendu', 'cette', 'femme', 'je', 'peux', 'affirmer', 'soir', 'm', 'être', 'trompé', 'sur', 'mon', '1er', 'jugement', 'elle', 'est', 'vraiment', 'très', 'bienampforme', 'avec', '@', 'laurentwauquiez', 'duo', 'très', 'performant'], tags=[666]),\n",
       " TaggedDocument(words=['l', '@', 'udaannonceurs', 'craint', 'que', 'législateur', 'mette', 'nez', 'dans', 'secteur', 'publicitaire', 'alors', 'ils', 'sengagent', 'contre', 'clichés', 'créant', 'ainsi', '3784e', 'charte', 'de', 'lindustrie', 'contre', 'sexisme', 'qui', 'croit', 'encore', 'lautorégulation'], tags=[667]),\n",
       " TaggedDocument(words=['donc', 'sous', 'pretexte', 'quelle', 'dit', 'h24', 'salope', 'dans', 'videos', 'elle', 'droit', 'de', 'dire', 'aux', 'gens', 'qui', 'lui', 'ont', 'rien', 'demandé', 'salope', 'reste', 'insulte', 'quoiquil', 'en', 'soit'], tags=[668]),\n",
       " TaggedDocument(words=['au', 'dîner', 'producteurs', '@', 'lescesar', 'jai', 'salué', 'l', '’', 'initiative', 'rubanblanc', 'qui', 'sera', 'lors', 'cesar2018', 'symbole', 'fort', 'pour', 'légalitéfh', 'égalité', 'choix', 'opportunités', 'moyens', 'd', '’', 'expression', '@', 'marleneschiappa'], tags=[669]),\n",
       " TaggedDocument(words=['je', 'ne', 'veux', 'pas', 'nécessairement', 'de', 'femme', 'prêtres', 'mais', 'lorsque', 'représentants', 'de', 'religion', 'prennent', 'autant', 'de', 'place', 'dans', 'lactualité', 'dans', 'monde', 'je', 'considère', 'quon', 'doit', 'dénoncer', 'leurs', 'incohérences', 'leur', 'sexisme', 'leur', 'misogynie'], tags=[670]),\n",
       " TaggedDocument(words=['oh', 'oui', 'maîtresse', 'ditesnous', 'qu', '’', 'il', 'faut', 'faire', 'pas', 'mieux', 'quune', 'femme', 'pour', 'faire', 'ménage', 'theresamay', '@', 'slatefr'], tags=[671]),\n",
       " TaggedDocument(words=['«', 'nous', 'avons', 'toujours', 'dit', 'qu', '’', 'il', 'y', 'aurait', 'réforme', 'de', 'fonction', 'publique', 'régimes', 'spéciaux', '»', 'legrandsoirweekend', '@', 'lci'], tags=[672]),\n",
       " TaggedDocument(words=['cerveau', 'til', 'sexe', 'video', 'de', 'conference', 'tedx', 'de', 'catherine', 'vidal', 'neuobiologiste', 'toujours', 'aussi', 'passionnante', 'ensemblecontrelesexisme', '25janvier'], tags=[673]),\n",
       " TaggedDocument(words=['collectif', 'ensemblecontrelesexisme', 'vous', 'donne', 'rdv', 'matin', '9h', 'pr', '1re', 'journée', 'nationale', 'de', 'rencontres', 'contre', 'sexisme', 'marrainé', 'par', '@', 'marleneschiappa', 'événement', 'suivre', 'en', 'live', 'tweet', 'tte', 'journée', '25janvier', 'tftc', 'egalitefh'], tags=[674]),\n",
       " TaggedDocument(words=['fin', 'de', 'match', '11', 'nul', 'bleues', 'face', 'aux', 'italiennes', 'fraita'], tags=[675]),\n",
       " TaggedDocument(words=['theresa', 'may', 'en', 'visite', 'paris', 'mardi', 'comme', 'margaret', 'thatcher', 'juste', 'avant', 'chute'], tags=[676]),\n",
       " TaggedDocument(words=['ça', 'prône', 'légalité', 'homme', 'femme', 'mais', 'dès', 'quune', 'nouvelle', 'photo', 'arrive', 'ça', 'y', 'va', 'dans', 'commentaires', 'pour', 'eux', 'ça', 'ne', 'semble', 'absolument', 'pas', 'déplacé', '😓', 'je', 'vous', 'dis', 'cest', 'pas', 'gagné', '😔😓', 'cette', 'société', 'me', 'désespère', 'au', 'plus', 'haut', 'point', '😐'], tags=[677]),\n",
       " TaggedDocument(words=['@', 'lehuffpost', 'il', 'faut', 'juste', 'réfléchir', 'deux', 'secondes', 'sur', 'contexte', 'actuel', 'bertrand', 'cantat', 'balance', 'ton', 'porc', 'etc', 'non', 'coluche', 'ne', 'pourrait', 'plus', 'faire', 'blague', 'sur', 'viol', 'mais', 'bon', 'c', '’', 'est', 'si', 'grave'], tags=[678]),\n",
       " TaggedDocument(words=['missfrance2018', 'ça', 'défend', 'jesuischarlie', 'balancetonporc', 'au', 'final', 'certains', 'vannent', 'roux', 'critique', 'physique', 'missfrance2018'], tags=[679]),\n",
       " TaggedDocument(words=['si', 'pute', 'elle', 'tombe', 'enceinte', 'cest', 'accident', 'de', 'travail', 'nan'], tags=[680]),\n",
       " TaggedDocument(words=['puisse', 'féminisme', 'bel', 'noble', 'combat', 'ne', 'pas', 'sombrer', 'dans', 'manichéisme', 'victimaire', 'balancetonporc'], tags=[681]),\n",
       " TaggedDocument(words=['«', 'pourquoi', 't', '’', 'es', 'méchante', 'qu', '’', 'estce', 'que', 'j', '’', 'ai', 'fait', 'de', 'mal', '»', 'mon', 'violeur', 'balancetonporc'], tags=[682]),\n",
       " TaggedDocument(words=['bon', 'sang', 'ils', 'nous', 'auront', 'vraiment', 'tout', 'fait', 'pour', 'procès', '–', 'quand', 'balancetonporc', 'fait', 'dérailler', 'procès', 'tron'], tags=[683]),\n",
       " TaggedDocument(words=['@', 'lehuffpost', 'jannonce', 'nivellement', 'salaires', 'par', 'bas', 'par', 'soucis', 'dégalité', 'hein', 'rassurez', 'vous', 'victimes', 'de', 'balancetonporc', 'gros', 'bonnets', 'auront', 'toujours', 'primes', 'en', 'tous', 'genres', 'pour', 'asseoir', 'leur', 'supériorité'], tags=[684]),\n",
       " TaggedDocument(words=['angela', 'merkel', 'salue', 'travail', 'de', '@', 'martinselmayr', 'selmayrgate'], tags=[685]),\n",
       " TaggedDocument(words=['leurs', 'arguments', 'cest', 'du', 'béton', 'vraiment', 'jen', 'reste', 'scotchée', 'ironie', 'féminisme', 'machoman'], tags=[686]),\n",
       " TaggedDocument(words=['moiaussi', 'pavé', 'dans', 'mare', '|', 'segment', '|', 'tout', 'monde', 'en', 'parle', '|', 'ici', 'radiocanadaca'], tags=[687]),\n",
       " TaggedDocument(words=['garorock', '2018', '=', 'balancetonporc', 'marilyn', 'manson', 'bertrand', 'cantat', 'orelsan', 'rejoignent', 'indochine'], tags=[688]),\n",
       " TaggedDocument(words=['jss', 'fou', 'qd', 'message', 'miss', 'passe', 'mon', 'pere', 'qui', 'sort', 'hashtag', 'balance', 'ton', 'porc', 'hashtag', 'gros', 'con'], tags=[689]),\n",
       " TaggedDocument(words=['washington', 'trump', 'salue', 'en', 'merkel', '«', 'femme', 'extraordinaire', '»', 'mais', 'sur', 'fond', 'leurs', 'échanges', 'ont', 'été', 'peu', 'fructueux'], tags=[690]),\n",
       " TaggedDocument(words=['charline', 'toujours', 'aussi', 'excellente', 'balancetonporc'], tags=[691]),\n",
       " TaggedDocument(words=['absoluement', 'oui', 'amp', 'daccord', 'catherinedeneuve', '—', 'sexisme', 'aux', 'hommes', 'existe', 'aussitôt', 'par', 'femmes', 'avec', 'du', 'pouvoir', 'ou', 'par', 'gays', 'avec', 'du', 'pouvoir', '«', 'rien', 'dans', 'texte', 'ne', 'prétend', 'que', 'harcèlement', 'du', 'bon', '»', 'libération'], tags=[692]),\n",
       " TaggedDocument(words=['angela', 'merkel', 'reçoit', '@', 'emmanuelmacron', 'sur', 'chantier', 'du', 'château', 'de', 'berlin', 'au', 'menu', 'de', 'cette', 'visite', 'd', '’', 'autres', 'gros', 'chantiers', 'europe', 'syrie', 'iran', 'commerce', 'international…'], tags=[693]),\n",
       " TaggedDocument(words=['tex', 'il', 'annoncé', 'qu', '’', 'il', 'tentait', 'truc', 'il', 'l', '’', 'a', 'fait', 'en', 'toute', 'conscience', 'connaissance', 'du', 'contexte', 'pour', 'moi', 'il', 'été', 'viré', 'pour', 'connerie', 'plus', 'que', 'pour', 'fait', 'de', 'faire', 'blague', 'n', '’', 'était', 'pas', 'maladroit', 'il', 'voulu', 'jouer', 'avec', 'feu', 'il', 'perdudon', '’', 't', 'act', 'balancetonporc'], tags=[694]),\n",
       " TaggedDocument(words=['seule', 'avoir', 'loupé', 'coche', 'lors', 'de', '2', 'élections', 'de', 'suite', 'cest', 'quand', 'même', 'ségolène', 'royal', 'ni', 'présidente', 'ni', 'femme', 'de', 'président'], tags=[695]),\n",
       " TaggedDocument(words=['entendu', 'hier', 'mec', 'c', '’', 'est', 'quoi', 'problème', 'avec', 'hommes', 'nana', 'imagine', 'ruelle', 'sombre', 'isolée', 'en', 'pleine', 'nuit', 't', '’', 'es', 'pas', 'serein', 't', 'seul', 'arrive', 'en', 'face', 'de', 'toi', 'quelqu', '’', 'un', 'tu', 'seras', 'plus', 'rassuré', 'de', 'voir', 'que', 'c', '’', 'est', 'femme', 'ou', 'homme', 'ben', 'femme', 'ben', 'voilà'], tags=[696]),\n",
       " TaggedDocument(words=['premiersplans', 'angers', 'cérémonie', 'de', 'clôture', 'grand', 'prix', 'du', 'jury', 'pour', 'film', 'danoisislandais', 'film', 'russe', 'remis', 'par', 'catherine', 'deneuve', 'beaucoup', 'de', 'jeunesse', 'damour', 'du', 'cinema'], tags=[697]),\n",
       " TaggedDocument(words=['25', 'janvier', 'se', 'tiendra', 'première', 'journée', 'contre', 'sexisme', 'ensemblecontrelesexisme', 'via', '@', 'latribune'], tags=[698]),\n",
       " TaggedDocument(words=['mecs', 'qui', 'pensent', 'qu1', 'meuf', 'qui', 'couche', 'bcp', 'est', 'salope', 'chatte', 'détruite', 'vs', 'êtes', 'nés', 'sage', 'femme', 'vs', 'rafalé', 'tronche', 'ou', 'bi1'], tags=[699]),\n",
       " TaggedDocument(words=['merci', 'l', '@', 'aphp', 'pour', 'communication', 'contre', 'sexisme', 'avec', 'lettre', 'de', '@', 'martinhirsch', 'cest', 'long', 'combat', 'qui', 'doit', 'etre', 'mené', 'bon', 'début'], tags=[700]),\n",
       " TaggedDocument(words=['tu', 'te', 'calmes', '@', 'greendwarf', '«', 'eh', 'mademoiselle', 'lâche', 'ton', '06', 'ou', 'je', 'lâche', 'chien', '»', 'nice', 'avenue', 'georges', 'clémenceau', 'payetashnek'], tags=[701]),\n",
       " TaggedDocument(words=['voir', 'sur', 'couverture', 'de', 'magazines', 'pseudo', 'plaidoyer', 'pour', 'quon', 'donne', 'enfin', 'parole', 'aux', 'hommes', 'pauvres', 'femmes', 'sont', 'si', 'méchantes', 'wtf', 'consternant', 'heureusement', 'lire', 'lintervention', 'de', 'robert', 'redford', 'qui', 'vous', 'rassérène', 'metoo', 'balancetonporc'], tags=[702]),\n",
       " TaggedDocument(words=['monde', 'entier', 'est', 'maintenant', 'secoué', 'par', 'déferlante', 'd', '’', 'accusations', '@', 'time', 'metoo', 'moiaussi'], tags=[703]),\n",
       " TaggedDocument(words=['après', 'balancetonporc', 'voici', 'balancetonmioche', 'nimporte', 'quoi'], tags=[704]),\n",
       " TaggedDocument(words=['25', 'janvier', 'se', 'tiendra', 'première', 'journée', 'contre', 'sexisme', 'via', '@', 'latribune', 'membres', 'du', '@', 'interelles', 'qui', 'fait', 'parti', 'du', 'collectif', 'ensemblecontrelesexisme', 'seront', 'présentes', 'pour', 'agir', 'dans', 'entreprises', 'contre', 'sexisme'], tags=[705]),\n",
       " TaggedDocument(words=['harcelementsexuel', 'cette', 'récompense', 'reflète', 'lampleur', 'du', 'mouvement', 'qui', 'secoué', 'usa', 'résonné', 'dans', 'monde', 'entier', 'avec', 'balancetonporc', 'ou', 'yotambien', 'time'], tags=[706]),\n",
       " TaggedDocument(words=['démission', 'cette', 'nuit', 'de', 'ministre', 'de', 'lintérieur', 'gb', 'suite', 'au', 'véritable', 'scandale', 'windrush', 'médias', 'français', 'médusés', 'par', 'royal', 'baby', 'ont', 'peu', 'loupé', 'cette', 'affaire', 'qui', 'vise', 'maintenant', 'directement', 'theresa', 'may'], tags=[707]),\n",
       " TaggedDocument(words=['@', 'aprikianara', '@', 'tf1', '@', 'gregmargotton', '@', 'nodjimyaro', '@', 'denisbrogniart', 'si', 'match', 'bleues', 'est', 'commenté', 'par', '@', 'nodjimyaro', '@', 'gregmargotton', 'ça', 'fait', 'aussi🤔🤔😉😉'], tags=[708]),\n",
       " TaggedDocument(words=['@', 'faureolivier', 'on', 'ne', 'peut', 'dire', 'quangela', 'merkel', 'été', 'lhonneur', 'de', 'leurope', 'sur', 'question', 'réfugiés', 'enmêmetemps', 'restreindre', 'cette', 'semaine', 'droit', 'dasile', 'congrèsps', 'congrèsaubervilliers'], tags=[709]),\n",
       " TaggedDocument(words=['membres', 'de', 'ffhb', 'de', 'ligue', 'nouvelleaquitaine', 'du', 'comité', '64', 'ainsi', 'que', 'de', 'ville', 'de', 'bayonne', 'se', 'sont', 'réunis', 'aujourd', '’', 'hui', 'lauga', 'pour', 'travailler', 'sur', 'cahier', 'charges', 'du', 'prochain', 'match', 'bleues', '🇫🇷', 'vs', '🇧🇷', 'jeudi', '22', 'mars', '19h', 'enbleudechauffe'], tags=[710]),\n",
       " TaggedDocument(words=['franceegalité', 'maison', '72', 'tâches', 'domestiques', 'sont', 'réalisées', 'par', 'femmes', 'ensemblecontrelesexisme'], tags=[711]),\n",
       " TaggedDocument(words=['ma', 'tl', 'féministe', 'vous', 'avez', 'lectures', 'sur', 'séduction', 'précisément', 'ma', 'question', 'est', 'estce', 'que', 'séduction', 'existepeut', 'être', 'autre', 'chose', 'quun', 'outil', 'de', 'domination', 'dans', 'contexte', 'hetero', 'sous', 'patriarcat'], tags=[712]),\n",
       " TaggedDocument(words=['@', 'queenelisar', 'alors', 'si', 'tes', 'pas', 'daccord', 'ça', 'veut', 'dire', 'non', 'consentante', 'donc', 'que', 'cest', 'viol', 'non', 'pas', 'relation', 'saine', 'du', 'haut', 'de', 'tes', '14', 'ans', 'tu', 'ne', 'sais', 'rien', 'vie'], tags=[713]),\n",
       " TaggedDocument(words=['autorité', 'de', 'letat', 'fin', 'de', 'loccupation', 'illégale', 'de', 'bure', '⬇'], tags=[714]),\n",
       " TaggedDocument(words=['lune', 'plus', 'faux', 'culs', 'politiques', 'aurore', 'bergé', 'elle', 'change', 'de', 'parti', 'comme', 'de', 'robe', 'elle', 'est', 'habillée', 'comme', 'catin', 'soir', 'dans', 'slt', 'on', 'voit', 'presque', 'cul', 'peu', 'de', 'tenue', 'quand', 'même', 'c8'], tags=[715]),\n",
       " TaggedDocument(words=['match', '🇫🇷', '🇳🇴continue', 'après', 'victoire', 'de', '@', 'martinfkde', 'bleues', 'vont', 'marquer', 'lhistoire', 'handball', 'sportfeminin'], tags=[716]),\n",
       " TaggedDocument(words=['tum', '’', 'aimestumerespectes', 'contre', 'sexisme', 'violences', 'psychologiques', 'physiques', 'etou', 'sexuelles', 'violencesfaitesauxfemmes'], tags=[717]),\n",
       " TaggedDocument(words=['mais', 'cette', 'petite', 'dinde', 'gâtée', 'est', 'tellement', 'conne', 'quelle', 'ne', 'se', 'rend', 'pas', 'compte', 'que', 'acte', 'va', 'alimenter', '100', 'haine', 'antisémite', 'haine', 'disraël', 'bref', 'tes', 'potes', 'quoi', 'bouffon', '💩💩'], tags=[718]),\n",
       " TaggedDocument(words=['us', '2eme', 'anniversaire', 'de', 'marche', 'femmes', 'pour', 'faire', 'reculer', 'sexisme', 'via', '@', 'lemondefr'], tags=[719]),\n",
       " TaggedDocument(words=['après', 'payetashnek', 'rue', 'payetonuterus', 'médicine', 'payetarobe', 'juristes', '@', 'chaircollab', 'parlement', 'payetontaf', 'voici'], tags=[720]),\n",
       " TaggedDocument(words=['vous', 'vous', 'rendez', 'compte', 'que', 'certaines', 'femmes', 'peuvent', 'agire', 'comme', 'de', 'véritables', 'connasse', 'pour', 'ensuite', 'faire', 'en', 'sorte', 'de', 'te', 'faire', 'passer', 'pour', 'fautif', 'jusqu', '’', 'à', 'que', 'tu', 'y', 'crois', 'toi', 'même'], tags=[721]),\n",
       " TaggedDocument(words=['comment', 'aider', 'collègue', 'victime', 'de', 'harcèlement', 'sexuel', 'qui', 'vous', 'demande', 'de', 'ne', 'rien', 'dire', 'personne', 'balancetonporc'], tags=[722]),\n",
       " TaggedDocument(words=['missfrance2018', 'nouvelle', 'miss', 'va', 'avoir', 'du', 'boulot', 'avec', 'balancetonporc', 'soir', 'il', 'y', 'en', 'par', 'milliers', 'porcs', 'cochonnes'], tags=[723]),\n",
       " TaggedDocument(words=['sexisme', 'n', '’', 'est', 'pas', 'exception', 'il', 'est', 'présent', 'dans', 'ttes', 'composantes', 'de', 'notre', 'société', 'dans', 'institutions', '+', 'prestigieuses', 'plafond', 'de', 'verre', 'ne', 's', '’', 'écroulera', 'ps', 'spontanément', 'sous', 'l', '’', 'usure', 'du', 'temps', 'pr', 'q', '’', 'il', 'cède', 'il', 'faut', 'pression', 'collective', 'organisée'], tags=[724]),\n",
       " TaggedDocument(words=['ministre', 'qui', 'préfère', 'faire', 'campagne', 'électorale', 'plutôt', 'que', 'job', 'surtout', 'en', 'plein', 'balancetonporc', 'bravo', '@', 'marleneschiappa'], tags=[725]),\n",
       " TaggedDocument(words=['merci', '@', 'latribune', 'bel', 'article', 'sur', '1re', 'journéenationalecontrelesexisme', 'organisé', 'par', 'collectif', 'ensemblecontrelesexisme', '25', 'janvier', 'tftc', 'egalite', 'timesup'], tags=[726]),\n",
       " TaggedDocument(words=['seulement', '8de', 'garçons', 'dans', 'classes', 'de', 'danse', '82à', 'diriger', 'centres', 'chorégraphiques', '3ème', 'table', 'ronde', 'sur', 'sports', 'culture', 'ensemblecontrelesexisme', '25janvier', '@', 'leplanning'], tags=[727]),\n",
       " TaggedDocument(words=['article', 'en', 'français', 'sur', 'metoomoiaussi', 'fls2513'], tags=[728]),\n",
       " TaggedDocument(words=['mais', 'qui', 'trahi', 'ségolène', 'royal', 'cohnbendit', 'trouve', 'hollande', 'gonflé', 'sur', 'trahison', 'de', 'macron', 'lci'], tags=[729]),\n",
       " TaggedDocument(words=['gars', 'qui', 'détourné', 'balancetonporc', 'pour', 'nourrir', 'obsession', 'identitaire', 'celui', 'qui', 'craint', 'que', 'ça', 'fasse', 'revivre', 'climat', 'de', '39', 'donc', 'dans', 'lair', 'du', 'temps', 'en', 'somme'], tags=[730]),\n",
       " TaggedDocument(words=['ff', '@', 'fasnao', 'qui', 'ma', 'souhaité', 'avec', 'tout', 'amour', 'bonne', 'journée', 'de', 'femme', 'ironie'], tags=[731]),\n",
       " TaggedDocument(words=['je', 'suis', 'victime', 'de', 'violences', 'harcèlements', 'sexuels', 'moiaussi', 'moiaussi'], tags=[732]),\n",
       " TaggedDocument(words=['je', 'nappellerai', 'pas', 'ça', 'journaliste', 'cest', 'tellement', 'simple', 'davoir', 'bonnes', 'informations', 'chaque', 'fois', 'quune', 'femme', 'se', 'fait', 'tuer', 'par', 'conjoint', 'on', 'sempresse', 'insinuer', 'éventuelle', 'infidélité', 'quest', 'qui', 'peut', 'justifier', 'crime', 'odieux'], tags=[733]),\n",
       " TaggedDocument(words=['balancetonporc', 'personne', 'ne', 'plein', 'de', '@', 'cyrilhanouna', 'pour', 'exhibitionnisme', 'il', 'montre', 'sex', 'gens', 'pour', 'samuser', 'mais', 'ça', 'cest', 'toléré'], tags=[734]),\n",
       " TaggedDocument(words=['sortie', 'de', 'accorddeparis', 'usa', 'comme', 'nucléaire', 'nordcoréen', 'sont', 'menaces', 'globales', 'souligne', '@', 'theresamay'], tags=[735]),\n",
       " TaggedDocument(words=['@', 'zohrabitan', '@', 'decathlon', '@', 'marleneschiappa', 'pourquoi', 'du', 'sexisme', 'plutôt', 'de', 'manipulation', 'voire', 'tromperie', 'commerciale', 'jimagine', 'que', 'pantalon', 'bleu', 'était', 'bien', 'eidence', 'lautre', 'couleur', 'plus', 'en', 'retrait', 'rien', 'ne', 'vous', 'oblige', 'acheter', 'rose'], tags=[736]),\n",
       " TaggedDocument(words=['maintenant', 'cest', 'avec', 'femme', '==gt', 'gérald', 'darmanin', 'révèle', 'avoir', 'été', 'accusé', 'de', 'viol', 'par', 'homme', 'via', '@', 'valeurs'], tags=[737]),\n",
       " TaggedDocument(words=['jai', '1', 'grande', 'soeur', 'que', 'jconnais', 'pas', 'bcp', 'on', 'parlait', 'elle', 'ma', 'clairement', 'fait', 'comprendre', 'que', 'jsuis', 'pas', 'vraie', 'fille', 'pcq', 'jaime', 'foot'], tags=[738]),\n",
       " TaggedDocument(words=['@', 'sosroy', '@', 'minoudez', 'y', 'choses', 'communes', 'bien', 'sûr', 'mais', 'ça', 'reste', 'très', 'partiel', 'caricatural', 'parfois', 'en', 'plus', 'ils', 'font', 'passer', '1er', 'degré', 'pour', 'justifier', 'sexisme', 'alors', 'que', 'cest', 'clairement', 'du', 'éducation'], tags=[739]),\n",
       " TaggedDocument(words=['@', 'amethystek', 'cest', 'quand', 'même', 'sacré', 'volonté', 'de', 'discréditer', 'linitiative', 'metoo', 'balancetonporc', 'avant', 'de', 'penser', 'ne', 'pas', 'tomber', 'dans', 'délation', 'focalisezvous', 'sur', 'enquêtes', 'mener', 'sanctions', 'mettre', 'en', 'place', 'envers', 'bourreaux', 'non', '🙄', 'écoeurant'], tags=[740]),\n",
       " TaggedDocument(words=['femme', 'plus', 'citée', 'dans', 'presse', 'française', 'en', '2016', 'est', 'hillary', 'clinton', 'devant', 'marine', 'pen', 'ségolène', 'royal'], tags=[741]),\n",
       " TaggedDocument(words=['@', 'bonapequality', 'lundi', '15', 'janvier', 'aura', 'lieu', '2nd', 'forum', 'formations', 'métiers', 'au', 'sein', 'du', 'collège', 'vallon', 'autun', 'stereotypes', 'sexisme', 'forumvallonautun'], tags=[742]),\n",
       " TaggedDocument(words=['musiciennes', 'de', 'jazz', 'aussi', 'sinsurgent', 'contre', 'sexisme'], tags=[743]),\n",
       " TaggedDocument(words=['étudiantes', 'étudiants', 'disent', 'moiaussi', 'metoo', 'non', 'au', 'harcèlement', 'sexuel', 'au', 'bangladesh', 'découvrez', 'que', 'faisons', 'avec', 'universités', 'afin', 'de', 'créer', 'espaces', 'sûrs', 'orangetheworld', '16jours'], tags=[744]),\n",
       " TaggedDocument(words=['«', 'briseuses', 'de', 'silence', '»', 'désignées', '«', 'personnalité', 'de', 'l', '’', 'année', '»', 'par', '«', 'time', '»', 'moiaussi', 'metoo', '12joursdaction', 'via', '@', 'ledevoir'], tags=[745]),\n",
       " TaggedDocument(words=['meuf', 'tu', 'connais', 'rien', 'au', 'foot', 'tais', 'toi', 'contente', 'de', 'fan', 'girler', 'sur', 'joueurs', 'de', 'mouiller', 'sur', 'mbappé', 'amp', 'neymar', 'merci', 'bien', 'fille', 'qui', 'connait', 'foot'], tags=[746]),\n",
       " TaggedDocument(words=['@', 'simonisisa', 'president', 'du', 'ps', 'carolo', 'qui', 'traite', 'femme', 'élue', 'du', 'peuple', 'de', 'salope', 'cest', 'pas', 'arrogant', 'non', 'cest', 'vrai', 'cest', 'aussi', 'idiot', 'irresponsable', 'pathétique'], tags=[747]),\n",
       " TaggedDocument(words=['ptite', 'astuce', 'quand', 'tas', 'rdv', 'avec', 'meuf', 'c', 'dla', 'lancer', 'sur', 'féminisme', 'si', 'elle', 'te', 'dit', 'quelle', 'veut', 'légalité', 'totale', 'tas', 'ldroit', 'dlui', 'faire', 'payer', 'part', 'c', 'fabuleux'], tags=[748]),\n",
       " TaggedDocument(words=['«', 'comme', 'mecs', 'ont', 'capotes', 'dans', 'poches', 'vous', 'filles', 'devriez', 'toujours', 'avoir', 'tickets', 'de', 'consentement', 'sur', 'vous', 'avec', 'stylo', '»', 'brevedetgv', 'balancetonporc', 'consentement'], tags=[749]),\n",
       " TaggedDocument(words=['gens', 'qui', 'disent', 'que', 'racisme', 'antiblanc', 'que', 'sexisme', 'envers', 'hommes', 'nexiste', 'pas', 'fontil', 'également', 'du', 'racisme', 'du', 'sexisme', 'vu', 'quils', 'font', 'différence', 'entre', 'races', 'sexe', 'racismeantiblanc', 'sexiste', 'logiquehumaine'], tags=[750]),\n",
       " TaggedDocument(words=['femme', 'enceinte', 'ma', 'grand', 'mère', 'faisait', 'pareil', 'ma', 'mere', 'suite', 'au', 'tir', 'de', 'payet', 'fraall'], tags=[751]),\n",
       " TaggedDocument(words=['rt', 'orsys', 'pourquoi', 'jécrirai', 'lettre', 'chaque', 'propos', 'sexiste', 'entendu', 'dans', 'cadre', 'de', 'mon', 'travail', 'sexisme', 'parité', 'féminisme', 'entreprise', 'carrière', 'o'], tags=[752]),\n",
       " TaggedDocument(words=['foi', 'dune', 'femme', 'baissé', 'elle', 'enlevé', 'jilbaab', 'médias', 'ont', 'applaudi', 'baisse', 'de', 'foi', 'foi', 'remontée', 'elle', 'remit', 'jilbaab', 'niqab', 'médias', 'ont', 'pleuré', 'montée', 'de', 'foi', 'de', 'piété', 'pour', 'eux', 'cest', 'jeu', 'mais', 'pour', 'nous', 'cest', 'combat', 'pour', 'notre', 'audelà'], tags=[753]),\n",
       " TaggedDocument(words=['now', 'reading', 'femmes', 'plus', 'scandaleuses', 'de', 'lhistoire', 'de', 'danielcharles', 'luytens', '🤓'], tags=[754]),\n",
       " TaggedDocument(words=['décider', 'mise', 'pied', 'de', 'tex', 'résultat', 'on', 'glose', 'sur', 'légitimité', 'de', 'sanction', 'au', 'lieu', 'de', 'sindigner', 'de', 'blague', 'sexiste', 'inadmissible'], tags=[755]),\n",
       " TaggedDocument(words=['je', 'trouve', 'peu', 'choquant', 'mode', 'chaleur', 'tournante', 'pour', 'four', 'pourquoi', 'pas', 'chaleur', 'partouze', 'ça', 'fait', 'moins', 'viol', 'collectif', 'non', 'balancetonfour'], tags=[756]),\n",
       " TaggedDocument(words=['donc', 'carla', 'recommencé', 'suivre', 'kevin', 'sur', 'instagram', 'on', 'aurait', 'vu', 'en', 'train', 'de', 'sembrasser', 'après', 'harcèlement', 'moral', 'quelle', 'subi', 'dans', 'lma', 'par', 'fils', 'de', 'pute', 'marre', 'de', 'cette', 'conne', 'aussi', 'on', 'lui', 'donné', 'trop', 'de', 'forces', 'lmea'], tags=[757]),\n",
       " TaggedDocument(words=['qui', 'est', 'bien', 'avec', 'balancetonporc', 'cest', 'que', 'présemption', 'dinnocence', 'disparait', 'totalement', 'ironie'], tags=[758]),\n",
       " TaggedDocument(words=['belle', 'représentation', 'de', 'femme', 'occidentale', 'moderne', 'insoumise', 'libre', 'ironie', 'féminisme'], tags=[759]),\n",
       " TaggedDocument(words=['elle', 'est', 'mignonne', '@', 'celinecalvez', '@', 'lreman', 'nkm', 'en', 'mieux', 'ceci', 'nest', 'pas', 'blague', 'sexiste'], tags=[760]),\n",
       " TaggedDocument(words=['si', 'on', 'faisait', 'pareil', 'avec', 'connards', 'qui', 'menacent', 'appellent', 'au', 'viol', 'on', 'en', 'vu', 'plein', 'sur', 'tl', 'de', 'celles', 'qui', 'utilisaient', 'balancetonporc', 'il', 'faudrait', 'construire', '15x', 'plus', 'de', 'prisons', 'en', 'france'], tags=[761]),\n",
       " TaggedDocument(words=['suivi', 'de', 'grossesse', 'impossible', 'dans', 'deux', 'établissements', 'de', 'santé', 'de', 'capitale', 'femme', 'enceinte', 'cherche', 'médecin', 'québec', '|', 'jdq'], tags=[762]),\n",
       " TaggedDocument(words=['angela', 'merkel', 'se', 'fâche', '@', 'olivierkauf'], tags=[763]),\n",
       " TaggedDocument(words=['couple', 'francoallemand', 'nest', 'plus', 'lunissonaprès', 'lélection', 'demmanuel', 'macron', 'angela', 'merkel', 'avait', 'fait', 'preuve', 'denthousiasme', 'lors', 'de', 'leur', 'rencontre', 'jeudi', '19', 'avril', 'au', 'humboldt', 'forum', 'de', 'berlin', 'charme', 'semblait', 'sêtre', 'dissipé', 'via', '@', 'sputnikfr'], tags=[764]),\n",
       " TaggedDocument(words=['femme', 'très', 'salope', 'recherchant', 'métis', 'sur', 'paris', 'pour', 'pipe', 'nature'], tags=[765]),\n",
       " TaggedDocument(words=['mecs', 'qui', 'pensent', 'que', 'parce', 'que', 'tes', 'fille', 'tu', 'peux', 'pas', 'comprendreparler', 'foot', '🚮', 'tout', 'simplement'], tags=[766]),\n",
       " TaggedDocument(words=['@', 'philousports', '@', 'matblaize', 'putain', 'vieux', 'tir', 'de', 'femme', 'enceinte', 'ligue1', '@', 'webgirondins'], tags=[767]),\n",
       " TaggedDocument(words=['malgré', 'cette', 'vidéo', 'qui', 'montre', 'viol', 'délibéré', 'de', 'théo', 'après', 'matraquage', 'gazage', 'certains', 'policiers', 'impliqués', 'ont', 'été', 'réintégrés', 'quand', 'on', 'vous', 'parle', 'de', 'racisme', 'detat', 'sont', 'ces', 'décisions', 'que', 'lon', 'point', 'du', 'doigt', 'honte'], tags=[768]),\n",
       " TaggedDocument(words=['situation', 'afrine', 'est', 'inacceptable', 'dénonce', 'angela', 'merkel'], tags=[769]),\n",
       " TaggedDocument(words=['laurent', 'wauquiez', 'rapport', 'compliqué', 'vérité', 'où', 'quand', 'dit', 'il', 'devant', 'étudiants', 'de', 'lyon', 'ou', 'sur', 'plateau', 'de', 'tv', 'alors', 'quil', 'dit', 'quil', 'ny', 'servait', 'que', 'du', 'bullshit', 'médiatique', '@', 'bfmtv', 'wauquiezgate'], tags=[770]),\n",
       " TaggedDocument(words=['collectif', 'ensemblecontrelesexisme', 'vous', 'donne', 'rendezvous', 'dès', 'demain', '9h', 'pour', 'première', 'journée', 'nationale', 'de', 'rencontres', 'sur', 'sujet', 'du', 'sexisme', 'marrainé', 'par', '@', 'marleneschiappa', 'événement', 'suivre', 'en', 'live', 'tweet', 'toute', 'journée', '25janvier'], tags=[771]),\n",
       " TaggedDocument(words=['parce', 'quil', 'ny', 'pas', 'mort', 'dhomme', 'dit', 'juge', 'qui', 'remet', 'l', '’', 'agresseur', 'de', 'mineures', 'en', 'liberté', 'via', '@', 'leparisien92', 'il', 'agressera', 'ailleurs', 'balancetonporc', 'balancetonpédophile', 'nonauharcelement', 'hautsdeseine', '@', 'marleneschiappa', 'clamart'], tags=[772]),\n",
       " TaggedDocument(words=['il', 'reproche', 'google', 'de', 'prendre', 'en', 'considération', 'race', 'genre', 'dans', 'leurs', 'critères', 'dembauche', 'au', 'détriment', 'employés', 'mâles', 'caucasiens', 'niveau', 'victimaire', 'explosé', 'lingénieur', 'de', 'google', 'renvoyé', 'pour', 'sexisme', 'se', 'retourne', 'contre', 'exemployeur'], tags=[773]),\n",
       " TaggedDocument(words=['cest', 'bien', 'mais', 'ça', 'reste', 'niche', 'sexisme', 'discrimination'], tags=[774]),\n",
       " TaggedDocument(words=['discours', 'de', '@', 'rwitherspoon', 'est', 'extraordinaire', 'porteur', 'd', '’', 'espoir🌹', 'pour', 'victimes', 'bravo', '🖤', 'victimes', 'timesup', 'goldenglobes', 'metoo', 'moiaussi'], tags=[775]),\n",
       " TaggedDocument(words=['lattention', 'de', 'tous', 'ceux', 'qui', 'ont', 'mérite', 'imbécile', 'de', 'défendre', 'tenue', 'daurore', 'bergé', 'élue', 'de', 'république', 'sous', 'couvert', 'de', 'parité', 'je', 'vous', 'invite', 'demain', 'autoriser', 'vos', 'filles', 'se', 'présenter', 'au', 'grandoral', 'du', 'bac', 'habillée', 'de', 'sorte'], tags=[776]),\n",
       " TaggedDocument(words=['+', 'affligeant', 'dans', 'laveritésurlesfilles', 'cest', 'que', 'c', 'cautionné', 'par', 'femmes', '@', 'berengerekrief', '@', 'norahamzawi', 'payetashnek'], tags=[777]),\n",
       " TaggedDocument(words=['droit', 'lavortement', 'régresse', 'en', 'europe', 'ivg', 'sexisme', 'sante'], tags=[778]),\n",
       " TaggedDocument(words=['comment', 'éviter', 'sexisme', 'au', 'travail', 'glissezvous', 'dans', 'peau', 'dun', 'rrh', 'pour', 'savoir', '@', 'mit', 'jeuxvideo'], tags=[779]),\n",
       " TaggedDocument(words=['femme', 'peut', 'shabiller', 'sexy', 'cest', 'pas', 'pour', 'autant', 'que', 'cest', 'salope', 'ou', 'quelle', 'expose', 'trop', 'attributs'], tags=[780]),\n",
       " TaggedDocument(words=['enfin', 'point', 'de', 'vue', 'qui', 'manquait', 'au', 'débat', 'not', 'moiaussi', 'bardot'], tags=[781]),\n",
       " TaggedDocument(words=['rdv', 'dès', '14h15', '@', 'beinsportsfr', '2', 'pour', 'finale', 'bleues', 'franor', 'handball', 'avant', 'match', 'revivez', 'laventure', 'jusquaux', 'portes', 'du', 'paradis', 'bleuetfier', '@', 'elenrius', '@', 'kevinlapin971', '@', 'matthiasduchez', '@', 'marypatrux', '@', 'valnicolas16', '@', 'ameliegoudjo', '@', 'ffhandball'], tags=[782]),\n",
       " TaggedDocument(words=['angela', 'merkel', 'lâche', 'emmanuel', 'macron', 'sur', 'projet', 'de', 'budget', 'de', 'zone', 'euro'], tags=[783]),\n",
       " TaggedDocument(words=['@', 'auroreberge', '@', 'carolinedehaas', 'féminisme', 'de', 'caroline', 'de', 'haas', 'est', 'très', 'nettement', 'supérieur', 'larrivisme', 'girouettes', 'incompétentes', 'lèchesbottes', 'de', 'lrem', 'emmanuelmacron', '@', 'gouvernementfr', '@', 'assembleenat', 'assemblée', 'nationale'], tags=[784]),\n",
       " TaggedDocument(words=['avec', 'moiaussi', 'on', 'fait', 'etmaintenant', 'allez', 'signer', 'tlmep'], tags=[785]),\n",
       " TaggedDocument(words=['résumons', 'lang', 'défend', 'polanski', 'allen', 'tous', 'deux', 'accusés', 'de', 'viol', 'sur', 'enfant', 'pourquoi', 'faitil', 'cela', 'va'], tags=[786]),\n",
       " TaggedDocument(words=['replay', 'si', 'femme', 'parfaite', 'est', 'connasse', 'lhomme', 'parfaitnexiste', 'pas', 'cc', '@', 'annesogirard', '@', 'mariealdine'], tags=[787]),\n",
       " TaggedDocument(words=['vos', 'génitrices', 'péripatéticiennes', 'qui', 'ont', 'déclaré', 'accident', 'de', 'travail', 'lorsqu', '’', 'elles', 'sont', 'tombés', 'enceinte', 'de', 'vous', 'vous', 'êtes', 'malades', 'dire', '«', 'roh', 'c', 'bon', 'faut', 'arrêter', 'de', 'crier', 'au', 'racisme', '»'], tags=[788]),\n",
       " TaggedDocument(words=['est', 'que', 'femmes', 'passent', 'leur', 'temps', 'commenter', 'coupe', 'pantalons', 'hommes', 'publics', 'chemises', 'plus', 'ou', 'moins', 'moulantes', 'vestes', 'croisées', 'ou', 'non', 'pourrons', 'nous', 'jour', 'être', 'femme', 'en', 'jupe', 'robe', 'mini', 'midi', 'ou', 'longue', 'être', 'écoutée', 'pour', 'quon', 'dire'], tags=[789]),\n",
       " TaggedDocument(words=['vous', 'pourriez', 'être', 'ma', 'mère', 'député', 'lr', 'robin', 'reda', 'pris', 'en', 'flagrant', 'délit', 'de', 'sexisme', 'puéril'], tags=[790]),\n",
       " TaggedDocument(words=['duèze', 'blog', 'médiasun', 'animateur', 'de', 'radio', 'belge', 'poussé', 'au', 'départ', 'après', 'débat', 'polémique', 'sur', 'viol'], tags=[791]),\n",
       " TaggedDocument(words=['comment', 'ça', 'sexisme', 'ne', 'sévirait', 'pas', 'quau', 'pmu', 'de', 'sevran', '@', 'titiou'], tags=[792]),\n",
       " TaggedDocument(words=['@', 'parispasrose', '@', 'lamanifpourtous', '@', 'komitidfr', '@', 'theresamay', 'elles', 'adoptent', 'peutêtre', 'autre', 'chien', 'd'], tags=[793]),\n",
       " TaggedDocument(words=['pm', 'trudeau', 'accueille', 'theresa', 'may', 'première', 'ministre', 'du', 'ru', 'sur', 'colline', 'du', 'parlement', 'dans', 'cadre', 'de', 'visite', 'officielle', 'au', 'canada'], tags=[794]),\n",
       " TaggedDocument(words=['⚠️tw', 'suicide⚠️', 'je', 'suis', 'désolée', 'j', '’', 'ai', 'besoin', 'd', '’', 'en', 'parler', 'd', '’', 'hurler', 'ma', 'rage', 'en', 'rentrant', 'cours', 'j', '’', 'ai', 'dû', 'sortir', 'du', 'tram', 'au', 'milieu', 'du', 'trajet', 'avant', 'gare', 'femme', 's', '’', 'est', 'donnée', 'mort', 'en', 'se', 'jetant', 'sur', 'rails', 'depuis', 'pont', 'rendant', 'impraticable', 'pour', 'transports'], tags=[795]),\n",
       " TaggedDocument(words=['@', 'lci', '1', 'gifle', 'dans', 'tronche', 'même', 'si', 'risque', 'de', 'retour', '2', 'toutes', 'ces', 'dénonciations', 'balancetonporc', 'vont', 'donner', 'du', 'courage', 'pour', 'porter', 'plainte', '3', 'condition', 'que', 'gouvernement', 'donne', 'moyens', 'formations', 'aux', 'flics', 'pour', 'genre', 'de', 'plaintes'], tags=[796]),\n",
       " TaggedDocument(words=['22existetil', 'moindre', 'étude', 'comparative', 'prouvant', 'que', 'notre', 'époque', 'est', 'plus', 'raciste', 'ou', 'plus', 'sexiste', 'cest', 'même', 'tambouille', 'que', 'par', 'exemple', 'lannée', '1992', 'estce', 'que', 'ne', 'serait', 'pas', 'plutôt', 'contraire'], tags=[797]),\n",
       " TaggedDocument(words=['avant', 'après', 'balancetonporc', 'prof', '@', 'sciencespo', 'modifie', 'sur', 'l', '’', 'ordi', 'l', '’', 'appréciation', 'sexiste', 'portée', 'en', '2015', 'sur', 'étudiante', 'qui', 'en', 'conservé', 'capture', 'd', '’', 'écran'], tags=[798]),\n",
       " TaggedDocument(words=['genderscan2017', 'enquête', 'sur', 'labsence', 'dégalité', 'femmes', 'hommes', '=gt', '18', 'juillet', 'france', 'sexiste'], tags=[799]),\n",
       " TaggedDocument(words=['wtf', 'renault', 'lance', 'vernis', 'ongles', 'avec', 'superbe', 'pub', 'sexiste', 'gt'], tags=[800]),\n",
       " TaggedDocument(words=['manon', 'c', '’', 'est', 'genre', 'de', 'connasse', 'qui', 'ramène', 'l', '’', 'ex', 'de', 'pote', 'sans', 'prévenir', 'tout', 'monde', 'lma', 'lmea'], tags=[801]),\n",
       " TaggedDocument(words=['ensemblecontrelesexisme', '25', 'janvier', 'aura', 'lieu', 'première', 'journée', 'nationale', 'contre', 'sexisme', 'en', 'présence', 'de', '@', 'marleneschiappa', 'de', '@', 'laurossignol', 'trois', 'temps', 'de', 'discussion', 'sur', 'santé', 'lemploi', 'sportculture', 'sont', 'organisés', '➡'], tags=[802]),\n",
       " TaggedDocument(words=['quotidien', 'il', 'y', 'deux', 'grandes', 'dames', 'en', 'politique', 'christiane', 'taubira', 'simone', 'veil'], tags=[803]),\n",
       " TaggedDocument(words=['on', 'en', 'est', 'donc', 'encore', '@', 'cdiscount', 'pub', 'sexisme', 'honte', 'cdiscount'], tags=[804]),\n",
       " TaggedDocument(words=['@', 'julietauteure', '@', 'pourquoi', 'qui', 'parle', 'de', 'léchelle', 'dune', 'communauté', 'on', 'parle', 'juste', 'de', 'racisme', 'ensuite', 'sexisme', 'inversé', 'nexiste', 'pas', 'sexisme', 'touche', 'aussi', 'hommes', 'de', 'base', 'il', 'na', 'pas', 'besoin', 'dun', 'autre', 'nom', 'ou', 'de', 'distinction'], tags=[805]),\n",
       " TaggedDocument(words=['ne', 'comprend', 'pas', 'pourquoi', 'on', 'fête', 'journée', 'de', 'femme', 'tous', 'ans', 'jamais', '364', 'journées', 'de', 'lhomme', 'journéedelafemme', 'ironie'], tags=[806]),\n",
       " TaggedDocument(words=['femme', 'fait', 'tout', 'aussi', 'bien', 'qu', '’', 'un', 'homme', 'sans', 'avoir', 'besoin', 'qu', '’', 'on', 'force', 'main', 'de', 'qui', 'que', 'soit', 'education', 'senegal'], tags=[807]),\n",
       " TaggedDocument(words=['tas', 'coulé', 'poitoucharentes', 'on', 'va', 'voir', 'si', 'tes', 'capable', 'avec', 'banquise', 'segoleneroyal'], tags=[808]),\n",
       " TaggedDocument(words=['angela', 'merkel', 'bientôt', 'paris', 'pour', 'parler', 'd', '’', 'europe', '|', '@', 'scoopit'], tags=[809]),\n",
       " TaggedDocument(words=['cette', 'chercheuse', 'dénonce', 'sexisme', 'dans', 'monde', 'scientifique', 'inserm', 'cnrs'], tags=[810]),\n",
       " TaggedDocument(words=['ça', 'ressemble', 'au', 'style', 'finkielkraut', 'lors', 'de', 'balancetonporc', 'croire', 'que', 'victimes', 'dagression', 'islamophobes', 'sautotabassent', 'honteux'], tags=[811]),\n",
       " TaggedDocument(words=['créatrice', 'de', 'balancetonporc', 'poursuivie', 'en', 'diffamation', 'via', '@', 'franceinfo', 'balancetonporc', 'diffamation'], tags=[812]),\n",
       " TaggedDocument(words=['balancetonporc', 'révèle', 'personnes', 'exerçant', 'pouvoir', 'sexuel', 'pourquoi', 'pas', 'après', 'diner', 'de', 'cons', 'faceofcon', 'quand', 'celebrites', 'révèle', 'leur', 'face', 'cachée', 'streetpilotbanners', 'voir', 'pub', 'autrement', 'réseau', 'pour', 'consommateurs', 'rémunérés'], tags=[813]),\n",
       " TaggedDocument(words=['depuis', '9h', 'du', 'matin', 'je', 'cherche', 'pilule', 'du', 'lendemain', 'après', '5', 'refus', 'm', '’', 'être', 'littéralement', 'faite', 'insultée', 'de', 'salope', 'j', '’', 'étais', 'dans', 'mal', 'hein', 'je', 'fais', 'pharmacie', 'mec', 'accepte', 'de', 'me', 'l', '’', 'a', 'donné', 'mais', 'mon', 'moyen', 'de', 'paiement', 'fonctionne', 'pas', 'he', 'lol'], tags=[814]),\n",
       " TaggedDocument(words=['ségolène', 'royal', 'annonce', 'avoir', 'accepté', 'poste', 'dambassadrice', 'pour', 'pôles', 'arctique', 'antarctique', 'rediff'], tags=[815]),\n",
       " TaggedDocument(words=['couverture', 'du', 'n°3038', 'angela', 'merkel', 'enquête', 'sur', 'femme', 'plus', 'puissante', 'du', 'monde'], tags=[816]),\n",
       " TaggedDocument(words=['dieudonné', 'laffaire', 'tariq', 'ramadan', 'balancetonporc', 'via', '@', 'youtube'], tags=[817]),\n",
       " TaggedDocument(words=['soir', 'monologue', 'dune', 'heure', 'dune', 'bourgeoise', 'cool', 'qui', 'adore', 'voyages', 'parce', 'quon', 'rencontre', 'peuples', 'viens', 'faire', 'avec', 'moi', 'tournée', 'avec', 'samu', 'social', 'connasse', 'tu', 'va', 'rencontrer', 'ton', 'peuple'], tags=[818]),\n",
       " TaggedDocument(words=['prcile', 'pdt', '@', 'aouattaraprci', 'adressé', 'félicitations', 'angela', 'merkel', 'chancelière', 'de', 'république', 'fédérale', 'd', '’', 'allemagne', 'pour', 'réélection', 'tête', 'du', 'gouvernement', 'il', 'lui', 'réitéré', 'disponibilité', 'œuvrer', 'au', 'raffermissement', 'liens', 'damitié', 'entre', 'leurs', 'deux', 'pays'], tags=[819]),\n",
       " TaggedDocument(words=['cétait', 'en', '1964', 'premier', 'balancetonporc', 'de', 'lhistoire', 'de', 'télé'], tags=[820]),\n",
       " TaggedDocument(words=['balancetonporc', 'quand', 'tu', 'ne', 'peux', 'même', 'plus', 'rentrer', 'tranquille', 'chez', 'toi', 'sans', 'te', 'faire', 'insulter', 'parce', 'que', 't', '’', 'es', '«', 'juste', 'meuf', 't', '’', 'as', 'rien', 'foutre', 'seule', 'nuit', 'sinon', 'c', '’', 'est', 'que', 'tu', 'cherches', '»', '😥😓'], tags=[821]),\n",
       " TaggedDocument(words=['ségolène', 'royal', 'nommée', 'ambassadrice', 'pôles', 'arctique', 'antarctique', 'croix'], tags=[822]),\n",
       " TaggedDocument(words=['moiaussi', 'metoo', 'il', 'existe', 'system', 'sans', 'faille', 'pour', 'moyennesgrosse', 'entreprise', 'de', 'minimum', '50100500', 'employés', 'and', '+', 'pour', 'contrer', 'labus', 'de', 'pouvoir', 'de', 'certains', 'souspatrons', 'que', 'big', 'big', 'boss', '1', 'peut', 'installer', 'dans', 'entreprise', 'quil', 'dirige'], tags=[823]),\n",
       " TaggedDocument(words=['chien', 's', '’', 'est', 'masturbé', 'sur', 'ma', 'jambe', 'balancetonporc', 'ok', 'y', 'vrai', 'problème', 'pour', 'autant', 'ne', 'tombons', 'pas', 'dans', 'extrêmes', 'l', '’', 'absurde'], tags=[824]),\n",
       " TaggedDocument(words=['soutien', 'total', 'ma', 'collègue', '@', 'auroreberge', 'victime', 'de', 'propos', 'incroyablement', 'intolérablement', 'misogynes'], tags=[825]),\n",
       " TaggedDocument(words=['liliane', 'laffond', 'sur', 'tribune', 'de', 'catherine', 'deneuve', 'culture', 'politique', 'via', '@', 'gensane', 'bernard'], tags=[826]),\n",
       " TaggedDocument(words=['larticle', '@', 'lejdd', 'sur', 'tumblr', 'antisexistes', '@', 'payetashnek', '@', 'payetarobe', 'payetonsport', 'mentionne', 'dégos'], tags=[827]),\n",
       " TaggedDocument(words=['opinion', 'semaine', 'féministe', '@', 'mdesjardins', 'jdq', 'moiaussi', 'polqc', 'assnat'], tags=[828]),\n",
       " TaggedDocument(words=['angela', 'merkel', 'pas', 'de', 'participation', 'de', 'l', '’', 'allemagne', 'frappes', 'en', 'syrie'], tags=[829]),\n",
       " TaggedDocument(words=['chronique', 'de', 'zemmour', 'sur', 'balancetonporc', 'combattre', 'mâle', 'hétérosexuel', 'blanc', 'via', '@', 'fn42loire'], tags=[830]),\n",
       " TaggedDocument(words=['manuels', 'd', '’', 'enseignement', 'moral', 'civique', 'véhiculent', 'clichés', 'sexistes', 'via', '@', '20minutes', 'education', 'inégalités', 'sexisme'], tags=[831]),\n",
       " TaggedDocument(words=['manque', 'despace', 'cages', 'insalubres…', 'l214', 'révèle', 'images', 'chocs', 'dune', 'ferme', 'fourrure'], tags=[832]),\n",
       " TaggedDocument(words=['mehdi', 'ils', 'ont', 'truc', 'en', 'plus', 'cm'], tags=[833]),\n",
       " TaggedDocument(words=['pecresse', 'qui', 'trahit', 'fillon', 'rallie', 'juppé', 'explique', 'je', 'suis', 'femme', 'libre', 'cest', 'manière', 'élégante', 'de', 'dire', 'je', 'suis', 'girouette'], tags=[834]),\n",
       " TaggedDocument(words=['metoo', 'amp', 'moiaussi', 'je', 'suis', 'voyageur', 'temporel', 'depuis', 'que', 'jai', 'lage', 'de', '5', 'ans', 'première', 'fois', 'ou', 'jai', 'été', 'abusé', 'sexuellement', 'jai', 'appris', 'quitter', 'mon', 'corps', '2d', '@', 'gorillaz', 'xo'], tags=[835]),\n",
       " TaggedDocument(words=['scandale', 'windrush', 'où', 'lon', 'apprend', 'encore', 'fois', 'que', 'droite', 'dure', 'toujours', 'problèmes', 'avec', 'immigrés', 'theresa', 'may', 'est', 'directement', 'impliquée'], tags=[836]),\n",
       " TaggedDocument(words=['+', 'temps', 'passe', '+', 'j', '’', 'me', 'rends', 'compte', 'quel', 'point', 'jsuis', 'conne', 'jvois', 'gens', 'pour', 'qui', 'j', '’', 'ai', 'tjs', 'été', 'ne', 'pas', 'me', 'répondre', 'qd', 'moi', 'je', 'suis', 'dans', 'besoin', 'dire', 'sur', 'twi', 'être', 'gens', 'bien', 'qui', 'sont', 'tjs', 'pour', 'untel', 'untel', 'mais', 'ptdrrrr', 'changez', 'pas', 'vous', 'mrégalez', 'bande', 'd', '’', 'enculés'], tags=[837]),\n",
       " TaggedDocument(words=['collectif', 'ensemble', 'contre', 'sexisme', 'organise', '1ère', 'journée', 'nationale', 'contre', 'sexisme', 'avec', 'séquence', 'dédiée', 'l', '’', 'entreprise', 'cet', 'événement', 'gratuit', 'se', 'tiendra', 'lécole', 'telecomparistech', 'paris', '13', 'de', '8h30', '18h', '25', 'janvier', 'cc', '@', 'talentuelles'], tags=[838]),\n",
       " TaggedDocument(words=['“', 'je', 'pense', 'qu', '’', 'on', 'est', 'ensemble', 'amppas', 'du', 'tout', 'en', 'guerre', 'je', 'pense', 'que', 'féminisme', 'n', '’', 'est', 'pas', 'féminisme', 'contre', 'hommes', 'parce', 'que', 'hommes', 'sont', 'contents', 'de', 'qui', 'se', 'passe', 'je', 'pense', 'que', 'hommes', 'sont', 'êtres', 'aussi', 'merveilleux', 'que', 'femmes', '”', 'leïla', 'slimani', 'via', '@', 'ellefrance'], tags=[839]),\n",
       " TaggedDocument(words=['valérie', 'pécresse', 'dit', 'quoi', 'de', 'mieux', 'quune', 'femme', 'pour', 'faire', 'ménage', 'quelle', 'leçon', 'de', 'féminisme', 'droitdesfemmes', 'directidf'], tags=[840]),\n",
       " TaggedDocument(words=['👋', 'elle', 'est', 'de', 'retour', 'ségolène', 'royal', 'accompagné', 'emmanuel', 'macron', 'en', 'inde', 'officiellement', 'en', 'tant', 'qu', '’', 'ambassadrice', 'française', 'de', 'l', '’', 'alliance', 'solaire', '🤔', 'mais', 'qui', 's', '’', 'occupe', 'pôles', 'maintenant', 'quotidien'], tags=[841]),\n",
       " TaggedDocument(words=['si', 'sarkozy', 'est', 'condamné', 'on', 'est', 'daccord', 'cest', 'comme', 'pour', 'tour', 'de', 'france', 'segolène', 'royal', 'récupère', 'victoire', 'sur', 'tapis', 'vert'], tags=[842]),\n",
       " TaggedDocument(words=['@', 'sandg', 'sexisme', 'ordinaire', 'bonjour'], tags=[843]),\n",
       " TaggedDocument(words=['véronique', 'cloutier', 'explique', 'pourquoi', 'elle', 'ne', 'sétait', 'pas', 'prononcée', 'sur', 'moiaussi'], tags=[844]),\n",
       " TaggedDocument(words=['j', '’', 'ai', 'pas', 'beaucoup', 'd', '’', 'engagements', 'dans', 'ma', 'vie', 'mais', 'celui', 'est', 'important', 'je', 'continuerais', 'de', 'soutenir', 'd', '’', 'agir', 'pour', 'ensemblecontrelesexisme'], tags=[845]),\n",
       " TaggedDocument(words=['maintenant', 'place', 'au', 'match', 'france', '🇫🇷', 'italie', '🇮🇹', 'victoire', 'pour', 'nos', 'bleues', '⚽⚽', '@', 'fff', '@', 'lmedfoot', '@', 'coeursdefoot', '@', 'verolaine10', '@', 'brigithenriques', '@', 'meslidounia', '@', 'gvtmonaco'], tags=[846]),\n",
       " TaggedDocument(words=['@', 'nadiaben', 'ok', 'ok', 'je', 'ne', 'dirai', 'rien', 'femme', 'parfaite', 'alors', 'ironie'], tags=[847]),\n",
       " TaggedDocument(words=['@', 'metpoliceuk', 'encore', 'prêtre', 'pédophile', '😤😤😤', 'balancetonporc', 'très', 'bonne', 'idée', 'de', 'publier', 'photo'], tags=[848]),\n",
       " TaggedDocument(words=['@', 'alextaylornews', '@', 'bernstephane', 'allezy', 'aucun', 'journaliste', 'nen', 'parlé', 'en', 'france', 'serait', 'vrai', 'sujet', 'débattreshame', 'on', 'theresa', 'may'], tags=[849]),\n",
       " TaggedDocument(words=['travail', 'domicile', 'samsung', 'bixby', 'l', '’', 'enceinte', 'connectée', 'pour', '2018'], tags=[850]),\n",
       " TaggedDocument(words=['décryptage', 'face', 'violence', 'masculine', 'femmes', 'veulent', 'reprendre', 'possession', 'de', 'leur', 'sexualité', 'leurs', 'désirs', 'leur', 'santé', 'balance', 'ton', 'corps', 'par', '@', 'noheme', 'via', '@', 'libe', 'balancetonporc', 'feminism'], tags=[851]),\n",
       " TaggedDocument(words=['coup', 'de', 'gueule', 'de', '@', 'chcarriere', 'sur', 'sujet', 'balancetonporc', 'cqdlt'], tags=[852]),\n",
       " TaggedDocument(words=['@', 'mediapart', 'bein', 'voyons', 'il', 'sen', 'sort', 'bien', 'selon', 'que', 'vous', 'serez', 'puissant', 'ou', 'misérable', 'jugements', 'de', 'cour', 'vous', 'rendront', 'blanc', 'ou', 'noir', 'oligarchie', 'balancetonporc', 'tron'], tags=[853]),\n",
       " TaggedDocument(words=['comment', 'tu', 'peux', 'taper', 'quelquun', 'point', 'en', 'plus', 'femme', 'qui', 'ne', 'peut', 'se', 'défendre', 'monde', 'vraiment', 'de', 'salope'], tags=[854]),\n",
       " TaggedDocument(words=['lol', 'je', 'dois', 'vous', 'raconter', 'lhistoire', 'de', 'laméricain', 'que', 'jai', 'rencontré', 'hier', 'en', 'cherchant', 'mon', 'chemin', 'balancetonporc'], tags=[855]),\n",
       " TaggedDocument(words=['brexit', 'ralentissement', 'de', 'léconomie', 'britannique', 'met', 'theresa', 'may', 'sous', 'pression', 'avant', 'sommet', 'européen', 'afp'], tags=[856]),\n",
       " TaggedDocument(words=['collectif', 'associations', 'clôture', 'ensemblecontrelesexisme', 'valorisation', 'œuvres', 'femmes', 'dans', 'lartaccessibilité', 'sports', 'aux', 'femmesvalorisation', 'de', 'place', 'femmes', 'dans', 'médias', 'place', 'femmes', 'remarquables', 'dans', 'sport', 'médias', '1', 'journée', 'mondiale'], tags=[857]),\n",
       " TaggedDocument(words=['metoo', 'balancetonporc', 'l', '’', 'avènement', 'du', 'matriarcat', 'sacré…', 'shailene', 'woodley', 'vend', 'mèche'], tags=[858]),\n",
       " TaggedDocument(words=['travail', 'domicile', 'femme', 'enceinte', 'enlevée', 'forcée', 'de', 'boire', 'de', 'l', '’', 'eau', 'de', 'javel', 'près', 'de', 'rennes'], tags=[859]),\n",
       " TaggedDocument(words=['1', 'femme', 'voilée', 'voulait', 'laisser', 'place', 'ds', 'ltram', '2', 'vieilles', 'yen', '1', 'qui', 'lenvoie', 'chier', 'pcq', 'elle', 'est', 'voilée', 'sale', 'pute', 'reste', 'debout', 'alors'], tags=[860]),\n",
       " TaggedDocument(words=['@', 'liliane7777777', 'non', 'cest', 'votre', 'définition', 'de', 'juste', 'qui', 'est', 'erroné', 'bien', 'sûr', 'quun', 'sage', 'femme', 'ne', 'vas', 'pas', 'erre', 'payé', 'meme', 'chose', 'quune', 'cadre', 'ça', 'cest', 'logique', 'légalité', 'salaires', 'cest', 'pour', 'meme', 'métier'], tags=[861]),\n",
       " TaggedDocument(words=['photomontage', 'dangela', 'merkel', 'en', 'hitler', 'fait', 'scandale', 'en', 'allemagne', 'chancelière', 'allemande', 'est', 'vivement', 'critiquée', 'par', 'quotidien', 'turc', 'qui', 'beaucoup', 'de', 'choses', 'lui', 'reprocher'], tags=[862]),\n",
       " TaggedDocument(words=['handball', 'future', 'panthère', '@', 'alex0464', 'championne', 'du', 'monde', 'avec', 'bleues', 'sera', 'présentée', 'mitemps', 'du', 'match', 'opposant', 'panthères', 'du', '@', 'fleuryloirethb', 'aux', 'lionnes', 'd', '@', 'issyparishand', 'occasion', 'de', 'plus', 'de', 'venir', '20h30', 'au', 'palais', 'sports', 'dorléans'], tags=[863]),\n",
       " TaggedDocument(words=['sinon', 'si', 'certains', 'ont', 'envie', 'de', 'parler', 'de', 'lalgo', 'si', 'certains', 'ont', 'envie', 'de', 'porter', 'tshirt', 'ou', 'être', 'féministe', 'ou', 'pas', 'si', 'certains', 'veulent', 'avoir', 'du', 'poils', 'punaise', 'arrêtons', 'de', 'râler', 'critiquer', 'soutenons', 'nous', 'suis', 'gens', 'qui', 'tinspirent', 'oublie', 'reste', '🕊️☮️'], tags=[864]),\n",
       " TaggedDocument(words=['moiaussi', 'metoo', '•', 'etmaintenant', 'ceux', 'celles', 'qui', 'souhaitent', 'signer', 'cette', 'lettre', 'ou', 'lire', 'déclaration'], tags=[865]),\n",
       " TaggedDocument(words=['millions', 'de', 'femmes', 'ont', 'libéré', 'leur', 'parole', 'durant', 'mouvement', 'moiaussi', 'aujourd', '’', 'hui', 'nous', 'voulons', 'souligner', 'leur', 'courage', 'réitérer', 'notre', 'solidarité', 'etmaintenant', 'envisageons', 'l', '’', 'avenir', 'joignez', 'mouvement', 'endossez', 'déclaration'], tags=[866]),\n",
       " TaggedDocument(words=['en', 'france', 'on', 'tendance', 'célébrer', 'ceux', 'qui', 'ne', 'savent', 'pas', 'diriger', 'sans', 'humilier', 'ça', 'remonte', 'loin', 'sans', 'sadisme', 'de', 'clouzot', 'auraiton', 'reconnu', 'bardot', 'talent', 'd', '’', 'actrice', 'adjani', 'metoo', 'balancetonporc'], tags=[867]),\n",
       " TaggedDocument(words=['theresa', 'may', 'au', 'conseil', 'européen', 'photo', 'qui', 'dit', 'tout', 'via', '@', 'michaelsavage'], tags=[868]),\n",
       " TaggedDocument(words=['jai', 'aussi', 'bleues', 'jcrois', '😂'], tags=[869]),\n",
       " TaggedDocument(words=['catherinedeneuve', 'présidente', 'du', 'jury', 'distribuant', 'prix', 'cérémonie', 'de', 'clôture', 'angers', 'premierplans', 'russie', '👏🏻'], tags=[870]),\n",
       " TaggedDocument(words=['chancelière', 'angela', 'merkel', 'au', 'spectacle', 'd', '’', 'ouverture', 'de', '@', 'hannovermesse', '«', 'bienvenue', 'aux', '5000', 'exposants', '200000', 'participants', 'foire', 'd', '’', 'hanovre', 'nous', 'allons', 'resserrer', 'nos', 'liens', 'notre', 'coopération', 'avec', 'mexique', 'parce', 'que', 'nous', 'croyons', 'aux', 'relations', 'multilatérales', '»'], tags=[871]),\n",
       " TaggedDocument(words=['décryptage', 'face', 'violence', 'masculine', 'femmes', 'veulent', 'reprendre', 'possession', 'de', 'leur', 'sexualité', 'leurs', 'désirs', 'leur', 'santé', 'balance', 'ton', 'corps', 'par', '@', 'noheme', 'via', '@', 'libe', 'balancetonporc', 'feminism'], tags=[872]),\n",
       " TaggedDocument(words=['femmes', 'bien', 'ne', 'voient', 'dans', 'hommes', 'mauvais', 'que', 'leur', 'bon', 'coté', 'hommes', 'bons', 'veulent', 'femmes', 'bonnes', 'mais', 'fin', 'dune', 'relation', 'sont', 'dégoutté', 'femmes', 'bien', 'ne', 'tombent', 'que', 'sur', 'cons', 'qui', 'sont', 'sans', 'pitié', 'hommes', 'bien', 'ne', 'savent', 'pas', 'dragué', 'allezy', 'chercher'], tags=[873]),\n",
       " TaggedDocument(words=['@', 'bassinrebel', '@', 'abrutib', 'il', 'nous', 'tient', 'avec', 'migrantsles', '6', 'milliards', 'promis', 'par', 'merkel', '+', 'passeports', 'facilités', 'ne', 'lui', 'suffisent', 'pas', 'évidemment', 'merci', 'angela'], tags=[874]),\n",
       " TaggedDocument(words=['après', 'moiaussi', 'etmaintenant'], tags=[875]),\n",
       " TaggedDocument(words=['pierre', 'arditi', 'prend', 'défense', 'de', 'catherine', 'deneuve', 'en', 'citant', 'molière', 'mais', 'se', 'trompe', 'de', 'pièce'], tags=[876]),\n",
       " TaggedDocument(words=['bonne', 'analyse', 'de', 'balancetonporc', '@', 'lanetscouade'], tags=[877]),\n",
       " TaggedDocument(words=['aujourdhui', 'berlin', '@', 'emmanuelmacron', 'angela', 'merkel', 'vont', 'visiter', 'chantier', 'futur', 'humboldt', 'forum', 'parfait', 'symbole', 'de', 'létat', 'relations', 'francoallemandes', 'projets', 'deux', 'dirigeants', 'pour', 'leurope'], tags=[878]),\n",
       " TaggedDocument(words=['c', '’', 'est', 'première', 'mondiale', 'qu', '’', 'un', 'président', 'de', 'république', 'proclame', 'l', '’', 'égalité', 'fh', 'grande', 'cause', 'nationale', 'merci', '@', 'marleneschiappa', 'de', 'si', 'bien', 'porter', 'cet', 'engagement', 'ensemblecontrelesexisme'], tags=[879]),\n",
       " TaggedDocument(words=['wauquiez', 'bavardage', 'populiste', 'ma', 'choqué', 'amalgame', 'entre', 'mots', 'grossiers', 'idées', 'simplistes', 'attaques', 'personnelles', 'faute', 'de', 'comportement', 'dattitude', '@', 'jpraffarin', 'dans', 'rtlmatin'], tags=[880]),\n",
       " TaggedDocument(words=['j', '’', 'ai', 'bien', 'l', '’', 'air', 'conne', 'avec', 'mon', 'coup', 'de', 'soleil', 'sur', 'nez', '👍🏻'], tags=[881]),\n",
       " TaggedDocument(words=['@', 'teobaldo', 'blanche', 'grasse', 'comme', 'angela', 'merkel', 'cest', 'du', 'très', 'haut', 'niveau'], tags=[882]),\n",
       " TaggedDocument(words=['fabrique', 'ton', 'balancetonporc', 'si', 'toi', 'aussi', 'tu', 'veux', 'être', 'victime', 'du', 'vilain', 'sexisme', 'sois', 'invitée', 'pr', 'parler', 'de', 'politique', 'affuble', 'toi', 'dune', 'tenue', 'affriolante', 'pour', 'provoquer', 'réactions', 'accuser', 'ensuite', 'sexismeordinaire', 'aurore', 'bergé', 'atelle', 'lumière', 'tous', 'ls', 'étages', '😉'], tags=[883]),\n",
       " TaggedDocument(words=['2017', 'fût', 'lannée', 'de', 'révolte', 'femmes', 'en', '2018', 'agissons', 'pour', 'vrai', 'changement', 'vraie', 'égalité', 'amp', 'pour', 'fin', 'de', 'dominationmasculine', 'amp', 'du', 'patriarcat', 'féminisme', 'droitshumains', 'droitsdesfemmes', 'harcèlement', 'metoo', 'timesup', 'machisme', 'sexisme'], tags=[884]),\n",
       " TaggedDocument(words=['balancetonporc', 'ne', 'denonce', 'pas', 'ton', 'porc', 'mon', 'coup', 'de', 'gueule', 'sincère', 'vidéo'], tags=[885]),\n",
       " TaggedDocument(words=['@', 'kindaka', 'non', 'bien', 'quils', 'soient', 'sympa', 'jachète', 'mes', 'produits', 'avec', 'mon', 'argent', 'de', 'mon', 'travail', 'celle', 'de', 'youtube', 'lenceinte', 'est', 'présentée', 'en', 'partenariat', 'donc', 'je', 'lai', 'eu', 'gratuitement'], tags=[886]),\n",
       " TaggedDocument(words=['personnes', 'qui', 'disent', '«', 'j', 'm', 'en', 'bat', 'couilles', '»', '70', 'fille', '25', 'pedes', '5', 'enfant', 'de', 'moin', 'de', '15ans', 'ironie', 'ouvalemonde'], tags=[887]),\n",
       " TaggedDocument(words=['prochaine', 'pub', 'de', 'loreal', 'pour', 'crème', 'pour', 'visage', 'avec', 'pour', 'slogan', 'soyez', 'belle', 'lintérieur', 'jedemande', 'ben', 'oui', 'autant', 'continuer', 'se', 'dire', 'contre', 'sexisme', 'promouvoir', 'propagande', 'de', 'lislam', 'politique', 'qui', 'cache', 'femme', 'hein', '@', 'loreal'], tags=[888]),\n",
       " TaggedDocument(words=['dans', 'cadre', 'de', 'levée', 'de', 'fonds', 'vous', 'aurez', 'chance', 'de', 'gagner', 'paquet', 'cadeau', 'de', 'produits', 'de', 'santébeauté', 'vegan', 'dune', 'valeur', 'de', '100', 'écriveznous', 'en', 'privé', 'on', 'vous', 'donne', 'tous', 'détails', 'moiaussi', 'metoo', 'tirage', 'aura', 'lieu', '10', 'décembre', '2017'], tags=[889]),\n",
       " TaggedDocument(words=['quon', 'ne', 'vienne', 'pas', 'me', 'dire', 'que', 'jai', 'lesprit', 'mal', 'placé', 'hein', 'ça', 'se', 'voit', 'comme', 'bite', 'au', 'milieu', 'de', 'figure', 'ensemblecontrelesexisme'], tags=[890]),\n",
       " TaggedDocument(words=['lattaque', 'néocons', 'via', '@', 'slatefr', 'diversité', 'racisme', 'sexisme', 'google'], tags=[891]),\n",
       " TaggedDocument(words=['je', 'rêve', 'de', 'vivre', 'dans', 'ville', 'où', 'porter', 'talons', 'hauts', 'jupe', 'nest', 'ni', 'lacte', 'dune', 'femme', 'soumise', 'ni', 'celui', 'dune', 'salope'], tags=[892]),\n",
       " TaggedDocument(words=['exclu', 'voiture', 'de', 'fonction', 'de', 'ségolène', 'royal', 'ambassadrice', 'pour', 'pôles'], tags=[893]),\n",
       " TaggedDocument(words=['@', 'dreuz1fo', 'c', '’', 'est', 'salope', 'cette', 'femme💩💩💩😡🤬😡🤬😡🤬👎👎👎'], tags=[894]),\n",
       " TaggedDocument(words=['mauvaise', 'nouvelle', 'venue', 'dallemagne', 'pour', 'macron', 'veille', 'de', 'discours', 'au', 'parlement', 'européen', 'parti', 'conservateur', 'dangela', 'merkel', 'en', 'allemagne', 'pris', 'nettement', 'distances', 'lundi', '16', 'avril', 'avec', 'projets', 'de', 'réforme', 'de', 'zone', 'euro', 'de', 'macron'], tags=[895]),\n",
       " TaggedDocument(words=['@', 'ladyklepht', 'queue', 'en', 'tire', 'bouchon', 'balancetonporc', '😂😂😂'], tags=[896]),\n",
       " TaggedDocument(words=['je', 'suis', 'vraiment', 'genre', 'de', 'fille', 'qui', 'marque', 'esprits', 'ironie'], tags=[897]),\n",
       " TaggedDocument(words=['lieu', 'dexception', 'pour', 'méthode', 'de', 'respect', 'de', 'partenariat', 'entre', 'lhomme', 'cheval', 'au', 'haras', 'de', 'cense', 'très', 'beau', 'partenariat', 'avec', '@', 'ifceofficiel'], tags=[898]),\n",
       " TaggedDocument(words=['texte', 'qui', 'porte', 'réflexion', 'sur', 'mouvement', 'moiaussi'], tags=[899]),\n",
       " TaggedDocument(words=['emmanuel', 'macron', 'tente', 'de', 'relancer', 'projets', 'européens', 'face', 'angela', 'merkel'], tags=[900]),\n",
       " TaggedDocument(words=['pécresse', 'se', 'dit', 'féministe', 'elle', 'milite', 'dans', 'parti', 'qui', 'perd', '4m€', 'pour', 'non', 'respect', 'de', 'parité', 'avec', '1', 'femme', 'sur', '20', 'viceprésidents', '…'], tags=[901]),\n",
       " TaggedDocument(words=['interview', 'matin', 'dans', '@', 'corriere', 'ségolène', 'royal', '«', 'pochi', 'alle', 'urne'], tags=[902]),\n",
       " TaggedDocument(words=['ericessam', 's', '’', 'est', 'rendu', 'au', 'cameroun', 'avec', 'günter', 'nooke', 'chargé', 'afrique', 'de', 'chancelière', 'angela', 'merkel', 'délégation', 'de', 'scientifiques', 'de', 'société', 'civile', 'allemande', '@', 'fredericessam', '@', 'developcameroon', '@', 'identafrica'], tags=[903]),\n",
       " TaggedDocument(words=['karma', 'c', '’', 'est', 'gamin', 'il', 'veut', 'pas', 'me', 'lâcher', 'balancetonporc'], tags=[904]),\n",
       " TaggedDocument(words=['gros', 'décalage', 'entre', 'discours', 'du', '1er', 'mai', 'de', '@', 'sophiewilmes', 'pour', 'mr', 'qui', 'donne', 'message', 'positif', 'pour', 'booster', 'présence', 'femmes', 'en', 'politique', '@', 'ericmassin', 'pour', 'ps', 'qui', 'parle', 'dune', 'femme', 'politique', 'en', 'traitant', 'de', 'salope', '@', 'taqu1caro', 'equity', 'balancetonmassin'], tags=[905]),\n",
       " TaggedDocument(words=['commentateurs', 'psg', 'toulouse', 'jai', 'jamais', 'vu', 'ça', 'tir', 'de', 'femme', 'enceinte'], tags=[906]),\n",
       " TaggedDocument(words=['chanson', 'écrite', 'clip', 'tourné', 'bien', 'avant', 'balancetonporc', 'vient', 'de', 'sortir', 'aujourdhui', 'jeunessesombreetdorée'], tags=[907]),\n",
       " TaggedDocument(words=['theresa', 'may', 'contemple', 'avancées', 'du', 'brexit', 'lors', 'du', 'sommet', 'de', 'bruxelles', 'euco'], tags=[908]),\n",
       " TaggedDocument(words=['@', 'admirfdlrc', '@', 'cardosolisa', '@', 'nadinemorano', 'au', 'bout', 'd', '’', 'un', 'moment', 'nvm', 'vous', 'êtes', 'vous', 'gonflez', 'gens', 'h37', 'oh', 'quand', 'c', '’', 'est', 'bonnes', 'soeurs', 'qui', 'se', 'voilent', 'vous', 'l', '’', 'ouvrez', 'pas', 'votre', 'bouche', 'chaque', 'femme', 'est', 'libre', 'de', 'se', 'vetir', 'comme', 'elle', 'veut', 'putain', 'avec', 'votre', 'racisme', 'mal', 'caché', 'bande', 'de', 'haineux'], tags=[909]),\n",
       " TaggedDocument(words=['effets', 'de', 'moiaussi', 'metoo', 'au', 'québec', '25', 'millions', 'de', 'dollars', 'débloqués', 'contre', 'violences', 'sexuelles', 'tv5monde', 'informations'], tags=[910]),\n",
       " TaggedDocument(words=['balancetonporc', 'lionel', 'sanchez', '@', 'sanchezlionel', 'de', 'radio', '@', 'francebleu', 'viole', 'enfants', 'de', '12', 'ans', 'rouen', 'au', 'collège', 'jean', 'baptiste', 'de', 'salle', 'alors', 'quil', 'était', 'employé', 'comme', 'surveillant', 'balancetonpedophile', 'il', 'devrait', 'être', 'en', 'prison', 'au', 'lieu', 'de', 'ça', 'il', 'est', 'libre'], tags=[911]),\n",
       " TaggedDocument(words=['sexisme', 'maman', 'en', 'string', 'qui', 'drague', 'jojo', 'aux', 'organes', 'verts', 'sur', 'plage', 'ouais'], tags=[912]),\n",
       " TaggedDocument(words=['tas', 'vu', 'comme', 'tu', 'me', 'regardes', 'balancetonporc', 'via', '@', 'youtube'], tags=[913]),\n",
       " TaggedDocument(words=['ptdrjr', 'mais', 'hier', 'jme', 'sui', 'mise', 'gueuler', 'sur', '2', 'mecs', 'anglais', 'men', 'are', 'traaaaaash', 'jui', 'hystérique', 'cv', 'pa'], tags=[914]),\n",
       " TaggedDocument(words=['parti', 'républicains', 'réclame', 'démission', 'du', 'ministre', 'gérald', 'darmanin', 'accusé', 'de', 'viol', 'gtgt'], tags=[915]),\n",
       " TaggedDocument(words=['nous', 'avons', 'mené', 'états', 'généraux', 'de', 'lalimentationen', 'lien', 'avec', 'grande', 'distribution', 'certains', 'acteurs', 'étaient', 'présents', 'au', 'sia2018', 'dautres', 'ne', 'jouent', 'pas', 'jeu', 'qui', 'en', 'dit', 'long', 'sur', 'leurs', 'relations', 'avec', 'nos', 'agriculteurs', '@', 'franceinfo', 'lesinformes'], tags=[916]),\n",
       " TaggedDocument(words=['etre', 'sentretenir', 'comme', 'homme', 'de', 'paix', 'voilà', 'fin', 'de', 'guerre'], tags=[917]),\n",
       " TaggedDocument(words=['tout', 'fait', 'daccord', 'avec', 'eux', 'de', 'drague', 'maladroite', 'nest', 'pas', 'agression', 'campagne', 'moiaussi', 'divise', 'femmes', 'en', 'france'], tags=[918]),\n",
       " TaggedDocument(words=['@', 'annieguilberteau', '@', 'catherineladousse', 'coprésidentes', 'd', '’', 'ensemblecontrelesexisme', 'présentent', 'cette', 'journée…', 'l', '’', 'objectif', 'identifier', 'chaque', 'manifestation', 'de', 'sexisme', 'préconiser', 'actions', 'fédératrices', 'pour', 'lutter', 'contre', 'fléau', '25janvier'], tags=[919]),\n",
       " TaggedDocument(words=['oui', 'sexiste', 'misogyne'], tags=[920]),\n",
       " TaggedDocument(words=['25', 'janvier', '1ère', 'journée', 'contre', 'sexisme', 'organisée', 'par', 'collectif', 'ensemble', 'contre', 'sexisme', 'l', '’', 'école', 'telecomparistech', 'avec', 'séquence', 'dédiée', 'l', '’', 'entreprise', 'likediversité', 'egalitefh'], tags=[921]),\n",
       " TaggedDocument(words=['constructeurs', 'équipementiers', 'font', 'de', 'nombreux', 'efforts', 'pour', 'attirer', 'femmes', 'consommatrices', 'actrices', 'de', 'lindustrieautomobile', 'mais', 'sexisme', 'discriminations', 'inégalités', 'sont', 'toujours', 'cc', '@', 'paulineducamp', '@', 'margotlaffite'], tags=[922]),\n",
       " TaggedDocument(words=['brexit', 'en', 'image', 'theresa', 'may', 'au', 'conseil', 'européen'], tags=[923]),\n",
       " TaggedDocument(words=['longue', 'liste', 'contradicteurs', 'douteux', 'que', 'nous', 'infligé', 'mme', 'salame', 'je', 'n', 'oublie', 'pas', 'l', 'hystérique', 'angot', 'contribue', 'désaffection', 'de', 'l', 'audimat', 'téléspectateur', 'est', 'lassé', 'de', 'parti', 'pris', 'de', 'approximations', '@', 'frchabaneau', '@', 'jpbrenas', '@', 'cpntnational', '@', 'dabertmf'], tags=[924]),\n",
       " TaggedDocument(words=['go', 'u', 'sais', 'koi', 'lâches', '@', 'du', 'type', 'pourquoi', 'vous', 'protège', 'même', 'ces', 'gars', 'cest', 'famla', 'ou', 'cest', 'secte', 'balancetonporc', 'on', 's', 'charge', 'de', 'lui', 'abek'], tags=[925]),\n",
       " TaggedDocument(words=['hollande', 'je', 'métonne', 'que', 'fabius', 'nest', 'pas', 'utilisé', 'largument', 'de', 'femme', 'présidente', 'fois', 'davant', 'pour', 'ségolène', 'royal', 'lgj', 'politique'], tags=[926]),\n",
       " TaggedDocument(words=['contre', 'toutes', 'violences', 'sexistes', 'cest', 'riposte', 'féministe', 'fin', 'de', 'marche', '@', 'metooparis', 'aux', 'halles', 'metoo'], tags=[927]),\n",
       " TaggedDocument(words=['@', 'jmaphatie', '@', 'audreycrespo', '@', 'tf1lejt', 'marrant', 'venant', 'plus', 'complaisants', 'journalistes', 'sexiste', 'vieillegarde', 'next'], tags=[928]),\n",
       " TaggedDocument(words=['vu', 'risques', 'dêtre', 'sur', 'balancetonporc', 'pour', 'oui', 'ou', 'pour', 'non', 'jai', 'décidé', 'dêtre', 'galant', 'avec', 'jante', 'alu'], tags=[929]),\n",
       " TaggedDocument(words=['«', 'sexisme', 'en', 'entreprise', 'cerner', 'pour', 'mieux', 'combattre', '»', 'conférence', 'de', '@', 'pascalepitavy', 'de', '@', 'equilibreseu', '@', 'pthiebart', 'de', '@', 'jeantetavocats'], tags=[930]),\n",
       " TaggedDocument(words=['moiaussi', 'dénonciation', 'police', 'ou', 'aux', 'journalistes', 'ces', 'deux', 'animateurs', 'ne', 'sentendent', 'pas', 'du', 'tout', 'sur'], tags=[931]),\n",
       " TaggedDocument(words=['jadhère', 'excellent', 'article', 'sexisme', 'balancetonporc', 'feminisme'], tags=[932]),\n",
       " TaggedDocument(words=['@', 'stephaneguillon', 'tout', 'monde', 'na', 'pas', 'talent', 'de', 'coluche', 'ou', 'de', 'desproges', 'talent', 'qui', 'permet', 'de', 'faire', 'passer', 'bien', 'choses', 'qui', 'dit', 'on', 'peut', 'rire', 'de', 'tout', 'mais', 'pas', 'avec', 'nimporte', 'qui', 'desproges', 'époque', 'où', 'balancetonporc', 'navait', 'pas', 'encore', 'révélé', 'létendue', 'de', 'lignoble'], tags=[933]),\n",
       " TaggedDocument(words=['toutes', 'ces', 'remarques', 'peu', 'sexistes', 'pour', '@', 'agatheauproux', 'ne', 'sont', 'que', 'pour', 'affirmer', 'que', 'balancetonporc', 'vous', 'frustré', 'babaoke'], tags=[934]),\n",
       " TaggedDocument(words=['journaliste', 'l', '’', 'origine', 'de', 'balancetonporc', 'poursuivie', 'en', 'justice', 'par', 'celui', 'qu', '’', 'elle', 'accusait'], tags=[935]),\n",
       " TaggedDocument(words=['dans', 'atelier', 'd', '’', 'artiste', 'parisien', '25', 'femmes', 'issues', 'de', 'tous', 'milieux', 'sociaux', 'professionnels', 'sont', 'réunies', 'pour', 'formation', 'contre', 'racisme', 'sexisme', 'reportage', 'belles', 'rencontres', 'de', '@', 'wardamd', 'via', '@', 'terriennestv5'], tags=[936]),\n",
       " TaggedDocument(words=['stéréotypes', 'font', 'vie', 'dure', 'pour', 'près', 'de', '9', 'personnes', 'sur', '10', 'qui', 'différencie', 'en', 'tout', 'premier', 'lieu', 'homme', 'd', '’', 'une', 'femme', 'c', '’', 'est', 'façon', 'd', '’', 'exprimer', 'sentiments', 'help', 'sexisme'], tags=[937]),\n",
       " TaggedDocument(words=['quel', 'niveau', 'de', 'ouf', 'groscrétin', 'sexiste'], tags=[938]),\n",
       " TaggedDocument(words=['@', 'radiometeo', 'souhaite', 'bon', 'match', 'aux', 'bleues', 'de', '@', 'frahandball', 'nous', 'sommes', 'tous', 'avec', 'elles', '🤾\\u200d♀️', 'franor'], tags=[939]),\n",
       " TaggedDocument(words=['bravo', 'certains', 'cadres', '@', 'lesrepublicains', 'qui', 'défendent', 'lindefendable', 'meme', 'en', 'mettant', 'viol', 'présumé', 'de', 'côté', 'il', 'est', 'certains', 'que', 'labus', 'de', 'pouvoir', 'position', 'dominante', 'exercé', 'par', 'darmanin', 'sera', 'au', 'centre', 'de', 'laffaire', 'soutien', 'indigne'], tags=[940]),\n",
       " TaggedDocument(words=['certains', 'se', 'font', 'bannir', 'pr', 'tweet', 'pdt', 'que', 'd', 'autres', 'ne', 'sont', 'pas', 'bannis', 'ms', 'mieux', 'ils', 'sont', 'carrément', 'visités', 'alors', 'qu', 'ils', 'ont', 'reconnu', 'faits', 'd', '«', 'agressions', 'sexuelles', '»', 'balancetonporc', 'lafrancefolle'], tags=[941]),\n",
       " TaggedDocument(words=['@', 'parispasrose', '@', 'vanityfairfr', '@', 'cdenquete', 'puis', 'dati', 'qui', 'accusait', 'fillon', 'femme', 'an', 'avant', 'révélations'], tags=[942]),\n",
       " TaggedDocument(words=['egalité', 'hommefemme', 'négociation', 'plutôt', 'quune', 'loi'], tags=[943]),\n",
       " TaggedDocument(words=['mâle', 'repoussé', 'traite', 'généralement', 'de', 'salope', 'femme', 'qui', 'précisément', 'refuse', 'de', 'lêtre', 'de', 'marcel', 'pagnol', 'quel', 'que', 'soit', 'niveau', 'de', 'langage', 'employé', 'par', 'deux', 'amants', 'cru', 'ou', 'pas', 'il', 'ne', 'concerne', 'queux', 'lien', 'quils', 'ont', 'créé', 'tisse', 'ensemble'], tags=[944]),\n",
       " TaggedDocument(words=['donc', 'merci', '@', 'vvedeka', 'pour', 'linfo', 'woody', 'allen', 'fait', 'film', 'sur', 'actrice', 'de', '40', 'ans', 'hystérique', 'déchue', 'qui', 'jalouse', 'laffection', 'que', 'mari', 'porte', 'fille', 'personne', 'ne', 'voit', 'putain', 'de', 'problème', 'miafarrow'], tags=[945]),\n",
       " TaggedDocument(words=['volleyball', 'magicienne', 'marie', 'tari', 'marie', 'tari', 'après', '195', 'sélections', 'chez', 'bleues', 'belle', 'aventure', 'tête', 'de', 'léquipe', 'de', 'france', 'juniors', 'polynésienne', 'marie', 'tari', 'nen', 'pas', 'fini', 'avec', 'volley', 'rencontre…', 'portrait', 'vosrendezvous'], tags=[946]),\n",
       " TaggedDocument(words=['tir', 'de', 'femme', 'enceinte', 'chevrou', 'omfcn'], tags=[947]),\n",
       " TaggedDocument(words=['imagine', 'elle', 'revient', 'en', 'octobre', '2018debut', '2019', 'avec', 'l', '’', 'edf', 'tu', 'as', 'quoi', '68', 'mois', 'pour', 'te', 'préparer', 'avec', 'bleues', 'donc', 'ça', 'fait', '56', 'matchs', 'top', 'imagine', 'petite', 'blessure', 'lors', 'de', 'saison', 'elle', 'en', 'loupe', 'on', 'peut', 'pas', 'travailler', 'automatismes'], tags=[948]),\n",
       " TaggedDocument(words=['etmaintenant', 'on', 'voulait', 'rappeler', 'fondement', 'du', 'moiaussi', 'mouvement', 'de', 'solidarite', 'de', 'liberation', 'de', 'parole', '@', 'laclermont', 'via', '@', 'ledevoir', 'metoo'], tags=[949]),\n",
       " TaggedDocument(words=['retrouvons', 'méthode', 'internat', 'de', 'lalliance', 'francaise', 'avec', 'femme', 'mari', 'systématiquement', 'abruti', 'faible', 'immature', 'se', 'faisant', 'toujours', 'engueuler', 'je', 'vous', 'invite', 'preter', 'attention', 'aux', 'pubsbalancetonporc', 'balancetatruie', 'macron', 'discrimination', 'lemonde', 'lefigaro'], tags=[950]),\n",
       " TaggedDocument(words=['bulletin', 'inondation', 'débordement', 'de', 'rivière', 'saintcharles', 'violences', 'sexuelles', 'etmaintenant', 'journée', 'nationale', 'contre', 'lislamophobie', '@', 'liberalquebec', 'sen', 'distancie', 'décès', 'du', 'père', 'pops', 'ckiafm', 'moiaussi'], tags=[951]),\n",
       " TaggedDocument(words=['christiane', 'taubira', 'qui', 'rend', 'hommage', 'chavez', 'socialiste', 'catholique', 'patriote', 'cest', 'mourir', 'de', 'rire', 'pauvre', 'vieille', 'femme'], tags=[952]),\n",
       " TaggedDocument(words=['angela', 'merkel', 'danse', 'en', '1987', 'avec', 'cadres', 'dirigeants', 'du', 'sed'], tags=[953]),\n",
       " TaggedDocument(words=['@', 'imadleretour', '@', 'ngri12', 'nan', 'mais', 'ça', 'va', 'de', 'tenir', 'propos', 'discriminatoire', 'oklm', 'hâte', 'que', 'toute', 'cette', 'foire', 'de', 'balancetonporc', 'se', 'termine', 'pour', 'quon', 'passe', 'balancetongrossophobe', 'ou', 'plutôt', 'balancetonputaindemerdedegrossophobe', 'bandes', 'de', 'baltringues'], tags=[954]),\n",
       " TaggedDocument(words=['ça', 'veux', 'dire', 'que', 'moi', 'jmange', 'chips', 'comme', 'homme'], tags=[955]),\n",
       " TaggedDocument(words=['sinon', 'je', 'remercie', 'tous', 'ceux', 'qui', 'ont', 'eu', 'avis', 'sur', 'réforme', 'de', 'laudiovisuel', 'service', 'public', 'léducation', 'linformation', 'non', 'je', 'plaisante', 'vrai', 'débat', 'en', '2018', 'sur', 'twitter', 'cest', 'longueur', 'de', 'ma', 'robe', '@', 'lesterriens', 'slt', 'sexismeordinaire'], tags=[956]),\n",
       " TaggedDocument(words=['quand', 'artistes', 'véhiculent', 'clichés', 'de', 'sexisme', 'de', 'racisme', 'ou', 'de', 'domination'], tags=[957]),\n",
       " TaggedDocument(words=['“', 'génération', 'windrush', '”', 'qui', 'sont', 'ces', 'citoyens', 'anglais', 'dorigine', 'antillaise', 'dans', 'viseur', 'de', 'theresa', 'may'], tags=[958]),\n",
       " TaggedDocument(words=['espagne', 'catalogne', 'larrestation', 'de', 'carlespuigdemont', 'par', 'police', 'allemande', 'frontière', 'avec', 'danemark', 'dénote', 'dictature', 'd', 'angelamerkel', 'jexige', 'libération', 'immédiate', 'de', 'carlespuigdemont'], tags=[959]),\n",
       " TaggedDocument(words=['choses', 'dire…', 'rdv', '25', 'février', 'paris', 'metoo', 'feminisme', 'hominisme', 'misandrie', 'egalitedessalaires', 'droitdegardedespapas', 'balancetonporc', 'weinstein', 'misandrie', 'machos', 'misogynie', 'sexiste', 'egalite', 'luttedesgenres', 'affairespubliques2022'], tags=[960]),\n",
       " TaggedDocument(words=['claque', 'dangela', 'merkel', 'emmanuel', 'macron', '⬇️'], tags=[961]),\n",
       " TaggedDocument(words=['@', 'ericbrunet', 'qui', 'imagine', 'général', 'de', 'gaulle', 'mis', 'en', 'examen', 'si', 'je', 'suis', 'mis', 'en', 'examen', 'je', 'me', 'retire', 'surtout', 'lemploi', 'de', 'femme', 'qui', 'na', 'jamais', 'travaillé', 'pour', 'lui', 'dixit', 'ça', 'suffit', 'pour', 'écoeurer', 'lhomme', 'de', 'droite', 'que', 'je', 'suis', 'radiobrunet', 'fillon', 'quiatuefrancoisfillon'], tags=[962]),\n",
       " TaggedDocument(words=['@', 'taratata', 'quand', 'l', '’', 'invitation', 'de', '@', 'chillaofficiel', 'dans', 'taratata', 'pour', 'superbe', 'ep', 'karma', 'engagement', 'pour', 'femmes', 'victimes', 'de', 'violences', 'balancetonporc', 'via', '@', 'youtube'], tags=[963]),\n",
       " TaggedDocument(words=['mais', 'elle', 'est', 'vraiment', 'parfaite', 'cette', 'fille', 'ironie'], tags=[964]),\n",
       " TaggedDocument(words=['@', 'emmanuelmacron', 'écrit', 'sur', 'twitter', 'dimanche', '«', '…', '@', 'theresamay', 'moi', 'appellons', 'sic', 'communauté', 'internationale', 'renforcer', 'avec', 'nous', 'linterdiction', 'armes', 'de', 'destruction', 'massive', '»', 'il', 'y', 'de', 'dictée', 'dans', 'lair', 'lundi', 'avec', '@', 'jmblanquer…'], tags=[965]),\n",
       " TaggedDocument(words=['bleues', 'se', 'qualifient', 'en', 'finale', 'de', 'cdm', 'de', 'handball', 'saintetienne', 'club', 'historique', 'du', 'championnat', 'est', 'en', 'train', 'de', 'couler', 'dimanche', 'il', 'y', 'plus', 'gros', 'match', 'du', 'championnat', 'on', 'met', 'quoi', 'en', 'mecs', 'neymar', 'allez', 'go'], tags=[966]),\n",
       " TaggedDocument(words=['waterpolo', 'len', 'europa', 'cup', 'oosterhout', '🇳🇱j1', 'bleues', 'sinclinent', '195', 'face', 'aux', 'paysbas', 'rdv', 'demain', 'face', 'lespagne', 'allezlesbleues'], tags=[967]),\n",
       " TaggedDocument(words=['balancetonporc', 'dans', 'enseignementsuperieur', 'highered', 'ici', 'aussi', 'cest', 'combat', 'pour', 'respect', 'dignité', 'femmes'], tags=[968]),\n",
       " TaggedDocument(words=['@', 'rammlu', 'cest', 'qui', 'soi', 'disant', 'journaliste', 'qui', 'sautorise', 'jugerchaque', 'femme', 'décide', 'de', 'propre', 'vie', 'avec', 'ou', 'sans', 'enfantset', 'ça', 'ne', 'veut', 'pas', 'dire', 'quelle', 'sera', 'malheureuse', 'mais', 'cest', 'quoi', 'cette', 'analyse', 'pourrie👎'], tags=[969]),\n",
       " TaggedDocument(words=['impacts', 'du', 'motclic', 'moiaussi', 'montréal', 'doitelle', 'se', 'doter', 'dun', 'maire', 'de', 'nuit', 'ben', 'oui', 'ça', 'existe', 'projet', 'montréal', 'en', 'même', 'fait', 'promesse', 'électorale', 'mise', 'jour', 'montréal', 'soir', '18h00', '22h30', 'sur', 'matv', 'avec', '@', 'macarignan', '@', 'poirierjessie…'], tags=[970]),\n",
       " TaggedDocument(words=['lamentable', 'déferlement', 'de', 'propos', 'sexistes', 'misogynes', 'l', '’', 'encontre', 'de', 'notre', 'collègue', '@', 'auroreberge', 'suite', 'passage', 'dans', 'slt', 'n', '’', 'en', 'déplaise', 'certains', 'femme', 'droit', 'de', 's', '’', 'habiller', 'comme', 'elle', 'souhaite', 'sans', 'avoir', 'subir', 'de', 'tels', 'commentaires', 'ou', 'se', 'justifier'], tags=[971]),\n",
       " TaggedDocument(words=['balancetonporc', 'marche', 'aussi', 'avec', 'balancetonraciste'], tags=[972]),\n",
       " TaggedDocument(words=['christine', 'lagarde', 'ump', 'française', 'élue', 'femme', 'plus', 'influente', 'du', 'monde', 'par', 'vanity', 'fair', 'juppé', 'niche'], tags=[973]),\n",
       " TaggedDocument(words=['ségolène', 'royal', 'pulvérise', 'françois', 'bayrou', 'gtgt'], tags=[974]),\n",
       " TaggedDocument(words=['première', 'ministre', 'britannique', 'theresa', 'may', 'nommé', 'matin', 'sajid', 'javid', 'au', 'poste', 'de', 'ministre', 'de', 'lintérieur', 'en', 'remplacement', 'damber', 'rudd', 'qui', 'démissionné', 'hier', 'après', 'scandale', 'sur', 'limmigration'], tags=[975]),\n",
       " TaggedDocument(words=['soutien', '@', 'auroreberge', 'après', 'idioties', 'dites', 'encontre', 'après', 'passage', 'l', '’', 'émission', 'slt', 'c', '’', 'est', 'femme', 'donc', 'on', 'critique', 'apparence', 'au', 'lieu', 'd', '’', 'écouter', 'déclarations', 'continuons', 'dénoncer', 'comportements', 'sur', 'réseaux', 'sociaux', 'agissons', 'pr', 'l', '’', 'egalitefh'], tags=[976]),\n",
       " TaggedDocument(words=['vrai', 'homme', 'ne', 'tappe', 'jamais', 'femme', 'sauf', 'si', 'cest', 'grosse', 'salope'], tags=[977]),\n",
       " TaggedDocument(words=['bon', 'anniversaire', 'ma', 'petite', 'femme', '@', 'keenvofficiel', '❤️', 'tu', 'es', 'bienvenu', 'quand', 'tu', 'veux', 'sur', '@', 'virginradiofr', '😘'], tags=[978]),\n",
       " TaggedDocument(words=['daprès', 'mschiappa', 'il', 'y', 'très', 'peu', 'de', 'harcèlement', 'sexiste', 'de', 'rue', 'en', 'corse', 'laffirmation', 'me', 'surprend', 'y', 'atil', 'données', 'directan'], tags=[979]),\n",
       " TaggedDocument(words=['détente', 'humour', 'balancetonporc', 'bon', 'week', 'end', 'mariesinfiltre', 'cc', '@', 'mariesinfiltre', 'j', 'ai', 'réussi', 'passer', 'tu', 'as', 'vu'], tags=[980]),\n",
       " TaggedDocument(words=['itw', 'de', 'chimamanda', 'ngozi', 'adichie', 'icône', 'féministe', 'ambassadrice', 'de', 'nuit', 'idées', '2018', 'via', '@', 'lexpress'], tags=[981]),\n",
       " TaggedDocument(words=['pour', 'certains', 'millenials', 'trame', 'de', 'nombreux', 'épisodes', 'de', 'série', 'friends', 'serait', 'sexiste', 'homophobe', 'transphobe', 'même', 'grossophobe', 'via', '@', 'slatefr', 'cc', '@', 'irisbrey', 'bodyshaming'], tags=[982]),\n",
       " TaggedDocument(words=['instances', 'intellectuelles', 'ces', 'territoires', 'd', '’', 'exclusion', 'femmes', 'où', 'sont', 'femmes', 'plafonddeverre', 'sexisme', 'dans', 'instances', 'dirigeantes', 'universités', 'comue', 'grandsétablissements', 'chiffres', 'sont', 'hallucinants'], tags=[983]),\n",
       " TaggedDocument(words=['encore', 'accusation', 'de', 'viol', 'pulvérisée', 'en', 'plein', 'vol', 'lappel', 'délation', 'publique', 'balancetonporc', 'metoo', 'na', 'jamais', 'été', 'méthode', 'recommandable', 'pour', 'rendre', 'justice', 'ça', 'se', 'confirme'], tags=[984]),\n",
       " TaggedDocument(words=['analyse', 'moiaussi', 'metoo', 'allégations', 'de', 'nature', 'sexuelle', 'twitter', 'face', 'létat', 'de', 'droit'], tags=[985]),\n",
       " TaggedDocument(words=['blagues', 'sexistes', 'ça', 'tue', '@', 'annecmailfert', 'ensemblecontrelesexisme'], tags=[986]),\n",
       " TaggedDocument(words=['chronique', 'de', 'zemmour', 'sur', 'balancetonporc', 'combattre', 'mâle', 'hétérosexuel', 'blanc', 'via', '@', 'fn42loire'], tags=[987]),\n",
       " TaggedDocument(words=['réponse', 'cinglante', 'de', 'christiane', 'taubira', 'au', 'maire', 'de', 'lyon', 'gérard', 'collomb', 'en', 'marche'], tags=[988]),\n",
       " TaggedDocument(words=['@', 'noahlunsi', 'acheter', 's8+', '1100', '€', 'être', 'heureux', 'pour', 'capacité', 'faire', 'de', 'belle', 'photo', 'ok', 'mais', 'vouloir', 'refaire', 'comparaison', 'avec', 'ton', 'nokia', '3310', '60', '€', 'pour', 'absence', 'd', 'appareil', 'photo', 'seul', 'ton', 'cerveau', 'est', 'capable', 'd', 'grosse', 'perte', 'd', 'harmonie', 'balancetonporc'], tags=[989]),\n",
       " TaggedDocument(words=['beaucoup', 'de', 'chouettes', 'événements', 'suivre', 'aujourd', '’', 'hui', 'heureusement', 'j', '’', 'ai', 'plusieurs', 'écrans', '🤣🤪', 'asso', 'dogood', 'waday', 'chez', '@', 'webassocfr', 'medias', 'cnmj', 'chez', '@', 'gillesbruno', 'tech', 'ia', 'huaweiia', 'chez', '@', 'fadouce', 'évidemment', 'ensemblecontrelesexisme', 'c', '’', 'était', 'mon', 'ttmix', 'bisous'], tags=[990]),\n",
       " TaggedDocument(words=['sexisme', 'dans', 'manuels', 'd', '’', 'enseignement', 'moral', 'civique', 'comble', 'unsaeduc', 'egalitefh', '@', 'centrehubertine'], tags=[991]),\n",
       " TaggedDocument(words=['on', 'parle', 'harcèlement', 'aujourdhui', 'dans', 'lémission', 'on', 'est', 'votre', 'écoute', 'sur', 'jtmetc', 'harcelement', 'balancetonporc', 'metoo'], tags=[992]),\n",
       " TaggedDocument(words=['jsuis', 'mort', 'quand', 'ya', 'femme', 'qui', 'se', 'fait', 'agresser', 'ou', 'toucher', 'dans', 'lieu', 'public', 'personne', 'fait', 'rien', 'quand', 'ya', 'promo', 'sur', 'nutella', 'ça', 'organise', 'mêlée'], tags=[993]),\n",
       " TaggedDocument(words=['ggrmc', 'sur', 'balancetonporc', 'cest', 'mouvement', 'dégalité', 'démancipation', 'cest', 'aussi', 'mouvement', 'de', 'libération', 'du', 'désir', 'il', 'faut', 'accompagner', 'mouvement', 'par', 'mesures', 'concrètes', 'formation', 'policiers', 'délais', 'de', 'jugement', 'dun', 'viol', 'prescription'], tags=[994]),\n",
       " TaggedDocument(words=['je', 'me', 'demandais', 'si', '@', 'auroreberge', 'portait', 'soutif', 'il', 'me', 'semble', 'quon', 'vient', 'de', 'voir', 'suis', 'rassuré', 'mais', 'portetelle', 'culotte', 'ou', 'atelle', 'lescargot', 'même', 'fauteuil', 'slt'], tags=[995]),\n",
       " TaggedDocument(words=['«', 't', '’', 'as', 'pas', 'froid', 'sale', 'pute', '»', 'tout', 'ça', 'parce', 'que', 'je', 'met', 'jupe', 'elle', 'est', 'belle', 'france', 'balancetonporc'], tags=[996]),\n",
       " TaggedDocument(words=['l', '’', 'affaire', 'weinstein', 'produit', 'contrecoups', 'planétaires', 'mais', 'nulle', 'part', 'phénomène', 'n', '’', 'a', 'atteint', 'l', '’', 'impact', 'qu', '’', 'il', 'eu', 'en', 'suède', 'moiaussi'], tags=[997]),\n",
       " TaggedDocument(words=['tout', 'monde', 'pense', 'quil', 'ne', 'sagit', 'que', 'dhollywood', 'nest', 'pas', 'juste', 'hollywood', 'cest', 'monde', 'rose', 'mcgowan', 'actrice', 'activiste', 'victime', 'metoo', 'balancetonporc'], tags=[998]),\n",
       " TaggedDocument(words=['expotwitter', 'dans', 'locaux', 'de', '@', 'twitterfrance', '👉🏻', '2017', 'en', 'tweets', 'cest', 'entre', 'autre', 'starwars8', 'balancetonporc', 'paris2024', 'election2017', 'petite', 'préférence', 'pour', 'penuriebeurre', 'poke', '@', 'albanmartin', '@', 'arielstraboni', '@', 'thedarkpixel'], tags=[999]),\n",
       " ...]"
      ]
     },
     "execution_count": 267,
     "metadata": {},
     "output_type": "execute_result"
    }
   ],
   "source": [
    "tagged_data = [TaggedDocument(d, [i]) for i, d in enumerate(X_tokenized)]\n",
    "tagged_data"
   ]
  },
  {
   "cell_type": "markdown",
   "metadata": {},
   "source": [
    "###### 5th step : train the model"
   ]
  },
  {
   "cell_type": "code",
   "execution_count": 225,
   "metadata": {},
   "outputs": [],
   "source": [
    "model = Doc2Vec(tagged_data, vector_size = 20, window = 2, min_count = 1, epochs = 100)"
   ]
  },
  {
   "cell_type": "markdown",
   "metadata": {},
   "source": [
    "###### 6th step : testing the model"
   ]
  },
  {
   "cell_type": "code",
   "execution_count": 334,
   "metadata": {},
   "outputs": [
    {
     "name": "stdout",
     "output_type": "stream",
     "text": [
      "la femme doit être à la cuisine ==> sexist\n"
     ]
    },
    {
     "name": "stderr",
     "output_type": "stream",
     "text": [
      "<ipython-input-334-204eaadc107b>:4: DeprecationWarning: Call to deprecated `docvecs` (The `docvecs` property has been renamed `dv`.).\n",
      "  similar_sentences = model.docvecs.most_similar(positive = [test_doc_vector])\n"
     ]
    }
   ],
   "source": [
    "example = \"La femme doit être à la cuisine\".lower()\n",
    "test_doc = word_tokenize(example)\n",
    "test_doc_vector = model.infer_vector(test_doc)\n",
    "similar_sentences = model.docvecs.most_similar(positive = [test_doc_vector]) \n",
    "similar_senetences_categories = [y_tokenized[similar_sentences[i][0]] for i in range(len(similar_sentences))]\n",
    "#print(similar_senetences_categories)\n",
    "\n",
    "nb_0 = similar_senetences_categories.count(0)\n",
    "nb_1 = similar_senetences_categories.count(1)\n",
    "\n",
    "dominant_category = 0\n",
    "\n",
    "if(nb_0 <= nb_1):\n",
    "    dominant_category = 1\n",
    "    \n",
    "print(example  +  \" ==> \" + categories[dominant_category])\n",
    "\n",
    "#comment avoir matrice + accuracy avec le X_test, y_test ??\n"
   ]
  }
 ],
 "metadata": {
  "kernelspec": {
   "display_name": "Python 3",
   "language": "python",
   "name": "python3"
  },
  "language_info": {
   "codemirror_mode": {
    "name": "ipython",
    "version": 3
   },
   "file_extension": ".py",
   "mimetype": "text/x-python",
   "name": "python",
   "nbconvert_exporter": "python",
   "pygments_lexer": "ipython3",
   "version": "3.8.3"
  }
 },
 "nbformat": 4,
 "nbformat_minor": 4
}
